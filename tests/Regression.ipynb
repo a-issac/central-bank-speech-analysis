{
 "cells": [
  {
   "cell_type": "code",
   "execution_count": 2,
   "metadata": {},
   "outputs": [
    {
     "name": "stdout",
     "output_type": "stream",
     "text": [
      "Collecting yfinance\n",
      "  Downloading yfinance-0.1.68-py2.py3-none-any.whl (26 kB)\n",
      "Requirement already satisfied: numpy>=1.15 in c:\\users\\alexj\\anaconda3\\lib\\site-packages (from yfinance) (1.18.5)\n"
     ]
    },
    {
     "name": "stderr",
     "output_type": "stream",
     "text": [
      "ERROR: huggingface-hub 0.2.1 has requirement packaging>=20.9, but you'll have packaging 20.4 which is incompatible.\n",
      "ERROR: en-core-web-sm 1.2.0 has requirement spacy<2.0.0,>=1.7.0, but you'll have spacy 3.2.1 which is incompatible.\n"
     ]
    },
    {
     "name": "stdout",
     "output_type": "stream",
     "text": [
      "Collecting multitasking>=0.0.7\n",
      "  Downloading multitasking-0.0.10.tar.gz (8.2 kB)\n",
      "Collecting requests>=2.26\n",
      "  Downloading requests-2.27.1-py2.py3-none-any.whl (63 kB)\n",
      "Requirement already satisfied: pandas>=0.24 in c:\\users\\alexj\\anaconda3\\lib\\site-packages (from yfinance) (1.3.4)\n",
      "Requirement already satisfied: lxml>=4.5.1 in c:\\users\\alexj\\anaconda3\\lib\\site-packages (from yfinance) (4.5.2)\n",
      "Collecting charset-normalizer~=2.0.0; python_version >= \"3\"\n",
      "  Downloading charset_normalizer-2.0.10-py3-none-any.whl (39 kB)\n",
      "Requirement already satisfied: urllib3<1.27,>=1.21.1 in c:\\users\\alexj\\anaconda3\\lib\\site-packages (from requests>=2.26->yfinance) (1.25.9)\n",
      "Requirement already satisfied: idna<4,>=2.5; python_version >= \"3\" in c:\\users\\alexj\\anaconda3\\lib\\site-packages (from requests>=2.26->yfinance) (2.10)\n",
      "Requirement already satisfied: certifi>=2017.4.17 in c:\\users\\alexj\\anaconda3\\lib\\site-packages (from requests>=2.26->yfinance) (2020.6.20)\n",
      "Requirement already satisfied: pytz>=2017.3 in c:\\users\\alexj\\anaconda3\\lib\\site-packages (from pandas>=0.24->yfinance) (2020.1)\n",
      "Requirement already satisfied: python-dateutil>=2.7.3 in c:\\users\\alexj\\anaconda3\\lib\\site-packages (from pandas>=0.24->yfinance) (2.8.1)\n",
      "Requirement already satisfied: six>=1.5 in c:\\users\\alexj\\anaconda3\\lib\\site-packages (from python-dateutil>=2.7.3->pandas>=0.24->yfinance) (1.15.0)\n",
      "Building wheels for collected packages: multitasking\n",
      "  Building wheel for multitasking (setup.py): started\n",
      "  Building wheel for multitasking (setup.py): finished with status 'done'\n",
      "  Created wheel for multitasking: filename=multitasking-0.0.10-py3-none-any.whl size=8493 sha256=32876b4e433418a89e18b652ca288b086be2ed735ac62f0e07986940b978f5fd\n",
      "  Stored in directory: c:\\users\\alexj\\appdata\\local\\pip\\cache\\wheels\\21\\c9\\66\\b41c847de65c7985db52ec21d59996841598b8b0e93f2b9500\n",
      "Successfully built multitasking\n",
      "Installing collected packages: multitasking, charset-normalizer, requests, yfinance\n",
      "  Attempting uninstall: requests\n",
      "    Found existing installation: requests 2.24.0\n",
      "    Uninstalling requests-2.24.0:\n",
      "      Successfully uninstalled requests-2.24.0\n",
      "Successfully installed charset-normalizer-2.0.10 multitasking-0.0.10 requests-2.27.1 yfinance-0.1.68\n"
     ]
    }
   ],
   "source": [
    "!pip install yfinance"
   ]
  },
  {
   "cell_type": "code",
   "execution_count": 125,
   "metadata": {},
   "outputs": [
    {
     "name": "stdout",
     "output_type": "stream",
     "text": [
      "[*********************100%***********************]  1 of 1 completed\n"
     ]
    }
   ],
   "source": [
    "import pandas as pd\n",
    "import numpy as np\n",
    "import yfinance as yf\n",
    "from sklearn.linear_model import LinearRegression\n",
    "import matplotlib.pyplot as plt\n",
    "\n",
    "lr=LinearRegression()\n",
    "\n",
    "start_date='2000-01-01'\n",
    "end_date='2022-01-01'\n",
    "\n",
    "eurusd_df = yf.download('EURUSD=X')[\"Adj Close\"]\n",
    "\n"
   ]
  },
  {
   "cell_type": "code",
   "execution_count": 45,
   "metadata": {},
   "outputs": [
    {
     "data": {
      "text/plain": [
       "<matplotlib.axes._subplots.AxesSubplot at 0x2612b0febe0>"
      ]
     },
     "execution_count": 45,
     "metadata": {},
     "output_type": "execute_result"
    },
    {
     "data": {
      "image/png": "[encoded data removed]",
      "text/plain": [
       "<Figure size 432x288 with 1 Axes>"
      ]
     },
     "metadata": {
      "needs_background": "light"
     },
     "output_type": "display_data"
    }
   ],
   "source": [
    "from textblob import TextBlob\n",
    "\n",
    "url=\"https://minio.lab.sspcloud.fr/aissac/Projet_Python_2A/clean_ecb_speeches_dataset.csv\"\n",
    "\n",
    "df=pd.read_csv(url,sep = \",\",encoding='utf-8')\n",
    "\n",
    "df[\"textblob-score\"]=pd.Series(dtype=int)\n",
    "def textblob_score(text):\n",
    "    return TextBlob(text).sentiment.polarity\n",
    "\n",
    "df[\"textblob-score\"]=df[\"contents\"].apply(textblob_score)\n",
    "df[\"textblob-score\"].plot()"
   ]
  },
  {
   "cell_type": "code",
   "execution_count": 221,
   "metadata": {},
   "outputs": [],
   "source": [
    "df.index = df[\"date\"].apply(pd.to_datetime)\n",
    "sentiments = df[\"textblob-score\"].groupby(\"date\").mean()"
   ]
  },
  {
   "cell_type": "code",
   "execution_count": 155,
   "metadata": {},
   "outputs": [
    {
     "data": {
      "text/html": [
       "<div>\n",
       "<style scoped>\n",
       "    .dataframe tbody tr th:only-of-type {\n",
       "        vertical-align: middle;\n",
       "    }\n",
       "\n",
       "    .dataframe tbody tr th {\n",
       "        vertical-align: top;\n",
       "    }\n",
       "\n",
       "    .dataframe thead th {\n",
       "        text-align: right;\n",
       "    }\n",
       "</style>\n",
       "<table border=\"1\" class=\"dataframe\">\n",
       "  <thead>\n",
       "    <tr style=\"text-align: right;\">\n",
       "      <th></th>\n",
       "      <th>Adj Close</th>\n",
       "      <th>textblob-score</th>\n",
       "    </tr>\n",
       "  </thead>\n",
       "  <tbody>\n",
       "    <tr>\n",
       "      <th>2003-12-03</th>\n",
       "      <td>1.208897</td>\n",
       "      <td>0.131415</td>\n",
       "    </tr>\n",
       "    <tr>\n",
       "      <th>2003-12-10</th>\n",
       "      <td>1.224995</td>\n",
       "      <td>0.105858</td>\n",
       "    </tr>\n",
       "    <tr>\n",
       "      <th>2004-01-15</th>\n",
       "      <td>1.265102</td>\n",
       "      <td>0.126981</td>\n",
       "    </tr>\n",
       "    <tr>\n",
       "      <th>2004-01-16</th>\n",
       "      <td>1.260097</td>\n",
       "      <td>0.140738</td>\n",
       "    </tr>\n",
       "    <tr>\n",
       "      <th>2004-01-20</th>\n",
       "      <td>1.235407</td>\n",
       "      <td>0.121747</td>\n",
       "    </tr>\n",
       "    <tr>\n",
       "      <th>...</th>\n",
       "      <td>...</td>\n",
       "      <td>...</td>\n",
       "    </tr>\n",
       "    <tr>\n",
       "      <th>2021-11-25</th>\n",
       "      <td>1.124493</td>\n",
       "      <td>0.110057</td>\n",
       "    </tr>\n",
       "    <tr>\n",
       "      <th>2021-11-26</th>\n",
       "      <td>1.120298</td>\n",
       "      <td>0.110466</td>\n",
       "    </tr>\n",
       "    <tr>\n",
       "      <th>2021-11-29</th>\n",
       "      <td>1.120963</td>\n",
       "      <td>0.118910</td>\n",
       "    </tr>\n",
       "    <tr>\n",
       "      <th>2021-12-08</th>\n",
       "      <td>1.128668</td>\n",
       "      <td>0.088117</td>\n",
       "    </tr>\n",
       "    <tr>\n",
       "      <th>2021-12-10</th>\n",
       "      <td>1.134559</td>\n",
       "      <td>0.058202</td>\n",
       "    </tr>\n",
       "  </tbody>\n",
       "</table>\n",
       "<p>1379 rows × 2 columns</p>\n",
       "</div>"
      ],
      "text/plain": [
       "            Adj Close  textblob-score\n",
       "2003-12-03   1.208897        0.131415\n",
       "2003-12-10   1.224995        0.105858\n",
       "2004-01-15   1.265102        0.126981\n",
       "2004-01-16   1.260097        0.140738\n",
       "2004-01-20   1.235407        0.121747\n",
       "...               ...             ...\n",
       "2021-11-25   1.124493        0.110057\n",
       "2021-11-26   1.120298        0.110466\n",
       "2021-11-29   1.120963        0.118910\n",
       "2021-12-08   1.128668        0.088117\n",
       "2021-12-10   1.134559        0.058202\n",
       "\n",
       "[1379 rows x 2 columns]"
      ]
     },
     "execution_count": 155,
     "metadata": {},
     "output_type": "execute_result"
    }
   ],
   "source": [
    "data"
   ]
  },
  {
   "cell_type": "code",
   "execution_count": 223,
   "metadata": {},
   "outputs": [],
   "source": [
    "from sklearn import preprocessing\n",
    "le = preprocessing.LabelEncoder()"
   ]
  },
  {
   "cell_type": "code",
   "execution_count": 230,
   "metadata": {},
   "outputs": [],
   "source": [
    "df[\"speakers\"] = le.fit_transform(df[\"speakers\"])\n",
    "features = df[[\"speakers\",\"Year\",\"Month\",\"Day\",\"DayofWeek\",\"textblob-score\"]].groupby(\"date\").mean()"
   ]
  },
  {
   "cell_type": "code",
   "execution_count": 231,
   "metadata": {},
   "outputs": [],
   "source": [
    "target = pd.concat([eurusd_df, features], axis = 1, join = \"inner\")[\"Adj Close\"]\n",
    "target = target.diff().div(target).dropna()\n",
    "\n",
    "data = pd.concat([target, features], axis = 1, join = \"inner\")"
   ]
  },
  {
   "cell_type": "code",
   "execution_count": 232,
   "metadata": {},
   "outputs": [],
   "source": [
    "Y_train = target[1:1200]\n",
    "Y_test = target[1200:]\n",
    "X_train = data.iloc[:1199]\n",
    "X_test = data.iloc[1199:-1]"
   ]
  },
  {
   "cell_type": "code",
   "execution_count": 233,
   "metadata": {},
   "outputs": [
    {
     "data": {
      "text/plain": [
       "(2003-12-03    0.013030\n",
       " 2003-12-10    0.005577\n",
       " 2004-01-15    0.032538\n",
       " 2004-01-16   -0.016369\n",
       " 2004-01-20    0.015175\n",
       "                 ...   \n",
       " 2021-11-25   -0.003745\n",
       " 2021-11-26    0.000594\n",
       " 2021-11-29    0.007398\n",
       " 2021-12-08   -0.001479\n",
       " 2021-12-10    0.001488\n",
       " Name: Adj Close, Length: 1379, dtype: float64,\n",
       "             Adj Close   speakers    Year  Month   Day  DayofWeek  \\\n",
       " 2003-12-03   0.013030   9.000000  2003.0   12.0   3.0        3.0   \n",
       " 2003-12-10   0.005577   4.000000  2003.0   12.0  10.0        3.0   \n",
       " 2004-01-15   0.032538   9.000000  2004.0    1.0  15.0        4.0   \n",
       " 2004-01-16  -0.016369   9.000000  2004.0    1.0  16.0        5.0   \n",
       " 2004-01-20   0.015175  17.000000  2004.0    1.0  20.0        2.0   \n",
       " ...               ...        ...     ...    ...   ...        ...   \n",
       " 2021-11-25  -0.003745   6.000000  2021.0   11.0  25.0        4.0   \n",
       " 2021-11-26   0.000594   3.000000  2021.0   11.0  26.0        5.0   \n",
       " 2021-11-29   0.007398   3.000000  2021.0   11.0  29.0        1.0   \n",
       " 2021-12-08  -0.001479   8.666667  2021.0   12.0   8.0        3.0   \n",
       " 2021-12-10   0.001488   5.000000  2021.0   12.0  10.0        5.0   \n",
       " \n",
       "             textblob-score  \n",
       " 2003-12-03        0.131415  \n",
       " 2003-12-10        0.105858  \n",
       " 2004-01-15        0.126981  \n",
       " 2004-01-16        0.140738  \n",
       " 2004-01-20        0.121747  \n",
       " ...                    ...  \n",
       " 2021-11-25        0.110057  \n",
       " 2021-11-26        0.110466  \n",
       " 2021-11-29        0.118910  \n",
       " 2021-12-08        0.088117  \n",
       " 2021-12-10        0.058202  \n",
       " \n",
       " [1379 rows x 7 columns])"
      ]
     },
     "execution_count": 233,
     "metadata": {},
     "output_type": "execute_result"
    }
   ],
   "source": [
    "target, data"
   ]
  },
  {
   "cell_type": "code",
   "execution_count": 191,
   "metadata": {},
   "outputs": [
    {
     "data": {
      "text/html": [
       "<div>\n",
       "<style scoped>\n",
       "    .dataframe tbody tr th:only-of-type {\n",
       "        vertical-align: middle;\n",
       "    }\n",
       "\n",
       "    .dataframe tbody tr th {\n",
       "        vertical-align: top;\n",
       "    }\n",
       "\n",
       "    .dataframe thead th {\n",
       "        text-align: right;\n",
       "    }\n",
       "</style>\n",
       "<table border=\"1\" class=\"dataframe\">\n",
       "  <thead>\n",
       "    <tr style=\"text-align: right;\">\n",
       "      <th></th>\n",
       "      <th>Adj Close</th>\n",
       "      <th>textblob-score</th>\n",
       "    </tr>\n",
       "  </thead>\n",
       "  <tbody>\n",
       "    <tr>\n",
       "      <th>2003-12-03</th>\n",
       "      <td>0.013030</td>\n",
       "      <td>0.131415</td>\n",
       "    </tr>\n",
       "    <tr>\n",
       "      <th>2003-12-10</th>\n",
       "      <td>0.005577</td>\n",
       "      <td>0.105858</td>\n",
       "    </tr>\n",
       "    <tr>\n",
       "      <th>2004-01-15</th>\n",
       "      <td>0.032538</td>\n",
       "      <td>0.126981</td>\n",
       "    </tr>\n",
       "    <tr>\n",
       "      <th>2004-01-16</th>\n",
       "      <td>-0.016369</td>\n",
       "      <td>0.140738</td>\n",
       "    </tr>\n",
       "    <tr>\n",
       "      <th>2004-01-20</th>\n",
       "      <td>0.015175</td>\n",
       "      <td>0.121747</td>\n",
       "    </tr>\n",
       "    <tr>\n",
       "      <th>...</th>\n",
       "      <td>...</td>\n",
       "      <td>...</td>\n",
       "    </tr>\n",
       "    <tr>\n",
       "      <th>2021-11-25</th>\n",
       "      <td>-0.003745</td>\n",
       "      <td>0.110057</td>\n",
       "    </tr>\n",
       "    <tr>\n",
       "      <th>2021-11-26</th>\n",
       "      <td>0.000594</td>\n",
       "      <td>0.110466</td>\n",
       "    </tr>\n",
       "    <tr>\n",
       "      <th>2021-11-29</th>\n",
       "      <td>0.007398</td>\n",
       "      <td>0.118910</td>\n",
       "    </tr>\n",
       "    <tr>\n",
       "      <th>2021-12-08</th>\n",
       "      <td>-0.001479</td>\n",
       "      <td>0.088117</td>\n",
       "    </tr>\n",
       "    <tr>\n",
       "      <th>2021-12-10</th>\n",
       "      <td>0.001488</td>\n",
       "      <td>0.058202</td>\n",
       "    </tr>\n",
       "  </tbody>\n",
       "</table>\n",
       "<p>1379 rows × 2 columns</p>\n",
       "</div>"
      ],
      "text/plain": [
       "            Adj Close  textblob-score\n",
       "2003-12-03   0.013030        0.131415\n",
       "2003-12-10   0.005577        0.105858\n",
       "2004-01-15   0.032538        0.126981\n",
       "2004-01-16  -0.016369        0.140738\n",
       "2004-01-20   0.015175        0.121747\n",
       "...               ...             ...\n",
       "2021-11-25  -0.003745        0.110057\n",
       "2021-11-26   0.000594        0.110466\n",
       "2021-11-29   0.007398        0.118910\n",
       "2021-12-08  -0.001479        0.088117\n",
       "2021-12-10   0.001488        0.058202\n",
       "\n",
       "[1379 rows x 2 columns]"
      ]
     },
     "execution_count": 191,
     "metadata": {},
     "output_type": "execute_result"
    }
   ],
   "source": []
  },
  {
   "cell_type": "code",
   "execution_count": 234,
   "metadata": {},
   "outputs": [],
   "source": [
    "lr = lr.fit(X_train, Y_train)"
   ]
  },
  {
   "cell_type": "code",
   "execution_count": 235,
   "metadata": {},
   "outputs": [
    {
     "data": {
      "text/plain": [
       "[<matplotlib.lines.Line2D at 0x2612d00dc40>]"
      ]
     },
     "execution_count": 235,
     "metadata": {},
     "output_type": "execute_result"
    },
    {
     "data": {
      "image/png": "[encoded data removed]",
      "text/plain": [
       "<Figure size 432x288 with 1 Axes>"
      ]
     },
     "metadata": {
      "needs_background": "light"
     },
     "output_type": "display_data"
    }
   ],
   "source": [
    "plt.plot(Y_test.index, Y_test)\n",
    "plt.plot(Y_test.index, lr.predict(X_test))"
   ]
  },
  {
   "cell_type": "code",
   "execution_count": 212,
   "metadata": {},
   "outputs": [
    {
     "data": {
      "text/plain": [
       "-0.0386269744169363"
      ]
     },
     "execution_count": 212,
     "metadata": {},
     "output_type": "execute_result"
    }
   ],
   "source": [
    "lr.score(X_test, Y_test)"
   ]
  },
  {
   "cell_type": "code",
   "execution_count": 236,
   "metadata": {},
   "outputs": [
    {
     "data": {
      "text/plain": [
       "RandomForestRegressor(n_estimators=1000, random_state=42)"
      ]
     },
     "execution_count": 236,
     "metadata": {},
     "output_type": "execute_result"
    }
   ],
   "source": [
    "# Import the model we are using\n",
    "from sklearn.ensemble import RandomForestRegressor\n",
    "# Instantiate model with 1000 decision trees\n",
    "rf = RandomForestRegressor(n_estimators = 1000, random_state = 42)\n",
    "# Train the model on training data\n",
    "rf.fit(X_train, Y_train)"
   ]
  },
  {
   "cell_type": "code",
   "execution_count": 239,
   "metadata": {},
   "outputs": [
    {
     "data": {
      "text/plain": [
       "[<matplotlib.lines.Line2D at 0x2612a3a0490>]"
      ]
     },
     "execution_count": 239,
     "metadata": {},
     "output_type": "execute_result"
    },
    {
     "data": {
      "image/png": "[encoded data removed]",
      "text/plain": [
       "<Figure size 432x288 with 1 Axes>"
      ]
     },
     "metadata": {
      "needs_background": "light"
     },
     "output_type": "display_data"
    }
   ],
   "source": [
    "plt.plot(Y_test.index, Y_test)\n",
    "plt.plot(Y_test.index, rf.predict(X_test))"
   ]
  },
  {
   "cell_type": "code",
   "execution_count": 240,
   "metadata": {},
   "outputs": [
    {
     "data": {
      "text/plain": [
       "array([0.36570031, 0.08199869, 0.08284477, 0.08474587, 0.16970381,\n",
       "       0.04861894, 0.16638761])"
      ]
     },
     "execution_count": 240,
     "metadata": {},
     "output_type": "execute_result"
    }
   ],
   "source": [
    "rf.feature_importances_"
   ]
  },
  {
   "cell_type": "code",
   "execution_count": 243,
   "metadata": {},
   "outputs": [
    {
     "data": {
      "text/html": [
       "<div>\n",
       "<style scoped>\n",
       "    .dataframe tbody tr th:only-of-type {\n",
       "        vertical-align: middle;\n",
       "    }\n",
       "\n",
       "    .dataframe tbody tr th {\n",
       "        vertical-align: top;\n",
       "    }\n",
       "\n",
       "    .dataframe thead th {\n",
       "        text-align: right;\n",
       "    }\n",
       "</style>\n",
       "<table border=\"1\" class=\"dataframe\">\n",
       "  <thead>\n",
       "    <tr style=\"text-align: right;\">\n",
       "      <th></th>\n",
       "      <th>Adj Close</th>\n",
       "      <th>speakers</th>\n",
       "      <th>Year</th>\n",
       "      <th>Month</th>\n",
       "      <th>Day</th>\n",
       "      <th>DayofWeek</th>\n",
       "      <th>textblob-score</th>\n",
       "    </tr>\n",
       "  </thead>\n",
       "  <tbody>\n",
       "    <tr>\n",
       "      <th>2003-12-03</th>\n",
       "      <td>0.013030</td>\n",
       "      <td>9.0</td>\n",
       "      <td>2003.0</td>\n",
       "      <td>12.0</td>\n",
       "      <td>3.0</td>\n",
       "      <td>3.0</td>\n",
       "      <td>0.131415</td>\n",
       "    </tr>\n",
       "    <tr>\n",
       "      <th>2003-12-10</th>\n",
       "      <td>0.005577</td>\n",
       "      <td>4.0</td>\n",
       "      <td>2003.0</td>\n",
       "      <td>12.0</td>\n",
       "      <td>10.0</td>\n",
       "      <td>3.0</td>\n",
       "      <td>0.105858</td>\n",
       "    </tr>\n",
       "    <tr>\n",
       "      <th>2004-01-15</th>\n",
       "      <td>0.032538</td>\n",
       "      <td>9.0</td>\n",
       "      <td>2004.0</td>\n",
       "      <td>1.0</td>\n",
       "      <td>15.0</td>\n",
       "      <td>4.0</td>\n",
       "      <td>0.126981</td>\n",
       "    </tr>\n",
       "    <tr>\n",
       "      <th>2004-01-16</th>\n",
       "      <td>-0.016369</td>\n",
       "      <td>9.0</td>\n",
       "      <td>2004.0</td>\n",
       "      <td>1.0</td>\n",
       "      <td>16.0</td>\n",
       "      <td>5.0</td>\n",
       "      <td>0.140738</td>\n",
       "    </tr>\n",
       "    <tr>\n",
       "      <th>2004-01-20</th>\n",
       "      <td>0.015175</td>\n",
       "      <td>17.0</td>\n",
       "      <td>2004.0</td>\n",
       "      <td>1.0</td>\n",
       "      <td>20.0</td>\n",
       "      <td>2.0</td>\n",
       "      <td>0.121747</td>\n",
       "    </tr>\n",
       "    <tr>\n",
       "      <th>...</th>\n",
       "      <td>...</td>\n",
       "      <td>...</td>\n",
       "      <td>...</td>\n",
       "      <td>...</td>\n",
       "      <td>...</td>\n",
       "      <td>...</td>\n",
       "      <td>...</td>\n",
       "    </tr>\n",
       "    <tr>\n",
       "      <th>2019-03-22</th>\n",
       "      <td>0.004856</td>\n",
       "      <td>26.0</td>\n",
       "      <td>2019.0</td>\n",
       "      <td>3.0</td>\n",
       "      <td>22.0</td>\n",
       "      <td>5.0</td>\n",
       "      <td>0.096223</td>\n",
       "    </tr>\n",
       "    <tr>\n",
       "      <th>2019-03-27</th>\n",
       "      <td>-0.008884</td>\n",
       "      <td>19.0</td>\n",
       "      <td>2019.0</td>\n",
       "      <td>3.0</td>\n",
       "      <td>27.0</td>\n",
       "      <td>3.0</td>\n",
       "      <td>0.072613</td>\n",
       "    </tr>\n",
       "    <tr>\n",
       "      <th>2019-03-29</th>\n",
       "      <td>-0.003991</td>\n",
       "      <td>1.0</td>\n",
       "      <td>2019.0</td>\n",
       "      <td>3.0</td>\n",
       "      <td>29.0</td>\n",
       "      <td>5.0</td>\n",
       "      <td>0.091287</td>\n",
       "    </tr>\n",
       "    <tr>\n",
       "      <th>2019-04-01</th>\n",
       "      <td>-0.000550</td>\n",
       "      <td>15.0</td>\n",
       "      <td>2019.0</td>\n",
       "      <td>4.0</td>\n",
       "      <td>1.0</td>\n",
       "      <td>1.0</td>\n",
       "      <td>0.124238</td>\n",
       "    </tr>\n",
       "    <tr>\n",
       "      <th>2019-04-12</th>\n",
       "      <td>0.003277</td>\n",
       "      <td>16.0</td>\n",
       "      <td>2019.0</td>\n",
       "      <td>4.0</td>\n",
       "      <td>12.0</td>\n",
       "      <td>5.0</td>\n",
       "      <td>0.112927</td>\n",
       "    </tr>\n",
       "  </tbody>\n",
       "</table>\n",
       "<p>1199 rows × 7 columns</p>\n",
       "</div>"
      ],
      "text/plain": [
       "            Adj Close  speakers    Year  Month   Day  DayofWeek  \\\n",
       "2003-12-03   0.013030       9.0  2003.0   12.0   3.0        3.0   \n",
       "2003-12-10   0.005577       4.0  2003.0   12.0  10.0        3.0   \n",
       "2004-01-15   0.032538       9.0  2004.0    1.0  15.0        4.0   \n",
       "2004-01-16  -0.016369       9.0  2004.0    1.0  16.0        5.0   \n",
       "2004-01-20   0.015175      17.0  2004.0    1.0  20.0        2.0   \n",
       "...               ...       ...     ...    ...   ...        ...   \n",
       "2019-03-22   0.004856      26.0  2019.0    3.0  22.0        5.0   \n",
       "2019-03-27  -0.008884      19.0  2019.0    3.0  27.0        3.0   \n",
       "2019-03-29  -0.003991       1.0  2019.0    3.0  29.0        5.0   \n",
       "2019-04-01  -0.000550      15.0  2019.0    4.0   1.0        1.0   \n",
       "2019-04-12   0.003277      16.0  2019.0    4.0  12.0        5.0   \n",
       "\n",
       "            textblob-score  \n",
       "2003-12-03        0.131415  \n",
       "2003-12-10        0.105858  \n",
       "2004-01-15        0.126981  \n",
       "2004-01-16        0.140738  \n",
       "2004-01-20        0.121747  \n",
       "...                    ...  \n",
       "2019-03-22        0.096223  \n",
       "2019-03-27        0.072613  \n",
       "2019-03-29        0.091287  \n",
       "2019-04-01        0.124238  \n",
       "2019-04-12        0.112927  \n",
       "\n",
       "[1199 rows x 7 columns]"
      ]
     },
     "execution_count": 243,
     "metadata": {},
     "output_type": "execute_result"
    }
   ],
   "source": [
    "X_train"
   ]
  }
 ],
 "metadata": {
  "kernelspec": {
   "display_name": "Python 3",
   "language": "python",
   "name": "python3"
  },
  "language_info": {
   "codemirror_mode": {
    "name": "ipython",
    "version": 3
   },
   "file_extension": ".py",
   "mimetype": "text/x-python",
   "name": "python",
   "nbconvert_exporter": "python",
   "pygments_lexer": "ipython3",
   "version": "3.8.3"
  }
 },
 "nbformat": 4,
 "nbformat_minor": 4
}
