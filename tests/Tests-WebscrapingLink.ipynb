{
 "cells": [
  {
   "cell_type": "markdown",
   "id": "d461d588-cfe8-4b49-9d41-a61a5e3d98ee",
   "metadata": {},
   "source": [
    "# Webscraping pour obtenir le lien du dataset"
   ]
  },
  {
   "cell_type": "markdown",
   "id": "bf815071-edca-42b8-9005-a1a453c4dfac",
   "metadata": {},
   "source": [
    "Le lien du dataset des discours de la BCE est mis à jour au début de chaque mois. Plutôt que d'aller le chercher \"à la main\", on peut utiliser le webscraping pour le modifier automatiquement dans nos requêtes (sous réserve qu'il n'y ait pas de modification dans la structure de la page du dataset)."
   ]
  },
  {
   "cell_type": "code",
   "execution_count": 1,
   "id": "8d3a3223-4a51-486a-92bd-66a8f6d598c3",
   "metadata": {},
   "outputs": [],
   "source": [
    "import time\n",
    "\n",
    "import urllib\n",
    "import lxml.html\n",
    "import requests\n",
    "import bs4 #Beautiful Soup\n",
    "import pandas as pd\n"
   ]
  },
  {
   "cell_type": "markdown",
   "id": "cda6e03d-093a-439b-af88-2d1af9662db2",
   "metadata": {},
   "source": [
    "### URL de la page de téléchargement"
   ]
  },
  {
   "cell_type": "code",
   "execution_count": 2,
   "id": "1e422b69-81c1-4e6c-a4ac-ba95b837bd57",
   "metadata": {},
   "outputs": [],
   "source": [
    "url_ecb_download=\"https://www.ecb.europa.eu/press/key/html/downloads.en.html\""
   ]
  },
  {
   "cell_type": "code",
   "execution_count": 3,
   "id": "07cdd54e-d106-4f77-b3ad-5b989f7a56af",
   "metadata": {},
   "outputs": [
    {
     "data": {
      "text/plain": [
       "200"
      ]
     },
     "execution_count": 3,
     "metadata": {},
     "output_type": "execute_result"
    }
   ],
   "source": [
    "requests.get(url_ecb_download).status_code\n",
    "#Si le code retour est 200, il y a bien du contenu accessible sur la page."
   ]
  },
  {
   "cell_type": "markdown",
   "id": "003a8249-3a8b-4ee8-aa5f-12b410b3eb48",
   "metadata": {},
   "source": [
    "### Liste de tous les liens de la page"
   ]
  },
  {
   "cell_type": "code",
   "execution_count": 4,
   "id": "6df9a88a-0734-4c15-a70e-3dddef7d505f",
   "metadata": {},
   "outputs": [],
   "source": [
    "\n",
    "def get_all_links(url):\n",
    "    '''renvoie la liste de tous les liens présents sur la page correspondant à l'url'''\n",
    "    list_links=[] #on initialise avec une liste vide\n",
    "    STATUS_CODE=requests.get(url).status_code\n",
    "    #Si le code retour est 200, il y a bien du contenu accessible sur la page.\n",
    "    if STATUS_CODE!=200:\n",
    "        print(\"ERREUR CODE\", STATUS_CODE)\n",
    "    else: #il y a bien du contenu accessible sur la page\n",
    "        page = urllib.request.urlopen(url_ecb_download) # on se connecte à la page pour obtenir le code source\n",
    "        dom =  lxml.html.fromstring(page.read()) #permet de \"lire\" le code source\n",
    "        for link in dom.xpath('//a/@href'): # select the url in href for all a tags(links)\n",
    "            list_links.append(link)\n",
    "        return list_links"
   ]
  },
  {
   "cell_type": "code",
   "execution_count": 5,
   "id": "78233ea5-547e-4c17-9e29-df99c81457c7",
   "metadata": {
    "scrolled": true,
    "tags": []
   },
   "outputs": [
    {
     "data": {
      "text/plain": [
       "['/home/html/index.en.html',\n",
       " '/home/html/index.en.html',\n",
       " 'downloads.bg.html',\n",
       " 'downloads.cs.html',\n",
       " 'downloads.da.html',\n",
       " 'downloads.de.html',\n",
       " 'downloads.el.html',\n",
       " 'downloads.en.html',\n",
       " 'downloads.es.html',\n",
       " 'downloads.et.html',\n",
       " 'downloads.fi.html',\n",
       " 'downloads.fr.html',\n",
       " 'downloads.ga.html',\n",
       " 'downloads.hr.html',\n",
       " 'downloads.hu.html',\n",
       " 'downloads.it.html',\n",
       " 'downloads.lt.html',\n",
       " 'downloads.lv.html',\n",
       " 'downloads.mt.html',\n",
       " 'downloads.nl.html',\n",
       " 'downloads.pl.html',\n",
       " 'downloads.pt.html',\n",
       " 'downloads.ro.html',\n",
       " 'downloads.sk.html',\n",
       " 'downloads.sl.html',\n",
       " 'downloads.sv.html',\n",
       " '/home/html/index.en.html',\n",
       " '/ecb/html/index.en.html',\n",
       " '/press/html/index.en.html',\n",
       " '/pub/html/index.en.html',\n",
       " '/stats/html/index.en.html',\n",
       " '/mopo/html/index.en.html',\n",
       " '/euro/html/index.en.html',\n",
       " '/paym/html/index.en.html',\n",
       " '/careers/html/index.en.html',\n",
       " 'https://www.bankingsupervision.europa.eu/home/html/index.en.html',\n",
       " '#',\n",
       " '#',\n",
       " 'javascript:window.print()',\n",
       " \"javascript:window.open('https://twitter.com/intent/tweet?url='+window.location.href,'_blank','width=600,height=400,menubar=no')\",\n",
       " \"javascript:window.open('https://www.facebook.com/sharer/sharer.php?u='+window.location.href,'_blank','width=600,height=400,menubar=no')\",\n",
       " \"javascript:window.open('https://www.linkedin.com/shareArticle?url='+window.location.href,'_blank','width=600,height=400,menubar=no')\",\n",
       " \"javascript:window.open('mailto:?subject=I would like to share this link with you&body=Link to the website of the European Central Bank: '+window.location.href)\",\n",
       " '/press/key/shared/data/all_ECB_speeches.csv?5f1650f87c081c670b20cc03e741c558',\n",
       " '/home/disclaimer/html/index.en.html#c',\n",
       " 'https://www.ecb.europa.eu/press/key/html/downloads.en.html',\n",
       " '/ecb/access_to_documents/archives/emi/html/index.en.html',\n",
       " '/home/sitedir/html/index.en.html',\n",
       " '/home/socialmedia/html/index.en.html',\n",
       " 'http://twitter.com/ecb',\n",
       " 'https://www.linkedin.com/company/european-central-bank',\n",
       " 'https://www.instagram.com/europeancentralbank/',\n",
       " 'https://www.youtube.com/user/ecbeuro',\n",
       " 'https://www.flickr.com/photos/europeancentralbank/sets/',\n",
       " 'https://soundcloud.com/europeancentralbank',\n",
       " '/rss',\n",
       " '/careers/vacancies/html/index.en.html',\n",
       " '/services/glossary/html/index.en.html',\n",
       " '/services/links/html/index.en.html',\n",
       " '/services/disclaimer/html/index.en.html',\n",
       " '/services/data-protection/privacy-statements/website/html/index.en.html',\n",
       " '/services/languagepolicy/html/index.en.html',\n",
       " '/services/data-protection/html/index.en.html',\n",
       " '/ecb/access_to_documents/html/index.en.html',\n",
       " '/services/responsible-disclosure/html/index.en.html',\n",
       " '/services/contacts/html/index.en.html',\n",
       " '/services/contacts/address/html/index.en.html',\n",
       " '/services/contacts/working-hours/html/index.en.html',\n",
       " '/home/data-protection/privacy-statements/website/html/index.en.html',\n",
       " '/home/data-protection/privacy-statements/website/html/index.en.html',\n",
       " '/home/data-protection/privacy-statements/website/html/index.en.html',\n",
       " '/home/data-protection/privacy-statements/website/html/index.en.html']"
      ]
     },
     "execution_count": 5,
     "metadata": {},
     "output_type": "execute_result"
    }
   ],
   "source": [
    "#On obtient la liste de tous les liens présents sur la page\n",
    "get_all_links(url_ecb_download)"
   ]
  },
  {
   "cell_type": "markdown",
   "id": "222ee0d9-c2d5-48ed-a19b-cbd9b842d61f",
   "metadata": {},
   "source": [
    "### Lien du jeu de données "
   ]
  },
  {
   "cell_type": "code",
   "execution_count": 6,
   "id": "4ff69a4c-58c4-407f-9ad4-2f9f34fd7fc4",
   "metadata": {},
   "outputs": [],
   "source": [
    "def find_first_link_with_string(list_links, string):\n",
    "    '''renvoie le premier lien de la liste contenant une certaine chaine de caractères'''\n",
    "    for link in list_links:\n",
    "        if string in link:\n",
    "            return link"
   ]
  },
  {
   "cell_type": "code",
   "execution_count": 7,
   "id": "5398a672-fed5-45d4-8fab-b7c7bdfedea7",
   "metadata": {},
   "outputs": [
    {
     "name": "stdout",
     "output_type": "stream",
     "text": [
      "/press/key/shared/data/all_ECB_speeches.csv?5f1650f87c081c670b20cc03e741c558\n"
     ]
    }
   ],
   "source": [
    "print(find_first_link_with_string(list_links=get_all_links(url_ecb_download),\n",
    "                                  string=\"/press/key/shared/data/all_ECB_speeches.csv\"))"
   ]
  },
  {
   "cell_type": "code",
   "execution_count": 8,
   "id": "55653d5f-478b-4a6d-bba2-4e2c582125fc",
   "metadata": {},
   "outputs": [],
   "source": [
    "def get_dataset_url(url):\n",
    "    '''renvoie la partie de l'url du dataset des discours de la BCE'''\n",
    "    '''on utilise toutes les fonctions précédentes'''\n",
    "    string=\"/press/key/shared/data/all_ECB_speeches.csv\" #chaine de caractères identifiant le lien du dataset\n",
    "    list_links=get_all_links(url) #on obtient la liste de tous les liens de la page\n",
    "    url=find_first_link_with_string(list_links,string) #on cherche le lien du dataset grâce à la chaine de caractères\n",
    "    return url"
   ]
  },
  {
   "cell_type": "code",
   "execution_count": 9,
   "id": "53c2a253-f87f-4431-af8d-01d5e275ba91",
   "metadata": {},
   "outputs": [
    {
     "name": "stdout",
     "output_type": "stream",
     "text": [
      "/press/key/shared/data/all_ECB_speeches.csv?5f1650f87c081c670b20cc03e741c558\n"
     ]
    }
   ],
   "source": [
    "print(get_dataset_url(url_ecb_download))"
   ]
  },
  {
   "cell_type": "markdown",
   "id": "ef0c453c-b254-4453-aef5-27def0d20483",
   "metadata": {},
   "source": [
    "### Date de la dernière mise à jour des données"
   ]
  },
  {
   "cell_type": "code",
   "execution_count": 10,
   "id": "cce99717-1c51-4b1b-a812-2a11d6a38567",
   "metadata": {},
   "outputs": [],
   "source": [
    "def last_update_dataset(url):\n",
    "    '''renvoie la date de la dernière mise à jour du dataset'''\n",
    "    STATUS_CODE=requests.get(url).status_code\n",
    "    #Si le code retour est 200, il y a bien du contenu accessible sur la page.\n",
    "    if STATUS_CODE!=200:\n",
    "        print(\"ERREUR CODE\", STATUS_CODE)\n",
    "    else: #il y a bien du contenu accessible sur la page\n",
    "        request_text = urllib.request.urlopen(url).read() #On se connecte à la page pour obtenir le code source\n",
    "        page = bs4.BeautifulSoup(request_text, \"lxml\") \n",
    "        update_date=page.select_one(\"span[class*=lastUpdate]\").text #on sélectionne le contenu de la classe lastUpdate\n",
    "        return update_date"
   ]
  },
  {
   "cell_type": "code",
   "execution_count": 11,
   "id": "0b360ca4-bcfb-443a-9d20-0a0adf3e938c",
   "metadata": {},
   "outputs": [
    {
     "name": "stdout",
     "output_type": "stream",
     "text": [
      "last update: 01 January 2022\n"
     ]
    }
   ],
   "source": [
    "print(last_update_dataset(url=url_ecb_download))"
   ]
  },
  {
   "cell_type": "markdown",
   "id": "fa08d7bd-3ecc-48c8-88fd-b18868efdb83",
   "metadata": {},
   "source": [
    "## Test de l'import du dataset"
   ]
  },
  {
   "cell_type": "code",
   "execution_count": 12,
   "id": "51f27394-e5c9-4339-b833-b3ff3ef6aca7",
   "metadata": {},
   "outputs": [
    {
     "name": "stdout",
     "output_type": "stream",
     "text": [
      "Temps pris : 9.187734842300415\n"
     ]
    }
   ],
   "source": [
    "start=time.time()\n",
    "\n",
    "url=\"https://www.ecb.europa.eu\"+ get_dataset_url(url_ecb_download)\n",
    "\n",
    "df=pd.read_csv(url,sep = \"|\",encoding='utf-8')\n",
    "\n",
    "print(\"Temps pris :\", time.time()-start) #23 secondes avec une connexion de 30 Mbps\n"
   ]
  },
  {
   "cell_type": "code",
   "execution_count": 13,
   "id": "8c0a148b-4ab6-4a61-b980-a0eb73e39473",
   "metadata": {},
   "outputs": [
    {
     "data": {
      "text/html": [
       "<div>\n",
       "<style scoped>\n",
       "    .dataframe tbody tr th:only-of-type {\n",
       "        vertical-align: middle;\n",
       "    }\n",
       "\n",
       "    .dataframe tbody tr th {\n",
       "        vertical-align: top;\n",
       "    }\n",
       "\n",
       "    .dataframe thead th {\n",
       "        text-align: right;\n",
       "    }\n",
       "</style>\n",
       "<table border=\"1\" class=\"dataframe\">\n",
       "  <thead>\n",
       "    <tr style=\"text-align: right;\">\n",
       "      <th></th>\n",
       "      <th>date</th>\n",
       "      <th>speakers</th>\n",
       "      <th>title</th>\n",
       "      <th>subtitle</th>\n",
       "      <th>contents</th>\n",
       "    </tr>\n",
       "  </thead>\n",
       "  <tbody>\n",
       "    <tr>\n",
       "      <th>0</th>\n",
       "      <td>2021-12-10</td>\n",
       "      <td>Fabio Panetta</td>\n",
       "      <td>The present and future of money in the digital...</td>\n",
       "      <td>Lecture by Fabio Panetta, Member of the Execut...</td>\n",
       "      <td>SPEECH  The present and future of money in ...</td>\n",
       "    </tr>\n",
       "    <tr>\n",
       "      <th>1</th>\n",
       "      <td>2021-12-08</td>\n",
       "      <td>Isabel Schnabel</td>\n",
       "      <td>Monetary policy and financial stability</td>\n",
       "      <td>Speech by Isabel Schnabel, Member of the Execu...</td>\n",
       "      <td>SPEECH  Monetary policy and financial stabi...</td>\n",
       "    </tr>\n",
       "    <tr>\n",
       "      <th>2</th>\n",
       "      <td>2021-12-08</td>\n",
       "      <td>Luis de Guindos</td>\n",
       "      <td>Macroprudential policy for non-bank financial ...</td>\n",
       "      <td>Speech by Luis de Guindos, Vice-President of t...</td>\n",
       "      <td>SPEECH  Macroprudential policy for non-bank...</td>\n",
       "    </tr>\n",
       "    <tr>\n",
       "      <th>3</th>\n",
       "      <td>2021-12-08</td>\n",
       "      <td>Christine Lagarde</td>\n",
       "      <td>Macroprudential policy in Europe – the future ...</td>\n",
       "      <td>Welcome remarks by Christine Lagarde, Presiden...</td>\n",
       "      <td>SPEECH  Macroprudential policy in Europe – ...</td>\n",
       "    </tr>\n",
       "    <tr>\n",
       "      <th>4</th>\n",
       "      <td>2021-11-29</td>\n",
       "      <td>Christine Lagarde</td>\n",
       "      <td>Dialogue in a changing world</td>\n",
       "      <td>Lectio Magistralis by Christine Lagarde, Presi...</td>\n",
       "      <td>SPEECH  Dialogue in a changing world   Lect...</td>\n",
       "    </tr>\n",
       "    <tr>\n",
       "      <th>...</th>\n",
       "      <td>...</td>\n",
       "      <td>...</td>\n",
       "      <td>...</td>\n",
       "      <td>...</td>\n",
       "      <td>...</td>\n",
       "    </tr>\n",
       "    <tr>\n",
       "      <th>2548</th>\n",
       "      <td>1997-05-13</td>\n",
       "      <td>Alexandre Lamfalussy</td>\n",
       "      <td>The European Central Bank: independent and acc...</td>\n",
       "      <td>Keynote speech delivered by Alexandre Lamfalus...</td>\n",
       "      <td>The European Central Bank: independent and a...</td>\n",
       "    </tr>\n",
       "    <tr>\n",
       "      <th>2549</th>\n",
       "      <td>1997-04-30</td>\n",
       "      <td>Alexandre Lamfalussy</td>\n",
       "      <td>The operation of monetary policy in stage thre...</td>\n",
       "      <td>Address by Alexandre Lamfalussy, President of ...</td>\n",
       "      <td>The operation of monetary policy in stage th...</td>\n",
       "    </tr>\n",
       "    <tr>\n",
       "      <th>2550</th>\n",
       "      <td>1997-04-22</td>\n",
       "      <td>Alexandre Lamfalussy</td>\n",
       "      <td>Convergence and the role of the European Centr...</td>\n",
       "      <td>Remarks by Alexandre Lamfalussy, President of ...</td>\n",
       "      <td>Convergence and the role of the European Cen...</td>\n",
       "    </tr>\n",
       "    <tr>\n",
       "      <th>2551</th>\n",
       "      <td>1997-03-10</td>\n",
       "      <td>Alexandre Lamfalussy</td>\n",
       "      <td>Securing the benefits of EMU</td>\n",
       "      <td>Address by Alexandre Lamfalussy, President of ...</td>\n",
       "      <td>Securing the benefits of EMU   Address by Al...</td>\n",
       "    </tr>\n",
       "    <tr>\n",
       "      <th>2552</th>\n",
       "      <td>1997-02-07</td>\n",
       "      <td>Alexandre Lamfalussy</td>\n",
       "      <td>Conference organised by the Hungarian Banking ...</td>\n",
       "      <td>Address by Alexandre Lamfalussy, President of ...</td>\n",
       "      <td>Conference organised by the Hungarian Bankin...</td>\n",
       "    </tr>\n",
       "  </tbody>\n",
       "</table>\n",
       "<p>2553 rows × 5 columns</p>\n",
       "</div>"
      ],
      "text/plain": [
       "            date              speakers  \\\n",
       "0     2021-12-10         Fabio Panetta   \n",
       "1     2021-12-08       Isabel Schnabel   \n",
       "2     2021-12-08       Luis de Guindos   \n",
       "3     2021-12-08     Christine Lagarde   \n",
       "4     2021-11-29     Christine Lagarde   \n",
       "...          ...                   ...   \n",
       "2548  1997-05-13  Alexandre Lamfalussy   \n",
       "2549  1997-04-30  Alexandre Lamfalussy   \n",
       "2550  1997-04-22  Alexandre Lamfalussy   \n",
       "2551  1997-03-10  Alexandre Lamfalussy   \n",
       "2552  1997-02-07  Alexandre Lamfalussy   \n",
       "\n",
       "                                                  title  \\\n",
       "0     The present and future of money in the digital...   \n",
       "1               Monetary policy and financial stability   \n",
       "2     Macroprudential policy for non-bank financial ...   \n",
       "3     Macroprudential policy in Europe – the future ...   \n",
       "4                          Dialogue in a changing world   \n",
       "...                                                 ...   \n",
       "2548  The European Central Bank: independent and acc...   \n",
       "2549  The operation of monetary policy in stage thre...   \n",
       "2550  Convergence and the role of the European Centr...   \n",
       "2551                       Securing the benefits of EMU   \n",
       "2552  Conference organised by the Hungarian Banking ...   \n",
       "\n",
       "                                               subtitle  \\\n",
       "0     Lecture by Fabio Panetta, Member of the Execut...   \n",
       "1     Speech by Isabel Schnabel, Member of the Execu...   \n",
       "2     Speech by Luis de Guindos, Vice-President of t...   \n",
       "3     Welcome remarks by Christine Lagarde, Presiden...   \n",
       "4     Lectio Magistralis by Christine Lagarde, Presi...   \n",
       "...                                                 ...   \n",
       "2548  Keynote speech delivered by Alexandre Lamfalus...   \n",
       "2549  Address by Alexandre Lamfalussy, President of ...   \n",
       "2550  Remarks by Alexandre Lamfalussy, President of ...   \n",
       "2551  Address by Alexandre Lamfalussy, President of ...   \n",
       "2552  Address by Alexandre Lamfalussy, President of ...   \n",
       "\n",
       "                                               contents  \n",
       "0        SPEECH  The present and future of money in ...  \n",
       "1        SPEECH  Monetary policy and financial stabi...  \n",
       "2        SPEECH  Macroprudential policy for non-bank...  \n",
       "3        SPEECH  Macroprudential policy in Europe – ...  \n",
       "4        SPEECH  Dialogue in a changing world   Lect...  \n",
       "...                                                 ...  \n",
       "2548    The European Central Bank: independent and a...  \n",
       "2549    The operation of monetary policy in stage th...  \n",
       "2550    Convergence and the role of the European Cen...  \n",
       "2551    Securing the benefits of EMU   Address by Al...  \n",
       "2552    Conference organised by the Hungarian Bankin...  \n",
       "\n",
       "[2553 rows x 5 columns]"
      ]
     },
     "execution_count": 13,
     "metadata": {},
     "output_type": "execute_result"
    }
   ],
   "source": [
    "df"
   ]
  },
  {
   "cell_type": "code",
   "execution_count": null,
   "id": "0e55fd8a-1731-468a-b0ee-9a20a9bac10f",
   "metadata": {},
   "outputs": [],
   "source": []
  }
 ],
 "metadata": {
  "kernelspec": {
   "display_name": "Python 3 (ipykernel)",
   "language": "python",
   "name": "python3"
  },
  "language_info": {
   "codemirror_mode": {
    "name": "ipython",
    "version": 3
   },
   "file_extension": ".py",
   "mimetype": "text/x-python",
   "name": "python",
   "nbconvert_exporter": "python",
   "pygments_lexer": "ipython3",
   "version": "3.8.5"
  }
 },
 "nbformat": 4,
 "nbformat_minor": 5
}
