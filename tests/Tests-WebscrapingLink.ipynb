{
 "cells": [
  {
   "cell_type": "markdown",
   "id": "d461d588-cfe8-4b49-9d41-a61a5e3d98ee",
   "metadata": {},
   "source": [
    "# Webscraping pour obtenir le lien du dataset"
   ]
  },
  {
   "cell_type": "code",
   "execution_count": 1,
   "id": "8d3a3223-4a51-486a-92bd-66a8f6d598c3",
   "metadata": {},
   "outputs": [],
   "source": [
    "import time\n",
    "\n",
    "import urllib\n",
    "import lxml.html\n",
    "import requests\n",
    "import bs4\n",
    "import pandas as pd\n"
   ]
  },
  {
   "cell_type": "code",
   "execution_count": 2,
   "id": "1e422b69-81c1-4e6c-a4ac-ba95b837bd57",
   "metadata": {},
   "outputs": [],
   "source": [
    "url_ecb_download=\"https://www.ecb.europa.eu/press/key/html/downloads.en.html\"\n",
    "base_ecb_url=\"https://www.ecb.europa.eu\""
   ]
  },
  {
   "cell_type": "code",
   "execution_count": 3,
   "id": "07cdd54e-d106-4f77-b3ad-5b989f7a56af",
   "metadata": {},
   "outputs": [
    {
     "data": {
      "text/plain": [
       "200"
      ]
     },
     "execution_count": 3,
     "metadata": {},
     "output_type": "execute_result"
    }
   ],
   "source": [
    "requests.get(url_ecb_download).status_code\n",
    "#Si le code retour est 200, il y a bien du contenu accessible sur la page."
   ]
  },
  {
   "cell_type": "code",
   "execution_count": 4,
   "id": "6df9a88a-0734-4c15-a70e-3dddef7d505f",
   "metadata": {},
   "outputs": [],
   "source": [
    "#On obtient la liste de tous les liens présents sur la page\n",
    "\n",
    "def get_all_links(url):\n",
    "    '''renvoie la liste de tous les liens présents sur la page correspondant à l'url'''\n",
    "    list_links=[] #on initialise avec une liste vide\n",
    "    STATUS_CODE=requests.get(url).status_code\n",
    "    #Si le code retour est 200, il y a bien du contenu accessible sur la page.\n",
    "    if STATUS_CODE!=200:\n",
    "        print(\"ERREUR CODE\", STATUS_CODE)\n",
    "    else: #il y a bien du contenu accessible sur la page\n",
    "        page = urllib.request.urlopen(url_ecb_download) # on se connecte à la page pour obtenir le code source\n",
    "        dom =  lxml.html.fromstring(page.read()) #permet de \"lire\" le code source\n",
    "        for link in dom.xpath('//a/@href'): # select the url in href for all a tags(links)\n",
    "            list_links.append(link)\n",
    "        return list_links"
   ]
  },
  {
   "cell_type": "code",
   "execution_count": 5,
   "id": "78233ea5-547e-4c17-9e29-df99c81457c7",
   "metadata": {
    "scrolled": true,
    "tags": []
   },
   "outputs": [
    {
     "data": {
      "text/plain": [
       "['/home/html/index.en.html',\n",
       " '/home/html/index.en.html',\n",
       " 'downloads.bg.html',\n",
       " 'downloads.cs.html',\n",
       " 'downloads.da.html',\n",
       " 'downloads.de.html',\n",
       " 'downloads.el.html',\n",
       " 'downloads.en.html',\n",
       " 'downloads.es.html',\n",
       " 'downloads.et.html',\n",
       " 'downloads.fi.html',\n",
       " 'downloads.fr.html',\n",
       " 'downloads.ga.html',\n",
       " 'downloads.hr.html',\n",
       " 'downloads.hu.html',\n",
       " 'downloads.it.html',\n",
       " 'downloads.lt.html',\n",
       " 'downloads.lv.html',\n",
       " 'downloads.mt.html',\n",
       " 'downloads.nl.html',\n",
       " 'downloads.pl.html',\n",
       " 'downloads.pt.html',\n",
       " 'downloads.ro.html',\n",
       " 'downloads.sk.html',\n",
       " 'downloads.sl.html',\n",
       " 'downloads.sv.html',\n",
       " '/home/html/index.en.html',\n",
       " '/ecb/html/index.en.html',\n",
       " '/press/html/index.en.html',\n",
       " '/pub/html/index.en.html',\n",
       " '/stats/html/index.en.html',\n",
       " '/mopo/html/index.en.html',\n",
       " '/euro/html/index.en.html',\n",
       " '/paym/html/index.en.html',\n",
       " '/careers/html/index.en.html',\n",
       " 'https://www.bankingsupervision.europa.eu/home/html/index.en.html',\n",
       " '#',\n",
       " '#',\n",
       " 'javascript:window.print()',\n",
       " \"javascript:window.open('https://twitter.com/intent/tweet?url='+window.location.href,'_blank','width=600,height=400,menubar=no')\",\n",
       " \"javascript:window.open('https://www.facebook.com/sharer/sharer.php?u='+window.location.href,'_blank','width=600,height=400,menubar=no')\",\n",
       " \"javascript:window.open('https://www.linkedin.com/shareArticle?url='+window.location.href,'_blank','width=600,height=400,menubar=no')\",\n",
       " \"javascript:window.open('mailto:?subject=I would like to share this link with you&body=Link to the website of the European Central Bank: '+window.location.href)\",\n",
       " '/press/key/shared/data/all_ECB_speeches.csv?5f1650f87c081c670b20cc03e741c558',\n",
       " '/home/disclaimer/html/index.en.html#c',\n",
       " 'https://www.ecb.europa.eu/press/key/html/downloads.en.html',\n",
       " '/ecb/access_to_documents/archives/emi/html/index.en.html',\n",
       " '/home/sitedir/html/index.en.html',\n",
       " '/home/socialmedia/html/index.en.html',\n",
       " 'http://twitter.com/ecb',\n",
       " 'https://www.linkedin.com/company/european-central-bank',\n",
       " 'https://www.instagram.com/europeancentralbank/',\n",
       " 'https://www.youtube.com/user/ecbeuro',\n",
       " 'https://www.flickr.com/photos/europeancentralbank/sets/',\n",
       " 'https://soundcloud.com/europeancentralbank',\n",
       " '/rss',\n",
       " '/careers/vacancies/html/index.en.html',\n",
       " '/services/glossary/html/index.en.html',\n",
       " '/services/links/html/index.en.html',\n",
       " '/services/disclaimer/html/index.en.html',\n",
       " '/services/data-protection/privacy-statements/website/html/index.en.html',\n",
       " '/services/languagepolicy/html/index.en.html',\n",
       " '/services/data-protection/html/index.en.html',\n",
       " '/ecb/access_to_documents/html/index.en.html',\n",
       " '/services/responsible-disclosure/html/index.en.html',\n",
       " '/services/contacts/html/index.en.html',\n",
       " '/services/contacts/address/html/index.en.html',\n",
       " '/services/contacts/working-hours/html/index.en.html',\n",
       " '/home/data-protection/privacy-statements/website/html/index.en.html',\n",
       " '/home/data-protection/privacy-statements/website/html/index.en.html',\n",
       " '/home/data-protection/privacy-statements/website/html/index.en.html',\n",
       " '/home/data-protection/privacy-statements/website/html/index.en.html']"
      ]
     },
     "execution_count": 5,
     "metadata": {},
     "output_type": "execute_result"
    }
   ],
   "source": [
    "#On obtient la liste de tous les liens présents sur la page\n",
    "get_all_links(url_ecb_download)"
   ]
  },
  {
   "cell_type": "code",
   "execution_count": 6,
   "id": "4ff69a4c-58c4-407f-9ad4-2f9f34fd7fc4",
   "metadata": {},
   "outputs": [],
   "source": [
    "def find_first_link_with_string(list_links, string):\n",
    "    '''renvoie le premier lien de la liste contenant une certaine chaine de caractères'''\n",
    "    for link in list_links:\n",
    "        if string in link:\n",
    "            return link"
   ]
  },
  {
   "cell_type": "code",
   "execution_count": 7,
   "id": "5398a672-fed5-45d4-8fab-b7c7bdfedea7",
   "metadata": {},
   "outputs": [
    {
     "name": "stdout",
     "output_type": "stream",
     "text": [
      "/press/key/shared/data/all_ECB_speeches.csv?5f1650f87c081c670b20cc03e741c558\n"
     ]
    }
   ],
   "source": [
    "print(find_first_link_with_string(list_links=get_all_links(url_ecb_download),\n",
    "                                  string=\"/press/key/shared/data/all_ECB_speeches.csv\"))"
   ]
  },
  {
   "cell_type": "code",
   "execution_count": 8,
   "id": "55653d5f-478b-4a6d-bba2-4e2c582125fc",
   "metadata": {},
   "outputs": [],
   "source": [
    "def get_dataset_url(url):\n",
    "    '''renvoie la partie de l'url du dataset des discours de la BCE'''\n",
    "    '''on utilise toutes les fonctions précédentes'''\n",
    "    string=\"/press/key/shared/data/all_ECB_speeches.csv\" #chaine de caractères identifiant le lien du dataset\n",
    "    list_links=get_all_links(url) #on obtient la liste de tous les liens de la page\n",
    "    url=find_first_link_with_string(list_links,string) #on cherche le lien du dataset grâce à la chaine de caractères\n",
    "    return url"
   ]
  },
  {
   "cell_type": "code",
   "execution_count": 9,
   "id": "53c2a253-f87f-4431-af8d-01d5e275ba91",
   "metadata": {},
   "outputs": [
    {
     "name": "stdout",
     "output_type": "stream",
     "text": [
      "/press/key/shared/data/all_ECB_speeches.csv?5f1650f87c081c670b20cc03e741c558\n"
     ]
    }
   ],
   "source": [
    "print(get_dataset_url(url_ecb_download))"
   ]
  },
  {
   "cell_type": "code",
   "execution_count": 10,
   "id": "cce99717-1c51-4b1b-a812-2a11d6a38567",
   "metadata": {},
   "outputs": [],
   "source": [
    "def last_update_dataset(url):\n",
    "    '''renvoie la date de la dernière mise à jour du dataset'''\n",
    "    STATUS_CODE=requests.get(url).status_code\n",
    "    #Si le code retour est 200, il y a bien du contenu accessible sur la page.\n",
    "    if STATUS_CODE!=200:\n",
    "        print(\"ERREUR CODE\", STATUS_CODE)\n",
    "    else: #il y a bien du contenu accessible sur la page\n",
    "        request_text = urllib.request.urlopen(url).read() #On se connecte à la page pour obtenir le code source\n",
    "        page = bs4.BeautifulSoup(request_text, \"lxml\") \n",
    "        update_date=page.select_one(\"span[class*=lastUpdate]\").text #on sélectionne le contenu de la classe lastUpdate\n",
    "        return update_date"
   ]
  },
  {
   "cell_type": "code",
   "execution_count": 11,
   "id": "0b360ca4-bcfb-443a-9d20-0a0adf3e938c",
   "metadata": {},
   "outputs": [
    {
     "name": "stdout",
     "output_type": "stream",
     "text": [
      "last update: 01 January 2022\n"
     ]
    }
   ],
   "source": [
    "print(last_update_dataset(url=url_ecb_download))"
   ]
  },
  {
   "cell_type": "markdown",
   "id": "fa08d7bd-3ecc-48c8-88fd-b18868efdb83",
   "metadata": {},
   "source": [
    "## Test de l'import du dataset"
   ]
  },
  {
   "cell_type": "code",
   "execution_count": null,
   "id": "51f27394-e5c9-4339-b833-b3ff3ef6aca7",
   "metadata": {},
   "outputs": [],
   "source": [
    "start=time.time()\n",
    "\n",
    "url=\"https://www.ecb.europa.eu\"+ get_dataset_url(url_ecb_download)\n",
    "\n",
    "df=pd.read_csv(url,sep = \"|\",encoding='utf-8')\n",
    "\n",
    "print(\"Temps pris :\", time.time()-start) #23 secondes avec une connexion de 30 Mbps\n"
   ]
  },
  {
   "cell_type": "code",
   "execution_count": null,
   "id": "8c0a148b-4ab6-4a61-b980-a0eb73e39473",
   "metadata": {},
   "outputs": [],
   "source": [
    "df"
   ]
  }
 ],
 "metadata": {
  "kernelspec": {
   "display_name": "Python 3 (ipykernel)",
   "language": "python",
   "name": "python3"
  },
  "language_info": {
   "codemirror_mode": {
    "name": "ipython",
    "version": 3
   },
   "file_extension": ".py",
   "mimetype": "text/x-python",
   "name": "python",
   "nbconvert_exporter": "python",
   "pygments_lexer": "ipython3",
   "version": "3.8.5"
  }
 },
 "nbformat": 4,
 "nbformat_minor": 5
}
