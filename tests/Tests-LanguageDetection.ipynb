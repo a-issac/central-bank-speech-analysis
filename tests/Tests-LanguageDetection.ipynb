{
 "cells": [
  {
   "cell_type": "markdown",
   "id": "8eb45394-f1bb-4321-9196-8ed24eee3ba1",
   "metadata": {},
   "source": [
    "# Tests Détection de Langages"
   ]
  },
  {
   "cell_type": "code",
   "execution_count": 1,
   "id": "f2430977-6ab0-428d-b134-a7bbf2c43792",
   "metadata": {},
   "outputs": [],
   "source": [
    "import datetime\n",
    "import copy as c\n",
    "import random\n",
    "import collections\n",
    "import time\n",
    "\n",
    "import pandas as pd\n",
    "import matplotlib.pyplot as plt\n",
    "#!pip install spacy\n",
    "#!pip install spacy-langdetect\n",
    "import spacy\n",
    "from spacy.language import Language\n",
    "from spacy_langdetect import LanguageDetector\n",
    "#!python -m spacy download en_core_web_lg "
   ]
  },
  {
   "cell_type": "code",
   "execution_count": 2,
   "id": "974cd4d2-a419-4793-a3b2-7f8150781b30",
   "metadata": {},
   "outputs": [],
   "source": [
    "url=\"https://www.ecb.europa.eu/press/key/shared/data/all_ECB_speeches.csv?848ea64ce6d77827b5e8e18790878b64\"\n",
    "#df=pd.read_csv(url,sep = \"|\",encoding='utf-8')\n",
    "\n",
    "# Une connexion lente peut obliger à télécharger le fichier en local\n",
    "url_local=r\"C:\\Users\\Antoine\\Downloads\\all_ECB_speeches.csv\"\n",
    "df=pd.read_csv(url_local,sep = \"|\",encoding='utf-8')\n",
    "\n",
    "# fichier mis à jour tous les mois, dernière version : 1er décembre 2021 (47,8 Mo)\n",
    "# à récupérer à l'adresse : https://www.ecb.europa.eu/press/key/html/downloads.en.html\n",
    "# 2549 discours de responsables de la BCE entre 1997 et 2021"
   ]
  },
  {
   "cell_type": "code",
   "execution_count": 3,
   "id": "44e6556f-8605-40d4-bbaf-9e8b37b63b6c",
   "metadata": {},
   "outputs": [
    {
     "data": {
      "text/html": [
       "<div>\n",
       "<style scoped>\n",
       "    .dataframe tbody tr th:only-of-type {\n",
       "        vertical-align: middle;\n",
       "    }\n",
       "\n",
       "    .dataframe tbody tr th {\n",
       "        vertical-align: top;\n",
       "    }\n",
       "\n",
       "    .dataframe thead th {\n",
       "        text-align: right;\n",
       "    }\n",
       "</style>\n",
       "<table border=\"1\" class=\"dataframe\">\n",
       "  <thead>\n",
       "    <tr style=\"text-align: right;\">\n",
       "      <th></th>\n",
       "      <th>date</th>\n",
       "      <th>speakers</th>\n",
       "      <th>title</th>\n",
       "      <th>subtitle</th>\n",
       "      <th>contents</th>\n",
       "    </tr>\n",
       "  </thead>\n",
       "  <tbody>\n",
       "    <tr>\n",
       "      <th>0</th>\n",
       "      <td>2021-11-29</td>\n",
       "      <td>Christine Lagarde</td>\n",
       "      <td>Dialogue in a changing world</td>\n",
       "      <td>Lectio Magistralis by Christine Lagarde, Presi...</td>\n",
       "      <td>SPEECH  Dialogue in a changing world   Lect...</td>\n",
       "    </tr>\n",
       "    <tr>\n",
       "      <th>1</th>\n",
       "      <td>2021-11-29</td>\n",
       "      <td>Isabel Schnabel</td>\n",
       "      <td>Inflation im Euroraum: Ursachen und Ausblick</td>\n",
       "      <td>Presentation by Isabel Schnabel, Member of the...</td>\n",
       "      <td>NaN</td>\n",
       "    </tr>\n",
       "    <tr>\n",
       "      <th>2</th>\n",
       "      <td>2021-11-26</td>\n",
       "      <td>Christine Lagarde</td>\n",
       "      <td>Change and continuity in law</td>\n",
       "      <td>Keynote speech by Christine Lagarde, President...</td>\n",
       "      <td>SPEECH  Change and continuity in law   Keyn...</td>\n",
       "    </tr>\n",
       "    <tr>\n",
       "      <th>3</th>\n",
       "      <td>2021-11-25</td>\n",
       "      <td>Frank Elderson</td>\n",
       "      <td>When you need change to preserve continuity: c...</td>\n",
       "      <td>Speech by Frank Elderson, Member of the Execut...</td>\n",
       "      <td>SPEECH  When you need change to preserve co...</td>\n",
       "    </tr>\n",
       "    <tr>\n",
       "      <th>4</th>\n",
       "      <td>2021-11-25</td>\n",
       "      <td>Isabel Schnabel</td>\n",
       "      <td>Inflation im Euroraum: Ursachen und Ausblick</td>\n",
       "      <td>Presentation by Isabel Schnabel, Member of the...</td>\n",
       "      <td>NaN</td>\n",
       "    </tr>\n",
       "    <tr>\n",
       "      <th>...</th>\n",
       "      <td>...</td>\n",
       "      <td>...</td>\n",
       "      <td>...</td>\n",
       "      <td>...</td>\n",
       "      <td>...</td>\n",
       "    </tr>\n",
       "    <tr>\n",
       "      <th>2544</th>\n",
       "      <td>1997-05-13</td>\n",
       "      <td>Alexandre Lamfalussy</td>\n",
       "      <td>The European Central Bank: independent and acc...</td>\n",
       "      <td>Keynote speech delivered by Alexandre Lamfalus...</td>\n",
       "      <td>The European Central Bank: independent and a...</td>\n",
       "    </tr>\n",
       "    <tr>\n",
       "      <th>2545</th>\n",
       "      <td>1997-04-30</td>\n",
       "      <td>Alexandre Lamfalussy</td>\n",
       "      <td>The operation of monetary policy in stage thre...</td>\n",
       "      <td>Address by Alexandre Lamfalussy, President of ...</td>\n",
       "      <td>The operation of monetary policy in stage th...</td>\n",
       "    </tr>\n",
       "    <tr>\n",
       "      <th>2546</th>\n",
       "      <td>1997-04-22</td>\n",
       "      <td>Alexandre Lamfalussy</td>\n",
       "      <td>Convergence and the role of the European Centr...</td>\n",
       "      <td>Remarks by Alexandre Lamfalussy, President of ...</td>\n",
       "      <td>Convergence and the role of the European Cen...</td>\n",
       "    </tr>\n",
       "    <tr>\n",
       "      <th>2547</th>\n",
       "      <td>1997-03-10</td>\n",
       "      <td>Alexandre Lamfalussy</td>\n",
       "      <td>Securing the benefits of EMU</td>\n",
       "      <td>Address by Alexandre Lamfalussy, President of ...</td>\n",
       "      <td>Securing the benefits of EMU   Address by Al...</td>\n",
       "    </tr>\n",
       "    <tr>\n",
       "      <th>2548</th>\n",
       "      <td>1997-02-07</td>\n",
       "      <td>Alexandre Lamfalussy</td>\n",
       "      <td>Conference organised by the Hungarian Banking ...</td>\n",
       "      <td>Address by Alexandre Lamfalussy, President of ...</td>\n",
       "      <td>Conference organised by the Hungarian Bankin...</td>\n",
       "    </tr>\n",
       "  </tbody>\n",
       "</table>\n",
       "<p>2549 rows × 5 columns</p>\n",
       "</div>"
      ],
      "text/plain": [
       "            date              speakers  \\\n",
       "0     2021-11-29     Christine Lagarde   \n",
       "1     2021-11-29       Isabel Schnabel   \n",
       "2     2021-11-26     Christine Lagarde   \n",
       "3     2021-11-25        Frank Elderson   \n",
       "4     2021-11-25       Isabel Schnabel   \n",
       "...          ...                   ...   \n",
       "2544  1997-05-13  Alexandre Lamfalussy   \n",
       "2545  1997-04-30  Alexandre Lamfalussy   \n",
       "2546  1997-04-22  Alexandre Lamfalussy   \n",
       "2547  1997-03-10  Alexandre Lamfalussy   \n",
       "2548  1997-02-07  Alexandre Lamfalussy   \n",
       "\n",
       "                                                  title  \\\n",
       "0                          Dialogue in a changing world   \n",
       "1          Inflation im Euroraum: Ursachen und Ausblick   \n",
       "2                          Change and continuity in law   \n",
       "3     When you need change to preserve continuity: c...   \n",
       "4          Inflation im Euroraum: Ursachen und Ausblick   \n",
       "...                                                 ...   \n",
       "2544  The European Central Bank: independent and acc...   \n",
       "2545  The operation of monetary policy in stage thre...   \n",
       "2546  Convergence and the role of the European Centr...   \n",
       "2547                       Securing the benefits of EMU   \n",
       "2548  Conference organised by the Hungarian Banking ...   \n",
       "\n",
       "                                               subtitle  \\\n",
       "0     Lectio Magistralis by Christine Lagarde, Presi...   \n",
       "1     Presentation by Isabel Schnabel, Member of the...   \n",
       "2     Keynote speech by Christine Lagarde, President...   \n",
       "3     Speech by Frank Elderson, Member of the Execut...   \n",
       "4     Presentation by Isabel Schnabel, Member of the...   \n",
       "...                                                 ...   \n",
       "2544  Keynote speech delivered by Alexandre Lamfalus...   \n",
       "2545  Address by Alexandre Lamfalussy, President of ...   \n",
       "2546  Remarks by Alexandre Lamfalussy, President of ...   \n",
       "2547  Address by Alexandre Lamfalussy, President of ...   \n",
       "2548  Address by Alexandre Lamfalussy, President of ...   \n",
       "\n",
       "                                               contents  \n",
       "0        SPEECH  Dialogue in a changing world   Lect...  \n",
       "1                                                   NaN  \n",
       "2        SPEECH  Change and continuity in law   Keyn...  \n",
       "3        SPEECH  When you need change to preserve co...  \n",
       "4                                                   NaN  \n",
       "...                                                 ...  \n",
       "2544    The European Central Bank: independent and a...  \n",
       "2545    The operation of monetary policy in stage th...  \n",
       "2546    Convergence and the role of the European Cen...  \n",
       "2547    Securing the benefits of EMU   Address by Al...  \n",
       "2548    Conference organised by the Hungarian Bankin...  \n",
       "\n",
       "[2549 rows x 5 columns]"
      ]
     },
     "execution_count": 3,
     "metadata": {},
     "output_type": "execute_result"
    }
   ],
   "source": [
    "df"
   ]
  },
  {
   "cell_type": "code",
   "execution_count": 4,
   "id": "96389b3d-0e74-432b-975e-56c1999761a1",
   "metadata": {},
   "outputs": [
    {
     "name": "stdout",
     "output_type": "stream",
     "text": [
      "date         0\n",
      "speakers     1\n",
      "title        0\n",
      "subtitle     1\n",
      "contents    39\n",
      "dtype: int64\n"
     ]
    },
    {
     "data": {
      "text/html": [
       "<div>\n",
       "<style scoped>\n",
       "    .dataframe tbody tr th:only-of-type {\n",
       "        vertical-align: middle;\n",
       "    }\n",
       "\n",
       "    .dataframe tbody tr th {\n",
       "        vertical-align: top;\n",
       "    }\n",
       "\n",
       "    .dataframe thead th {\n",
       "        text-align: right;\n",
       "    }\n",
       "</style>\n",
       "<table border=\"1\" class=\"dataframe\">\n",
       "  <thead>\n",
       "    <tr style=\"text-align: right;\">\n",
       "      <th></th>\n",
       "      <th>date</th>\n",
       "      <th>speakers</th>\n",
       "      <th>title</th>\n",
       "      <th>subtitle</th>\n",
       "      <th>contents</th>\n",
       "    </tr>\n",
       "  </thead>\n",
       "  <tbody>\n",
       "    <tr>\n",
       "      <th>1</th>\n",
       "      <td>2021-11-29</td>\n",
       "      <td>Isabel Schnabel</td>\n",
       "      <td>Inflation im Euroraum: Ursachen und Ausblick</td>\n",
       "      <td>Presentation by Isabel Schnabel, Member of the...</td>\n",
       "      <td>NaN</td>\n",
       "    </tr>\n",
       "    <tr>\n",
       "      <th>4</th>\n",
       "      <td>2021-11-25</td>\n",
       "      <td>Isabel Schnabel</td>\n",
       "      <td>Inflation im Euroraum: Ursachen und Ausblick</td>\n",
       "      <td>Presentation by Isabel Schnabel, Member of the...</td>\n",
       "      <td>NaN</td>\n",
       "    </tr>\n",
       "    <tr>\n",
       "      <th>5</th>\n",
       "      <td>2021-11-24</td>\n",
       "      <td>Isabel Schnabel</td>\n",
       "      <td>A new strategy for a changing world</td>\n",
       "      <td>Presentation by Isabel Schnabel, Member of the...</td>\n",
       "      <td>NaN</td>\n",
       "    </tr>\n",
       "    <tr>\n",
       "      <th>14</th>\n",
       "      <td>2021-11-11</td>\n",
       "      <td>Philip R. Lane</td>\n",
       "      <td>Expectations surveys: a tool for research and ...</td>\n",
       "      <td>Introductory remarks by Philip R. Lane, Member...</td>\n",
       "      <td>NaN</td>\n",
       "    </tr>\n",
       "    <tr>\n",
       "      <th>17</th>\n",
       "      <td>2021-11-09</td>\n",
       "      <td>Fabio Panetta</td>\n",
       "      <td>Digital currencies around the world – what are...</td>\n",
       "      <td>Presentation by Fabio Panetta, Member of the E...</td>\n",
       "      <td>NaN</td>\n",
       "    </tr>\n",
       "    <tr>\n",
       "      <th>31</th>\n",
       "      <td>2021-10-07</td>\n",
       "      <td>Philip R. Lane</td>\n",
       "      <td>Data analysis and monetary policy during the p...</td>\n",
       "      <td>Presentation by Philip R. Lane, Member of the ...</td>\n",
       "      <td>NaN</td>\n",
       "    </tr>\n",
       "    <tr>\n",
       "      <th>41</th>\n",
       "      <td>2021-09-15</td>\n",
       "      <td>Philip R. Lane</td>\n",
       "      <td>The ECB's monetary policy strategy review - IM...</td>\n",
       "      <td>Presentation by Philip R. Lane, Member of the ...</td>\n",
       "      <td>NaN</td>\n",
       "    </tr>\n",
       "    <tr>\n",
       "      <th>44</th>\n",
       "      <td>2021-08-26</td>\n",
       "      <td>Isabel Schnabel</td>\n",
       "      <td>Die neue geldpolitische Strategie der Europäis...</td>\n",
       "      <td>Vortrag von Isabel Schnabel, Mitglied des Dire...</td>\n",
       "      <td>NaN</td>\n",
       "    </tr>\n",
       "    <tr>\n",
       "      <th>52</th>\n",
       "      <td>2021-06-24</td>\n",
       "      <td>Isabel Schnabel</td>\n",
       "      <td>The ECB’s policy response to the COVID-19 pand...</td>\n",
       "      <td>Guest lecture by Isabel Schnabel, Member of th...</td>\n",
       "      <td>NaN</td>\n",
       "    </tr>\n",
       "    <tr>\n",
       "      <th>53</th>\n",
       "      <td>2021-06-22</td>\n",
       "      <td>Isabel Schnabel</td>\n",
       "      <td>Die Geldpolitik der EZB in der Corona-Krise</td>\n",
       "      <td>Vortrag von Isabel Schnabel, Mitglied des Dire...</td>\n",
       "      <td>NaN</td>\n",
       "    </tr>\n",
       "    <tr>\n",
       "      <th>54</th>\n",
       "      <td>2021-06-22</td>\n",
       "      <td>Philip R. Lane</td>\n",
       "      <td>The resilience of the euro</td>\n",
       "      <td>Lecture by Philip R. Lane, Member of the Execu...</td>\n",
       "      <td>NaN</td>\n",
       "    </tr>\n",
       "    <tr>\n",
       "      <th>63</th>\n",
       "      <td>2021-05-25</td>\n",
       "      <td>Philip R. Lane</td>\n",
       "      <td>The ECB strategy review</td>\n",
       "      <td>Presentation by Philip R. Lane, Member of the ...</td>\n",
       "      <td>NaN</td>\n",
       "    </tr>\n",
       "    <tr>\n",
       "      <th>66</th>\n",
       "      <td>2021-05-05</td>\n",
       "      <td>Philip R. Lane</td>\n",
       "      <td>Taking stock: The ECB strategy review and curr...</td>\n",
       "      <td>Speech by Philip R. Lane, Member of the Execut...</td>\n",
       "      <td>NaN</td>\n",
       "    </tr>\n",
       "    <tr>\n",
       "      <th>70</th>\n",
       "      <td>2021-04-14</td>\n",
       "      <td>Isabel Schnabel</td>\n",
       "      <td>Die Geldpolitik der EZB in der Corona-Krise</td>\n",
       "      <td>Vortrag von Isabel Schnabel, Mitglied des Dire...</td>\n",
       "      <td>NaN</td>\n",
       "    </tr>\n",
       "    <tr>\n",
       "      <th>76</th>\n",
       "      <td>2021-03-18</td>\n",
       "      <td>NaN</td>\n",
       "      <td>Die Geldpolitik der EZB in der Corona-Krise</td>\n",
       "      <td>Vortrag von Isabel Schnabel, Mitglied des Dire...</td>\n",
       "      <td>NaN</td>\n",
       "    </tr>\n",
       "    <tr>\n",
       "      <th>85</th>\n",
       "      <td>2021-02-25</td>\n",
       "      <td>Luis de Guindos</td>\n",
       "      <td>Sources of risk and vulnerabilities for financ...</td>\n",
       "      <td>Presentation by Luis de Guindos, Vice-Presiden...</td>\n",
       "      <td>NaN</td>\n",
       "    </tr>\n",
       "    <tr>\n",
       "      <th>88</th>\n",
       "      <td>2021-02-18</td>\n",
       "      <td>Isabel Schnabel</td>\n",
       "      <td>The ECB's policy response to the COVID-19 pand...</td>\n",
       "      <td>Guest lecture by Isabel Schnabel, Member of th...</td>\n",
       "      <td>NaN</td>\n",
       "    </tr>\n",
       "    <tr>\n",
       "      <th>96</th>\n",
       "      <td>2020-12-17</td>\n",
       "      <td>Isabel Schnabel</td>\n",
       "      <td>Climate change and monetary policy</td>\n",
       "      <td>Presentation by Isabel Schnabel, Member of the...</td>\n",
       "      <td>NaN</td>\n",
       "    </tr>\n",
       "    <tr>\n",
       "      <th>99</th>\n",
       "      <td>2020-12-15</td>\n",
       "      <td>Philip R. Lane</td>\n",
       "      <td>The resilience of the euro</td>\n",
       "      <td>Presentation by Philip R. Lane, Member of the ...</td>\n",
       "      <td>NaN</td>\n",
       "    </tr>\n",
       "    <tr>\n",
       "      <th>104</th>\n",
       "      <td>2020-11-24</td>\n",
       "      <td>Philip R. Lane</td>\n",
       "      <td>IMF Policy dialogue: New policy frameworks for...</td>\n",
       "      <td>NaN</td>\n",
       "      <td>NaN</td>\n",
       "    </tr>\n",
       "    <tr>\n",
       "      <th>113</th>\n",
       "      <td>2020-11-05</td>\n",
       "      <td>Isabel Schnabel</td>\n",
       "      <td>Unequal scars – distributional consequences of...</td>\n",
       "      <td>Presentation by Isabel Schnabel, Member of the...</td>\n",
       "      <td>NaN</td>\n",
       "    </tr>\n",
       "    <tr>\n",
       "      <th>120</th>\n",
       "      <td>2020-10-21</td>\n",
       "      <td>Philip R. Lane</td>\n",
       "      <td>International flows and the pandemic: evidence...</td>\n",
       "      <td>Presentation by Philip R. Lane, Member of the ...</td>\n",
       "      <td>NaN</td>\n",
       "    </tr>\n",
       "    <tr>\n",
       "      <th>124</th>\n",
       "      <td>2020-10-14</td>\n",
       "      <td>Philip R. Lane</td>\n",
       "      <td>The pandemic and ECB monetary policy</td>\n",
       "      <td>Presentation by Philip R. Lane, Member of the ...</td>\n",
       "      <td>NaN</td>\n",
       "    </tr>\n",
       "    <tr>\n",
       "      <th>129</th>\n",
       "      <td>2020-10-01</td>\n",
       "      <td>Philip R. Lane</td>\n",
       "      <td>The euro area: a laboratory for international ...</td>\n",
       "      <td>Presentation by Philip R. Lane, Member of the ...</td>\n",
       "      <td>NaN</td>\n",
       "    </tr>\n",
       "    <tr>\n",
       "      <th>148</th>\n",
       "      <td>2020-07-02</td>\n",
       "      <td>Isabel Schnabel</td>\n",
       "      <td>The ECB’s monetary policy during the coronavir...</td>\n",
       "      <td>Presentation by Isabel Schnabel, Member of the...</td>\n",
       "      <td>NaN</td>\n",
       "    </tr>\n",
       "    <tr>\n",
       "      <th>153</th>\n",
       "      <td>2020-06-25</td>\n",
       "      <td>Isabel Schnabel</td>\n",
       "      <td>The ECB's policy response to the COVID-19 crisis</td>\n",
       "      <td>Informal welcome remarks by Isabel Schnabel, M...</td>\n",
       "      <td>NaN</td>\n",
       "    </tr>\n",
       "    <tr>\n",
       "      <th>155</th>\n",
       "      <td>2020-06-22</td>\n",
       "      <td>Philip R. Lane</td>\n",
       "      <td>Understanding the pandemic emergency purchase ...</td>\n",
       "      <td>Presentation by Philip R. Lane, Member of the ...</td>\n",
       "      <td>NaN</td>\n",
       "    </tr>\n",
       "    <tr>\n",
       "      <th>184</th>\n",
       "      <td>2020-02-05</td>\n",
       "      <td>Philip R. Lane</td>\n",
       "      <td>The future of the euro</td>\n",
       "      <td>Presentation by Philip R. Lane, Member of the ...</td>\n",
       "      <td>NaN</td>\n",
       "    </tr>\n",
       "    <tr>\n",
       "      <th>188</th>\n",
       "      <td>2020-01-09</td>\n",
       "      <td>Isabel Schnabel</td>\n",
       "      <td>Mehr Europa für eine stabile gemeinsame Währung</td>\n",
       "      <td>Vortrag von Isabel Schnabel, Mitglied des Dire...</td>\n",
       "      <td>NaN</td>\n",
       "    </tr>\n",
       "    <tr>\n",
       "      <th>189</th>\n",
       "      <td>2020-01-09</td>\n",
       "      <td>Philip R. Lane</td>\n",
       "      <td>Policy Frameworks and Strategies for an Open E...</td>\n",
       "      <td>Presentation by Philip R. Lane, Member of the ...</td>\n",
       "      <td>NaN</td>\n",
       "    </tr>\n",
       "    <tr>\n",
       "      <th>208</th>\n",
       "      <td>2019-11-15</td>\n",
       "      <td>Philip R. Lane</td>\n",
       "      <td>Europe’s role in a changing global economy</td>\n",
       "      <td>Presentation by Philip R. Lane, Member of the ...</td>\n",
       "      <td>NaN</td>\n",
       "    </tr>\n",
       "    <tr>\n",
       "      <th>220</th>\n",
       "      <td>2019-10-16</td>\n",
       "      <td>Philip R. Lane</td>\n",
       "      <td>The economic outlook for the euro area</td>\n",
       "      <td>Presentation by Philip R. Lane, Member of the ...</td>\n",
       "      <td>NaN</td>\n",
       "    </tr>\n",
       "    <tr>\n",
       "      <th>237</th>\n",
       "      <td>2019-09-04</td>\n",
       "      <td>Philip R. Lane</td>\n",
       "      <td>The Phillips Curve at the ECB</td>\n",
       "      <td>Keynote lecture by Philip R. Lane, Member of t...</td>\n",
       "      <td>NaN</td>\n",
       "    </tr>\n",
       "    <tr>\n",
       "      <th>249</th>\n",
       "      <td>2019-06-24</td>\n",
       "      <td>Sabine Lautenschläger</td>\n",
       "      <td>Die EZB, das Geld und die Wirtschaft: Von A wi...</td>\n",
       "      <td>Presentation by Sabine Lautenschläger, Member ...</td>\n",
       "      <td>NaN</td>\n",
       "    </tr>\n",
       "    <tr>\n",
       "      <th>288</th>\n",
       "      <td>2019-02-20</td>\n",
       "      <td>Peter Praet</td>\n",
       "      <td>Economic situation and outlook</td>\n",
       "      <td>Presentation by Peter Praet, Member of the Exe...</td>\n",
       "      <td>NaN</td>\n",
       "    </tr>\n",
       "    <tr>\n",
       "      <th>346</th>\n",
       "      <td>2018-09-17</td>\n",
       "      <td>Peter Praet</td>\n",
       "      <td>Economic developments in the euro area</td>\n",
       "      <td>Presentation by Peter Praet, Member of the Exe...</td>\n",
       "      <td>NaN</td>\n",
       "    </tr>\n",
       "    <tr>\n",
       "      <th>353</th>\n",
       "      <td>2018-08-28</td>\n",
       "      <td>Peter Praet</td>\n",
       "      <td>Monetary and Macroprudential Policy Interactions</td>\n",
       "      <td>Presentation by Peter Praet, Member of the Exe...</td>\n",
       "      <td>NaN</td>\n",
       "    </tr>\n",
       "    <tr>\n",
       "      <th>364</th>\n",
       "      <td>2018-06-15</td>\n",
       "      <td>Benoît Cœuré</td>\n",
       "      <td>The euro area economic outlook and completion ...</td>\n",
       "      <td>Speech by Benoît Cœuré, Member of the Executiv...</td>\n",
       "      <td>NaN</td>\n",
       "    </tr>\n",
       "    <tr>\n",
       "      <th>1723</th>\n",
       "      <td>2007-08-29</td>\n",
       "      <td>Gertrude Tumpel-Gugerell</td>\n",
       "      <td>Better Regulation“ im Finanzsektor - die Sicht...</td>\n",
       "      <td>„Better Regulation“ im Finanzsektor – die Si...</td>\n",
       "      <td>NaN</td>\n",
       "    </tr>\n",
       "  </tbody>\n",
       "</table>\n",
       "</div>"
      ],
      "text/plain": [
       "            date                  speakers  \\\n",
       "1     2021-11-29           Isabel Schnabel   \n",
       "4     2021-11-25           Isabel Schnabel   \n",
       "5     2021-11-24           Isabel Schnabel   \n",
       "14    2021-11-11            Philip R. Lane   \n",
       "17    2021-11-09             Fabio Panetta   \n",
       "31    2021-10-07            Philip R. Lane   \n",
       "41    2021-09-15            Philip R. Lane   \n",
       "44    2021-08-26           Isabel Schnabel   \n",
       "52    2021-06-24           Isabel Schnabel   \n",
       "53    2021-06-22           Isabel Schnabel   \n",
       "54    2021-06-22            Philip R. Lane   \n",
       "63    2021-05-25            Philip R. Lane   \n",
       "66    2021-05-05            Philip R. Lane   \n",
       "70    2021-04-14           Isabel Schnabel   \n",
       "76    2021-03-18                       NaN   \n",
       "85    2021-02-25           Luis de Guindos   \n",
       "88    2021-02-18           Isabel Schnabel   \n",
       "96    2020-12-17           Isabel Schnabel   \n",
       "99    2020-12-15            Philip R. Lane   \n",
       "104   2020-11-24            Philip R. Lane   \n",
       "113   2020-11-05           Isabel Schnabel   \n",
       "120   2020-10-21            Philip R. Lane   \n",
       "124   2020-10-14            Philip R. Lane   \n",
       "129   2020-10-01            Philip R. Lane   \n",
       "148   2020-07-02           Isabel Schnabel   \n",
       "153   2020-06-25           Isabel Schnabel   \n",
       "155   2020-06-22            Philip R. Lane   \n",
       "184   2020-02-05            Philip R. Lane   \n",
       "188   2020-01-09           Isabel Schnabel   \n",
       "189   2020-01-09            Philip R. Lane   \n",
       "208   2019-11-15            Philip R. Lane   \n",
       "220   2019-10-16            Philip R. Lane   \n",
       "237   2019-09-04            Philip R. Lane   \n",
       "249   2019-06-24     Sabine Lautenschläger   \n",
       "288   2019-02-20               Peter Praet   \n",
       "346   2018-09-17               Peter Praet   \n",
       "353   2018-08-28               Peter Praet   \n",
       "364   2018-06-15              Benoît Cœuré   \n",
       "1723  2007-08-29  Gertrude Tumpel-Gugerell   \n",
       "\n",
       "                                                  title  \\\n",
       "1          Inflation im Euroraum: Ursachen und Ausblick   \n",
       "4          Inflation im Euroraum: Ursachen und Ausblick   \n",
       "5                   A new strategy for a changing world   \n",
       "14    Expectations surveys: a tool for research and ...   \n",
       "17    Digital currencies around the world – what are...   \n",
       "31    Data analysis and monetary policy during the p...   \n",
       "41    The ECB's monetary policy strategy review - IM...   \n",
       "44    Die neue geldpolitische Strategie der Europäis...   \n",
       "52    The ECB’s policy response to the COVID-19 pand...   \n",
       "53          Die Geldpolitik der EZB in der Corona-Krise   \n",
       "54                           The resilience of the euro   \n",
       "63                              The ECB strategy review   \n",
       "66    Taking stock: The ECB strategy review and curr...   \n",
       "70          Die Geldpolitik der EZB in der Corona-Krise   \n",
       "76          Die Geldpolitik der EZB in der Corona-Krise   \n",
       "85    Sources of risk and vulnerabilities for financ...   \n",
       "88    The ECB's policy response to the COVID-19 pand...   \n",
       "96                   Climate change and monetary policy   \n",
       "99                           The resilience of the euro   \n",
       "104   IMF Policy dialogue: New policy frameworks for...   \n",
       "113   Unequal scars – distributional consequences of...   \n",
       "120   International flows and the pandemic: evidence...   \n",
       "124                The pandemic and ECB monetary policy   \n",
       "129   The euro area: a laboratory for international ...   \n",
       "148   The ECB’s monetary policy during the coronavir...   \n",
       "153    The ECB's policy response to the COVID-19 crisis   \n",
       "155   Understanding the pandemic emergency purchase ...   \n",
       "184                              The future of the euro   \n",
       "188     Mehr Europa für eine stabile gemeinsame Währung   \n",
       "189   Policy Frameworks and Strategies for an Open E...   \n",
       "208          Europe’s role in a changing global economy   \n",
       "220              The economic outlook for the euro area   \n",
       "237                       The Phillips Curve at the ECB   \n",
       "249   Die EZB, das Geld und die Wirtschaft: Von A wi...   \n",
       "288                      Economic situation and outlook   \n",
       "346              Economic developments in the euro area   \n",
       "353    Monetary and Macroprudential Policy Interactions   \n",
       "364   The euro area economic outlook and completion ...   \n",
       "1723  Better Regulation“ im Finanzsektor - die Sicht...   \n",
       "\n",
       "                                               subtitle contents  \n",
       "1     Presentation by Isabel Schnabel, Member of the...      NaN  \n",
       "4     Presentation by Isabel Schnabel, Member of the...      NaN  \n",
       "5     Presentation by Isabel Schnabel, Member of the...      NaN  \n",
       "14    Introductory remarks by Philip R. Lane, Member...      NaN  \n",
       "17    Presentation by Fabio Panetta, Member of the E...      NaN  \n",
       "31    Presentation by Philip R. Lane, Member of the ...      NaN  \n",
       "41    Presentation by Philip R. Lane, Member of the ...      NaN  \n",
       "44    Vortrag von Isabel Schnabel, Mitglied des Dire...      NaN  \n",
       "52    Guest lecture by Isabel Schnabel, Member of th...      NaN  \n",
       "53    Vortrag von Isabel Schnabel, Mitglied des Dire...      NaN  \n",
       "54    Lecture by Philip R. Lane, Member of the Execu...      NaN  \n",
       "63    Presentation by Philip R. Lane, Member of the ...      NaN  \n",
       "66    Speech by Philip R. Lane, Member of the Execut...      NaN  \n",
       "70    Vortrag von Isabel Schnabel, Mitglied des Dire...      NaN  \n",
       "76    Vortrag von Isabel Schnabel, Mitglied des Dire...      NaN  \n",
       "85    Presentation by Luis de Guindos, Vice-Presiden...      NaN  \n",
       "88    Guest lecture by Isabel Schnabel, Member of th...      NaN  \n",
       "96    Presentation by Isabel Schnabel, Member of the...      NaN  \n",
       "99    Presentation by Philip R. Lane, Member of the ...      NaN  \n",
       "104                                                 NaN      NaN  \n",
       "113   Presentation by Isabel Schnabel, Member of the...      NaN  \n",
       "120   Presentation by Philip R. Lane, Member of the ...      NaN  \n",
       "124   Presentation by Philip R. Lane, Member of the ...      NaN  \n",
       "129   Presentation by Philip R. Lane, Member of the ...      NaN  \n",
       "148   Presentation by Isabel Schnabel, Member of the...      NaN  \n",
       "153   Informal welcome remarks by Isabel Schnabel, M...      NaN  \n",
       "155   Presentation by Philip R. Lane, Member of the ...      NaN  \n",
       "184   Presentation by Philip R. Lane, Member of the ...      NaN  \n",
       "188   Vortrag von Isabel Schnabel, Mitglied des Dire...      NaN  \n",
       "189   Presentation by Philip R. Lane, Member of the ...      NaN  \n",
       "208   Presentation by Philip R. Lane, Member of the ...      NaN  \n",
       "220   Presentation by Philip R. Lane, Member of the ...      NaN  \n",
       "237   Keynote lecture by Philip R. Lane, Member of t...      NaN  \n",
       "249   Presentation by Sabine Lautenschläger, Member ...      NaN  \n",
       "288   Presentation by Peter Praet, Member of the Exe...      NaN  \n",
       "346   Presentation by Peter Praet, Member of the Exe...      NaN  \n",
       "353   Presentation by Peter Praet, Member of the Exe...      NaN  \n",
       "364   Speech by Benoît Cœuré, Member of the Executiv...      NaN  \n",
       "1723    „Better Regulation“ im Finanzsektor – die Si...      NaN  "
      ]
     },
     "execution_count": 4,
     "metadata": {},
     "output_type": "execute_result"
    }
   ],
   "source": [
    "print(df.isna().sum())\n",
    "# on affiche un dataframe avec toutes les lignes contenant au moins un NaN\n",
    "df[df.isna().any(axis=1)] "
   ]
  },
  {
   "cell_type": "markdown",
   "id": "626da6f4-a574-452c-8259-71bd3f25c479",
   "metadata": {},
   "source": [
    "On remarque que pour tous les discours, on a seulement le titre et le speaker mais le contenu est NaN. Il faut donc mettre de côté tous ces discours sans contenu. Ce cas se présente seulement pour 39 discours (soit 1,5% de la base de données)."
   ]
  },
  {
   "cell_type": "code",
   "execution_count": 5,
   "id": "694970ad-da17-4b8a-a594-e9554481b19c",
   "metadata": {},
   "outputs": [],
   "source": [
    "df=df.dropna(axis='index',how='any')\n",
    "df=df.reset_index(drop=True)"
   ]
  },
  {
   "cell_type": "code",
   "execution_count": 6,
   "id": "5d977a5b-4871-4415-a15e-70d847f30144",
   "metadata": {},
   "outputs": [
    {
     "data": {
      "text/html": [
       "<div>\n",
       "<style scoped>\n",
       "    .dataframe tbody tr th:only-of-type {\n",
       "        vertical-align: middle;\n",
       "    }\n",
       "\n",
       "    .dataframe tbody tr th {\n",
       "        vertical-align: top;\n",
       "    }\n",
       "\n",
       "    .dataframe thead th {\n",
       "        text-align: right;\n",
       "    }\n",
       "</style>\n",
       "<table border=\"1\" class=\"dataframe\">\n",
       "  <thead>\n",
       "    <tr style=\"text-align: right;\">\n",
       "      <th></th>\n",
       "      <th>date</th>\n",
       "      <th>speakers</th>\n",
       "      <th>title</th>\n",
       "      <th>subtitle</th>\n",
       "      <th>contents</th>\n",
       "    </tr>\n",
       "  </thead>\n",
       "  <tbody>\n",
       "    <tr>\n",
       "      <th>0</th>\n",
       "      <td>2021-11-29</td>\n",
       "      <td>Christine Lagarde</td>\n",
       "      <td>Dialogue in a changing world</td>\n",
       "      <td>Lectio Magistralis by Christine Lagarde, Presi...</td>\n",
       "      <td>SPEECH  Dialogue in a changing world   Lect...</td>\n",
       "    </tr>\n",
       "    <tr>\n",
       "      <th>1</th>\n",
       "      <td>2021-11-26</td>\n",
       "      <td>Christine Lagarde</td>\n",
       "      <td>Change and continuity in law</td>\n",
       "      <td>Keynote speech by Christine Lagarde, President...</td>\n",
       "      <td>SPEECH  Change and continuity in law   Keyn...</td>\n",
       "    </tr>\n",
       "    <tr>\n",
       "      <th>2</th>\n",
       "      <td>2021-11-25</td>\n",
       "      <td>Frank Elderson</td>\n",
       "      <td>When you need change to preserve continuity: c...</td>\n",
       "      <td>Speech by Frank Elderson, Member of the Execut...</td>\n",
       "      <td>SPEECH  When you need change to preserve co...</td>\n",
       "    </tr>\n",
       "    <tr>\n",
       "      <th>3</th>\n",
       "      <td>2021-11-24</td>\n",
       "      <td>Fabio Panetta</td>\n",
       "      <td>Patient monetary policy amid a rocky recovery</td>\n",
       "      <td>Speech by Fabio Panetta, Member of the Executi...</td>\n",
       "      <td>SPEECH  Patient monetary policy amid a rock...</td>\n",
       "    </tr>\n",
       "    <tr>\n",
       "      <th>4</th>\n",
       "      <td>2021-11-22</td>\n",
       "      <td>Luis de Guindos</td>\n",
       "      <td>Ralph Koijen’s contribution to research on the...</td>\n",
       "      <td>Remarks by Luis de Guindos, Vice-President of ...</td>\n",
       "      <td>SPEECH  Ralph Koijen’s contribution to rese...</td>\n",
       "    </tr>\n",
       "    <tr>\n",
       "      <th>...</th>\n",
       "      <td>...</td>\n",
       "      <td>...</td>\n",
       "      <td>...</td>\n",
       "      <td>...</td>\n",
       "      <td>...</td>\n",
       "    </tr>\n",
       "    <tr>\n",
       "      <th>2505</th>\n",
       "      <td>1997-05-13</td>\n",
       "      <td>Alexandre Lamfalussy</td>\n",
       "      <td>The European Central Bank: independent and acc...</td>\n",
       "      <td>Keynote speech delivered by Alexandre Lamfalus...</td>\n",
       "      <td>The European Central Bank: independent and a...</td>\n",
       "    </tr>\n",
       "    <tr>\n",
       "      <th>2506</th>\n",
       "      <td>1997-04-30</td>\n",
       "      <td>Alexandre Lamfalussy</td>\n",
       "      <td>The operation of monetary policy in stage thre...</td>\n",
       "      <td>Address by Alexandre Lamfalussy, President of ...</td>\n",
       "      <td>The operation of monetary policy in stage th...</td>\n",
       "    </tr>\n",
       "    <tr>\n",
       "      <th>2507</th>\n",
       "      <td>1997-04-22</td>\n",
       "      <td>Alexandre Lamfalussy</td>\n",
       "      <td>Convergence and the role of the European Centr...</td>\n",
       "      <td>Remarks by Alexandre Lamfalussy, President of ...</td>\n",
       "      <td>Convergence and the role of the European Cen...</td>\n",
       "    </tr>\n",
       "    <tr>\n",
       "      <th>2508</th>\n",
       "      <td>1997-03-10</td>\n",
       "      <td>Alexandre Lamfalussy</td>\n",
       "      <td>Securing the benefits of EMU</td>\n",
       "      <td>Address by Alexandre Lamfalussy, President of ...</td>\n",
       "      <td>Securing the benefits of EMU   Address by Al...</td>\n",
       "    </tr>\n",
       "    <tr>\n",
       "      <th>2509</th>\n",
       "      <td>1997-02-07</td>\n",
       "      <td>Alexandre Lamfalussy</td>\n",
       "      <td>Conference organised by the Hungarian Banking ...</td>\n",
       "      <td>Address by Alexandre Lamfalussy, President of ...</td>\n",
       "      <td>Conference organised by the Hungarian Bankin...</td>\n",
       "    </tr>\n",
       "  </tbody>\n",
       "</table>\n",
       "<p>2510 rows × 5 columns</p>\n",
       "</div>"
      ],
      "text/plain": [
       "            date              speakers  \\\n",
       "0     2021-11-29     Christine Lagarde   \n",
       "1     2021-11-26     Christine Lagarde   \n",
       "2     2021-11-25        Frank Elderson   \n",
       "3     2021-11-24         Fabio Panetta   \n",
       "4     2021-11-22       Luis de Guindos   \n",
       "...          ...                   ...   \n",
       "2505  1997-05-13  Alexandre Lamfalussy   \n",
       "2506  1997-04-30  Alexandre Lamfalussy   \n",
       "2507  1997-04-22  Alexandre Lamfalussy   \n",
       "2508  1997-03-10  Alexandre Lamfalussy   \n",
       "2509  1997-02-07  Alexandre Lamfalussy   \n",
       "\n",
       "                                                  title  \\\n",
       "0                          Dialogue in a changing world   \n",
       "1                          Change and continuity in law   \n",
       "2     When you need change to preserve continuity: c...   \n",
       "3         Patient monetary policy amid a rocky recovery   \n",
       "4     Ralph Koijen’s contribution to research on the...   \n",
       "...                                                 ...   \n",
       "2505  The European Central Bank: independent and acc...   \n",
       "2506  The operation of monetary policy in stage thre...   \n",
       "2507  Convergence and the role of the European Centr...   \n",
       "2508                       Securing the benefits of EMU   \n",
       "2509  Conference organised by the Hungarian Banking ...   \n",
       "\n",
       "                                               subtitle  \\\n",
       "0     Lectio Magistralis by Christine Lagarde, Presi...   \n",
       "1     Keynote speech by Christine Lagarde, President...   \n",
       "2     Speech by Frank Elderson, Member of the Execut...   \n",
       "3     Speech by Fabio Panetta, Member of the Executi...   \n",
       "4     Remarks by Luis de Guindos, Vice-President of ...   \n",
       "...                                                 ...   \n",
       "2505  Keynote speech delivered by Alexandre Lamfalus...   \n",
       "2506  Address by Alexandre Lamfalussy, President of ...   \n",
       "2507  Remarks by Alexandre Lamfalussy, President of ...   \n",
       "2508  Address by Alexandre Lamfalussy, President of ...   \n",
       "2509  Address by Alexandre Lamfalussy, President of ...   \n",
       "\n",
       "                                               contents  \n",
       "0        SPEECH  Dialogue in a changing world   Lect...  \n",
       "1        SPEECH  Change and continuity in law   Keyn...  \n",
       "2        SPEECH  When you need change to preserve co...  \n",
       "3        SPEECH  Patient monetary policy amid a rock...  \n",
       "4        SPEECH  Ralph Koijen’s contribution to rese...  \n",
       "...                                                 ...  \n",
       "2505    The European Central Bank: independent and a...  \n",
       "2506    The operation of monetary policy in stage th...  \n",
       "2507    Convergence and the role of the European Cen...  \n",
       "2508    Securing the benefits of EMU   Address by Al...  \n",
       "2509    Conference organised by the Hungarian Bankin...  \n",
       "\n",
       "[2510 rows x 5 columns]"
      ]
     },
     "execution_count": 6,
     "metadata": {},
     "output_type": "execute_result"
    }
   ],
   "source": [
    "df"
   ]
  },
  {
   "cell_type": "markdown",
   "id": "a0357f3f-d5e9-4736-ac26-dc4c8b56c873",
   "metadata": {},
   "source": [
    "#### En explorant le dataset, on se rend compte que certains contenus de discours sont vides (empty string mais pas NaN).\n",
    "#### Il faut donc retirer ces lignes du dataframe."
   ]
  },
  {
   "cell_type": "code",
   "execution_count": 7,
   "id": "0557bad4-6d54-400d-9201-26f3deaeaf87",
   "metadata": {},
   "outputs": [
    {
     "data": {
      "text/plain": [
       "[2009]"
      ]
     },
     "execution_count": 7,
     "metadata": {},
     "output_type": "execute_result"
    }
   ],
   "source": [
    "L=[]\n",
    "for i in range(len(df)):\n",
    "    if not bool(df[\"contents\"][i].strip()): #si le contenu du discours est vide\n",
    "        L.append(i)\n",
    "L # ne concerne qu'une ligne"
   ]
  },
  {
   "cell_type": "code",
   "execution_count": 8,
   "id": "fab91025-86d6-4cf9-945d-2109daeea62e",
   "metadata": {},
   "outputs": [
    {
     "data": {
      "text/html": [
       "<div>\n",
       "<style scoped>\n",
       "    .dataframe tbody tr th:only-of-type {\n",
       "        vertical-align: middle;\n",
       "    }\n",
       "\n",
       "    .dataframe tbody tr th {\n",
       "        vertical-align: top;\n",
       "    }\n",
       "\n",
       "    .dataframe thead th {\n",
       "        text-align: right;\n",
       "    }\n",
       "</style>\n",
       "<table border=\"1\" class=\"dataframe\">\n",
       "  <thead>\n",
       "    <tr style=\"text-align: right;\">\n",
       "      <th></th>\n",
       "      <th>date</th>\n",
       "      <th>speakers</th>\n",
       "      <th>title</th>\n",
       "      <th>subtitle</th>\n",
       "      <th>contents</th>\n",
       "    </tr>\n",
       "  </thead>\n",
       "  <tbody>\n",
       "    <tr>\n",
       "      <th>0</th>\n",
       "      <td>2021-11-29</td>\n",
       "      <td>Christine Lagarde</td>\n",
       "      <td>Dialogue in a changing world</td>\n",
       "      <td>Lectio Magistralis by Christine Lagarde, Presi...</td>\n",
       "      <td>SPEECH  Dialogue in a changing world   Lect...</td>\n",
       "    </tr>\n",
       "    <tr>\n",
       "      <th>1</th>\n",
       "      <td>2021-11-26</td>\n",
       "      <td>Christine Lagarde</td>\n",
       "      <td>Change and continuity in law</td>\n",
       "      <td>Keynote speech by Christine Lagarde, President...</td>\n",
       "      <td>SPEECH  Change and continuity in law   Keyn...</td>\n",
       "    </tr>\n",
       "    <tr>\n",
       "      <th>2</th>\n",
       "      <td>2021-11-25</td>\n",
       "      <td>Frank Elderson</td>\n",
       "      <td>When you need change to preserve continuity: c...</td>\n",
       "      <td>Speech by Frank Elderson, Member of the Execut...</td>\n",
       "      <td>SPEECH  When you need change to preserve co...</td>\n",
       "    </tr>\n",
       "    <tr>\n",
       "      <th>3</th>\n",
       "      <td>2021-11-24</td>\n",
       "      <td>Fabio Panetta</td>\n",
       "      <td>Patient monetary policy amid a rocky recovery</td>\n",
       "      <td>Speech by Fabio Panetta, Member of the Executi...</td>\n",
       "      <td>SPEECH  Patient monetary policy amid a rock...</td>\n",
       "    </tr>\n",
       "    <tr>\n",
       "      <th>4</th>\n",
       "      <td>2021-11-22</td>\n",
       "      <td>Luis de Guindos</td>\n",
       "      <td>Ralph Koijen’s contribution to research on the...</td>\n",
       "      <td>Remarks by Luis de Guindos, Vice-President of ...</td>\n",
       "      <td>SPEECH  Ralph Koijen’s contribution to rese...</td>\n",
       "    </tr>\n",
       "    <tr>\n",
       "      <th>...</th>\n",
       "      <td>...</td>\n",
       "      <td>...</td>\n",
       "      <td>...</td>\n",
       "      <td>...</td>\n",
       "      <td>...</td>\n",
       "    </tr>\n",
       "    <tr>\n",
       "      <th>2504</th>\n",
       "      <td>1997-05-13</td>\n",
       "      <td>Alexandre Lamfalussy</td>\n",
       "      <td>The European Central Bank: independent and acc...</td>\n",
       "      <td>Keynote speech delivered by Alexandre Lamfalus...</td>\n",
       "      <td>The European Central Bank: independent and a...</td>\n",
       "    </tr>\n",
       "    <tr>\n",
       "      <th>2505</th>\n",
       "      <td>1997-04-30</td>\n",
       "      <td>Alexandre Lamfalussy</td>\n",
       "      <td>The operation of monetary policy in stage thre...</td>\n",
       "      <td>Address by Alexandre Lamfalussy, President of ...</td>\n",
       "      <td>The operation of monetary policy in stage th...</td>\n",
       "    </tr>\n",
       "    <tr>\n",
       "      <th>2506</th>\n",
       "      <td>1997-04-22</td>\n",
       "      <td>Alexandre Lamfalussy</td>\n",
       "      <td>Convergence and the role of the European Centr...</td>\n",
       "      <td>Remarks by Alexandre Lamfalussy, President of ...</td>\n",
       "      <td>Convergence and the role of the European Cen...</td>\n",
       "    </tr>\n",
       "    <tr>\n",
       "      <th>2507</th>\n",
       "      <td>1997-03-10</td>\n",
       "      <td>Alexandre Lamfalussy</td>\n",
       "      <td>Securing the benefits of EMU</td>\n",
       "      <td>Address by Alexandre Lamfalussy, President of ...</td>\n",
       "      <td>Securing the benefits of EMU   Address by Al...</td>\n",
       "    </tr>\n",
       "    <tr>\n",
       "      <th>2508</th>\n",
       "      <td>1997-02-07</td>\n",
       "      <td>Alexandre Lamfalussy</td>\n",
       "      <td>Conference organised by the Hungarian Banking ...</td>\n",
       "      <td>Address by Alexandre Lamfalussy, President of ...</td>\n",
       "      <td>Conference organised by the Hungarian Bankin...</td>\n",
       "    </tr>\n",
       "  </tbody>\n",
       "</table>\n",
       "<p>2509 rows × 5 columns</p>\n",
       "</div>"
      ],
      "text/plain": [
       "            date              speakers  \\\n",
       "0     2021-11-29     Christine Lagarde   \n",
       "1     2021-11-26     Christine Lagarde   \n",
       "2     2021-11-25        Frank Elderson   \n",
       "3     2021-11-24         Fabio Panetta   \n",
       "4     2021-11-22       Luis de Guindos   \n",
       "...          ...                   ...   \n",
       "2504  1997-05-13  Alexandre Lamfalussy   \n",
       "2505  1997-04-30  Alexandre Lamfalussy   \n",
       "2506  1997-04-22  Alexandre Lamfalussy   \n",
       "2507  1997-03-10  Alexandre Lamfalussy   \n",
       "2508  1997-02-07  Alexandre Lamfalussy   \n",
       "\n",
       "                                                  title  \\\n",
       "0                          Dialogue in a changing world   \n",
       "1                          Change and continuity in law   \n",
       "2     When you need change to preserve continuity: c...   \n",
       "3         Patient monetary policy amid a rocky recovery   \n",
       "4     Ralph Koijen’s contribution to research on the...   \n",
       "...                                                 ...   \n",
       "2504  The European Central Bank: independent and acc...   \n",
       "2505  The operation of monetary policy in stage thre...   \n",
       "2506  Convergence and the role of the European Centr...   \n",
       "2507                       Securing the benefits of EMU   \n",
       "2508  Conference organised by the Hungarian Banking ...   \n",
       "\n",
       "                                               subtitle  \\\n",
       "0     Lectio Magistralis by Christine Lagarde, Presi...   \n",
       "1     Keynote speech by Christine Lagarde, President...   \n",
       "2     Speech by Frank Elderson, Member of the Execut...   \n",
       "3     Speech by Fabio Panetta, Member of the Executi...   \n",
       "4     Remarks by Luis de Guindos, Vice-President of ...   \n",
       "...                                                 ...   \n",
       "2504  Keynote speech delivered by Alexandre Lamfalus...   \n",
       "2505  Address by Alexandre Lamfalussy, President of ...   \n",
       "2506  Remarks by Alexandre Lamfalussy, President of ...   \n",
       "2507  Address by Alexandre Lamfalussy, President of ...   \n",
       "2508  Address by Alexandre Lamfalussy, President of ...   \n",
       "\n",
       "                                               contents  \n",
       "0        SPEECH  Dialogue in a changing world   Lect...  \n",
       "1        SPEECH  Change and continuity in law   Keyn...  \n",
       "2        SPEECH  When you need change to preserve co...  \n",
       "3        SPEECH  Patient monetary policy amid a rock...  \n",
       "4        SPEECH  Ralph Koijen’s contribution to rese...  \n",
       "...                                                 ...  \n",
       "2504    The European Central Bank: independent and a...  \n",
       "2505    The operation of monetary policy in stage th...  \n",
       "2506    Convergence and the role of the European Cen...  \n",
       "2507    Securing the benefits of EMU   Address by Al...  \n",
       "2508    Conference organised by the Hungarian Bankin...  \n",
       "\n",
       "[2509 rows x 5 columns]"
      ]
     },
     "execution_count": 8,
     "metadata": {},
     "output_type": "execute_result"
    }
   ],
   "source": [
    "df=df.drop(L).reset_index(drop=True)\n",
    "df"
   ]
  },
  {
   "cell_type": "markdown",
   "id": "77c33c00-b911-4ef1-9463-90adee5c9a05",
   "metadata": {},
   "source": [
    "### On se rend compte que certains discours ne sont pas en anglais.\n",
    "#### Il faut donc les retirer pour notre analyse.\n",
    "#### C'est ici qu'apparaît le problème de la détection de langue."
   ]
  },
  {
   "cell_type": "markdown",
   "id": "38fb5995-93fb-4373-b161-e6a4655935bc",
   "metadata": {},
   "source": [
    "Avant d'utiliser des méthodes déjà existantes de détection de langue, on observe la longueur des \"échantillons\" de texte à analyser (titres et contenus)."
   ]
  },
  {
   "cell_type": "code",
   "execution_count": 9,
   "id": "c4ac9685-4804-4b22-8a06-116870841d78",
   "metadata": {},
   "outputs": [
    {
     "name": "stdout",
     "output_type": "stream",
     "text": [
      "Nombre moyen de caractères dans les discours :  19632.969310482265\n",
      "Minimum de caractères dans les discours :  249\n",
      "Maximum de caractères dans les discours :  113165\n"
     ]
    },
    {
     "data": {
      "text/plain": [
       "<AxesSubplot:title={'center':'Nombre de caractères dans les discours'}>"
      ]
     },
     "execution_count": 9,
     "metadata": {},
     "output_type": "execute_result"
    },
    {
     "data": {
      "image/png": "[encoded data removed]",
      "text/plain": [
       "<Figure size 432x288 with 1 Axes>"
      ]
     },
     "metadata": {
      "needs_background": "light"
     },
     "output_type": "display_data"
    }
   ],
   "source": [
    "# Test sur la longueur du contenu des discours\n",
    "print(\"Nombre moyen de caractères dans les discours : \",df.contents.str.len().mean())\n",
    "print(\"Minimum de caractères dans les discours : \", df.contents.str.len().min())\n",
    "print(\"Maximum de caractères dans les discours : \", df.contents.str.len().max())\n",
    "df.contents.str.len().plot(title=\"Nombre de caractères dans les discours\")"
   ]
  },
  {
   "cell_type": "code",
   "execution_count": 10,
   "id": "930a4fdc-7e18-4623-a9da-3d2ce124c4f5",
   "metadata": {},
   "outputs": [
    {
     "name": "stdout",
     "output_type": "stream",
     "text": [
      "Nombre moyen de caractères dans les titres :  60.748903945795135\n",
      "Minimum de caractères dans les titres :  5\n",
      "Maximum de caractères dans les titres :  231\n"
     ]
    },
    {
     "data": {
      "text/plain": [
       "<AxesSubplot:title={'center':'Nombre de caractères dans les titres'}>"
      ]
     },
     "execution_count": 10,
     "metadata": {},
     "output_type": "execute_result"
    },
    {
     "data": {
      "image/png": "[encoded data removed]",
      "text/plain": [
       "<Figure size 432x288 with 1 Axes>"
      ]
     },
     "metadata": {
      "needs_background": "light"
     },
     "output_type": "display_data"
    }
   ],
   "source": [
    "#Test sur la longueur des titres\n",
    "print(\"Nombre moyen de caractères dans les titres : \",df.title.str.len().mean())\n",
    "print(\"Minimum de caractères dans les titres : \", df.title.str.len().min())\n",
    "print(\"Maximum de caractères dans les titres : \", df.title.str.len().max())\n",
    "df.title.str.len().plot(title=\"Nombre de caractères dans les titres\")"
   ]
  },
  {
   "cell_type": "markdown",
   "id": "224bcb50-28bb-4682-abf0-c48dd130b9c3",
   "metadata": {},
   "source": [
    "## Modèle de détection (spacy)"
   ]
  },
  {
   "cell_type": "code",
   "execution_count": 11,
   "id": "15e508fd-df0f-4dd7-95ee-64a78e789675",
   "metadata": {},
   "outputs": [
    {
     "name": "stdout",
     "output_type": "stream",
     "text": [
      "{'language': 'en', 'score': 0.9999964506659416}\n"
     ]
    }
   ],
   "source": [
    "\n",
    "def get_lang_detector(nlp, name):\n",
    "    return LanguageDetector()\n",
    "\n",
    "nlp = spacy.load('en_core_web_lg')\n",
    "# la ligne suivante doit être mise en commentaire si ce n'est pas la première fois qu'on exécute le notebook\n",
    "Language.factory(\"language_detector\", func=get_lang_detector)\n",
    "nlp.add_pipe('language_detector', last=True)\n",
    "text = 'This is an english text.'\n",
    "doc = nlp(text)\n",
    "print(doc._.language)\n"
   ]
  },
  {
   "cell_type": "code",
   "execution_count": 12,
   "id": "424e327c-76ea-46b0-88f2-26145196e967",
   "metadata": {},
   "outputs": [
    {
     "data": {
      "text/plain": [
       "'en'"
      ]
     },
     "execution_count": 12,
     "metadata": {},
     "output_type": "execute_result"
    }
   ],
   "source": [
    "doc._.language[\"language\"]"
   ]
  },
  {
   "cell_type": "markdown",
   "id": "3ff80fde-d758-46e3-a212-2cb6273276dc",
   "metadata": {},
   "source": [
    "### Avec les titres "
   ]
  },
  {
   "cell_type": "code",
   "execution_count": 13,
   "id": "f41622bf-7ec8-4d65-abb2-2170477d2d0a",
   "metadata": {},
   "outputs": [
    {
     "name": "stdout",
     "output_type": "stream",
     "text": [
      "Proportion de discours en anglais :  0.9011558389796732\n",
      "Temps pris par cette méthode : 27.53655481338501\n"
     ]
    },
    {
     "data": {
      "text/plain": [
       "'\\nProportion de discours en anglais :  0.8999601434834595\\nTemps pris par cette méthode : 25.839558839797974\\n'"
      ]
     },
     "execution_count": 13,
     "metadata": {},
     "output_type": "execute_result"
    }
   ],
   "source": [
    "start = time.time()\n",
    "EN=0\n",
    "OTHERS=0\n",
    "L=[]\n",
    "I0=[]\n",
    "s=''\n",
    "n=len(df)\n",
    "#random.sample(range(n),500)\n",
    "for i in range(n):\n",
    "    #print(i)\n",
    "    s=df[\"title\"][i]\n",
    "    doc = nlp(s)\n",
    "    if doc._.language[\"language\"]=='en':\n",
    "        EN+=1\n",
    "    else:\n",
    "        OTHERS+=1\n",
    "        L.append(s)\n",
    "        I0.append(i)\n",
    "print(\"Proportion de discours en anglais : \", EN/n)\n",
    "end = time.time()\n",
    "print(\"Temps pris par cette méthode :\", end - start)\n",
    "\n",
    "\"\"\"\n",
    "Proportion de discours en anglais :  0.8999601434834595\n",
    "Temps pris par cette méthode : 25.839558839797974\n",
    "\"\"\""
   ]
  },
  {
   "cell_type": "markdown",
   "id": "42bd8de2-27a1-42ed-a125-82da84bffbdf",
   "metadata": {},
   "source": [
    "### Avec les 1000 premiers caractères du discours"
   ]
  },
  {
   "cell_type": "code",
   "execution_count": 14,
   "id": "3c982b6b-a86a-4158-9711-69ef8301601b",
   "metadata": {},
   "outputs": [
    {
     "name": "stdout",
     "output_type": "stream",
     "text": [
      "Proportion de discours en anglais :  0.917895575926664\n",
      "Temps pris par cette méthode : 82.31854248046875\n"
     ]
    },
    {
     "data": {
      "text/plain": [
       "'Proportion de discours en anglais :  0.9182941410920685\\nTemps pris par cette méthode : 80.60761404037476'"
      ]
     },
     "execution_count": 14,
     "metadata": {},
     "output_type": "execute_result"
    }
   ],
   "source": [
    "start = time.time()\n",
    "EN=0\n",
    "OTHERS=0\n",
    "L=[]\n",
    "I1=[]\n",
    "s=''\n",
    "n=len(df)\n",
    "#random.sample(range(n),500)\n",
    "for i in range(n):\n",
    "    #print(i)\n",
    "    s=df[\"contents\"][i][:1000]\n",
    "    doc = nlp(s)\n",
    "    if doc._.language[\"language\"]=='en':\n",
    "        EN+=1\n",
    "    else:\n",
    "        OTHERS+=1\n",
    "        L.append(s)\n",
    "        I1.append(i)\n",
    "print(\"Proportion de discours en anglais : \", EN/n)\n",
    "end = time.time()\n",
    "print(\"Temps pris par cette méthode :\", end - start)\n",
    "\n",
    "\"\"\"Proportion de discours en anglais :  0.9182941410920685\n",
    "Temps pris par cette méthode : 80.60761404037476\"\"\""
   ]
  },
  {
   "cell_type": "markdown",
   "id": "12560d4b-98c9-4a78-ba21-be356ad1ec16",
   "metadata": {},
   "source": [
    "### Avec le début du discours privé de la répétition du titre"
   ]
  },
  {
   "cell_type": "code",
   "execution_count": 15,
   "id": "85ea2cb9-dd01-460e-8dfe-e5a7c0463d70",
   "metadata": {},
   "outputs": [
    {
     "name": "stdout",
     "output_type": "stream",
     "text": [
      "Proportion de discours en anglais :  0.9298525308888003\n",
      "Temps pris par cette méthode : 134.1792392730713\n"
     ]
    },
    {
     "data": {
      "text/plain": [
       "'Proportion de discours en anglais :  0.9286568353925867\\nTemps pris par cette méthode : 129.33490419387817'"
      ]
     },
     "execution_count": 15,
     "metadata": {},
     "output_type": "execute_result"
    }
   ],
   "source": [
    "start = time.time()\n",
    "EN=0\n",
    "OTHERS=0\n",
    "L=[]\n",
    "I2=[]\n",
    "s=''\n",
    "n=len(df)\n",
    "#random.sample(range(n),500)\n",
    "for i in range(n):\n",
    "    #print(i)\n",
    "    s=df[\"contents\"][i][200:2000]\n",
    "    doc = nlp(s)\n",
    "    if doc._.language[\"language\"]=='en':\n",
    "        EN+=1\n",
    "    else:\n",
    "        OTHERS+=1\n",
    "        L.append(s)\n",
    "        I2.append(i)\n",
    "print(\"Proportion de discours en anglais : \", EN/n)\n",
    "end = time.time()\n",
    "print(\"Temps pris par cette méthode :\", end - start)\n",
    "\n",
    "\"\"\"Proportion de discours en anglais :  0.9286568353925867\n",
    "Temps pris par cette méthode : 129.33490419387817\"\"\""
   ]
  },
  {
   "cell_type": "markdown",
   "id": "bc5b1d4e-b99e-4c31-ba54-6013a41a099d",
   "metadata": {},
   "source": [
    "### Avec les 2000 premiers caractères"
   ]
  },
  {
   "cell_type": "code",
   "execution_count": 16,
   "id": "1e12dfd3-6a5a-4a39-a179-e1b44c20322a",
   "metadata": {},
   "outputs": [
    {
     "name": "stdout",
     "output_type": "stream",
     "text": [
      "Proportion de discours en anglais :  0.9290554005579912\n",
      "Temps pris par cette méthode : 143.97742128372192\n"
     ]
    },
    {
     "data": {
      "text/plain": [
       "'Proportion de discours en anglais :  0.9290554005579912\\nTemps pris par cette méthode : 143.3227822780609'"
      ]
     },
     "execution_count": 16,
     "metadata": {},
     "output_type": "execute_result"
    }
   ],
   "source": [
    "start = time.time()\n",
    "EN=0\n",
    "OTHERS=0\n",
    "L=[]\n",
    "I3=[]\n",
    "s=''\n",
    "n=len(df)\n",
    "#random.sample(range(n),500)\n",
    "for i in range(n):\n",
    "    #print(i)\n",
    "    s=df[\"contents\"][i][:2000]\n",
    "    doc = nlp(s)\n",
    "    if doc._.language[\"language\"]=='en':\n",
    "        EN+=1\n",
    "    else:\n",
    "        OTHERS+=1\n",
    "        L.append(s)\n",
    "        I3.append(i)\n",
    "print(\"Proportion de discours en anglais : \", EN/n)\n",
    "end = time.time()\n",
    "print(\"Temps pris par cette méthode :\", end - start)\n",
    "\n",
    "\"\"\"Proportion de discours en anglais :  0.9290554005579912\n",
    "Temps pris par cette méthode : 143.3227822780609\"\"\""
   ]
  },
  {
   "cell_type": "markdown",
   "id": "6c188cae-27ad-4918-84a6-7ac18436eeb0",
   "metadata": {},
   "source": [
    "## Modèle de détection langdetect"
   ]
  },
  {
   "cell_type": "code",
   "execution_count": 17,
   "id": "cf63c1a5-d052-4fe9-b777-0e3027dadb3a",
   "metadata": {},
   "outputs": [],
   "source": [
    "#!pip install langdetect\n",
    "from langdetect import detect"
   ]
  },
  {
   "cell_type": "code",
   "execution_count": 18,
   "id": "d0fdf9be-cd9c-4fd9-bd6c-03555a7e5b35",
   "metadata": {},
   "outputs": [],
   "source": [
    "# Extrait de la documentation https://pypi.org/project/langdetect/#description\n",
    "# langdetect Language detection algorithm is non-deterministic,\n",
    "# which means that if you try to run it on a text which is either too short or too ambiguous,\n",
    "# you might get different results everytime you run it.\n",
    "# To enforce consistent results, call following code before the first language detection:\n",
    "\n",
    "from langdetect import DetectorFactory\n",
    "DetectorFactory.seed = 0"
   ]
  },
  {
   "cell_type": "markdown",
   "id": "9aae98ec-3569-484b-8c92-c1a4c8db89af",
   "metadata": {},
   "source": [
    "### Avec les titres "
   ]
  },
  {
   "cell_type": "code",
   "execution_count": 19,
   "id": "0a6c18d0-7118-4e1e-b409-efc623caeaea",
   "metadata": {},
   "outputs": [
    {
     "name": "stdout",
     "output_type": "stream",
     "text": [
      "Proportion de discours en anglais :  0.8983658828218414\n",
      "13.746001482009888\n"
     ]
    },
    {
     "data": {
      "text/plain": [
       "'Proportion de discours en anglais :  0.9035472299721005\\nTemps pris par cette méthode : 12.753894805908203'"
      ]
     },
     "execution_count": 19,
     "metadata": {},
     "output_type": "execute_result"
    }
   ],
   "source": [
    "start = time.time()\n",
    "EN=0\n",
    "OTHERS=0\n",
    "L=[]\n",
    "J0=[]\n",
    "s=''\n",
    "n=len(df)\n",
    "#random.sample(range(n),500)\n",
    "for i in range(n):\n",
    "    #print(i)\n",
    "    s=detect(df[\"title\"][i])\n",
    "    if s=='en':\n",
    "        EN+=1\n",
    "    else:\n",
    "        OTHERS+=1\n",
    "        L.append(s)\n",
    "        J0.append(i)\n",
    "print(\"Proportion de discours en anglais : \", EN/n)\n",
    "end = time.time()\n",
    "print(end - start) \n",
    "\n",
    "# Quelques centaines de discours dans d'autres langues (français, allemand, espagnol, italien, néerlandais,...)\n",
    "# Cependant on constate qu'il reste des discours en français et en allemand non mis de coté\n",
    "# Certains discours en anglais sont mis de côté de manière injustifiée\n",
    "\n",
    "\"\"\"Proportion de discours en anglais :  0.9035472299721005\n",
    "Temps pris par cette méthode : 12.753894805908203\"\"\""
   ]
  },
  {
   "cell_type": "markdown",
   "id": "044d5422-984b-4ff1-b4cf-1e7041e08fd2",
   "metadata": {},
   "source": [
    "### Avec les 1000 premiers caractères"
   ]
  },
  {
   "cell_type": "code",
   "execution_count": 20,
   "id": "4c17c1ac-b018-49f0-9471-3179bed4d484",
   "metadata": {},
   "outputs": [
    {
     "name": "stdout",
     "output_type": "stream",
     "text": [
      "Proportion de discours en anglais :  0.9182941410920685\n",
      "Temps pris par cette méthode : 16.02874183654785\n"
     ]
    },
    {
     "data": {
      "text/plain": [
       "'\\nProportion de discours en anglais :  0.917098445595855\\nTemps pris par cette méthode : 13.944712400436401\\n'"
      ]
     },
     "execution_count": 20,
     "metadata": {},
     "output_type": "execute_result"
    }
   ],
   "source": [
    "start = time.time()\n",
    "EN_1=0\n",
    "OTHERS_1=0\n",
    "M=[]\n",
    "J1=[]\n",
    "s=''\n",
    "n=len(df)\n",
    "#random.sample(range(n),500)\n",
    "for i in range(n):\n",
    "    #print(i)\n",
    "    s=detect(df[\"contents\"][i][:1000])\n",
    "    if s=='en':\n",
    "        EN_1+=1\n",
    "    else:\n",
    "        OTHERS_1+=1\n",
    "        M.append(s)\n",
    "        J1.append(i)\n",
    "print(\"Proportion de discours en anglais : \", EN_1/n)\n",
    "end = time.time()\n",
    "print(\"Temps pris par cette méthode :\", end - start) \n",
    "\n",
    "\"\"\"\n",
    "Proportion de discours en anglais :  0.917098445595855\n",
    "Temps pris par cette méthode : 13.944712400436401\n",
    "\"\"\""
   ]
  },
  {
   "cell_type": "markdown",
   "id": "4530ddad-58a4-4b47-9fa5-c544577029a0",
   "metadata": {},
   "source": [
    "### Avec les 2000 premiers caractères mais sans les 200 premiers"
   ]
  },
  {
   "cell_type": "code",
   "execution_count": 21,
   "id": "737c13d9-ffdf-4f7d-ab25-c4f45651ccde",
   "metadata": {},
   "outputs": [
    {
     "name": "stdout",
     "output_type": "stream",
     "text": [
      "Proportion de discours en anglais :  0.9286568353925867\n",
      "Temps pris par cette méthode : 21.024661779403687\n"
     ]
    },
    {
     "data": {
      "text/plain": [
       "'\\nProportion de discours en anglais :  0.9278597050617776\\nTemps pris par cette méthode : 20.057332754135132\\n'"
      ]
     },
     "execution_count": 21,
     "metadata": {},
     "output_type": "execute_result"
    }
   ],
   "source": [
    "start = time.time()\n",
    "EN_1=0\n",
    "OTHERS_1=0\n",
    "M=[]\n",
    "J2=[]\n",
    "s=''\n",
    "n=len(df)\n",
    "#random.sample(range(n),500)\n",
    "for i in range(n):\n",
    "    #print(i)\n",
    "    s=detect(df[\"contents\"][i][200:2000])\n",
    "    if s=='en':\n",
    "        EN_1+=1\n",
    "    else:\n",
    "        OTHERS_1+=1\n",
    "        M.append(s)\n",
    "        J2.append(i)\n",
    "print(\"Proportion de discours en anglais : \", EN_1/n)\n",
    "end = time.time()\n",
    "print(\"Temps pris par cette méthode :\", end - start) \n",
    "\n",
    "\"\"\"\n",
    "Proportion de discours en anglais :  0.9278597050617776\n",
    "Temps pris par cette méthode : 20.057332754135132\n",
    "\"\"\""
   ]
  },
  {
   "cell_type": "markdown",
   "id": "9913a2d1-604a-411b-ada1-29083a87f373",
   "metadata": {},
   "source": [
    "### Avec les 2000 premiers caractères"
   ]
  },
  {
   "cell_type": "code",
   "execution_count": 22,
   "id": "100fc796-eb08-494a-a7db-c381bb501aad",
   "metadata": {},
   "outputs": [
    {
     "name": "stdout",
     "output_type": "stream",
     "text": [
      "Proportion de discours en anglais :  0.9286568353925867\n",
      "Temps pris par cette méthode : 22.256977319717407\n"
     ]
    },
    {
     "data": {
      "text/plain": [
       "'\\nProportion de discours en anglais :  0.9294539657233958\\nTemps pris par cette méthode : 19.53878378868103\\n'"
      ]
     },
     "execution_count": 22,
     "metadata": {},
     "output_type": "execute_result"
    }
   ],
   "source": [
    "start = time.time()\n",
    "EN_1=0\n",
    "OTHERS_1=0\n",
    "M=[]\n",
    "J3=[]\n",
    "s=''\n",
    "n=len(df)\n",
    "#random.sample(range(n),500)\n",
    "for i in range(n):\n",
    "    #print(i)\n",
    "    s=detect(df[\"contents\"][i][:2000])\n",
    "    if s=='en':\n",
    "        EN_1+=1\n",
    "    else:\n",
    "        OTHERS_1+=1\n",
    "        M.append(s)\n",
    "        J3.append(i)\n",
    "print(\"Proportion de discours en anglais : \", EN_1/n)\n",
    "end = time.time()\n",
    "print(\"Temps pris par cette méthode :\", end - start) \n",
    "\n",
    "\"\"\"\n",
    "Proportion de discours en anglais :  0.9294539657233958\n",
    "Temps pris par cette méthode : 19.53878378868103\n",
    "\"\"\""
   ]
  },
  {
   "cell_type": "markdown",
   "id": "8f30e558-2a35-4f07-944d-af03c5acc36d",
   "metadata": {},
   "source": [
    "### Avec les 5000 premiers caractères"
   ]
  },
  {
   "cell_type": "code",
   "execution_count": null,
   "id": "c751a514-93ed-402a-b76a-d79bf77515c9",
   "metadata": {},
   "outputs": [],
   "source": [
    "start = time.time()\n",
    "EN_1=0\n",
    "OTHERS_1=0\n",
    "M=[]\n",
    "J4=[]\n",
    "s=''\n",
    "n=len(df)\n",
    "#random.sample(range(n),500)\n",
    "for i in range(n):\n",
    "    #print(i)\n",
    "    s=detect(df[\"contents\"][i][:5000])\n",
    "    if s=='en':\n",
    "        EN_1+=1\n",
    "    else:\n",
    "        OTHERS_1+=1\n",
    "        M.append(s)\n",
    "        J4.append(i)\n",
    "print(\"Proportion de discours en anglais : \", EN_1/n)\n",
    "end = time.time()\n",
    "print(\"Temps pris par cette méthode :\", end - start) \n",
    "\n",
    "\"\"\"\n",
    "Proportion de discours en anglais :  0.936229573535273\n",
    "Temps pris par cette méthode : 37.724875688552856\n",
    "\"\"\""
   ]
  },
  {
   "cell_type": "markdown",
   "id": "1ecbf26e-fb7b-4888-9f9f-ddb6cd9ae96d",
   "metadata": {},
   "source": [
    "## Comparaison des méthodes"
   ]
  },
  {
   "cell_type": "code",
   "execution_count": null,
   "id": "d555e009-7e0c-4eaf-8bbd-9802dacab3a4",
   "metadata": {},
   "outputs": [],
   "source": [
    "liste=[I0,I1,I2,I3,J0,J1,J2,J3,J4]\n",
    "for L in liste:\n",
    "    print(len(L))"
   ]
  },
  {
   "cell_type": "code",
   "execution_count": null,
   "id": "0d7588ca-1149-41d0-acdd-ac7fb09a7774",
   "metadata": {},
   "outputs": [],
   "source": [
    "#Comparaison des deux méthodes analysant uniquement les titres \n",
    "print([value for value in J0 if value not in I0]) #vérification à la main : titre \"trompeur\" mais contenu en anglais (sauf 1)\n",
    "print([value for value in I0 if value not in J0]) #vérification à la main : contenu en anglais\n",
    "# Les deux méthodes de détection via les titres semblent semblables mais assez peu efficaces "
   ]
  },
  {
   "cell_type": "markdown",
   "id": "b1b31fb7-6773-40f9-8a53-33822d6cae03",
   "metadata": {},
   "source": [
    "On peut observer un problème avec les discours de Jean-Claude Trichet, président de l'ECB de 2003 à 2011, qui commence (et parfois termine) toutes ses interventions en français, parfois en allemand, alors que tous les discours sont en anglais."
   ]
  },
  {
   "cell_type": "code",
   "execution_count": null,
   "id": "bc37fccc-2287-4c3a-94bd-89771b4104f2",
   "metadata": {},
   "outputs": [],
   "source": [
    "# Comparaison des résultats des méthodes analysant les 2000 premiers caractères privés des titres\n",
    "print([value for value in J2 if value not in I2])\n",
    "print([value for value in I2 if value not in J2])\n",
    "# Tous ce discours contiennent des phrases en allemand et/ou en français."
   ]
  },
  {
   "cell_type": "code",
   "execution_count": null,
   "id": "303203ce-adc6-40d8-a3e0-ea56c4d1e67e",
   "metadata": {},
   "outputs": [],
   "source": [
    "#En prenant en compte ou non les débuts de discours\n",
    "print([value for value in I2 if value not in I3]) # toujours le problème avec les discours de Jean Claude Trichet \n",
    "print([value for value in I3 if value not in I2]) #discours très court en allemand 1758\n"
   ]
  },
  {
   "cell_type": "code",
   "execution_count": null,
   "id": "3adf370d-5d9c-4c43-af81-1fb5f6d34f32",
   "metadata": {},
   "outputs": [],
   "source": [
    "print([value for value in J2 if value not in J3]) \n",
    "print([value for value in J3 if value not in J2]) "
   ]
  },
  {
   "cell_type": "code",
   "execution_count": null,
   "id": "b88619db-2ab8-4697-bfbc-afd1b14bce21",
   "metadata": {},
   "outputs": [],
   "source": [
    "print([value for value in I3 if value not in J3]) \n",
    "print([value for value in J3 if value not in I3]) "
   ]
  },
  {
   "cell_type": "code",
   "execution_count": null,
   "id": "db1b265d-0787-42ac-b671-1268e3235fc4",
   "metadata": {},
   "outputs": [],
   "source": [
    "for i in [value for value in I3 if value not in J3]:\n",
    "    print(df[\"speakers\"][i],\" - \",df[\"title\"][i])"
   ]
  },
  {
   "cell_type": "code",
   "execution_count": null,
   "id": "6335c9ed-f6e6-4f66-acad-e1e357e36b26",
   "metadata": {},
   "outputs": [],
   "source": [
    "for i in [value for value in J3 if value not in J4]:\n",
    "    print(df[\"speakers\"][i],\" - \",df[\"title\"][i])"
   ]
  },
  {
   "cell_type": "code",
   "execution_count": null,
   "id": "9f6dbc82-1383-4853-ab58-7f5c4babac22",
   "metadata": {},
   "outputs": [],
   "source": [
    "#Comparaison qui semble la plus intéressante entre les deux méthodes\n",
    "print([value for value in I3 if value not in J2]) \n",
    "print([value for value in J2 if value not in I3]) "
   ]
  },
  {
   "cell_type": "code",
   "execution_count": null,
   "id": "a99d29b4-e60b-4c03-92f3-31aaca340978",
   "metadata": {},
   "outputs": [],
   "source": [
    "#df[\"contents\"][1758] #discours très court et en allemand"
   ]
  },
  {
   "cell_type": "code",
   "execution_count": null,
   "id": "493a5a1c-9aa0-462f-b843-4ec941330601",
   "metadata": {
    "scrolled": true,
    "tags": []
   },
   "outputs": [],
   "source": [
    "n=random.sample([value for value in I3 if value not in J3],1)[0]\n",
    "df[\"contents\"][n]"
   ]
  },
  {
   "cell_type": "markdown",
   "id": "b8d6f3b3-93e4-4e9e-9a36-723130b0d24c",
   "metadata": {},
   "source": [
    "## Autre modèle de détection de langage ?"
   ]
  },
  {
   "cell_type": "code",
   "execution_count": null,
   "id": "cb913f91-be28-4353-a2d2-cf1e07970192",
   "metadata": {},
   "outputs": [],
   "source": [
    "#Autre idée : supprimer \"à la main\" les discours passant à travers les mailles du filet\n",
    "# utiliser les articles/prépositions les plus courants : le/la/de ou die/fur"
   ]
  },
  {
   "cell_type": "markdown",
   "id": "3421ed76-3e1e-428e-8b34-e5d73abb3860",
   "metadata": {},
   "source": [
    " ## Conclusion vis-à-vis des différentes méthodes"
   ]
  },
  {
   "cell_type": "markdown",
   "id": "89504394-2c63-40fc-9554-1e3b993fa87b",
   "metadata": {},
   "source": [
    "Même si les méthodes de détection de langages ave les titres uniquement sont plus rapides, elles entrainent beaucoup d'erreurs (trop de faux positifs). La difficulté de la détection vient en grande partie des discours de Jean Claude Trichet qui comportent plusieurs langues dont l'anglais."
   ]
  },
  {
   "cell_type": "markdown",
   "id": "7b9bdf5d-1f41-4306-92ef-f5e7005d1aa4",
   "metadata": {},
   "source": [
    "On peut considérer que les discours en plusieurs langues (comme ceux de Jean-Claude Trichet) ne sont pas gênants car ils sont majoritairement en anglais. Il faut juste penser à adapter les stopwords en conséquence."
   ]
  },
  {
   "cell_type": "markdown",
   "id": "dfebed28-b06e-4063-8d13-c2643b4bb20f",
   "metadata": {},
   "source": [
    "Par ailleurs, on peut remarquer que les méthodes de langdetect sont beaucoup plus rapides que celles de spacy pour des résultats équivalents (voire identiques). La méthode qui paraît la plus efficace pour cette détection est celle qui utilise langdetect en analysant les 2000 premiers caractères de chaque discours."
   ]
  },
  {
   "cell_type": "markdown",
   "id": "e44afc8e-04b8-44c7-92fe-e523c6086dd5",
   "metadata": {},
   "source": [
    "## Modification du dataframe"
   ]
  },
  {
   "cell_type": "code",
   "execution_count": null,
   "id": "11550c56-985b-4af1-9d6d-b846b0b6ed52",
   "metadata": {},
   "outputs": [],
   "source": [
    "#df[\"Language\"]=pd.Series(dtype=str)\n",
    "#On pourrait ajouter une colonne \"language\" pour une analyse ultérieure"
   ]
  },
  {
   "cell_type": "code",
   "execution_count": null,
   "id": "0b2f9c4f-e739-48f5-8fc3-1a7203648b64",
   "metadata": {},
   "outputs": [],
   "source": [
    "# On va donc retirer ces discours des données à analyser\n",
    "I=J3\n",
    "df=df.drop(I).reset_index(drop=True)\n",
    "df"
   ]
  },
  {
   "cell_type": "code",
   "execution_count": null,
   "id": "2914b8ab-16d7-4218-8146-4067fec61f73",
   "metadata": {},
   "outputs": [],
   "source": [
    "df.sample(5)"
   ]
  },
  {
   "cell_type": "code",
   "execution_count": null,
   "id": "39877028-3f82-4e25-a139-62d29b406ae7",
   "metadata": {},
   "outputs": [],
   "source": []
  }
 ],
 "metadata": {
  "kernelspec": {
   "display_name": "Python 3 (ipykernel)",
   "language": "python",
   "name": "python3"
  },
  "language_info": {
   "codemirror_mode": {
    "name": "ipython",
    "version": 3
   },
   "file_extension": ".py",
   "mimetype": "text/x-python",
   "name": "python",
   "nbconvert_exporter": "python",
   "pygments_lexer": "ipython3",
   "version": "3.8.5"
  }
 },
 "nbformat": 4,
 "nbformat_minor": 5
}
