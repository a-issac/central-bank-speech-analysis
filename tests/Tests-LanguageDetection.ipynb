{
 "cells": [
  {
   "cell_type": "markdown",
   "id": "8eb45394-f1bb-4321-9196-8ed24eee3ba1",
   "metadata": {},
   "source": [
    "# Tests Détection de Langages"
   ]
  },
  {
   "cell_type": "code",
   "execution_count": 1,
   "id": "f2430977-6ab0-428d-b134-a7bbf2c43792",
   "metadata": {},
   "outputs": [],
   "source": [
    "import datetime\n",
    "import copy as c\n",
    "import random\n",
    "import collections\n",
    "import time\n",
    "\n",
    "import pandas as pd\n",
    "import matplotlib.pyplot as plt\n",
    "#!pip install spacy\n",
    "#!pip install spacy-langdetect\n",
    "import spacy\n",
    "from spacy.language import Language\n",
    "from spacy_langdetect import LanguageDetector\n",
    "#!python -m spacy download en_core_web_lg "
   ]
  },
  {
   "cell_type": "code",
   "execution_count": 2,
   "id": "974cd4d2-a419-4793-a3b2-7f8150781b30",
   "metadata": {},
   "outputs": [],
   "source": [
    "url=\"https://www.ecb.europa.eu/press/key/shared/data/all_ECB_speeches.csv?5f1650f87c081c670b20cc03e741c558\"\n",
    "\n",
    "#le fichier de janvier contient 4 discours de plus que celui de décembre\n",
    "\n",
    "url_december=\"https://www.ecb.europa.eu/press/key/shared/data/all_ECB_speeches.csv?848ea64ce6d77827b5e8e18790878b64\"\n",
    "\n",
    "df=pd.read_csv(url,sep = \"|\",encoding='utf-8')\n",
    "\n",
    "# Une connexion lente peut obliger à télécharger le fichier en local\n",
    "url_local=r\"C:\\Users\\Antoine\\Downloads\\all_ECB_speeches.csv\"\n",
    "#df=pd.read_csv(url_local,sep = \"|\",encoding='utf-8')\n",
    "\n",
    "# fichier mis à jour tous les mois, dernière version : 1er janvier 2022 (49,1 Mo)\n",
    "# à récupérer à l'adresse : https://www.ecb.europa.eu/press/key/html/downloads.en.html\n",
    "# plus de 2500 discours de responsables de la BCE entre 1997 et 2021"
   ]
  },
  {
   "cell_type": "code",
   "execution_count": 3,
   "id": "44e6556f-8605-40d4-bbaf-9e8b37b63b6c",
   "metadata": {},
   "outputs": [
    {
     "data": {
      "text/html": [
       "<div>\n",
       "<style scoped>\n",
       "    .dataframe tbody tr th:only-of-type {\n",
       "        vertical-align: middle;\n",
       "    }\n",
       "\n",
       "    .dataframe tbody tr th {\n",
       "        vertical-align: top;\n",
       "    }\n",
       "\n",
       "    .dataframe thead th {\n",
       "        text-align: right;\n",
       "    }\n",
       "</style>\n",
       "<table border=\"1\" class=\"dataframe\">\n",
       "  <thead>\n",
       "    <tr style=\"text-align: right;\">\n",
       "      <th></th>\n",
       "      <th>date</th>\n",
       "      <th>speakers</th>\n",
       "      <th>title</th>\n",
       "      <th>subtitle</th>\n",
       "      <th>contents</th>\n",
       "    </tr>\n",
       "  </thead>\n",
       "  <tbody>\n",
       "    <tr>\n",
       "      <th>0</th>\n",
       "      <td>2021-12-10</td>\n",
       "      <td>Fabio Panetta</td>\n",
       "      <td>The present and future of money in the digital...</td>\n",
       "      <td>Lecture by Fabio Panetta, Member of the Execut...</td>\n",
       "      <td>SPEECH  The present and future of money in ...</td>\n",
       "    </tr>\n",
       "    <tr>\n",
       "      <th>1</th>\n",
       "      <td>2021-12-08</td>\n",
       "      <td>Isabel Schnabel</td>\n",
       "      <td>Monetary policy and financial stability</td>\n",
       "      <td>Speech by Isabel Schnabel, Member of the Execu...</td>\n",
       "      <td>SPEECH  Monetary policy and financial stabi...</td>\n",
       "    </tr>\n",
       "    <tr>\n",
       "      <th>2</th>\n",
       "      <td>2021-12-08</td>\n",
       "      <td>Luis de Guindos</td>\n",
       "      <td>Macroprudential policy for non-bank financial ...</td>\n",
       "      <td>Speech by Luis de Guindos, Vice-President of t...</td>\n",
       "      <td>SPEECH  Macroprudential policy for non-bank...</td>\n",
       "    </tr>\n",
       "    <tr>\n",
       "      <th>3</th>\n",
       "      <td>2021-12-08</td>\n",
       "      <td>Christine Lagarde</td>\n",
       "      <td>Macroprudential policy in Europe – the future ...</td>\n",
       "      <td>Welcome remarks by Christine Lagarde, Presiden...</td>\n",
       "      <td>SPEECH  Macroprudential policy in Europe – ...</td>\n",
       "    </tr>\n",
       "    <tr>\n",
       "      <th>4</th>\n",
       "      <td>2021-11-29</td>\n",
       "      <td>Christine Lagarde</td>\n",
       "      <td>Dialogue in a changing world</td>\n",
       "      <td>Lectio Magistralis by Christine Lagarde, Presi...</td>\n",
       "      <td>SPEECH  Dialogue in a changing world   Lect...</td>\n",
       "    </tr>\n",
       "    <tr>\n",
       "      <th>...</th>\n",
       "      <td>...</td>\n",
       "      <td>...</td>\n",
       "      <td>...</td>\n",
       "      <td>...</td>\n",
       "      <td>...</td>\n",
       "    </tr>\n",
       "    <tr>\n",
       "      <th>2548</th>\n",
       "      <td>1997-05-13</td>\n",
       "      <td>Alexandre Lamfalussy</td>\n",
       "      <td>The European Central Bank: independent and acc...</td>\n",
       "      <td>Keynote speech delivered by Alexandre Lamfalus...</td>\n",
       "      <td>The European Central Bank: independent and a...</td>\n",
       "    </tr>\n",
       "    <tr>\n",
       "      <th>2549</th>\n",
       "      <td>1997-04-30</td>\n",
       "      <td>Alexandre Lamfalussy</td>\n",
       "      <td>The operation of monetary policy in stage thre...</td>\n",
       "      <td>Address by Alexandre Lamfalussy, President of ...</td>\n",
       "      <td>The operation of monetary policy in stage th...</td>\n",
       "    </tr>\n",
       "    <tr>\n",
       "      <th>2550</th>\n",
       "      <td>1997-04-22</td>\n",
       "      <td>Alexandre Lamfalussy</td>\n",
       "      <td>Convergence and the role of the European Centr...</td>\n",
       "      <td>Remarks by Alexandre Lamfalussy, President of ...</td>\n",
       "      <td>Convergence and the role of the European Cen...</td>\n",
       "    </tr>\n",
       "    <tr>\n",
       "      <th>2551</th>\n",
       "      <td>1997-03-10</td>\n",
       "      <td>Alexandre Lamfalussy</td>\n",
       "      <td>Securing the benefits of EMU</td>\n",
       "      <td>Address by Alexandre Lamfalussy, President of ...</td>\n",
       "      <td>Securing the benefits of EMU   Address by Al...</td>\n",
       "    </tr>\n",
       "    <tr>\n",
       "      <th>2552</th>\n",
       "      <td>1997-02-07</td>\n",
       "      <td>Alexandre Lamfalussy</td>\n",
       "      <td>Conference organised by the Hungarian Banking ...</td>\n",
       "      <td>Address by Alexandre Lamfalussy, President of ...</td>\n",
       "      <td>Conference organised by the Hungarian Bankin...</td>\n",
       "    </tr>\n",
       "  </tbody>\n",
       "</table>\n",
       "<p>2553 rows × 5 columns</p>\n",
       "</div>"
      ],
      "text/plain": [
       "            date              speakers  \\\n",
       "0     2021-12-10         Fabio Panetta   \n",
       "1     2021-12-08       Isabel Schnabel   \n",
       "2     2021-12-08       Luis de Guindos   \n",
       "3     2021-12-08     Christine Lagarde   \n",
       "4     2021-11-29     Christine Lagarde   \n",
       "...          ...                   ...   \n",
       "2548  1997-05-13  Alexandre Lamfalussy   \n",
       "2549  1997-04-30  Alexandre Lamfalussy   \n",
       "2550  1997-04-22  Alexandre Lamfalussy   \n",
       "2551  1997-03-10  Alexandre Lamfalussy   \n",
       "2552  1997-02-07  Alexandre Lamfalussy   \n",
       "\n",
       "                                                  title  \\\n",
       "0     The present and future of money in the digital...   \n",
       "1               Monetary policy and financial stability   \n",
       "2     Macroprudential policy for non-bank financial ...   \n",
       "3     Macroprudential policy in Europe – the future ...   \n",
       "4                          Dialogue in a changing world   \n",
       "...                                                 ...   \n",
       "2548  The European Central Bank: independent and acc...   \n",
       "2549  The operation of monetary policy in stage thre...   \n",
       "2550  Convergence and the role of the European Centr...   \n",
       "2551                       Securing the benefits of EMU   \n",
       "2552  Conference organised by the Hungarian Banking ...   \n",
       "\n",
       "                                               subtitle  \\\n",
       "0     Lecture by Fabio Panetta, Member of the Execut...   \n",
       "1     Speech by Isabel Schnabel, Member of the Execu...   \n",
       "2     Speech by Luis de Guindos, Vice-President of t...   \n",
       "3     Welcome remarks by Christine Lagarde, Presiden...   \n",
       "4     Lectio Magistralis by Christine Lagarde, Presi...   \n",
       "...                                                 ...   \n",
       "2548  Keynote speech delivered by Alexandre Lamfalus...   \n",
       "2549  Address by Alexandre Lamfalussy, President of ...   \n",
       "2550  Remarks by Alexandre Lamfalussy, President of ...   \n",
       "2551  Address by Alexandre Lamfalussy, President of ...   \n",
       "2552  Address by Alexandre Lamfalussy, President of ...   \n",
       "\n",
       "                                               contents  \n",
       "0        SPEECH  The present and future of money in ...  \n",
       "1        SPEECH  Monetary policy and financial stabi...  \n",
       "2        SPEECH  Macroprudential policy for non-bank...  \n",
       "3        SPEECH  Macroprudential policy in Europe – ...  \n",
       "4        SPEECH  Dialogue in a changing world   Lect...  \n",
       "...                                                 ...  \n",
       "2548    The European Central Bank: independent and a...  \n",
       "2549    The operation of monetary policy in stage th...  \n",
       "2550    Convergence and the role of the European Cen...  \n",
       "2551    Securing the benefits of EMU   Address by Al...  \n",
       "2552    Conference organised by the Hungarian Bankin...  \n",
       "\n",
       "[2553 rows x 5 columns]"
      ]
     },
     "execution_count": 3,
     "metadata": {},
     "output_type": "execute_result"
    }
   ],
   "source": [
    "df"
   ]
  },
  {
   "cell_type": "code",
   "execution_count": 4,
   "id": "96389b3d-0e74-432b-975e-56c1999761a1",
   "metadata": {},
   "outputs": [
    {
     "name": "stdout",
     "output_type": "stream",
     "text": [
      "date         0\n",
      "speakers     2\n",
      "title        0\n",
      "subtitle     1\n",
      "contents    39\n",
      "dtype: int64\n"
     ]
    },
    {
     "data": {
      "text/html": [
       "<div>\n",
       "<style scoped>\n",
       "    .dataframe tbody tr th:only-of-type {\n",
       "        vertical-align: middle;\n",
       "    }\n",
       "\n",
       "    .dataframe tbody tr th {\n",
       "        vertical-align: top;\n",
       "    }\n",
       "\n",
       "    .dataframe thead th {\n",
       "        text-align: right;\n",
       "    }\n",
       "</style>\n",
       "<table border=\"1\" class=\"dataframe\">\n",
       "  <thead>\n",
       "    <tr style=\"text-align: right;\">\n",
       "      <th></th>\n",
       "      <th>date</th>\n",
       "      <th>speakers</th>\n",
       "      <th>title</th>\n",
       "      <th>subtitle</th>\n",
       "      <th>contents</th>\n",
       "    </tr>\n",
       "  </thead>\n",
       "  <tbody>\n",
       "    <tr>\n",
       "      <th>5</th>\n",
       "      <td>2021-11-29</td>\n",
       "      <td>Isabel Schnabel</td>\n",
       "      <td>Inflation im Euroraum: Ursachen und Ausblick</td>\n",
       "      <td>Presentation by Isabel Schnabel, Member of the...</td>\n",
       "      <td>NaN</td>\n",
       "    </tr>\n",
       "    <tr>\n",
       "      <th>8</th>\n",
       "      <td>2021-11-25</td>\n",
       "      <td>Isabel Schnabel</td>\n",
       "      <td>Inflation im Euroraum: Ursachen und Ausblick</td>\n",
       "      <td>Presentation by Isabel Schnabel, Member of the...</td>\n",
       "      <td>NaN</td>\n",
       "    </tr>\n",
       "    <tr>\n",
       "      <th>9</th>\n",
       "      <td>2021-11-24</td>\n",
       "      <td>Isabel Schnabel</td>\n",
       "      <td>A new strategy for a changing world</td>\n",
       "      <td>Presentation by Isabel Schnabel, Member of the...</td>\n",
       "      <td>NaN</td>\n",
       "    </tr>\n",
       "    <tr>\n",
       "      <th>18</th>\n",
       "      <td>2021-11-11</td>\n",
       "      <td>Philip R. Lane</td>\n",
       "      <td>Expectations surveys: a tool for research and ...</td>\n",
       "      <td>Introductory remarks by Philip R. Lane, Member...</td>\n",
       "      <td>NaN</td>\n",
       "    </tr>\n",
       "    <tr>\n",
       "      <th>21</th>\n",
       "      <td>2021-11-09</td>\n",
       "      <td>Fabio Panetta</td>\n",
       "      <td>Digital currencies around the world – what are...</td>\n",
       "      <td>Presentation by Fabio Panetta, Member of the E...</td>\n",
       "      <td>NaN</td>\n",
       "    </tr>\n",
       "    <tr>\n",
       "      <th>35</th>\n",
       "      <td>2021-10-07</td>\n",
       "      <td>Philip R. Lane</td>\n",
       "      <td>Data analysis and monetary policy during the p...</td>\n",
       "      <td>Presentation by Philip R. Lane, Member of the ...</td>\n",
       "      <td>NaN</td>\n",
       "    </tr>\n",
       "    <tr>\n",
       "      <th>45</th>\n",
       "      <td>2021-09-15</td>\n",
       "      <td>Philip R. Lane</td>\n",
       "      <td>The ECB's monetary policy strategy review - IM...</td>\n",
       "      <td>Presentation by Philip R. Lane, Member of the ...</td>\n",
       "      <td>NaN</td>\n",
       "    </tr>\n",
       "    <tr>\n",
       "      <th>48</th>\n",
       "      <td>2021-08-26</td>\n",
       "      <td>Isabel Schnabel</td>\n",
       "      <td>Die neue geldpolitische Strategie der Europäis...</td>\n",
       "      <td>Vortrag von Isabel Schnabel, Mitglied des Dire...</td>\n",
       "      <td>NaN</td>\n",
       "    </tr>\n",
       "    <tr>\n",
       "      <th>56</th>\n",
       "      <td>2021-06-24</td>\n",
       "      <td>Isabel Schnabel</td>\n",
       "      <td>The ECB’s policy response to the COVID-19 pand...</td>\n",
       "      <td>Guest lecture by Isabel Schnabel, Member of th...</td>\n",
       "      <td>NaN</td>\n",
       "    </tr>\n",
       "    <tr>\n",
       "      <th>57</th>\n",
       "      <td>2021-06-22</td>\n",
       "      <td>NaN</td>\n",
       "      <td>Die Geldpolitik der EZB in der Corona-Krise</td>\n",
       "      <td>Vortrag von Isabel Schnabel, Mitglied des Dire...</td>\n",
       "      <td>NaN</td>\n",
       "    </tr>\n",
       "    <tr>\n",
       "      <th>58</th>\n",
       "      <td>2021-06-22</td>\n",
       "      <td>Philip R. Lane</td>\n",
       "      <td>The resilience of the euro</td>\n",
       "      <td>Lecture by Philip R. Lane, Member of the Execu...</td>\n",
       "      <td>NaN</td>\n",
       "    </tr>\n",
       "    <tr>\n",
       "      <th>67</th>\n",
       "      <td>2021-05-25</td>\n",
       "      <td>Philip R. Lane</td>\n",
       "      <td>The ECB strategy review</td>\n",
       "      <td>Presentation by Philip R. Lane, Member of the ...</td>\n",
       "      <td>NaN</td>\n",
       "    </tr>\n",
       "    <tr>\n",
       "      <th>70</th>\n",
       "      <td>2021-05-05</td>\n",
       "      <td>Philip R. Lane</td>\n",
       "      <td>Taking stock: The ECB strategy review and curr...</td>\n",
       "      <td>Speech by Philip R. Lane, Member of the Execut...</td>\n",
       "      <td>NaN</td>\n",
       "    </tr>\n",
       "    <tr>\n",
       "      <th>74</th>\n",
       "      <td>2021-04-14</td>\n",
       "      <td>Isabel Schnabel</td>\n",
       "      <td>Die Geldpolitik der EZB in der Corona-Krise</td>\n",
       "      <td>Vortrag von Isabel Schnabel, Mitglied des Dire...</td>\n",
       "      <td>NaN</td>\n",
       "    </tr>\n",
       "    <tr>\n",
       "      <th>80</th>\n",
       "      <td>2021-03-18</td>\n",
       "      <td>NaN</td>\n",
       "      <td>Die Geldpolitik der EZB in der Corona-Krise</td>\n",
       "      <td>Vortrag von Isabel Schnabel, Mitglied des Dire...</td>\n",
       "      <td>NaN</td>\n",
       "    </tr>\n",
       "    <tr>\n",
       "      <th>89</th>\n",
       "      <td>2021-02-25</td>\n",
       "      <td>Luis de Guindos</td>\n",
       "      <td>Sources of risk and vulnerabilities for financ...</td>\n",
       "      <td>Presentation by Luis de Guindos, Vice-Presiden...</td>\n",
       "      <td>NaN</td>\n",
       "    </tr>\n",
       "    <tr>\n",
       "      <th>92</th>\n",
       "      <td>2021-02-18</td>\n",
       "      <td>Isabel Schnabel</td>\n",
       "      <td>The ECB's policy response to the COVID-19 pand...</td>\n",
       "      <td>Guest lecture by Isabel Schnabel, Member of th...</td>\n",
       "      <td>NaN</td>\n",
       "    </tr>\n",
       "    <tr>\n",
       "      <th>100</th>\n",
       "      <td>2020-12-17</td>\n",
       "      <td>Isabel Schnabel</td>\n",
       "      <td>Climate change and monetary policy</td>\n",
       "      <td>Presentation by Isabel Schnabel, Member of the...</td>\n",
       "      <td>NaN</td>\n",
       "    </tr>\n",
       "    <tr>\n",
       "      <th>103</th>\n",
       "      <td>2020-12-15</td>\n",
       "      <td>Philip R. Lane</td>\n",
       "      <td>The resilience of the euro</td>\n",
       "      <td>Presentation by Philip R. Lane, Member of the ...</td>\n",
       "      <td>NaN</td>\n",
       "    </tr>\n",
       "    <tr>\n",
       "      <th>108</th>\n",
       "      <td>2020-11-24</td>\n",
       "      <td>Philip R. Lane</td>\n",
       "      <td>IMF Policy dialogue: New policy frameworks for...</td>\n",
       "      <td>NaN</td>\n",
       "      <td>NaN</td>\n",
       "    </tr>\n",
       "    <tr>\n",
       "      <th>117</th>\n",
       "      <td>2020-11-05</td>\n",
       "      <td>Isabel Schnabel</td>\n",
       "      <td>Unequal scars – distributional consequences of...</td>\n",
       "      <td>Presentation by Isabel Schnabel, Member of the...</td>\n",
       "      <td>NaN</td>\n",
       "    </tr>\n",
       "    <tr>\n",
       "      <th>124</th>\n",
       "      <td>2020-10-21</td>\n",
       "      <td>Philip R. Lane</td>\n",
       "      <td>International flows and the pandemic: evidence...</td>\n",
       "      <td>Presentation by Philip R. Lane, Member of the ...</td>\n",
       "      <td>NaN</td>\n",
       "    </tr>\n",
       "    <tr>\n",
       "      <th>128</th>\n",
       "      <td>2020-10-14</td>\n",
       "      <td>Philip R. Lane</td>\n",
       "      <td>The pandemic and ECB monetary policy</td>\n",
       "      <td>Presentation by Philip R. Lane, Member of the ...</td>\n",
       "      <td>NaN</td>\n",
       "    </tr>\n",
       "    <tr>\n",
       "      <th>133</th>\n",
       "      <td>2020-10-01</td>\n",
       "      <td>Philip R. Lane</td>\n",
       "      <td>The euro area: a laboratory for international ...</td>\n",
       "      <td>Presentation by Philip R. Lane, Member of the ...</td>\n",
       "      <td>NaN</td>\n",
       "    </tr>\n",
       "    <tr>\n",
       "      <th>152</th>\n",
       "      <td>2020-07-02</td>\n",
       "      <td>Isabel Schnabel</td>\n",
       "      <td>The ECB’s monetary policy during the coronavir...</td>\n",
       "      <td>Presentation by Isabel Schnabel, Member of the...</td>\n",
       "      <td>NaN</td>\n",
       "    </tr>\n",
       "    <tr>\n",
       "      <th>157</th>\n",
       "      <td>2020-06-25</td>\n",
       "      <td>Isabel Schnabel</td>\n",
       "      <td>The ECB's policy response to the COVID-19 crisis</td>\n",
       "      <td>Informal welcome remarks by Isabel Schnabel, M...</td>\n",
       "      <td>NaN</td>\n",
       "    </tr>\n",
       "    <tr>\n",
       "      <th>159</th>\n",
       "      <td>2020-06-22</td>\n",
       "      <td>Philip R. Lane</td>\n",
       "      <td>Understanding the pandemic emergency purchase ...</td>\n",
       "      <td>Presentation by Philip R. Lane, Member of the ...</td>\n",
       "      <td>NaN</td>\n",
       "    </tr>\n",
       "    <tr>\n",
       "      <th>188</th>\n",
       "      <td>2020-02-05</td>\n",
       "      <td>Philip R. Lane</td>\n",
       "      <td>The future of the euro</td>\n",
       "      <td>Presentation by Philip R. Lane, Member of the ...</td>\n",
       "      <td>NaN</td>\n",
       "    </tr>\n",
       "    <tr>\n",
       "      <th>192</th>\n",
       "      <td>2020-01-09</td>\n",
       "      <td>Isabel Schnabel</td>\n",
       "      <td>Mehr Europa für eine stabile gemeinsame Währung</td>\n",
       "      <td>Vortrag von Isabel Schnabel, Mitglied des Dire...</td>\n",
       "      <td>NaN</td>\n",
       "    </tr>\n",
       "    <tr>\n",
       "      <th>193</th>\n",
       "      <td>2020-01-09</td>\n",
       "      <td>Philip R. Lane</td>\n",
       "      <td>Policy Frameworks and Strategies for an Open E...</td>\n",
       "      <td>Presentation by Philip R. Lane, Member of the ...</td>\n",
       "      <td>NaN</td>\n",
       "    </tr>\n",
       "    <tr>\n",
       "      <th>212</th>\n",
       "      <td>2019-11-15</td>\n",
       "      <td>Philip R. Lane</td>\n",
       "      <td>Europe’s role in a changing global economy</td>\n",
       "      <td>Presentation by Philip R. Lane, Member of the ...</td>\n",
       "      <td>NaN</td>\n",
       "    </tr>\n",
       "    <tr>\n",
       "      <th>224</th>\n",
       "      <td>2019-10-16</td>\n",
       "      <td>Philip R. Lane</td>\n",
       "      <td>The economic outlook for the euro area</td>\n",
       "      <td>Presentation by Philip R. Lane, Member of the ...</td>\n",
       "      <td>NaN</td>\n",
       "    </tr>\n",
       "    <tr>\n",
       "      <th>241</th>\n",
       "      <td>2019-09-04</td>\n",
       "      <td>Philip R. Lane</td>\n",
       "      <td>The Phillips Curve at the ECB</td>\n",
       "      <td>Keynote lecture by Philip R. Lane, Member of t...</td>\n",
       "      <td>NaN</td>\n",
       "    </tr>\n",
       "    <tr>\n",
       "      <th>253</th>\n",
       "      <td>2019-06-24</td>\n",
       "      <td>Sabine Lautenschläger</td>\n",
       "      <td>Die EZB, das Geld und die Wirtschaft: Von A wi...</td>\n",
       "      <td>Presentation by Sabine Lautenschläger, Member ...</td>\n",
       "      <td>NaN</td>\n",
       "    </tr>\n",
       "    <tr>\n",
       "      <th>292</th>\n",
       "      <td>2019-02-20</td>\n",
       "      <td>Peter Praet</td>\n",
       "      <td>Economic situation and outlook</td>\n",
       "      <td>Presentation by Peter Praet, Member of the Exe...</td>\n",
       "      <td>NaN</td>\n",
       "    </tr>\n",
       "    <tr>\n",
       "      <th>350</th>\n",
       "      <td>2018-09-17</td>\n",
       "      <td>Peter Praet</td>\n",
       "      <td>Economic developments in the euro area</td>\n",
       "      <td>Presentation by Peter Praet, Member of the Exe...</td>\n",
       "      <td>NaN</td>\n",
       "    </tr>\n",
       "    <tr>\n",
       "      <th>357</th>\n",
       "      <td>2018-08-28</td>\n",
       "      <td>Peter Praet</td>\n",
       "      <td>Monetary and Macroprudential Policy Interactions</td>\n",
       "      <td>Presentation by Peter Praet, Member of the Exe...</td>\n",
       "      <td>NaN</td>\n",
       "    </tr>\n",
       "    <tr>\n",
       "      <th>368</th>\n",
       "      <td>2018-06-15</td>\n",
       "      <td>Benoît Cœuré</td>\n",
       "      <td>The euro area economic outlook and completion ...</td>\n",
       "      <td>Speech by Benoît Cœuré, Member of the Executiv...</td>\n",
       "      <td>NaN</td>\n",
       "    </tr>\n",
       "    <tr>\n",
       "      <th>1727</th>\n",
       "      <td>2007-08-29</td>\n",
       "      <td>Gertrude Tumpel-Gugerell</td>\n",
       "      <td>Better Regulation“ im Finanzsektor - die Sicht...</td>\n",
       "      <td>„Better Regulation“ im Finanzsektor – die Si...</td>\n",
       "      <td>NaN</td>\n",
       "    </tr>\n",
       "  </tbody>\n",
       "</table>\n",
       "</div>"
      ],
      "text/plain": [
       "            date                  speakers  \\\n",
       "5     2021-11-29           Isabel Schnabel   \n",
       "8     2021-11-25           Isabel Schnabel   \n",
       "9     2021-11-24           Isabel Schnabel   \n",
       "18    2021-11-11            Philip R. Lane   \n",
       "21    2021-11-09             Fabio Panetta   \n",
       "35    2021-10-07            Philip R. Lane   \n",
       "45    2021-09-15            Philip R. Lane   \n",
       "48    2021-08-26           Isabel Schnabel   \n",
       "56    2021-06-24           Isabel Schnabel   \n",
       "57    2021-06-22                       NaN   \n",
       "58    2021-06-22            Philip R. Lane   \n",
       "67    2021-05-25            Philip R. Lane   \n",
       "70    2021-05-05            Philip R. Lane   \n",
       "74    2021-04-14           Isabel Schnabel   \n",
       "80    2021-03-18                       NaN   \n",
       "89    2021-02-25           Luis de Guindos   \n",
       "92    2021-02-18           Isabel Schnabel   \n",
       "100   2020-12-17           Isabel Schnabel   \n",
       "103   2020-12-15            Philip R. Lane   \n",
       "108   2020-11-24            Philip R. Lane   \n",
       "117   2020-11-05           Isabel Schnabel   \n",
       "124   2020-10-21            Philip R. Lane   \n",
       "128   2020-10-14            Philip R. Lane   \n",
       "133   2020-10-01            Philip R. Lane   \n",
       "152   2020-07-02           Isabel Schnabel   \n",
       "157   2020-06-25           Isabel Schnabel   \n",
       "159   2020-06-22            Philip R. Lane   \n",
       "188   2020-02-05            Philip R. Lane   \n",
       "192   2020-01-09           Isabel Schnabel   \n",
       "193   2020-01-09            Philip R. Lane   \n",
       "212   2019-11-15            Philip R. Lane   \n",
       "224   2019-10-16            Philip R. Lane   \n",
       "241   2019-09-04            Philip R. Lane   \n",
       "253   2019-06-24     Sabine Lautenschläger   \n",
       "292   2019-02-20               Peter Praet   \n",
       "350   2018-09-17               Peter Praet   \n",
       "357   2018-08-28               Peter Praet   \n",
       "368   2018-06-15              Benoît Cœuré   \n",
       "1727  2007-08-29  Gertrude Tumpel-Gugerell   \n",
       "\n",
       "                                                  title  \\\n",
       "5          Inflation im Euroraum: Ursachen und Ausblick   \n",
       "8          Inflation im Euroraum: Ursachen und Ausblick   \n",
       "9                   A new strategy for a changing world   \n",
       "18    Expectations surveys: a tool for research and ...   \n",
       "21    Digital currencies around the world – what are...   \n",
       "35    Data analysis and monetary policy during the p...   \n",
       "45    The ECB's monetary policy strategy review - IM...   \n",
       "48    Die neue geldpolitische Strategie der Europäis...   \n",
       "56    The ECB’s policy response to the COVID-19 pand...   \n",
       "57          Die Geldpolitik der EZB in der Corona-Krise   \n",
       "58                           The resilience of the euro   \n",
       "67                              The ECB strategy review   \n",
       "70    Taking stock: The ECB strategy review and curr...   \n",
       "74          Die Geldpolitik der EZB in der Corona-Krise   \n",
       "80          Die Geldpolitik der EZB in der Corona-Krise   \n",
       "89    Sources of risk and vulnerabilities for financ...   \n",
       "92    The ECB's policy response to the COVID-19 pand...   \n",
       "100                  Climate change and monetary policy   \n",
       "103                          The resilience of the euro   \n",
       "108   IMF Policy dialogue: New policy frameworks for...   \n",
       "117   Unequal scars – distributional consequences of...   \n",
       "124   International flows and the pandemic: evidence...   \n",
       "128                The pandemic and ECB monetary policy   \n",
       "133   The euro area: a laboratory for international ...   \n",
       "152   The ECB’s monetary policy during the coronavir...   \n",
       "157    The ECB's policy response to the COVID-19 crisis   \n",
       "159   Understanding the pandemic emergency purchase ...   \n",
       "188                              The future of the euro   \n",
       "192     Mehr Europa für eine stabile gemeinsame Währung   \n",
       "193   Policy Frameworks and Strategies for an Open E...   \n",
       "212          Europe’s role in a changing global economy   \n",
       "224              The economic outlook for the euro area   \n",
       "241                       The Phillips Curve at the ECB   \n",
       "253   Die EZB, das Geld und die Wirtschaft: Von A wi...   \n",
       "292                      Economic situation and outlook   \n",
       "350              Economic developments in the euro area   \n",
       "357    Monetary and Macroprudential Policy Interactions   \n",
       "368   The euro area economic outlook and completion ...   \n",
       "1727  Better Regulation“ im Finanzsektor - die Sicht...   \n",
       "\n",
       "                                               subtitle contents  \n",
       "5     Presentation by Isabel Schnabel, Member of the...      NaN  \n",
       "8     Presentation by Isabel Schnabel, Member of the...      NaN  \n",
       "9     Presentation by Isabel Schnabel, Member of the...      NaN  \n",
       "18    Introductory remarks by Philip R. Lane, Member...      NaN  \n",
       "21    Presentation by Fabio Panetta, Member of the E...      NaN  \n",
       "35    Presentation by Philip R. Lane, Member of the ...      NaN  \n",
       "45    Presentation by Philip R. Lane, Member of the ...      NaN  \n",
       "48    Vortrag von Isabel Schnabel, Mitglied des Dire...      NaN  \n",
       "56    Guest lecture by Isabel Schnabel, Member of th...      NaN  \n",
       "57    Vortrag von Isabel Schnabel, Mitglied des Dire...      NaN  \n",
       "58    Lecture by Philip R. Lane, Member of the Execu...      NaN  \n",
       "67    Presentation by Philip R. Lane, Member of the ...      NaN  \n",
       "70    Speech by Philip R. Lane, Member of the Execut...      NaN  \n",
       "74    Vortrag von Isabel Schnabel, Mitglied des Dire...      NaN  \n",
       "80    Vortrag von Isabel Schnabel, Mitglied des Dire...      NaN  \n",
       "89    Presentation by Luis de Guindos, Vice-Presiden...      NaN  \n",
       "92    Guest lecture by Isabel Schnabel, Member of th...      NaN  \n",
       "100   Presentation by Isabel Schnabel, Member of the...      NaN  \n",
       "103   Presentation by Philip R. Lane, Member of the ...      NaN  \n",
       "108                                                 NaN      NaN  \n",
       "117   Presentation by Isabel Schnabel, Member of the...      NaN  \n",
       "124   Presentation by Philip R. Lane, Member of the ...      NaN  \n",
       "128   Presentation by Philip R. Lane, Member of the ...      NaN  \n",
       "133   Presentation by Philip R. Lane, Member of the ...      NaN  \n",
       "152   Presentation by Isabel Schnabel, Member of the...      NaN  \n",
       "157   Informal welcome remarks by Isabel Schnabel, M...      NaN  \n",
       "159   Presentation by Philip R. Lane, Member of the ...      NaN  \n",
       "188   Presentation by Philip R. Lane, Member of the ...      NaN  \n",
       "192   Vortrag von Isabel Schnabel, Mitglied des Dire...      NaN  \n",
       "193   Presentation by Philip R. Lane, Member of the ...      NaN  \n",
       "212   Presentation by Philip R. Lane, Member of the ...      NaN  \n",
       "224   Presentation by Philip R. Lane, Member of the ...      NaN  \n",
       "241   Keynote lecture by Philip R. Lane, Member of t...      NaN  \n",
       "253   Presentation by Sabine Lautenschläger, Member ...      NaN  \n",
       "292   Presentation by Peter Praet, Member of the Exe...      NaN  \n",
       "350   Presentation by Peter Praet, Member of the Exe...      NaN  \n",
       "357   Presentation by Peter Praet, Member of the Exe...      NaN  \n",
       "368   Speech by Benoît Cœuré, Member of the Executiv...      NaN  \n",
       "1727    „Better Regulation“ im Finanzsektor – die Si...      NaN  "
      ]
     },
     "execution_count": 4,
     "metadata": {},
     "output_type": "execute_result"
    }
   ],
   "source": [
    "print(df.isna().sum())\n",
    "# on affiche un dataframe avec toutes les lignes contenant au moins un NaN\n",
    "df[df.isna().any(axis=1)] "
   ]
  },
  {
   "cell_type": "markdown",
   "id": "626da6f4-a574-452c-8259-71bd3f25c479",
   "metadata": {},
   "source": [
    "On remarque que pour tous les discours, on a seulement le titre et le speaker mais le contenu est NaN. Il faut donc mettre de côté tous ces discours sans contenu. Ce cas se présente seulement pour 39 discours (soit 1,5% de la base de données)."
   ]
  },
  {
   "cell_type": "code",
   "execution_count": 5,
   "id": "694970ad-da17-4b8a-a594-e9554481b19c",
   "metadata": {},
   "outputs": [],
   "source": [
    "df=df.dropna(axis='index',how='any')\n",
    "df=df.reset_index(drop=True)"
   ]
  },
  {
   "cell_type": "code",
   "execution_count": 6,
   "id": "5d977a5b-4871-4415-a15e-70d847f30144",
   "metadata": {},
   "outputs": [
    {
     "data": {
      "text/html": [
       "<div>\n",
       "<style scoped>\n",
       "    .dataframe tbody tr th:only-of-type {\n",
       "        vertical-align: middle;\n",
       "    }\n",
       "\n",
       "    .dataframe tbody tr th {\n",
       "        vertical-align: top;\n",
       "    }\n",
       "\n",
       "    .dataframe thead th {\n",
       "        text-align: right;\n",
       "    }\n",
       "</style>\n",
       "<table border=\"1\" class=\"dataframe\">\n",
       "  <thead>\n",
       "    <tr style=\"text-align: right;\">\n",
       "      <th></th>\n",
       "      <th>date</th>\n",
       "      <th>speakers</th>\n",
       "      <th>title</th>\n",
       "      <th>subtitle</th>\n",
       "      <th>contents</th>\n",
       "    </tr>\n",
       "  </thead>\n",
       "  <tbody>\n",
       "    <tr>\n",
       "      <th>0</th>\n",
       "      <td>2021-12-10</td>\n",
       "      <td>Fabio Panetta</td>\n",
       "      <td>The present and future of money in the digital...</td>\n",
       "      <td>Lecture by Fabio Panetta, Member of the Execut...</td>\n",
       "      <td>SPEECH  The present and future of money in ...</td>\n",
       "    </tr>\n",
       "    <tr>\n",
       "      <th>1</th>\n",
       "      <td>2021-12-08</td>\n",
       "      <td>Isabel Schnabel</td>\n",
       "      <td>Monetary policy and financial stability</td>\n",
       "      <td>Speech by Isabel Schnabel, Member of the Execu...</td>\n",
       "      <td>SPEECH  Monetary policy and financial stabi...</td>\n",
       "    </tr>\n",
       "    <tr>\n",
       "      <th>2</th>\n",
       "      <td>2021-12-08</td>\n",
       "      <td>Luis de Guindos</td>\n",
       "      <td>Macroprudential policy for non-bank financial ...</td>\n",
       "      <td>Speech by Luis de Guindos, Vice-President of t...</td>\n",
       "      <td>SPEECH  Macroprudential policy for non-bank...</td>\n",
       "    </tr>\n",
       "    <tr>\n",
       "      <th>3</th>\n",
       "      <td>2021-12-08</td>\n",
       "      <td>Christine Lagarde</td>\n",
       "      <td>Macroprudential policy in Europe – the future ...</td>\n",
       "      <td>Welcome remarks by Christine Lagarde, Presiden...</td>\n",
       "      <td>SPEECH  Macroprudential policy in Europe – ...</td>\n",
       "    </tr>\n",
       "    <tr>\n",
       "      <th>4</th>\n",
       "      <td>2021-11-29</td>\n",
       "      <td>Christine Lagarde</td>\n",
       "      <td>Dialogue in a changing world</td>\n",
       "      <td>Lectio Magistralis by Christine Lagarde, Presi...</td>\n",
       "      <td>SPEECH  Dialogue in a changing world   Lect...</td>\n",
       "    </tr>\n",
       "    <tr>\n",
       "      <th>...</th>\n",
       "      <td>...</td>\n",
       "      <td>...</td>\n",
       "      <td>...</td>\n",
       "      <td>...</td>\n",
       "      <td>...</td>\n",
       "    </tr>\n",
       "    <tr>\n",
       "      <th>2509</th>\n",
       "      <td>1997-05-13</td>\n",
       "      <td>Alexandre Lamfalussy</td>\n",
       "      <td>The European Central Bank: independent and acc...</td>\n",
       "      <td>Keynote speech delivered by Alexandre Lamfalus...</td>\n",
       "      <td>The European Central Bank: independent and a...</td>\n",
       "    </tr>\n",
       "    <tr>\n",
       "      <th>2510</th>\n",
       "      <td>1997-04-30</td>\n",
       "      <td>Alexandre Lamfalussy</td>\n",
       "      <td>The operation of monetary policy in stage thre...</td>\n",
       "      <td>Address by Alexandre Lamfalussy, President of ...</td>\n",
       "      <td>The operation of monetary policy in stage th...</td>\n",
       "    </tr>\n",
       "    <tr>\n",
       "      <th>2511</th>\n",
       "      <td>1997-04-22</td>\n",
       "      <td>Alexandre Lamfalussy</td>\n",
       "      <td>Convergence and the role of the European Centr...</td>\n",
       "      <td>Remarks by Alexandre Lamfalussy, President of ...</td>\n",
       "      <td>Convergence and the role of the European Cen...</td>\n",
       "    </tr>\n",
       "    <tr>\n",
       "      <th>2512</th>\n",
       "      <td>1997-03-10</td>\n",
       "      <td>Alexandre Lamfalussy</td>\n",
       "      <td>Securing the benefits of EMU</td>\n",
       "      <td>Address by Alexandre Lamfalussy, President of ...</td>\n",
       "      <td>Securing the benefits of EMU   Address by Al...</td>\n",
       "    </tr>\n",
       "    <tr>\n",
       "      <th>2513</th>\n",
       "      <td>1997-02-07</td>\n",
       "      <td>Alexandre Lamfalussy</td>\n",
       "      <td>Conference organised by the Hungarian Banking ...</td>\n",
       "      <td>Address by Alexandre Lamfalussy, President of ...</td>\n",
       "      <td>Conference organised by the Hungarian Bankin...</td>\n",
       "    </tr>\n",
       "  </tbody>\n",
       "</table>\n",
       "<p>2514 rows × 5 columns</p>\n",
       "</div>"
      ],
      "text/plain": [
       "            date              speakers  \\\n",
       "0     2021-12-10         Fabio Panetta   \n",
       "1     2021-12-08       Isabel Schnabel   \n",
       "2     2021-12-08       Luis de Guindos   \n",
       "3     2021-12-08     Christine Lagarde   \n",
       "4     2021-11-29     Christine Lagarde   \n",
       "...          ...                   ...   \n",
       "2509  1997-05-13  Alexandre Lamfalussy   \n",
       "2510  1997-04-30  Alexandre Lamfalussy   \n",
       "2511  1997-04-22  Alexandre Lamfalussy   \n",
       "2512  1997-03-10  Alexandre Lamfalussy   \n",
       "2513  1997-02-07  Alexandre Lamfalussy   \n",
       "\n",
       "                                                  title  \\\n",
       "0     The present and future of money in the digital...   \n",
       "1               Monetary policy and financial stability   \n",
       "2     Macroprudential policy for non-bank financial ...   \n",
       "3     Macroprudential policy in Europe – the future ...   \n",
       "4                          Dialogue in a changing world   \n",
       "...                                                 ...   \n",
       "2509  The European Central Bank: independent and acc...   \n",
       "2510  The operation of monetary policy in stage thre...   \n",
       "2511  Convergence and the role of the European Centr...   \n",
       "2512                       Securing the benefits of EMU   \n",
       "2513  Conference organised by the Hungarian Banking ...   \n",
       "\n",
       "                                               subtitle  \\\n",
       "0     Lecture by Fabio Panetta, Member of the Execut...   \n",
       "1     Speech by Isabel Schnabel, Member of the Execu...   \n",
       "2     Speech by Luis de Guindos, Vice-President of t...   \n",
       "3     Welcome remarks by Christine Lagarde, Presiden...   \n",
       "4     Lectio Magistralis by Christine Lagarde, Presi...   \n",
       "...                                                 ...   \n",
       "2509  Keynote speech delivered by Alexandre Lamfalus...   \n",
       "2510  Address by Alexandre Lamfalussy, President of ...   \n",
       "2511  Remarks by Alexandre Lamfalussy, President of ...   \n",
       "2512  Address by Alexandre Lamfalussy, President of ...   \n",
       "2513  Address by Alexandre Lamfalussy, President of ...   \n",
       "\n",
       "                                               contents  \n",
       "0        SPEECH  The present and future of money in ...  \n",
       "1        SPEECH  Monetary policy and financial stabi...  \n",
       "2        SPEECH  Macroprudential policy for non-bank...  \n",
       "3        SPEECH  Macroprudential policy in Europe – ...  \n",
       "4        SPEECH  Dialogue in a changing world   Lect...  \n",
       "...                                                 ...  \n",
       "2509    The European Central Bank: independent and a...  \n",
       "2510    The operation of monetary policy in stage th...  \n",
       "2511    Convergence and the role of the European Cen...  \n",
       "2512    Securing the benefits of EMU   Address by Al...  \n",
       "2513    Conference organised by the Hungarian Bankin...  \n",
       "\n",
       "[2514 rows x 5 columns]"
      ]
     },
     "execution_count": 6,
     "metadata": {},
     "output_type": "execute_result"
    }
   ],
   "source": [
    "df"
   ]
  },
  {
   "cell_type": "markdown",
   "id": "a0357f3f-d5e9-4736-ac26-dc4c8b56c873",
   "metadata": {},
   "source": [
    "#### En explorant le dataset, on se rend compte que certains contenus de discours sont vides (empty string mais pas NaN).\n",
    "#### Il faut donc retirer ces lignes du dataframe."
   ]
  },
  {
   "cell_type": "code",
   "execution_count": 7,
   "id": "0557bad4-6d54-400d-9201-26f3deaeaf87",
   "metadata": {},
   "outputs": [
    {
     "data": {
      "text/plain": [
       "[2009]"
      ]
     },
     "execution_count": 7,
     "metadata": {},
     "output_type": "execute_result"
    }
   ],
   "source": [
    "L=[]\n",
    "for i in range(len(df)):\n",
    "    if not bool(df[\"contents\"][i].strip()): #si le contenu du discours est vide\n",
    "        L.append(i)\n",
    "L # ne concerne qu'une ligne"
   ]
  },
  {
   "cell_type": "code",
   "execution_count": 8,
   "id": "fab91025-86d6-4cf9-945d-2109daeea62e",
   "metadata": {},
   "outputs": [
    {
     "data": {
      "text/html": [
       "<div>\n",
       "<style scoped>\n",
       "    .dataframe tbody tr th:only-of-type {\n",
       "        vertical-align: middle;\n",
       "    }\n",
       "\n",
       "    .dataframe tbody tr th {\n",
       "        vertical-align: top;\n",
       "    }\n",
       "\n",
       "    .dataframe thead th {\n",
       "        text-align: right;\n",
       "    }\n",
       "</style>\n",
       "<table border=\"1\" class=\"dataframe\">\n",
       "  <thead>\n",
       "    <tr style=\"text-align: right;\">\n",
       "      <th></th>\n",
       "      <th>date</th>\n",
       "      <th>speakers</th>\n",
       "      <th>title</th>\n",
       "      <th>subtitle</th>\n",
       "      <th>contents</th>\n",
       "    </tr>\n",
       "  </thead>\n",
       "  <tbody>\n",
       "    <tr>\n",
       "      <th>0</th>\n",
       "      <td>2021-11-29</td>\n",
       "      <td>Christine Lagarde</td>\n",
       "      <td>Dialogue in a changing world</td>\n",
       "      <td>Lectio Magistralis by Christine Lagarde, Presi...</td>\n",
       "      <td>SPEECH  Dialogue in a changing world   Lect...</td>\n",
       "    </tr>\n",
       "    <tr>\n",
       "      <th>1</th>\n",
       "      <td>2021-11-26</td>\n",
       "      <td>Christine Lagarde</td>\n",
       "      <td>Change and continuity in law</td>\n",
       "      <td>Keynote speech by Christine Lagarde, President...</td>\n",
       "      <td>SPEECH  Change and continuity in law   Keyn...</td>\n",
       "    </tr>\n",
       "    <tr>\n",
       "      <th>2</th>\n",
       "      <td>2021-11-25</td>\n",
       "      <td>Frank Elderson</td>\n",
       "      <td>When you need change to preserve continuity: c...</td>\n",
       "      <td>Speech by Frank Elderson, Member of the Execut...</td>\n",
       "      <td>SPEECH  When you need change to preserve co...</td>\n",
       "    </tr>\n",
       "    <tr>\n",
       "      <th>3</th>\n",
       "      <td>2021-11-24</td>\n",
       "      <td>Fabio Panetta</td>\n",
       "      <td>Patient monetary policy amid a rocky recovery</td>\n",
       "      <td>Speech by Fabio Panetta, Member of the Executi...</td>\n",
       "      <td>SPEECH  Patient monetary policy amid a rock...</td>\n",
       "    </tr>\n",
       "    <tr>\n",
       "      <th>4</th>\n",
       "      <td>2021-11-22</td>\n",
       "      <td>Luis de Guindos</td>\n",
       "      <td>Ralph Koijen’s contribution to research on the...</td>\n",
       "      <td>Remarks by Luis de Guindos, Vice-President of ...</td>\n",
       "      <td>SPEECH  Ralph Koijen’s contribution to rese...</td>\n",
       "    </tr>\n",
       "    <tr>\n",
       "      <th>...</th>\n",
       "      <td>...</td>\n",
       "      <td>...</td>\n",
       "      <td>...</td>\n",
       "      <td>...</td>\n",
       "      <td>...</td>\n",
       "    </tr>\n",
       "    <tr>\n",
       "      <th>2504</th>\n",
       "      <td>1997-05-13</td>\n",
       "      <td>Alexandre Lamfalussy</td>\n",
       "      <td>The European Central Bank: independent and acc...</td>\n",
       "      <td>Keynote speech delivered by Alexandre Lamfalus...</td>\n",
       "      <td>The European Central Bank: independent and a...</td>\n",
       "    </tr>\n",
       "    <tr>\n",
       "      <th>2505</th>\n",
       "      <td>1997-04-30</td>\n",
       "      <td>Alexandre Lamfalussy</td>\n",
       "      <td>The operation of monetary policy in stage thre...</td>\n",
       "      <td>Address by Alexandre Lamfalussy, President of ...</td>\n",
       "      <td>The operation of monetary policy in stage th...</td>\n",
       "    </tr>\n",
       "    <tr>\n",
       "      <th>2506</th>\n",
       "      <td>1997-04-22</td>\n",
       "      <td>Alexandre Lamfalussy</td>\n",
       "      <td>Convergence and the role of the European Centr...</td>\n",
       "      <td>Remarks by Alexandre Lamfalussy, President of ...</td>\n",
       "      <td>Convergence and the role of the European Cen...</td>\n",
       "    </tr>\n",
       "    <tr>\n",
       "      <th>2507</th>\n",
       "      <td>1997-03-10</td>\n",
       "      <td>Alexandre Lamfalussy</td>\n",
       "      <td>Securing the benefits of EMU</td>\n",
       "      <td>Address by Alexandre Lamfalussy, President of ...</td>\n",
       "      <td>Securing the benefits of EMU   Address by Al...</td>\n",
       "    </tr>\n",
       "    <tr>\n",
       "      <th>2508</th>\n",
       "      <td>1997-02-07</td>\n",
       "      <td>Alexandre Lamfalussy</td>\n",
       "      <td>Conference organised by the Hungarian Banking ...</td>\n",
       "      <td>Address by Alexandre Lamfalussy, President of ...</td>\n",
       "      <td>Conference organised by the Hungarian Bankin...</td>\n",
       "    </tr>\n",
       "  </tbody>\n",
       "</table>\n",
       "<p>2509 rows × 5 columns</p>\n",
       "</div>"
      ],
      "text/plain": [
       "            date              speakers  \\\n",
       "0     2021-11-29     Christine Lagarde   \n",
       "1     2021-11-26     Christine Lagarde   \n",
       "2     2021-11-25        Frank Elderson   \n",
       "3     2021-11-24         Fabio Panetta   \n",
       "4     2021-11-22       Luis de Guindos   \n",
       "...          ...                   ...   \n",
       "2504  1997-05-13  Alexandre Lamfalussy   \n",
       "2505  1997-04-30  Alexandre Lamfalussy   \n",
       "2506  1997-04-22  Alexandre Lamfalussy   \n",
       "2507  1997-03-10  Alexandre Lamfalussy   \n",
       "2508  1997-02-07  Alexandre Lamfalussy   \n",
       "\n",
       "                                                  title  \\\n",
       "0                          Dialogue in a changing world   \n",
       "1                          Change and continuity in law   \n",
       "2     When you need change to preserve continuity: c...   \n",
       "3         Patient monetary policy amid a rocky recovery   \n",
       "4     Ralph Koijen’s contribution to research on the...   \n",
       "...                                                 ...   \n",
       "2504  The European Central Bank: independent and acc...   \n",
       "2505  The operation of monetary policy in stage thre...   \n",
       "2506  Convergence and the role of the European Centr...   \n",
       "2507                       Securing the benefits of EMU   \n",
       "2508  Conference organised by the Hungarian Banking ...   \n",
       "\n",
       "                                               subtitle  \\\n",
       "0     Lectio Magistralis by Christine Lagarde, Presi...   \n",
       "1     Keynote speech by Christine Lagarde, President...   \n",
       "2     Speech by Frank Elderson, Member of the Execut...   \n",
       "3     Speech by Fabio Panetta, Member of the Executi...   \n",
       "4     Remarks by Luis de Guindos, Vice-President of ...   \n",
       "...                                                 ...   \n",
       "2504  Keynote speech delivered by Alexandre Lamfalus...   \n",
       "2505  Address by Alexandre Lamfalussy, President of ...   \n",
       "2506  Remarks by Alexandre Lamfalussy, President of ...   \n",
       "2507  Address by Alexandre Lamfalussy, President of ...   \n",
       "2508  Address by Alexandre Lamfalussy, President of ...   \n",
       "\n",
       "                                               contents  \n",
       "0        SPEECH  Dialogue in a changing world   Lect...  \n",
       "1        SPEECH  Change and continuity in law   Keyn...  \n",
       "2        SPEECH  When you need change to preserve co...  \n",
       "3        SPEECH  Patient monetary policy amid a rock...  \n",
       "4        SPEECH  Ralph Koijen’s contribution to rese...  \n",
       "...                                                 ...  \n",
       "2504    The European Central Bank: independent and a...  \n",
       "2505    The operation of monetary policy in stage th...  \n",
       "2506    Convergence and the role of the European Cen...  \n",
       "2507    Securing the benefits of EMU   Address by Al...  \n",
       "2508    Conference organised by the Hungarian Bankin...  \n",
       "\n",
       "[2509 rows x 5 columns]"
      ]
     },
     "execution_count": 8,
     "metadata": {},
     "output_type": "execute_result"
    }
   ],
   "source": [
    "df=df.drop(L).reset_index(drop=True)\n",
    "df"
   ]
  },
  {
   "cell_type": "markdown",
   "id": "77c33c00-b911-4ef1-9463-90adee5c9a05",
   "metadata": {},
   "source": [
    "### On se rend compte que certains discours ne sont pas en anglais.\n",
    "#### Il faut donc les retirer pour notre analyse.\n",
    "#### C'est ici qu'apparaît le problème de la détection de langue."
   ]
  },
  {
   "cell_type": "markdown",
   "id": "38fb5995-93fb-4373-b161-e6a4655935bc",
   "metadata": {},
   "source": [
    "Avant d'utiliser des méthodes déjà existantes de détection de langue, on observe la longueur des \"échantillons\" de texte à analyser (titres et contenus)."
   ]
  },
  {
   "cell_type": "code",
   "execution_count": 9,
   "id": "c4ac9685-4804-4b22-8a06-116870841d78",
   "metadata": {},
   "outputs": [
    {
     "name": "stdout",
     "output_type": "stream",
     "text": [
      "Nombre moyen de caractères dans les discours :  19632.969310482265\n",
      "Minimum de caractères dans les discours :  249\n",
      "Maximum de caractères dans les discours :  113165\n"
     ]
    },
    {
     "data": {
      "text/plain": [
       "<AxesSubplot:title={'center':'Nombre de caractères dans les discours'}>"
      ]
     },
     "execution_count": 9,
     "metadata": {},
     "output_type": "execute_result"
    },
    {
     "data": {
      "image/png": "[encoded data removed]",
      "text/plain": [
       "<Figure size 432x288 with 1 Axes>"
      ]
     },
     "metadata": {
      "needs_background": "light"
     },
     "output_type": "display_data"
    }
   ],
   "source": [
    "# Test sur la longueur du contenu des discours\n",
    "print(\"Nombre moyen de caractères dans les discours : \",df.contents.str.len().mean())\n",
    "print(\"Minimum de caractères dans les discours : \", df.contents.str.len().min())\n",
    "print(\"Maximum de caractères dans les discours : \", df.contents.str.len().max())\n",
    "df.contents.str.len().plot(title=\"Nombre de caractères dans les discours\")"
   ]
  },
  {
   "cell_type": "code",
   "execution_count": 10,
   "id": "930a4fdc-7e18-4623-a9da-3d2ce124c4f5",
   "metadata": {},
   "outputs": [
    {
     "name": "stdout",
     "output_type": "stream",
     "text": [
      "Nombre moyen de caractères dans les titres :  60.748903945795135\n",
      "Minimum de caractères dans les titres :  5\n",
      "Maximum de caractères dans les titres :  231\n"
     ]
    },
    {
     "data": {
      "text/plain": [
       "<AxesSubplot:title={'center':'Nombre de caractères dans les titres'}>"
      ]
     },
     "execution_count": 10,
     "metadata": {},
     "output_type": "execute_result"
    },
    {
     "data": {
      "image/png": "[encoded data removed]",
      "text/plain": [
       "<Figure size 432x288 with 1 Axes>"
      ]
     },
     "metadata": {
      "needs_background": "light"
     },
     "output_type": "display_data"
    }
   ],
   "source": [
    "#Test sur la longueur des titres\n",
    "print(\"Nombre moyen de caractères dans les titres : \",df.title.str.len().mean())\n",
    "print(\"Minimum de caractères dans les titres : \", df.title.str.len().min())\n",
    "print(\"Maximum de caractères dans les titres : \", df.title.str.len().max())\n",
    "df.title.str.len().plot(title=\"Nombre de caractères dans les titres\")"
   ]
  },
  {
   "cell_type": "markdown",
   "id": "224bcb50-28bb-4682-abf0-c48dd130b9c3",
   "metadata": {},
   "source": [
    "## Modèle de détection (spacy)"
   ]
  },
  {
   "cell_type": "code",
   "execution_count": 11,
   "id": "15e508fd-df0f-4dd7-95ee-64a78e789675",
   "metadata": {},
   "outputs": [
    {
     "name": "stdout",
     "output_type": "stream",
     "text": [
      "{'language': 'en', 'score': 0.9999964506659416}\n"
     ]
    }
   ],
   "source": [
    "\n",
    "def get_lang_detector(nlp, name):\n",
    "    return LanguageDetector()\n",
    "\n",
    "nlp = spacy.load('en_core_web_lg')\n",
    "# la ligne suivante doit être mise en commentaire si ce n'est pas la première fois qu'on exécute le notebook\n",
    "Language.factory(\"language_detector\", func=get_lang_detector)\n",
    "nlp.add_pipe('language_detector', last=True)\n",
    "text = 'This is an english text.'\n",
    "doc = nlp(text)\n",
    "print(doc._.language)\n"
   ]
  },
  {
   "cell_type": "code",
   "execution_count": 12,
   "id": "424e327c-76ea-46b0-88f2-26145196e967",
   "metadata": {},
   "outputs": [
    {
     "data": {
      "text/plain": [
       "'en'"
      ]
     },
     "execution_count": 12,
     "metadata": {},
     "output_type": "execute_result"
    }
   ],
   "source": [
    "doc._.language[\"language\"]"
   ]
  },
  {
   "cell_type": "markdown",
   "id": "3ff80fde-d758-46e3-a212-2cb6273276dc",
   "metadata": {},
   "source": [
    "### Avec les titres "
   ]
  },
  {
   "cell_type": "code",
   "execution_count": 13,
   "id": "f41622bf-7ec8-4d65-abb2-2170477d2d0a",
   "metadata": {},
   "outputs": [
    {
     "name": "stdout",
     "output_type": "stream",
     "text": [
      "Proportion de discours en anglais :  0.9011558389796732\n",
      "Temps pris par cette méthode : 27.53655481338501\n"
     ]
    },
    {
     "data": {
      "text/plain": [
       "'\\nProportion de discours en anglais :  0.8999601434834595\\nTemps pris par cette méthode : 25.839558839797974\\n'"
      ]
     },
     "execution_count": 13,
     "metadata": {},
     "output_type": "execute_result"
    }
   ],
   "source": [
    "start = time.time()\n",
    "EN=0\n",
    "OTHERS=0\n",
    "L=[]\n",
    "I0=[]\n",
    "s=''\n",
    "n=len(df)\n",
    "#random.sample(range(n),500)\n",
    "for i in range(n):\n",
    "    #print(i)\n",
    "    s=df[\"title\"][i]\n",
    "    doc = nlp(s)\n",
    "    if doc._.language[\"language\"]=='en':\n",
    "        EN+=1\n",
    "    else:\n",
    "        OTHERS+=1\n",
    "        L.append(s)\n",
    "        I0.append(i)\n",
    "print(\"Proportion de discours en anglais : \", EN/n)\n",
    "end = time.time()\n",
    "print(\"Temps pris par cette méthode :\", end - start)\n",
    "\n",
    "\"\"\"\n",
    "Proportion de discours en anglais :  0.8999601434834595\n",
    "Temps pris par cette méthode : 25.839558839797974\n",
    "\"\"\""
   ]
  },
  {
   "cell_type": "markdown",
   "id": "42bd8de2-27a1-42ed-a125-82da84bffbdf",
   "metadata": {},
   "source": [
    "### Avec les 1000 premiers caractères du discours"
   ]
  },
  {
   "cell_type": "code",
   "execution_count": 14,
   "id": "3c982b6b-a86a-4158-9711-69ef8301601b",
   "metadata": {},
   "outputs": [
    {
     "name": "stdout",
     "output_type": "stream",
     "text": [
      "Proportion de discours en anglais :  0.917895575926664\n",
      "Temps pris par cette méthode : 82.31854248046875\n"
     ]
    },
    {
     "data": {
      "text/plain": [
       "'Proportion de discours en anglais :  0.9182941410920685\\nTemps pris par cette méthode : 80.60761404037476'"
      ]
     },
     "execution_count": 14,
     "metadata": {},
     "output_type": "execute_result"
    }
   ],
   "source": [
    "start = time.time()\n",
    "EN=0\n",
    "OTHERS=0\n",
    "L=[]\n",
    "I1=[]\n",
    "s=''\n",
    "n=len(df)\n",
    "#random.sample(range(n),500)\n",
    "for i in range(n):\n",
    "    #print(i)\n",
    "    s=df[\"contents\"][i][:1000]\n",
    "    doc = nlp(s)\n",
    "    if doc._.language[\"language\"]=='en':\n",
    "        EN+=1\n",
    "    else:\n",
    "        OTHERS+=1\n",
    "        L.append(s)\n",
    "        I1.append(i)\n",
    "print(\"Proportion de discours en anglais : \", EN/n)\n",
    "end = time.time()\n",
    "print(\"Temps pris par cette méthode :\", end - start)\n",
    "\n",
    "\"\"\"Proportion de discours en anglais :  0.9182941410920685\n",
    "Temps pris par cette méthode : 80.60761404037476\"\"\""
   ]
  },
  {
   "cell_type": "markdown",
   "id": "12560d4b-98c9-4a78-ba21-be356ad1ec16",
   "metadata": {},
   "source": [
    "### Avec le début du discours privé de la répétition du titre"
   ]
  },
  {
   "cell_type": "code",
   "execution_count": 15,
   "id": "85ea2cb9-dd01-460e-8dfe-e5a7c0463d70",
   "metadata": {},
   "outputs": [
    {
     "name": "stdout",
     "output_type": "stream",
     "text": [
      "Proportion de discours en anglais :  0.9298525308888003\n",
      "Temps pris par cette méthode : 134.1792392730713\n"
     ]
    },
    {
     "data": {
      "text/plain": [
       "'Proportion de discours en anglais :  0.9286568353925867\\nTemps pris par cette méthode : 129.33490419387817'"
      ]
     },
     "execution_count": 15,
     "metadata": {},
     "output_type": "execute_result"
    }
   ],
   "source": [
    "start = time.time()\n",
    "EN=0\n",
    "OTHERS=0\n",
    "L=[]\n",
    "I2=[]\n",
    "s=''\n",
    "n=len(df)\n",
    "#random.sample(range(n),500)\n",
    "for i in range(n):\n",
    "    #print(i)\n",
    "    s=df[\"contents\"][i][200:2000]\n",
    "    doc = nlp(s)\n",
    "    if doc._.language[\"language\"]=='en':\n",
    "        EN+=1\n",
    "    else:\n",
    "        OTHERS+=1\n",
    "        L.append(s)\n",
    "        I2.append(i)\n",
    "print(\"Proportion de discours en anglais : \", EN/n)\n",
    "end = time.time()\n",
    "print(\"Temps pris par cette méthode :\", end - start)\n",
    "\n",
    "\"\"\"Proportion de discours en anglais :  0.9286568353925867\n",
    "Temps pris par cette méthode : 129.33490419387817\"\"\""
   ]
  },
  {
   "cell_type": "markdown",
   "id": "bc5b1d4e-b99e-4c31-ba54-6013a41a099d",
   "metadata": {},
   "source": [
    "### Avec les 2000 premiers caractères"
   ]
  },
  {
   "cell_type": "code",
   "execution_count": 16,
   "id": "1e12dfd3-6a5a-4a39-a179-e1b44c20322a",
   "metadata": {},
   "outputs": [
    {
     "name": "stdout",
     "output_type": "stream",
     "text": [
      "Proportion de discours en anglais :  0.9290554005579912\n",
      "Temps pris par cette méthode : 143.97742128372192\n"
     ]
    },
    {
     "data": {
      "text/plain": [
       "'Proportion de discours en anglais :  0.9290554005579912\\nTemps pris par cette méthode : 143.3227822780609'"
      ]
     },
     "execution_count": 16,
     "metadata": {},
     "output_type": "execute_result"
    }
   ],
   "source": [
    "start = time.time()\n",
    "EN=0\n",
    "OTHERS=0\n",
    "L=[]\n",
    "I3=[]\n",
    "s=''\n",
    "n=len(df)\n",
    "#random.sample(range(n),500)\n",
    "for i in range(n):\n",
    "    #print(i)\n",
    "    s=df[\"contents\"][i][:2000]\n",
    "    doc = nlp(s)\n",
    "    if doc._.language[\"language\"]=='en':\n",
    "        EN+=1\n",
    "    else:\n",
    "        OTHERS+=1\n",
    "        L.append(s)\n",
    "        I3.append(i)\n",
    "print(\"Proportion de discours en anglais : \", EN/n)\n",
    "end = time.time()\n",
    "print(\"Temps pris par cette méthode :\", end - start)\n",
    "\n",
    "\"\"\"Proportion de discours en anglais :  0.9290554005579912\n",
    "Temps pris par cette méthode : 143.3227822780609\"\"\""
   ]
  },
  {
   "cell_type": "markdown",
   "id": "6c188cae-27ad-4918-84a6-7ac18436eeb0",
   "metadata": {},
   "source": [
    "## Modèle de détection langdetect"
   ]
  },
  {
   "cell_type": "code",
   "execution_count": 17,
   "id": "cf63c1a5-d052-4fe9-b777-0e3027dadb3a",
   "metadata": {},
   "outputs": [],
   "source": [
    "#!pip install langdetect\n",
    "from langdetect import detect"
   ]
  },
  {
   "cell_type": "code",
   "execution_count": 18,
   "id": "d0fdf9be-cd9c-4fd9-bd6c-03555a7e5b35",
   "metadata": {},
   "outputs": [],
   "source": [
    "# Extrait de la documentation https://pypi.org/project/langdetect/#description\n",
    "# langdetect Language detection algorithm is non-deterministic,\n",
    "# which means that if you try to run it on a text which is either too short or too ambiguous,\n",
    "# you might get different results everytime you run it.\n",
    "# To enforce consistent results, call following code before the first language detection:\n",
    "\n",
    "from langdetect import DetectorFactory\n",
    "DetectorFactory.seed = 0"
   ]
  },
  {
   "cell_type": "markdown",
   "id": "9aae98ec-3569-484b-8c92-c1a4c8db89af",
   "metadata": {},
   "source": [
    "### Avec les titres "
   ]
  },
  {
   "cell_type": "code",
   "execution_count": 19,
   "id": "0a6c18d0-7118-4e1e-b409-efc623caeaea",
   "metadata": {},
   "outputs": [
    {
     "name": "stdout",
     "output_type": "stream",
     "text": [
      "Proportion de discours en anglais :  0.8983658828218414\n",
      "13.746001482009888\n"
     ]
    },
    {
     "data": {
      "text/plain": [
       "'Proportion de discours en anglais :  0.9035472299721005\\nTemps pris par cette méthode : 12.753894805908203'"
      ]
     },
     "execution_count": 19,
     "metadata": {},
     "output_type": "execute_result"
    }
   ],
   "source": [
    "start = time.time()\n",
    "EN=0\n",
    "OTHERS=0\n",
    "L=[]\n",
    "J0=[]\n",
    "s=''\n",
    "n=len(df)\n",
    "#random.sample(range(n),500)\n",
    "for i in range(n):\n",
    "    #print(i)\n",
    "    s=detect(df[\"title\"][i])\n",
    "    if s=='en':\n",
    "        EN+=1\n",
    "    else:\n",
    "        OTHERS+=1\n",
    "        L.append(s)\n",
    "        J0.append(i)\n",
    "print(\"Proportion de discours en anglais : \", EN/n)\n",
    "end = time.time()\n",
    "print(end - start) \n",
    "\n",
    "# Quelques centaines de discours dans d'autres langues (français, allemand, espagnol, italien, néerlandais,...)\n",
    "# Cependant on constate qu'il reste des discours en français et en allemand non mis de coté\n",
    "# Certains discours en anglais sont mis de côté de manière injustifiée\n",
    "\n",
    "\"\"\"Proportion de discours en anglais :  0.9035472299721005\n",
    "Temps pris par cette méthode : 12.753894805908203\"\"\""
   ]
  },
  {
   "cell_type": "markdown",
   "id": "044d5422-984b-4ff1-b4cf-1e7041e08fd2",
   "metadata": {},
   "source": [
    "### Avec les 1000 premiers caractères"
   ]
  },
  {
   "cell_type": "code",
   "execution_count": 20,
   "id": "4c17c1ac-b018-49f0-9471-3179bed4d484",
   "metadata": {},
   "outputs": [
    {
     "name": "stdout",
     "output_type": "stream",
     "text": [
      "Proportion de discours en anglais :  0.9182941410920685\n",
      "Temps pris par cette méthode : 16.02874183654785\n"
     ]
    },
    {
     "data": {
      "text/plain": [
       "'\\nProportion de discours en anglais :  0.917098445595855\\nTemps pris par cette méthode : 13.944712400436401\\n'"
      ]
     },
     "execution_count": 20,
     "metadata": {},
     "output_type": "execute_result"
    }
   ],
   "source": [
    "start = time.time()\n",
    "EN_1=0\n",
    "OTHERS_1=0\n",
    "M=[]\n",
    "J1=[]\n",
    "s=''\n",
    "n=len(df)\n",
    "#random.sample(range(n),500)\n",
    "for i in range(n):\n",
    "    #print(i)\n",
    "    s=detect(df[\"contents\"][i][:1000])\n",
    "    if s=='en':\n",
    "        EN_1+=1\n",
    "    else:\n",
    "        OTHERS_1+=1\n",
    "        M.append(s)\n",
    "        J1.append(i)\n",
    "print(\"Proportion de discours en anglais : \", EN_1/n)\n",
    "end = time.time()\n",
    "print(\"Temps pris par cette méthode :\", end - start) \n",
    "\n",
    "\"\"\"\n",
    "Proportion de discours en anglais :  0.917098445595855\n",
    "Temps pris par cette méthode : 13.944712400436401\n",
    "\"\"\""
   ]
  },
  {
   "cell_type": "markdown",
   "id": "4530ddad-58a4-4b47-9fa5-c544577029a0",
   "metadata": {},
   "source": [
    "### Avec les 2000 premiers caractères mais sans les 200 premiers"
   ]
  },
  {
   "cell_type": "code",
   "execution_count": 21,
   "id": "737c13d9-ffdf-4f7d-ab25-c4f45651ccde",
   "metadata": {},
   "outputs": [
    {
     "name": "stdout",
     "output_type": "stream",
     "text": [
      "Proportion de discours en anglais :  0.9286568353925867\n",
      "Temps pris par cette méthode : 21.024661779403687\n"
     ]
    },
    {
     "data": {
      "text/plain": [
       "'\\nProportion de discours en anglais :  0.9278597050617776\\nTemps pris par cette méthode : 20.057332754135132\\n'"
      ]
     },
     "execution_count": 21,
     "metadata": {},
     "output_type": "execute_result"
    }
   ],
   "source": [
    "start = time.time()\n",
    "EN_1=0\n",
    "OTHERS_1=0\n",
    "M=[]\n",
    "J2=[]\n",
    "s=''\n",
    "n=len(df)\n",
    "#random.sample(range(n),500)\n",
    "for i in range(n):\n",
    "    #print(i)\n",
    "    s=detect(df[\"contents\"][i][200:2000])\n",
    "    if s=='en':\n",
    "        EN_1+=1\n",
    "    else:\n",
    "        OTHERS_1+=1\n",
    "        M.append(s)\n",
    "        J2.append(i)\n",
    "print(\"Proportion de discours en anglais : \", EN_1/n)\n",
    "end = time.time()\n",
    "print(\"Temps pris par cette méthode :\", end - start) \n",
    "\n",
    "\"\"\"\n",
    "Proportion de discours en anglais :  0.9278597050617776\n",
    "Temps pris par cette méthode : 20.057332754135132\n",
    "\"\"\""
   ]
  },
  {
   "cell_type": "markdown",
   "id": "9913a2d1-604a-411b-ada1-29083a87f373",
   "metadata": {},
   "source": [
    "### Avec les 2000 premiers caractères"
   ]
  },
  {
   "cell_type": "code",
   "execution_count": 22,
   "id": "100fc796-eb08-494a-a7db-c381bb501aad",
   "metadata": {},
   "outputs": [
    {
     "name": "stdout",
     "output_type": "stream",
     "text": [
      "Proportion de discours en anglais :  0.9286568353925867\n",
      "Temps pris par cette méthode : 22.256977319717407\n"
     ]
    },
    {
     "data": {
      "text/plain": [
       "'\\nProportion de discours en anglais :  0.9294539657233958\\nTemps pris par cette méthode : 19.53878378868103\\n'"
      ]
     },
     "execution_count": 22,
     "metadata": {},
     "output_type": "execute_result"
    }
   ],
   "source": [
    "start = time.time()\n",
    "EN_1=0\n",
    "OTHERS_1=0\n",
    "M=[]\n",
    "J3=[]\n",
    "s=''\n",
    "n=len(df)\n",
    "#random.sample(range(n),500)\n",
    "for i in range(n):\n",
    "    #print(i)\n",
    "    s=detect(df[\"contents\"][i][:2000])\n",
    "    if s=='en':\n",
    "        EN_1+=1\n",
    "    else:\n",
    "        OTHERS_1+=1\n",
    "        M.append(s)\n",
    "        J3.append(i)\n",
    "print(\"Proportion de discours en anglais : \", EN_1/n)\n",
    "end = time.time()\n",
    "print(\"Temps pris par cette méthode :\", end - start) \n",
    "\n",
    "\"\"\"\n",
    "Proportion de discours en anglais :  0.9294539657233958\n",
    "Temps pris par cette méthode : 19.53878378868103\n",
    "\"\"\""
   ]
  },
  {
   "cell_type": "markdown",
   "id": "8f30e558-2a35-4f07-944d-af03c5acc36d",
   "metadata": {},
   "source": [
    "### Avec les 5000 premiers caractères"
   ]
  },
  {
   "cell_type": "code",
   "execution_count": 23,
   "id": "c751a514-93ed-402a-b76a-d79bf77515c9",
   "metadata": {},
   "outputs": [
    {
     "name": "stdout",
     "output_type": "stream",
     "text": [
      "Proportion de discours en anglais :  0.9366281387006775\n",
      "Temps pris par cette méthode : 45.78627157211304\n"
     ]
    },
    {
     "data": {
      "text/plain": [
       "'\\nProportion de discours en anglais :  0.936229573535273\\nTemps pris par cette méthode : 37.724875688552856\\n'"
      ]
     },
     "execution_count": 23,
     "metadata": {},
     "output_type": "execute_result"
    }
   ],
   "source": [
    "start = time.time()\n",
    "EN_1=0\n",
    "OTHERS_1=0\n",
    "M=[]\n",
    "J4=[]\n",
    "s=''\n",
    "n=len(df)\n",
    "#random.sample(range(n),500)\n",
    "for i in range(n):\n",
    "    #print(i)\n",
    "    s=detect(df[\"contents\"][i][:5000])\n",
    "    if s=='en':\n",
    "        EN_1+=1\n",
    "    else:\n",
    "        OTHERS_1+=1\n",
    "        M.append(s)\n",
    "        J4.append(i)\n",
    "print(\"Proportion de discours en anglais : \", EN_1/n)\n",
    "end = time.time()\n",
    "print(\"Temps pris par cette méthode :\", end - start) \n",
    "\n",
    "\"\"\"\n",
    "Proportion de discours en anglais :  0.936229573535273\n",
    "Temps pris par cette méthode : 37.724875688552856\n",
    "\"\"\""
   ]
  },
  {
   "cell_type": "markdown",
   "id": "1ecbf26e-fb7b-4888-9f9f-ddb6cd9ae96d",
   "metadata": {},
   "source": [
    "## Comparaison des méthodes"
   ]
  },
  {
   "cell_type": "code",
   "execution_count": 24,
   "id": "d555e009-7e0c-4eaf-8bbd-9802dacab3a4",
   "metadata": {},
   "outputs": [
    {
     "name": "stdout",
     "output_type": "stream",
     "text": [
      "248\n",
      "206\n",
      "176\n",
      "178\n",
      "255\n",
      "205\n",
      "179\n",
      "179\n",
      "159\n"
     ]
    }
   ],
   "source": [
    "liste=[I0,I1,I2,I3,J0,J1,J2,J3,J4]\n",
    "for L in liste:\n",
    "    print(len(L))"
   ]
  },
  {
   "cell_type": "code",
   "execution_count": 25,
   "id": "0d7588ca-1149-41d0-acdd-ac7fb09a7774",
   "metadata": {},
   "outputs": [
    {
     "name": "stdout",
     "output_type": "stream",
     "text": [
      "[192, 231, 475, 546, 573, 697, 901, 1343, 1644, 1750, 1822, 1832]\n",
      "[361, 436, 1333, 1720, 1945]\n"
     ]
    }
   ],
   "source": [
    "#Comparaison des deux méthodes analysant uniquement les titres \n",
    "print([value for value in J0 if value not in I0]) #vérification à la main : titre \"trompeur\" mais contenu en anglais (sauf 1)\n",
    "print([value for value in I0 if value not in J0]) #vérification à la main : contenu en anglais\n",
    "# Les deux méthodes de détection via les titres semblent semblables mais assez peu efficaces "
   ]
  },
  {
   "cell_type": "markdown",
   "id": "b1b31fb7-6773-40f9-8a53-33822d6cae03",
   "metadata": {},
   "source": [
    "On peut observer un problème avec les discours de Jean-Claude Trichet, président de l'ECB de 2003 à 2011, qui commence (et parfois termine) toutes ses interventions en français, parfois en allemand, alors que tous les discours sont en anglais."
   ]
  },
  {
   "cell_type": "code",
   "execution_count": 26,
   "id": "bc37fccc-2287-4c3a-94bd-89771b4104f2",
   "metadata": {},
   "outputs": [
    {
     "name": "stdout",
     "output_type": "stream",
     "text": [
      "[1179, 1473, 1482]\n",
      "[]\n"
     ]
    }
   ],
   "source": [
    "# Comparaison des résultats des méthodes analysant les 2000 premiers caractères privés des titres\n",
    "print([value for value in J2 if value not in I2])\n",
    "print([value for value in I2 if value not in J2])\n",
    "# Tous ce discours contiennent des phrases en allemand et/ou en français."
   ]
  },
  {
   "cell_type": "code",
   "execution_count": 27,
   "id": "303203ce-adc6-40d8-a3e0-ea56c4d1e67e",
   "metadata": {},
   "outputs": [
    {
     "name": "stdout",
     "output_type": "stream",
     "text": [
      "[1902, 1977]\n",
      "[1179, 1473, 1535, 1758]\n"
     ]
    }
   ],
   "source": [
    "#En prenant en compte ou non les débuts de discours\n",
    "print([value for value in I2 if value not in I3]) # toujours le problème avec les discours de Jean Claude Trichet \n",
    "print([value for value in I3 if value not in I2]) #discours très court en allemand 1758\n"
   ]
  },
  {
   "cell_type": "code",
   "execution_count": 28,
   "id": "3adf370d-5d9c-4c43-af81-1fb5f6d34f32",
   "metadata": {},
   "outputs": [
    {
     "name": "stdout",
     "output_type": "stream",
     "text": [
      "[1179, 1662, 1902]\n",
      "[1137, 1535, 1758]\n"
     ]
    }
   ],
   "source": [
    "print([value for value in J2 if value not in J3]) \n",
    "print([value for value in J3 if value not in J2]) "
   ]
  },
  {
   "cell_type": "code",
   "execution_count": 29,
   "id": "b88619db-2ab8-4697-bfbc-afd1b14bce21",
   "metadata": {},
   "outputs": [
    {
     "name": "stdout",
     "output_type": "stream",
     "text": [
      "[1179, 1662]\n",
      "[1137, 1482, 1977]\n"
     ]
    }
   ],
   "source": [
    "print([value for value in I3 if value not in J3]) \n",
    "print([value for value in J3 if value not in I3]) "
   ]
  },
  {
   "cell_type": "code",
   "execution_count": 30,
   "id": "db1b265d-0787-42ac-b671-1268e3235fc4",
   "metadata": {},
   "outputs": [
    {
     "name": "stdout",
     "output_type": "stream",
     "text": [
      "Jean-Claude Trichet  -  The ECB's response to the crisis\n",
      "Jean-Claude Trichet  -  Hearing at the Economic and Monetary Affairs Committee of the European Parliament\n"
     ]
    }
   ],
   "source": [
    "for i in [value for value in I3 if value not in J3]:\n",
    "    print(df[\"speakers\"][i],\" - \",df[\"title\"][i])"
   ]
  },
  {
   "cell_type": "code",
   "execution_count": 31,
   "id": "6335c9ed-f6e6-4f66-acad-e1e357e36b26",
   "metadata": {},
   "outputs": [
    {
     "name": "stdout",
     "output_type": "stream",
     "text": [
      "Jean-Claude Trichet  -  Hearing at the Committee on Economic and Monetary Affairs of the European Parliament\n",
      "Jean-Claude Trichet  -  Hearing at the Committee on Economic and Monetary Affairs of the European Parliament\n",
      "Jean-Claude Trichet  -  Hearing at the Committee on Economic and Monetary Affairs of the European Parliament\n",
      "Jean-Claude Trichet  -  Hearing before the plenary of the European Parliament on the occasion of the adoption of the EP resolution on the ECB's 2009 Annual Report\n",
      "Jean-Claude Trichet  -  Lessons from the financial crisis\n",
      "Jean-Claude Trichet  -  Hearing before the Economic and Monetary Affairs Committee of the European Parliament\n",
      "Jean-Claude Trichet  -  Macroeconomic policies, imbalances and the need to avoid going back to the status quo ante\n",
      "Jean-Claude Trichet  -  Hearing at the Economic and Monetary Affairs Committee of the European Parliament\n",
      "Jean-Claude Trichet  -  Ehrenplaquette of the city of Frankfurt am Main - awarding ceremony\n",
      "Jean-Claude Trichet  -  Hearing at the Economic and Monetary Affairs Committee of the European Parliament\n",
      "Jean-Claude Trichet  -  Introductory to the European Parliament\n",
      "Jean-Claude Trichet  -  Fostering sound financial globalisation: the role of Europe\n",
      "Jean-Claude Trichet  -  The US economy, the euro area economy, and their central banks\n",
      "Jean-Claude Trichet  -  Presentation of the ECB's Annual Report 2005 to the European Parliament\n",
      "Jean-Claude Trichet  -  Statement by the President of the ECB at the public hearing at the European Parliament on the interception of bank transfer data from the SWIFT system by the US secret services\n",
      "Jean-Claude Trichet  -  Looking at EU and euro area enlargement from a central banker's angle: the views of the ECB\n",
      "Jean-Claude Trichet  -  Testimony before the Committee on Economic and Monetary Affairs of the European Parliament\n",
      "Jean-Claude Trichet  -  The success of the euro and its impact on European companies\n",
      "Jean-Claude Trichet  -  Presentation of the ECB's Annual Report 2003 to the European Parliament\n",
      "Otmar Issing  -  Rede zur Verleihung der Würde eines Ehrendoktors des Fachbereichs Wirtschaftswissenschaften der Johann Wolfgang Goethe-Universität, Frankfurt am Main, am 15. April 1999\n"
     ]
    }
   ],
   "source": [
    "for i in [value for value in J3 if value not in J4]:\n",
    "    print(df[\"speakers\"][i],\" - \",df[\"title\"][i])"
   ]
  },
  {
   "cell_type": "code",
   "execution_count": 32,
   "id": "9f6dbc82-1383-4853-ab58-7f5c4babac22",
   "metadata": {},
   "outputs": [
    {
     "name": "stdout",
     "output_type": "stream",
     "text": [
      "[1535, 1758]\n",
      "[1482, 1902, 1977]\n"
     ]
    }
   ],
   "source": [
    "#Comparaison qui semble la plus intéressante entre les deux méthodes\n",
    "print([value for value in I3 if value not in J2]) \n",
    "print([value for value in J2 if value not in I3]) "
   ]
  },
  {
   "cell_type": "code",
   "execution_count": 33,
   "id": "a99d29b4-e60b-4c03-92f3-31aaca340978",
   "metadata": {},
   "outputs": [],
   "source": [
    "#df[\"contents\"][1758] #discours très court et en allemand"
   ]
  },
  {
   "cell_type": "code",
   "execution_count": 34,
   "id": "493a5a1c-9aa0-462f-b843-4ec941330601",
   "metadata": {
    "scrolled": true,
    "tags": []
   },
   "outputs": [
    {
     "data": {
      "text/plain": [
       "\"  Hearing at the Economic and Monetary Affairs Committee of the European Parliament   Jean-Claude Trichet, President of the ECBBrussels, 9 October 2007 Madame la Présidente, Mesdames et Messieurs les membres de la Commission Economique et Monétaire, je me réjouis d'apparaître devant votre commission aujourd'hui et de poursuivre notre dialogue fructueux. La situation sur les marchés financiers suscite toujours beaucoup d’intérêt. Aujourd’hui, je reviendrai d’abord brièvement sur la situation économique et monétaire, en expliquant les raisons sous-jacentes à nos récentes décisions de taux. Ensuite, je vous fournirai de plus amples informations sur les opérations de politique monétaire de la BCE en réaction aux tensions enregistrées sur le marché monétaire ainsi que sur les initiatives en cours visant à améliorer le cadre relatif à la réglementation, à la surveillance et à la stabilité financières. Schließlich möchte ich ein paar Anmerkungen machen zu den Produktivitätsentwicklungen in Europa, die wir in letzter Zeit beobachtet haben, sowie zu den Kriterien, die erfüllt sein müssen, um dem Euro-Währungsgebiet beizutreten.      Economic and monetary developments    Since my previous appearance before the European Parliament a month ago, the new economic data which have become available have confirmed our view that risks to price stability remain on the upside over the medium term, as identified by both our economic and monetary analyses. As already indicated on several occasions, unfavourable effects from energy prices will have an important impact on headline inflation over the coming quarters. Owing mainly to such effects, deriving from the marked decline in energy prices a year ago and the recent substantial increase in oil prices, the inflation rate is expected to remain significantly above 2% in the near future, including the first months of 2008, before moderating again. In 2008, largely as a consequence of capacity constraints and relatively tight labour markets, inflation is expected to remain around 2% on average. As regards economic activity, it appears that the sustained real economic growth experienced in the euro area in the first half of 2007 has continued over the summer. The economic fundamentals support a favourable medium-term outlook for economic activity. While euro area consumer and business confidence indicators declined in September, mainly reflecting the financial market correction, they remain above their historical averages and continue to point to ongoing sustained growth during the second half of the year. Available forecasts for 2008 confirm the Governing Council’s main scenario of real GDP growing at around trend potential. This scenario is based on the expectation that global economic activity will remain robust, with the moderation of economic growth in the United States largely offset by the continued strength of emerging market economies. Given the financial market volatility and the reappraisal of risks in recent weeks, this assessment remains surrounded by heightened uncertainty. On balance, risks to this outlook for growth are judged to lie on the downside. The monetary analysis confirms the prevailing upside risks to price stability at medium to longer-term horizons. On the basis of latest available data, covering the period to the end of August, the underlying money and credit expansion remains strong. However, strong money and credit growth may have been influenced by temporary factors, such as the flattening of the yield curve and recent financial market volatility. The headline figures may therefore overstate the underlying money and credit growth.  In August, the flow of loans to households and non-financial corporations remained strong. However, financing conditions have tightened somewhat in the context of financial turbulence, although financing costs are not exceptionally high by historical standards. As regards developments in the bank lending behaviour, there are some signs showing an impact of recent financial market volatility. The results reported in our October 2007 bank lending survey point to some net tightening of the credit standards in the third quarter of 2007 both on loans to large enterprises and loans to households for house purchases, following a prolonged period where credit standards were eased or remained unchanged. Looking ahead, banks expect to further tighten credit standards in the fourth quarter of 2007. The ECB’s monetary policy stands ready to counter upside risks to price stability, in line with its Treaty mandate to maintain price stability as the primary objective of monetary policy. Under current circumstances, particular caution is required in assessing any potential impact of recent financial market developments on the real economy. Before drawing further monetary policy conclusions, the Governing Council deems it necessary to gather additional information and carefully examine all new data. Against this background, on 4 October 2007 the Governing Council of the ECB decided to leave the key ECB interest rates unchanged. The Governing Council will monitor very closely all developments. By acting in a firm and timely manner, and based on its assessment, the Governing Council will ensure that risks to price stability over the medium term do not materialise and that inflation expectations are firmly anchored in line with price stability, thereby favouring an environment conducive to sustained economic growth, well-functioning markets and job creation. This is even more important at times of financial market volatility and increased uncertainty. In this respect, the Governing Council will continue to pay great attention to future financial market developments.      Monetary policy operations    Ladies and gentlemen, once the Governing Council has defined the monetary policy stance necessary for maintaining price stability in the medium term, the ECB has the responsibility to ensure the smooth functioning of the segment of the money market that we influence. As I explained last month, these two responsibilities are clearly distinct and should not be mixed.  The ECB continued to intervene in the money market in order to ensure its smooth functioning. Some tensions indeed remained in the money markets, in particular for maturities beyond one week. These tensions were fostered by the increase in liquidity needs related to banks’ usual behaviour at the end of the quarter, when they need to adjust their balance sheets. Money market interest rates have remained more volatile than usual and our recent operations have attracted strong demand. On 11 September, we conducted a second supplementary long-term refinancing operation with the usual maturity of three months at a variable rate with no pre-announced allotment amount, while the regular long-term refinancing operation was conducted on 26 September as scheduled. In addition, we continued to allot in the regular main refinancing operations significantly larger amounts of liquidity than we would have done under normal circumstances, while aiming at balanced liquidity conditions at the end of the maintenance period.  Some tentative signs of improvement can now be seen in the money markets, in particular in the commercial paper market. Tensions still remain, in particular in the so-called Asset Backed Commercial Paper market segment, which has been at the root of the tensions. However, unlike during the peak of the difficulties in August, there is now some differentiation between commercial papers with different underlying assets or different credit of sponsoring banks. Lately, paper of higher quality could be placed more easily, and at better prices, than some weeks ago. Thus, a more discriminating market would seem to be emerging in the ABCP market.      Financial stability     Let me now provide you with an update of the recent developments regarding euro area financial stability. Last month, I drew some very tentative lessons from the events as we saw them evolving at the time. By now we have learned more, but the lessons to be drawn still remain tentative and provisional.  As I told you last month, the re-assessment of risk – which is still ongoing – reflects the materialisation of some of the vulnerabilities that had previously been identified by the ECB as well as by the global central banking community.  Since our last meeting, we have witnessed tentative signs of normalisation in some parts of the credit and financial markets. Nonetheless, as regards the prospects going forward I would certainly tend to agree with those who caution against complacency. The situation in certain parts of the euro area money markets remains complex, and banks are still reluctant to lend to each other in the unsecured interbank term money markets. In a number of cases the present episode of market correction will impact banks’ profits. Fortunately, several years of rather favourable economic and financial developments, as well as better risk management, have significantly improved the resilience of the euro area banking system, placing the core financial institutions in a rather comfortable position to absorb the recent disturbances.  Our baseline scenario is that the process of adjustment in the money and credit markets will take place in an orderly manner. Nevertheless, it cannot be excluded that this positive baseline scenario could yet be challenged by some low-probability but potentially high impact negative events. Therefore, there is no room for complacency at the present juncture.  The first priority remains the need to restore confidence among the various participants of the global credit market. Today, we still have the paradox that there are large amounts of high quality assets which investors are currently treating as if they have poor credit quality. Last month, I tentatively identified three potential and non-exclusive remedies to this situation ; I will again stress them today and I will even add a fourth one. First, there is a need to increase transparency and further improve risk management – including liquidity risk management - relating to complex structured products. Second, an assessment of the role played by rating agencies needs to be undertaken. Third, a review of certain areas of the regulatory framework, such as the treatment of liquidity risk should be carried out. Fourth, the case of non regulated entities should continue to be examined very carefully, not only the “highly leveraged” non regulated institutions but also the other entities like “conduits” and “special vehicles”: the case of the “highly leveraged” has already been examined by the Financial Stability Forum and orientations have been suggested. I am pleased to see that international and EU level initiatives are already underway to address these issues. Whilst it is still too early to draw definitive conclusions, there is a common understanding on the need for finding solutions that can be applied consistently at the global level.  Concerning the international level, I welcome the initiative of the Financial Stability Forum, following a proposal by the G-7, to set up a high-level working group to analyse the causes of the current turmoil and to propose appropriate recommendations.  Concerning the European level, initiatives are under way involving the European Commission and the Member States, with the close association of central banks. A roadmap identifying both the key issues to be analysed as well as the bodies in charge will be submitted today to the ECOFIN for approval. The ECB is strongly supportive of these initiatives taken at both levels and will actively contribute to the work.      Productivity trends in Europe    Ladies and gentlemen, let me now share with you some thoughts on recent productivity trends in Europe. Notwithstanding robust employment growth in the euro area over the recent economic upswing, labour productivity data for the euro area remained very positive overall in 2006. Notably, data confirmed a clear acceleration in labour productivity growth (per person) in 2006 to 1.4%, up from 0.7% in 2005. Against this background, some observers had made an upbeat assessment of recent labour productivity developments, arguing that the euro area was ready to embark on a period of prosperous economic growth founded on the successful implementation of structural reforms. These improvements, however, were mainly due to cyclical rather than structural improvements. On a year-on-year basis, labour productivity growth reached 1.7% in the fourth quarter of 2006 but declined to 1.4% in the first quarter of 2007 and fell further to 0.8% in the second quarter of 2007. Overall, its current level is in line with its average rate of 0.9% over the past ten years.  From a longer-term perspective, labour productivity developments in the euro area are characterised by a sustained slowdown since the early 1960s, which mainly reflects both lower growth in innovation and other efficiency gains and lower growth in capital used per unit of labour. These disappointing developments in the euro area are in sharp contrast with the positive developments in the United States. The strong productivity performance of the US economy has been ultimately attributed to the development of new information and communication technologies (ICT) in combination with the overall flexibility of the US economy. The bulk of the cross-Atlantic gap in labour productivity growth can be explained in terms of differences in more traditional, ICT-using sectors, where European firms do not seem to have exploited the benefits of the availability of new technologies to their full extent. Over the period 1995 to 2004, compared with the preceding 15 years, labour productivity growth fell especially in market services, including distribution, financial and business services. This evidence is broadly in line with the notion that ICT have the largest impact on productivity growth indirectly, namely by sparkling product and process innovations and by facilitating complementary innovations. The contribution from traditional services sectors (namely distribution, financial and personal services) to euro labour productivity growth declined from 0.4 percentage points over the period 1980-1995 to 0.2 percentage points over the period 1995-2004. In contrast the contribution went up from 0.6 to 1.4 percentage points in the United States over the same periods. Today, there is a broad agreement that the structural rigidities that characterise the euro area economy in comparison with the United States are responsible for this development in Europe. In particular less flexible labour markets, a lower degree of competition in product markets and higher barriers to entry for new firms as well as a less developed capital market – are seen as the main factors explaining the relatively poor productivity performance in the euro area. Therefore, the Governing Council fully supports all the structural reforms that will permit to achieve the single market, enhance competition and promote flexibility in all markets of goods and services as well as in the labour markets, so as to enable firms to better profit from technological progress and innovation.      Criteria for joining the euro area    Ladies and gentlemen, I would like to end with some remarks on the criteria for joining the euro area. The convergence criteria are stipulated in the Treaty and have therefore been agreed upon by all parties involved. It should be clear that there is one set of criteria for all EU countries. The ECB applies the criteria in the same way as in the past and we have always stressed that convergence should be sustainable. A consistent set of rules and a consistent application over time will reinforce the credibility of the process of euro area enlargement. This will, in turn, facilitate the sustainability of convergence. The framework is flexible enough to accommodate the country-specific features of all countries that want to adopt the euro. I would also like to emphasise that meeting the convergence criteria in a sustainable manner before joining the euro area is in the interest of all parties concerned and above all for the candidate countries themselves. I am now at your disposal for questions.     SEE ALSO  Find out more about related content   Webcasts of hearings at the European Parliament      \""
      ]
     },
     "execution_count": 34,
     "metadata": {},
     "output_type": "execute_result"
    }
   ],
   "source": [
    "n=random.sample([value for value in I3 if value not in J3],1)[0]\n",
    "df[\"contents\"][n]"
   ]
  },
  {
   "cell_type": "markdown",
   "id": "b8d6f3b3-93e4-4e9e-9a36-723130b0d24c",
   "metadata": {},
   "source": [
    "## Autre modèle de détection de langage ?"
   ]
  },
  {
   "cell_type": "code",
   "execution_count": 35,
   "id": "cb913f91-be28-4353-a2d2-cf1e07970192",
   "metadata": {},
   "outputs": [],
   "source": [
    "#Autre idée : supprimer \"à la main\" les discours passant à travers les mailles du filet\n",
    "# utiliser les articles/prépositions les plus courants : le/la/de ou die/fur"
   ]
  },
  {
   "cell_type": "markdown",
   "id": "3421ed76-3e1e-428e-8b34-e5d73abb3860",
   "metadata": {},
   "source": [
    " ## Conclusion vis-à-vis des différentes méthodes"
   ]
  },
  {
   "cell_type": "markdown",
   "id": "89504394-2c63-40fc-9554-1e3b993fa87b",
   "metadata": {},
   "source": [
    "Même si les méthodes de détection de langages ave les titres uniquement sont plus rapides, elles entrainent beaucoup d'erreurs (trop de faux positifs). La difficulté de la détection vient en grande partie des discours de Jean Claude Trichet qui comportent plusieurs langues dont l'anglais."
   ]
  },
  {
   "cell_type": "markdown",
   "id": "7b9bdf5d-1f41-4306-92ef-f5e7005d1aa4",
   "metadata": {},
   "source": [
    "On peut considérer que les discours en plusieurs langues (comme ceux de Jean-Claude Trichet) ne sont pas gênants car ils sont majoritairement en anglais. Il faut juste penser à adapter les stopwords en conséquence."
   ]
  },
  {
   "cell_type": "markdown",
   "id": "dfebed28-b06e-4063-8d13-c2643b4bb20f",
   "metadata": {},
   "source": [
    "Par ailleurs, on peut remarquer que les méthodes de langdetect sont beaucoup plus rapides que celles de spacy pour des résultats équivalents (voire identiques). La méthode qui paraît la plus efficace pour cette détection est celle qui utilise langdetect en analysant les 2000 premiers caractères de chaque discours."
   ]
  },
  {
   "cell_type": "markdown",
   "id": "e44afc8e-04b8-44c7-92fe-e523c6086dd5",
   "metadata": {},
   "source": [
    "## Modification du dataframe"
   ]
  },
  {
   "cell_type": "code",
   "execution_count": 36,
   "id": "11550c56-985b-4af1-9d6d-b846b0b6ed52",
   "metadata": {},
   "outputs": [],
   "source": [
    "#df[\"Language\"]=pd.Series(dtype=str)\n",
    "#On pourrait ajouter une colonne \"language\" pour une analyse ultérieure"
   ]
  },
  {
   "cell_type": "code",
   "execution_count": 37,
   "id": "0b2f9c4f-e739-48f5-8fc3-1a7203648b64",
   "metadata": {},
   "outputs": [
    {
     "data": {
      "text/html": [
       "<div>\n",
       "<style scoped>\n",
       "    .dataframe tbody tr th:only-of-type {\n",
       "        vertical-align: middle;\n",
       "    }\n",
       "\n",
       "    .dataframe tbody tr th {\n",
       "        vertical-align: top;\n",
       "    }\n",
       "\n",
       "    .dataframe thead th {\n",
       "        text-align: right;\n",
       "    }\n",
       "</style>\n",
       "<table border=\"1\" class=\"dataframe\">\n",
       "  <thead>\n",
       "    <tr style=\"text-align: right;\">\n",
       "      <th></th>\n",
       "      <th>date</th>\n",
       "      <th>speakers</th>\n",
       "      <th>title</th>\n",
       "      <th>subtitle</th>\n",
       "      <th>contents</th>\n",
       "    </tr>\n",
       "  </thead>\n",
       "  <tbody>\n",
       "    <tr>\n",
       "      <th>0</th>\n",
       "      <td>2021-11-29</td>\n",
       "      <td>Christine Lagarde</td>\n",
       "      <td>Dialogue in a changing world</td>\n",
       "      <td>Lectio Magistralis by Christine Lagarde, Presi...</td>\n",
       "      <td>SPEECH  Dialogue in a changing world   Lect...</td>\n",
       "    </tr>\n",
       "    <tr>\n",
       "      <th>1</th>\n",
       "      <td>2021-11-26</td>\n",
       "      <td>Christine Lagarde</td>\n",
       "      <td>Change and continuity in law</td>\n",
       "      <td>Keynote speech by Christine Lagarde, President...</td>\n",
       "      <td>SPEECH  Change and continuity in law   Keyn...</td>\n",
       "    </tr>\n",
       "    <tr>\n",
       "      <th>2</th>\n",
       "      <td>2021-11-25</td>\n",
       "      <td>Frank Elderson</td>\n",
       "      <td>When you need change to preserve continuity: c...</td>\n",
       "      <td>Speech by Frank Elderson, Member of the Execut...</td>\n",
       "      <td>SPEECH  When you need change to preserve co...</td>\n",
       "    </tr>\n",
       "    <tr>\n",
       "      <th>3</th>\n",
       "      <td>2021-11-24</td>\n",
       "      <td>Fabio Panetta</td>\n",
       "      <td>Patient monetary policy amid a rocky recovery</td>\n",
       "      <td>Speech by Fabio Panetta, Member of the Executi...</td>\n",
       "      <td>SPEECH  Patient monetary policy amid a rock...</td>\n",
       "    </tr>\n",
       "    <tr>\n",
       "      <th>4</th>\n",
       "      <td>2021-11-22</td>\n",
       "      <td>Luis de Guindos</td>\n",
       "      <td>Ralph Koijen’s contribution to research on the...</td>\n",
       "      <td>Remarks by Luis de Guindos, Vice-President of ...</td>\n",
       "      <td>SPEECH  Ralph Koijen’s contribution to rese...</td>\n",
       "    </tr>\n",
       "    <tr>\n",
       "      <th>...</th>\n",
       "      <td>...</td>\n",
       "      <td>...</td>\n",
       "      <td>...</td>\n",
       "      <td>...</td>\n",
       "      <td>...</td>\n",
       "    </tr>\n",
       "    <tr>\n",
       "      <th>2325</th>\n",
       "      <td>1997-05-13</td>\n",
       "      <td>Alexandre Lamfalussy</td>\n",
       "      <td>The European Central Bank: independent and acc...</td>\n",
       "      <td>Keynote speech delivered by Alexandre Lamfalus...</td>\n",
       "      <td>The European Central Bank: independent and a...</td>\n",
       "    </tr>\n",
       "    <tr>\n",
       "      <th>2326</th>\n",
       "      <td>1997-04-30</td>\n",
       "      <td>Alexandre Lamfalussy</td>\n",
       "      <td>The operation of monetary policy in stage thre...</td>\n",
       "      <td>Address by Alexandre Lamfalussy, President of ...</td>\n",
       "      <td>The operation of monetary policy in stage th...</td>\n",
       "    </tr>\n",
       "    <tr>\n",
       "      <th>2327</th>\n",
       "      <td>1997-04-22</td>\n",
       "      <td>Alexandre Lamfalussy</td>\n",
       "      <td>Convergence and the role of the European Centr...</td>\n",
       "      <td>Remarks by Alexandre Lamfalussy, President of ...</td>\n",
       "      <td>Convergence and the role of the European Cen...</td>\n",
       "    </tr>\n",
       "    <tr>\n",
       "      <th>2328</th>\n",
       "      <td>1997-03-10</td>\n",
       "      <td>Alexandre Lamfalussy</td>\n",
       "      <td>Securing the benefits of EMU</td>\n",
       "      <td>Address by Alexandre Lamfalussy, President of ...</td>\n",
       "      <td>Securing the benefits of EMU   Address by Al...</td>\n",
       "    </tr>\n",
       "    <tr>\n",
       "      <th>2329</th>\n",
       "      <td>1997-02-07</td>\n",
       "      <td>Alexandre Lamfalussy</td>\n",
       "      <td>Conference organised by the Hungarian Banking ...</td>\n",
       "      <td>Address by Alexandre Lamfalussy, President of ...</td>\n",
       "      <td>Conference organised by the Hungarian Bankin...</td>\n",
       "    </tr>\n",
       "  </tbody>\n",
       "</table>\n",
       "<p>2330 rows × 5 columns</p>\n",
       "</div>"
      ],
      "text/plain": [
       "            date              speakers  \\\n",
       "0     2021-11-29     Christine Lagarde   \n",
       "1     2021-11-26     Christine Lagarde   \n",
       "2     2021-11-25        Frank Elderson   \n",
       "3     2021-11-24         Fabio Panetta   \n",
       "4     2021-11-22       Luis de Guindos   \n",
       "...          ...                   ...   \n",
       "2325  1997-05-13  Alexandre Lamfalussy   \n",
       "2326  1997-04-30  Alexandre Lamfalussy   \n",
       "2327  1997-04-22  Alexandre Lamfalussy   \n",
       "2328  1997-03-10  Alexandre Lamfalussy   \n",
       "2329  1997-02-07  Alexandre Lamfalussy   \n",
       "\n",
       "                                                  title  \\\n",
       "0                          Dialogue in a changing world   \n",
       "1                          Change and continuity in law   \n",
       "2     When you need change to preserve continuity: c...   \n",
       "3         Patient monetary policy amid a rocky recovery   \n",
       "4     Ralph Koijen’s contribution to research on the...   \n",
       "...                                                 ...   \n",
       "2325  The European Central Bank: independent and acc...   \n",
       "2326  The operation of monetary policy in stage thre...   \n",
       "2327  Convergence and the role of the European Centr...   \n",
       "2328                       Securing the benefits of EMU   \n",
       "2329  Conference organised by the Hungarian Banking ...   \n",
       "\n",
       "                                               subtitle  \\\n",
       "0     Lectio Magistralis by Christine Lagarde, Presi...   \n",
       "1     Keynote speech by Christine Lagarde, President...   \n",
       "2     Speech by Frank Elderson, Member of the Execut...   \n",
       "3     Speech by Fabio Panetta, Member of the Executi...   \n",
       "4     Remarks by Luis de Guindos, Vice-President of ...   \n",
       "...                                                 ...   \n",
       "2325  Keynote speech delivered by Alexandre Lamfalus...   \n",
       "2326  Address by Alexandre Lamfalussy, President of ...   \n",
       "2327  Remarks by Alexandre Lamfalussy, President of ...   \n",
       "2328  Address by Alexandre Lamfalussy, President of ...   \n",
       "2329  Address by Alexandre Lamfalussy, President of ...   \n",
       "\n",
       "                                               contents  \n",
       "0        SPEECH  Dialogue in a changing world   Lect...  \n",
       "1        SPEECH  Change and continuity in law   Keyn...  \n",
       "2        SPEECH  When you need change to preserve co...  \n",
       "3        SPEECH  Patient monetary policy amid a rock...  \n",
       "4        SPEECH  Ralph Koijen’s contribution to rese...  \n",
       "...                                                 ...  \n",
       "2325    The European Central Bank: independent and a...  \n",
       "2326    The operation of monetary policy in stage th...  \n",
       "2327    Convergence and the role of the European Cen...  \n",
       "2328    Securing the benefits of EMU   Address by Al...  \n",
       "2329    Conference organised by the Hungarian Bankin...  \n",
       "\n",
       "[2330 rows x 5 columns]"
      ]
     },
     "execution_count": 37,
     "metadata": {},
     "output_type": "execute_result"
    }
   ],
   "source": [
    "# On va donc retirer ces discours des données à analyser\n",
    "I=J3\n",
    "df=df.drop(I).reset_index(drop=True)\n",
    "df"
   ]
  },
  {
   "cell_type": "code",
   "execution_count": 38,
   "id": "2914b8ab-16d7-4218-8146-4067fec61f73",
   "metadata": {},
   "outputs": [
    {
     "data": {
      "text/html": [
       "<div>\n",
       "<style scoped>\n",
       "    .dataframe tbody tr th:only-of-type {\n",
       "        vertical-align: middle;\n",
       "    }\n",
       "\n",
       "    .dataframe tbody tr th {\n",
       "        vertical-align: top;\n",
       "    }\n",
       "\n",
       "    .dataframe thead th {\n",
       "        text-align: right;\n",
       "    }\n",
       "</style>\n",
       "<table border=\"1\" class=\"dataframe\">\n",
       "  <thead>\n",
       "    <tr style=\"text-align: right;\">\n",
       "      <th></th>\n",
       "      <th>date</th>\n",
       "      <th>speakers</th>\n",
       "      <th>title</th>\n",
       "      <th>subtitle</th>\n",
       "      <th>contents</th>\n",
       "    </tr>\n",
       "  </thead>\n",
       "  <tbody>\n",
       "    <tr>\n",
       "      <th>2244</th>\n",
       "      <td>1999-05-07</td>\n",
       "      <td>Otmar Issing</td>\n",
       "      <td>The euro area economy on its way to the new mi...</td>\n",
       "      <td>Speech by Professor Otmar Issing Member of the...</td>\n",
       "      <td>The euro area economy on its way to the new ...</td>\n",
       "    </tr>\n",
       "    <tr>\n",
       "      <th>971</th>\n",
       "      <td>2013-01-31</td>\n",
       "      <td>Vítor Constâncio</td>\n",
       "      <td>Establishment of the Single Supervisory Mechan...</td>\n",
       "      <td>Speech by Vítor Constâncio, Vice-President of ...</td>\n",
       "      <td>Establishment of the Single Supervisory Mech...</td>\n",
       "    </tr>\n",
       "    <tr>\n",
       "      <th>2151</th>\n",
       "      <td>2000-06-28</td>\n",
       "      <td>Otmar Issing</td>\n",
       "      <td>New Technologies in Payments: A Challenge to M...</td>\n",
       "      <td>Professor Otmar IssingLecture to be delivered ...</td>\n",
       "      <td>New Technologies in Payments: A Challenge to...</td>\n",
       "    </tr>\n",
       "    <tr>\n",
       "      <th>1234</th>\n",
       "      <td>2010-07-09</td>\n",
       "      <td>Vítor Constâncio</td>\n",
       "      <td>The future of euro governance: how to contain ...</td>\n",
       "      <td>Speech by Vítor Constâncio, Vice-President of ...</td>\n",
       "      <td>The future of euro governance: how to contai...</td>\n",
       "    </tr>\n",
       "    <tr>\n",
       "      <th>1996</th>\n",
       "      <td>2002-10-25</td>\n",
       "      <td>Otmar Issing</td>\n",
       "      <td>Second ECB Central Banking  Conference 24-25 O...</td>\n",
       "      <td>Relationship lending in the euro area Prof. Ot...</td>\n",
       "      <td>Second ECB Central Banking Conference 24-25 ...</td>\n",
       "    </tr>\n",
       "  </tbody>\n",
       "</table>\n",
       "</div>"
      ],
      "text/plain": [
       "            date          speakers  \\\n",
       "2244  1999-05-07      Otmar Issing   \n",
       "971   2013-01-31  Vítor Constâncio   \n",
       "2151  2000-06-28      Otmar Issing   \n",
       "1234  2010-07-09  Vítor Constâncio   \n",
       "1996  2002-10-25      Otmar Issing   \n",
       "\n",
       "                                                  title  \\\n",
       "2244  The euro area economy on its way to the new mi...   \n",
       "971   Establishment of the Single Supervisory Mechan...   \n",
       "2151  New Technologies in Payments: A Challenge to M...   \n",
       "1234  The future of euro governance: how to contain ...   \n",
       "1996  Second ECB Central Banking  Conference 24-25 O...   \n",
       "\n",
       "                                               subtitle  \\\n",
       "2244  Speech by Professor Otmar Issing Member of the...   \n",
       "971   Speech by Vítor Constâncio, Vice-President of ...   \n",
       "2151  Professor Otmar IssingLecture to be delivered ...   \n",
       "1234  Speech by Vítor Constâncio, Vice-President of ...   \n",
       "1996  Relationship lending in the euro area Prof. Ot...   \n",
       "\n",
       "                                               contents  \n",
       "2244    The euro area economy on its way to the new ...  \n",
       "971     Establishment of the Single Supervisory Mech...  \n",
       "2151    New Technologies in Payments: A Challenge to...  \n",
       "1234    The future of euro governance: how to contai...  \n",
       "1996    Second ECB Central Banking Conference 24-25 ...  "
      ]
     },
     "execution_count": 38,
     "metadata": {},
     "output_type": "execute_result"
    }
   ],
   "source": [
    "df.sample(5)"
   ]
  },
  {
   "cell_type": "code",
   "execution_count": null,
   "id": "39877028-3f82-4e25-a139-62d29b406ae7",
   "metadata": {},
   "outputs": [],
   "source": []
  }
 ],
 "metadata": {
  "kernelspec": {
   "display_name": "Python 3 (ipykernel)",
   "language": "python",
   "name": "python3"
  },
  "language_info": {
   "codemirror_mode": {
    "name": "ipython",
    "version": 3
   },
   "file_extension": ".py",
   "mimetype": "text/x-python",
   "name": "python",
   "nbconvert_exporter": "python",
   "pygments_lexer": "ipython3",
   "version": "3.8.5"
  }
 },
 "nbformat": 4,
 "nbformat_minor": 5
}
