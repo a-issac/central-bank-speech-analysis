{
 "cells": [
  {
   "cell_type": "markdown",
   "id": "a7360399-c47f-4385-8612-6de367650258",
   "metadata": {},
   "source": [
    "# Test Sentiment Analysis"
   ]
  },
  {
   "cell_type": "code",
   "execution_count": 1,
   "id": "8c2a7fdd-a8d3-4ab6-ac51-de21a70191e3",
   "metadata": {},
   "outputs": [
    {
     "name": "stdout",
     "output_type": "stream",
     "text": [
      "Requirement already satisfied: vaderSentiment in c:\\users\\antoine\\anaconda3\\lib\\site-packages (3.3.2)\n",
      "Requirement already satisfied: requests in c:\\users\\antoine\\anaconda3\\lib\\site-packages (from vaderSentiment) (2.26.0)\n",
      "Requirement already satisfied: idna<4,>=2.5 in c:\\users\\antoine\\anaconda3\\lib\\site-packages (from requests->vaderSentiment) (3.3)\n",
      "Requirement already satisfied: certifi>=2017.4.17 in c:\\users\\antoine\\anaconda3\\lib\\site-packages (from requests->vaderSentiment) (2021.10.8)\n",
      "Requirement already satisfied: charset-normalizer~=2.0.0 in c:\\users\\antoine\\anaconda3\\lib\\site-packages (from requests->vaderSentiment) (2.0.4)\n",
      "Requirement already satisfied: urllib3<1.27,>=1.21.1 in c:\\users\\antoine\\anaconda3\\lib\\site-packages (from requests->vaderSentiment) (1.26.7)\n"
     ]
    }
   ],
   "source": [
    "import datetime\n",
    "import copy as c\n",
    "import random\n",
    "import collections\n",
    "import time\n",
    "\n",
    "import pandas as pd\n",
    "import numpy as np\n",
    "import matplotlib.pyplot as plt\n",
    "import re\n",
    "#!pip install afinn\n",
    "from afinn import Afinn\n",
    "#!pip install vaderSentiment\n",
    "from vaderSentiment.vaderSentiment import SentimentIntensityAnalyzer\n",
    "from textblob import TextBlob"
   ]
  },
  {
   "cell_type": "code",
   "execution_count": 2,
   "id": "6913b313-c4ce-4b9c-bc9e-ca2d526ee7d7",
   "metadata": {},
   "outputs": [],
   "source": [
    "#On récupère directement le dataset nettoyé\n",
    "url_local=r\"C:\\Users\\Antoine\\Downloads\\clean_ecb_speeches_dataset.csv\"\n",
    "df=pd.read_csv(url_local,sep = \",\",encoding='utf-8')"
   ]
  },
  {
   "cell_type": "code",
   "execution_count": 3,
   "id": "63863e87-c334-4f05-9fa3-7bbaa989118e",
   "metadata": {},
   "outputs": [
    {
     "data": {
      "text/html": [
       "<div>\n",
       "<style scoped>\n",
       "    .dataframe tbody tr th:only-of-type {\n",
       "        vertical-align: middle;\n",
       "    }\n",
       "\n",
       "    .dataframe tbody tr th {\n",
       "        vertical-align: top;\n",
       "    }\n",
       "\n",
       "    .dataframe thead th {\n",
       "        text-align: right;\n",
       "    }\n",
       "</style>\n",
       "<table border=\"1\" class=\"dataframe\">\n",
       "  <thead>\n",
       "    <tr style=\"text-align: right;\">\n",
       "      <th></th>\n",
       "      <th>date</th>\n",
       "      <th>speakers</th>\n",
       "      <th>title</th>\n",
       "      <th>subtitle</th>\n",
       "      <th>contents</th>\n",
       "      <th>Year</th>\n",
       "      <th>Month</th>\n",
       "      <th>Day</th>\n",
       "      <th>DayofWeek</th>\n",
       "      <th>DayofWeek_str</th>\n",
       "      <th>Month_str</th>\n",
       "    </tr>\n",
       "  </thead>\n",
       "  <tbody>\n",
       "    <tr>\n",
       "      <th>0</th>\n",
       "      <td>2021-11-29</td>\n",
       "      <td>Christine Lagarde</td>\n",
       "      <td>Dialogue in a changing world</td>\n",
       "      <td>Lectio Magistralis by Christine Lagarde, Presi...</td>\n",
       "      <td>SPEECH  Dialogue in a changing world   Lect...</td>\n",
       "      <td>2021</td>\n",
       "      <td>11</td>\n",
       "      <td>29</td>\n",
       "      <td>1</td>\n",
       "      <td>Monday</td>\n",
       "      <td>November</td>\n",
       "    </tr>\n",
       "    <tr>\n",
       "      <th>1</th>\n",
       "      <td>2021-11-26</td>\n",
       "      <td>Christine Lagarde</td>\n",
       "      <td>Change and continuity in law</td>\n",
       "      <td>Keynote speech by Christine Lagarde, President...</td>\n",
       "      <td>SPEECH  Change and continuity in law   Keyn...</td>\n",
       "      <td>2021</td>\n",
       "      <td>11</td>\n",
       "      <td>26</td>\n",
       "      <td>5</td>\n",
       "      <td>Friday</td>\n",
       "      <td>November</td>\n",
       "    </tr>\n",
       "    <tr>\n",
       "      <th>2</th>\n",
       "      <td>2021-11-25</td>\n",
       "      <td>Frank Elderson</td>\n",
       "      <td>When you need change to preserve continuity: c...</td>\n",
       "      <td>Speech by Frank Elderson, Member of the Execut...</td>\n",
       "      <td>SPEECH  When you need change to preserve co...</td>\n",
       "      <td>2021</td>\n",
       "      <td>11</td>\n",
       "      <td>25</td>\n",
       "      <td>4</td>\n",
       "      <td>Thursday</td>\n",
       "      <td>November</td>\n",
       "    </tr>\n",
       "    <tr>\n",
       "      <th>3</th>\n",
       "      <td>2021-11-24</td>\n",
       "      <td>Fabio Panetta</td>\n",
       "      <td>Patient monetary policy amid a rocky recovery</td>\n",
       "      <td>Speech by Fabio Panetta, Member of the Executi...</td>\n",
       "      <td>SPEECH  Patient monetary policy amid a rock...</td>\n",
       "      <td>2021</td>\n",
       "      <td>11</td>\n",
       "      <td>24</td>\n",
       "      <td>3</td>\n",
       "      <td>Wednesday</td>\n",
       "      <td>November</td>\n",
       "    </tr>\n",
       "    <tr>\n",
       "      <th>4</th>\n",
       "      <td>2021-11-22</td>\n",
       "      <td>Luis de Guindos</td>\n",
       "      <td>Ralph Koijen’s contribution to research on the...</td>\n",
       "      <td>Remarks by Luis de Guindos, Vice-President of ...</td>\n",
       "      <td>SPEECH  Ralph Koijen’s contribution to rese...</td>\n",
       "      <td>2021</td>\n",
       "      <td>11</td>\n",
       "      <td>22</td>\n",
       "      <td>1</td>\n",
       "      <td>Monday</td>\n",
       "      <td>November</td>\n",
       "    </tr>\n",
       "    <tr>\n",
       "      <th>...</th>\n",
       "      <td>...</td>\n",
       "      <td>...</td>\n",
       "      <td>...</td>\n",
       "      <td>...</td>\n",
       "      <td>...</td>\n",
       "      <td>...</td>\n",
       "      <td>...</td>\n",
       "      <td>...</td>\n",
       "      <td>...</td>\n",
       "      <td>...</td>\n",
       "      <td>...</td>\n",
       "    </tr>\n",
       "    <tr>\n",
       "      <th>2325</th>\n",
       "      <td>1997-05-13</td>\n",
       "      <td>Alexandre Lamfalussy</td>\n",
       "      <td>The European Central Bank: independent and acc...</td>\n",
       "      <td>Keynote speech delivered by Alexandre Lamfalus...</td>\n",
       "      <td>The European Central Bank: independent and a...</td>\n",
       "      <td>1997</td>\n",
       "      <td>5</td>\n",
       "      <td>13</td>\n",
       "      <td>2</td>\n",
       "      <td>Tuesday</td>\n",
       "      <td>May</td>\n",
       "    </tr>\n",
       "    <tr>\n",
       "      <th>2326</th>\n",
       "      <td>1997-04-30</td>\n",
       "      <td>Alexandre Lamfalussy</td>\n",
       "      <td>The operation of monetary policy in stage thre...</td>\n",
       "      <td>Address by Alexandre Lamfalussy, President of ...</td>\n",
       "      <td>The operation of monetary policy in stage th...</td>\n",
       "      <td>1997</td>\n",
       "      <td>4</td>\n",
       "      <td>30</td>\n",
       "      <td>3</td>\n",
       "      <td>Wednesday</td>\n",
       "      <td>April</td>\n",
       "    </tr>\n",
       "    <tr>\n",
       "      <th>2327</th>\n",
       "      <td>1997-04-22</td>\n",
       "      <td>Alexandre Lamfalussy</td>\n",
       "      <td>Convergence and the role of the European Centr...</td>\n",
       "      <td>Remarks by Alexandre Lamfalussy, President of ...</td>\n",
       "      <td>Convergence and the role of the European Cen...</td>\n",
       "      <td>1997</td>\n",
       "      <td>4</td>\n",
       "      <td>22</td>\n",
       "      <td>2</td>\n",
       "      <td>Tuesday</td>\n",
       "      <td>April</td>\n",
       "    </tr>\n",
       "    <tr>\n",
       "      <th>2328</th>\n",
       "      <td>1997-03-10</td>\n",
       "      <td>Alexandre Lamfalussy</td>\n",
       "      <td>Securing the benefits of EMU</td>\n",
       "      <td>Address by Alexandre Lamfalussy, President of ...</td>\n",
       "      <td>Securing the benefits of EMU   Address by Al...</td>\n",
       "      <td>1997</td>\n",
       "      <td>3</td>\n",
       "      <td>10</td>\n",
       "      <td>1</td>\n",
       "      <td>Monday</td>\n",
       "      <td>March</td>\n",
       "    </tr>\n",
       "    <tr>\n",
       "      <th>2329</th>\n",
       "      <td>1997-02-07</td>\n",
       "      <td>Alexandre Lamfalussy</td>\n",
       "      <td>Conference organised by the Hungarian Banking ...</td>\n",
       "      <td>Address by Alexandre Lamfalussy, President of ...</td>\n",
       "      <td>Conference organised by the Hungarian Bankin...</td>\n",
       "      <td>1997</td>\n",
       "      <td>2</td>\n",
       "      <td>7</td>\n",
       "      <td>5</td>\n",
       "      <td>Friday</td>\n",
       "      <td>February</td>\n",
       "    </tr>\n",
       "  </tbody>\n",
       "</table>\n",
       "<p>2330 rows × 11 columns</p>\n",
       "</div>"
      ],
      "text/plain": [
       "            date              speakers  \\\n",
       "0     2021-11-29     Christine Lagarde   \n",
       "1     2021-11-26     Christine Lagarde   \n",
       "2     2021-11-25        Frank Elderson   \n",
       "3     2021-11-24         Fabio Panetta   \n",
       "4     2021-11-22       Luis de Guindos   \n",
       "...          ...                   ...   \n",
       "2325  1997-05-13  Alexandre Lamfalussy   \n",
       "2326  1997-04-30  Alexandre Lamfalussy   \n",
       "2327  1997-04-22  Alexandre Lamfalussy   \n",
       "2328  1997-03-10  Alexandre Lamfalussy   \n",
       "2329  1997-02-07  Alexandre Lamfalussy   \n",
       "\n",
       "                                                  title  \\\n",
       "0                          Dialogue in a changing world   \n",
       "1                          Change and continuity in law   \n",
       "2     When you need change to preserve continuity: c...   \n",
       "3         Patient monetary policy amid a rocky recovery   \n",
       "4     Ralph Koijen’s contribution to research on the...   \n",
       "...                                                 ...   \n",
       "2325  The European Central Bank: independent and acc...   \n",
       "2326  The operation of monetary policy in stage thre...   \n",
       "2327  Convergence and the role of the European Centr...   \n",
       "2328                       Securing the benefits of EMU   \n",
       "2329  Conference organised by the Hungarian Banking ...   \n",
       "\n",
       "                                               subtitle  \\\n",
       "0     Lectio Magistralis by Christine Lagarde, Presi...   \n",
       "1     Keynote speech by Christine Lagarde, President...   \n",
       "2     Speech by Frank Elderson, Member of the Execut...   \n",
       "3     Speech by Fabio Panetta, Member of the Executi...   \n",
       "4     Remarks by Luis de Guindos, Vice-President of ...   \n",
       "...                                                 ...   \n",
       "2325  Keynote speech delivered by Alexandre Lamfalus...   \n",
       "2326  Address by Alexandre Lamfalussy, President of ...   \n",
       "2327  Remarks by Alexandre Lamfalussy, President of ...   \n",
       "2328  Address by Alexandre Lamfalussy, President of ...   \n",
       "2329  Address by Alexandre Lamfalussy, President of ...   \n",
       "\n",
       "                                               contents  Year  Month  Day  \\\n",
       "0        SPEECH  Dialogue in a changing world   Lect...  2021     11   29   \n",
       "1        SPEECH  Change and continuity in law   Keyn...  2021     11   26   \n",
       "2        SPEECH  When you need change to preserve co...  2021     11   25   \n",
       "3        SPEECH  Patient monetary policy amid a rock...  2021     11   24   \n",
       "4        SPEECH  Ralph Koijen’s contribution to rese...  2021     11   22   \n",
       "...                                                 ...   ...    ...  ...   \n",
       "2325    The European Central Bank: independent and a...  1997      5   13   \n",
       "2326    The operation of monetary policy in stage th...  1997      4   30   \n",
       "2327    Convergence and the role of the European Cen...  1997      4   22   \n",
       "2328    Securing the benefits of EMU   Address by Al...  1997      3   10   \n",
       "2329    Conference organised by the Hungarian Bankin...  1997      2    7   \n",
       "\n",
       "      DayofWeek DayofWeek_str Month_str  \n",
       "0             1        Monday  November  \n",
       "1             5        Friday  November  \n",
       "2             4      Thursday  November  \n",
       "3             3     Wednesday  November  \n",
       "4             1        Monday  November  \n",
       "...         ...           ...       ...  \n",
       "2325          2       Tuesday       May  \n",
       "2326          3     Wednesday     April  \n",
       "2327          2       Tuesday     April  \n",
       "2328          1        Monday     March  \n",
       "2329          5        Friday  February  \n",
       "\n",
       "[2330 rows x 11 columns]"
      ]
     },
     "execution_count": 3,
     "metadata": {},
     "output_type": "execute_result"
    }
   ],
   "source": [
    "df"
   ]
  },
  {
   "cell_type": "code",
   "execution_count": 4,
   "id": "00112c54-ff7b-4092-a64a-c6464d459329",
   "metadata": {},
   "outputs": [],
   "source": [
    "# https://ednafernandes.medium.com/three-python-libraries-for-sentiment-analysis-c189655e0d9b\n",
    "#Article intéressant pour 3 librairies classiques/basiques pour l'analyse de sentiments\n",
    "# TextBlob\n",
    "# AFINN\n",
    "# Vader"
   ]
  },
  {
   "cell_type": "markdown",
   "id": "f5af8e0e-3e22-4931-98bd-af2f45668b38",
   "metadata": {},
   "source": [
    "## AFINN"
   ]
  },
  {
   "cell_type": "code",
   "execution_count": 5,
   "id": "24f2712b-f9ef-4612-8ade-23d7f0d952c5",
   "metadata": {},
   "outputs": [
    {
     "data": {
      "text/plain": [
       "3.0"
      ]
     },
     "execution_count": 5,
     "metadata": {},
     "output_type": "execute_result"
    }
   ],
   "source": [
    "afinn = Afinn()\n",
    "#exemple :\n",
    "afinn.score('This is utterly excellent!')"
   ]
  },
  {
   "cell_type": "code",
   "execution_count": 6,
   "id": "5c15aeea-b026-4261-a4a3-50f93fbe1281",
   "metadata": {},
   "outputs": [
    {
     "data": {
      "text/plain": [
       "\"from afinn import Afinn\\ndef afinn_polarity(text):\\n    return Afinn().score(text)\\ndef getAnalysis(score):\\n    if score < 0:\\n        return 'Negative'\\n    elif score == 0:\\n        return 'Neutral'\\n    else:\\n        return 'Positive'\\ndf['polarity'] = df[text].apply(afinn_polarity)\\ndf['classification'] = df['polarity'].apply(getAnalysis)\""
      ]
     },
     "execution_count": 6,
     "metadata": {},
     "output_type": "execute_result"
    }
   ],
   "source": [
    "\"\"\"from afinn import Afinn\n",
    "def afinn_polarity(text):\n",
    "    return Afinn().score(text)\n",
    "def getAnalysis(score):\n",
    "    if score < 0:\n",
    "        return 'Negative'\n",
    "    elif score == 0:\n",
    "        return 'Neutral'\n",
    "    else:\n",
    "        return 'Positive'\n",
    "df['polarity'] = df[text].apply(afinn_polarity)\n",
    "df['classification'] = df['polarity'].apply(getAnalysis)\"\"\""
   ]
  },
  {
   "cell_type": "code",
   "execution_count": 7,
   "id": "00ba9a0f-9dcd-41a2-a0eb-4e25bf951a96",
   "metadata": {},
   "outputs": [
    {
     "name": "stdout",
     "output_type": "stream",
     "text": [
      "Score : 62.0\n",
      "Temps pris : 0.10372185707092285\n"
     ]
    }
   ],
   "source": [
    "#Premier test du score AFINN\n",
    "start = time.time()\n",
    "N=random.randrange(0, len(df))\n",
    "print(\"Score :\", afinn.score(df[\"contents\"][N]))\n",
    "end = time.time()\n",
    "print(\"Temps pris :\", end-start)\n",
    "#Une première estimation donne une durée totale d'analyse d'un peu plus de 6 minutes pour tous les discours"
   ]
  },
  {
   "cell_type": "code",
   "execution_count": 8,
   "id": "bef255f5-ad95-46fc-8948-39230e2786d0",
   "metadata": {},
   "outputs": [
    {
     "name": "stdout",
     "output_type": "stream",
     "text": [
      "Temps pris : 207.44267988204956\n"
     ]
    }
   ],
   "source": [
    "start = time.time()\n",
    "\n",
    "df[\"afinn-score\"]=pd.Series(dtype=int)\n",
    "def afinn_score(text):\n",
    "    return afinn.score(text)\n",
    "\n",
    "df[\"afinn-score\"]=df[\"contents\"].apply(afinn_score)\n",
    "\n",
    "end = time.time()\n",
    "print(\"Temps pris :\", end-start) #~3 minutes"
   ]
  },
  {
   "cell_type": "code",
   "execution_count": 9,
   "id": "aa3e6760-581d-45e1-83fc-17b7857509c9",
   "metadata": {},
   "outputs": [
    {
     "name": "stdout",
     "output_type": "stream",
     "text": [
      "Score moyen : 91.8656652360515\n",
      "Score médian : 85.0\n"
     ]
    },
    {
     "data": {
      "text/plain": [
       "<AxesSubplot:>"
      ]
     },
     "execution_count": 9,
     "metadata": {},
     "output_type": "execute_result"
    },
    {
     "data": {
      "image/png": "[encoded data removed]",
      "text/plain": [
       "<Figure size 432x288 with 1 Axes>"
      ]
     },
     "metadata": {
      "needs_background": "light"
     },
     "output_type": "display_data"
    }
   ],
   "source": [
    "print(\"Score moyen :\", df[\"afinn-score\"].mean())\n",
    "print(\"Score médian :\",df[\"afinn-score\"].median())\n",
    "\n",
    "df[\"afinn-score\"].plot()"
   ]
  },
  {
   "cell_type": "code",
   "execution_count": null,
   "id": "d278d459-51bf-4eac-8d47-cd240f581813",
   "metadata": {},
   "outputs": [],
   "source": []
  },
  {
   "cell_type": "markdown",
   "id": "65fe7caf-6e71-4c05-84de-21ebf35c534c",
   "metadata": {},
   "source": [
    "## TextBlob"
   ]
  },
  {
   "cell_type": "code",
   "execution_count": 10,
   "id": "75bcd5e1-b58b-4044-91e1-50fd66b66596",
   "metadata": {},
   "outputs": [
    {
     "data": {
      "text/plain": [
       "\"from textblob import TextBlob\\ndef textblob_polarity(text):\\n return TextBlob(text).sentiment.polarity\\ndef getAnalysis(score):\\n    if score < 0:\\n        return 'Negative'\\n    elif score == 0:\\n        return 'Neutral'\\n    else:\\n        return 'Positive'\\ndf['polarity'] = df[text].apply(textblob_polarity)\\ndf['classification'] = df['polarity'].apply(getAnalysis)\""
      ]
     },
     "execution_count": 10,
     "metadata": {},
     "output_type": "execute_result"
    }
   ],
   "source": [
    "\"\"\"from textblob import TextBlob\n",
    "def textblob_polarity(text):\n",
    " return TextBlob(text).sentiment.polarity\n",
    "def getAnalysis(score):\n",
    "    if score < 0:\n",
    "        return 'Negative'\n",
    "    elif score == 0:\n",
    "        return 'Neutral'\n",
    "    else:\n",
    "        return 'Positive'\n",
    "df['polarity'] = df[text].apply(textblob_polarity)\n",
    "df['classification'] = df['polarity'].apply(getAnalysis)\"\"\""
   ]
  },
  {
   "cell_type": "code",
   "execution_count": 11,
   "id": "140d3e84-c934-4b78-a1cb-130e0eea5313",
   "metadata": {},
   "outputs": [
    {
     "name": "stdout",
     "output_type": "stream",
     "text": [
      "Temps pris : 36.762694358825684\n"
     ]
    }
   ],
   "source": [
    "start = time.time()\n",
    "\n",
    "df[\"textblob-score\"]=pd.Series(dtype=int)\n",
    "def textblob_score(text):\n",
    "    return TextBlob(text).sentiment.polarity\n",
    "\n",
    "df[\"textblob-score\"]=df[\"contents\"].apply(textblob_score)\n",
    "\n",
    "end = time.time()\n",
    "print(\"Temps pris :\", end-start) #~40 secondes"
   ]
  },
  {
   "cell_type": "code",
   "execution_count": 14,
   "id": "52a9b138-da66-441b-9202-819a95991972",
   "metadata": {},
   "outputs": [
    {
     "name": "stdout",
     "output_type": "stream",
     "text": [
      "Score moyen : 0.10475803863429205\n",
      "Score médian : 0.1012273260839259\n"
     ]
    },
    {
     "data": {
      "text/plain": [
       "<AxesSubplot:>"
      ]
     },
     "execution_count": 14,
     "metadata": {},
     "output_type": "execute_result"
    },
    {
     "data": {
      "image/png": "[encoded data removed]",
      "text/plain": [
       "<Figure size 432x288 with 1 Axes>"
      ]
     },
     "metadata": {
      "needs_background": "light"
     },
     "output_type": "display_data"
    }
   ],
   "source": [
    "print(\"Score moyen :\", df[\"textblob-score\"].mean())\n",
    "print(\"Score médian :\",df[\"textblob-score\"].median())\n",
    "\n",
    "df[\"textblob-score\"].plot()"
   ]
  },
  {
   "cell_type": "code",
   "execution_count": null,
   "id": "895af378-3e0f-48d3-a58a-86770b506a79",
   "metadata": {},
   "outputs": [],
   "source": []
  },
  {
   "cell_type": "markdown",
   "id": "dff0c8ff-9662-4343-8772-9220baaf71f8",
   "metadata": {},
   "source": [
    "## Vader Sentiment Lexicon"
   ]
  },
  {
   "cell_type": "code",
   "execution_count": 27,
   "id": "b96e75f2-acc9-4bdc-9931-73fed4bb1a01",
   "metadata": {},
   "outputs": [
    {
     "data": {
      "text/plain": [
       "\"from vaderSentiment.vaderSentiment import SentimentIntensityAnalyzer\\ndef varder_polarity(text):\\n    return SentimentIntensityAnalyzer().polarity_scores(text)\\ndef varder_analysis(score):\\n    if score['compound'] >= 0.05:\\n        return 'Positive'\\n    elif score['compound'] <= -0.5:\\n        return 'Negative'\\n    else:\\n        return 'Neutral'\\ndf['polarity'] = df[text].apply(varder_analysis)\\ndf['classification'] = df['polarity'].apply(varder_analysis)\""
      ]
     },
     "execution_count": 27,
     "metadata": {},
     "output_type": "execute_result"
    }
   ],
   "source": [
    "\"\"\"from vaderSentiment.vaderSentiment import SentimentIntensityAnalyzer\n",
    "def varder_polarity(text):\n",
    "    return SentimentIntensityAnalyzer().polarity_scores(text)\n",
    "def varder_analysis(score):\n",
    "    if score['compound'] >= 0.05:\n",
    "        return 'Positive'\n",
    "    elif score['compound'] <= -0.5:\n",
    "        return 'Negative'\n",
    "    else:\n",
    "        return 'Neutral'\n",
    "df['polarity'] = df[text].apply(varder_analysis)\n",
    "df['classification'] = df['polarity'].apply(varder_analysis)\"\"\""
   ]
  },
  {
   "cell_type": "code",
   "execution_count": null,
   "id": "18a0c608-987b-4178-ab2d-fb2fa3a1a1f2",
   "metadata": {},
   "outputs": [],
   "source": [
    "start = time.time()\n",
    "\n",
    "# Exemple de résultat de de modèle\n",
    "# {'neg': 0.029, 'neu': 0.878, 'pos': 0.092, 'compound': 0.9999}\n",
    "df[\"vader-score\"]=pd.Series(dtype=int)\n",
    "\n",
    "def vader_score(text):\n",
    "    #retourne un dictionnaire\n",
    "    return SentimentIntensityAnalyzer().polarity_scores(text)\n",
    "\n",
    "def vader_score_compound(text):\n",
    "    #retourne un float\n",
    "    return SentimentIntensityAnalyzer().polarity_scores(text)['compound']\n",
    "\n",
    "df[\"vader-score\"]=df[\"contents\"].apply(vader_score_compound)\n",
    "\n",
    "end = time.time()\n",
    "print(\"Temps pris :\", end-start) #22 minutes pour vader_score"
   ]
  },
  {
   "cell_type": "code",
   "execution_count": null,
   "id": "72b60e5f-8eef-45b5-bdbc-2cc6f5284925",
   "metadata": {},
   "outputs": [],
   "source": [
    "print(\"Score moyen :\", df[\"vader-score\"].mean())\n",
    "print(\"Score médian :\",df[\"vader-score\"].median())\n",
    "\n",
    "df[\"vader-score\"].plot()"
   ]
  },
  {
   "cell_type": "code",
   "execution_count": null,
   "id": "67e0602a-a28a-412d-8dd6-9d532c067903",
   "metadata": {},
   "outputs": [],
   "source": []
  },
  {
   "cell_type": "code",
   "execution_count": null,
   "id": "ebaa1a77-fef2-4a2f-be2e-298fe8d5b9f4",
   "metadata": {},
   "outputs": [],
   "source": []
  },
  {
   "cell_type": "code",
   "execution_count": null,
   "id": "e7cf44d6-1aa5-4829-93e4-2aed844d6ad8",
   "metadata": {},
   "outputs": [],
   "source": []
  },
  {
   "cell_type": "code",
   "execution_count": null,
   "id": "06a1cd58-9094-4ca5-95fb-22b913b6fb13",
   "metadata": {},
   "outputs": [],
   "source": []
  }
 ],
 "metadata": {
  "kernelspec": {
   "display_name": "Python 3 (ipykernel)",
   "language": "python",
   "name": "python3"
  },
  "language_info": {
   "codemirror_mode": {
    "name": "ipython",
    "version": 3
   },
   "file_extension": ".py",
   "mimetype": "text/x-python",
   "name": "python",
   "nbconvert_exporter": "python",
   "pygments_lexer": "ipython3",
   "version": "3.8.5"
  }
 },
 "nbformat": 4,
 "nbformat_minor": 5
}
