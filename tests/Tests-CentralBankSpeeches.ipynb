{
 "cells": [
  {
   "cell_type": "markdown",
   "metadata": {},
   "source": [
    "# Analyse du discours des Banques Centrales"
   ]
  },
  {
   "cell_type": "code",
   "execution_count": 1,
   "metadata": {},
   "outputs": [],
   "source": [
    "import datetime\n",
    "import copy as c\n",
    "import random\n",
    "import collections\n",
    "import time\n",
    "\n",
    "import pandas as pd\n",
    "import numpy as np\n",
    "import matplotlib.pyplot as plt\n",
    "import re\n",
    "import nltk\n",
    "from nltk.corpus import stopwords\n",
    "#!pip install spacy\n",
    "#!pip install spacy-langdetect\n",
    "import spacy\n",
    "from spacy.language import Language\n",
    "from spacy_langdetect import LanguageDetector\n",
    "#!python -m spacy download en_core_web_lg "
   ]
  },
  {
   "cell_type": "code",
   "execution_count": 56,
   "metadata": {},
   "outputs": [],
   "source": [
    "url=\"https://www.ecb.europa.eu/press/key/shared/data/all_ECB_speeches.csv?848ea64ce6d77827b5e8e18790878b64\"\n",
    "#df=pd.read_csv(url,sep = \"|\",encoding='utf-8')\n",
    "\n",
    "# Une connexion lente peut obliger à télécharger le fichier en local\n",
    "url_local=r\"C:\\Users\\Antoine\\Downloads\\all_ECB_speeches.csv\"\n",
    "df=pd.read_csv(url_local,sep = \"|\",encoding='utf-8')\n",
    "\n",
    "# fichier mis à jour tous les mois, dernière version : 1er décembre 2021 (47,8 Mo)\n",
    "# à récupérer à l'adresse : https://www.ecb.europa.eu/press/key/html/downloads.en.html\n",
    "# 2549 discours de responsables de la BCE entre 1997 et 2021"
   ]
  },
  {
   "cell_type": "code",
   "execution_count": 52,
   "metadata": {},
   "outputs": [
    {
     "data": {
      "text/html": [
       "<div>\n",
       "<style scoped>\n",
       "    .dataframe tbody tr th:only-of-type {\n",
       "        vertical-align: middle;\n",
       "    }\n",
       "\n",
       "    .dataframe tbody tr th {\n",
       "        vertical-align: top;\n",
       "    }\n",
       "\n",
       "    .dataframe thead th {\n",
       "        text-align: right;\n",
       "    }\n",
       "</style>\n",
       "<table border=\"1\" class=\"dataframe\">\n",
       "  <thead>\n",
       "    <tr style=\"text-align: right;\">\n",
       "      <th></th>\n",
       "      <th>date</th>\n",
       "      <th>speakers</th>\n",
       "      <th>title</th>\n",
       "      <th>subtitle</th>\n",
       "      <th>contents</th>\n",
       "    </tr>\n",
       "  </thead>\n",
       "  <tbody>\n",
       "    <tr>\n",
       "      <th>0</th>\n",
       "      <td>2021-11-29</td>\n",
       "      <td>Christine Lagarde</td>\n",
       "      <td>Dialogue in a changing world</td>\n",
       "      <td>Lectio Magistralis by Christine Lagarde, Presi...</td>\n",
       "      <td>SPEECH  Dialogue in a changing world   Lect...</td>\n",
       "    </tr>\n",
       "    <tr>\n",
       "      <th>1</th>\n",
       "      <td>2021-11-29</td>\n",
       "      <td>Isabel Schnabel</td>\n",
       "      <td>Inflation im Euroraum: Ursachen und Ausblick</td>\n",
       "      <td>Presentation by Isabel Schnabel, Member of the...</td>\n",
       "      <td>NaN</td>\n",
       "    </tr>\n",
       "    <tr>\n",
       "      <th>2</th>\n",
       "      <td>2021-11-26</td>\n",
       "      <td>Christine Lagarde</td>\n",
       "      <td>Change and continuity in law</td>\n",
       "      <td>Keynote speech by Christine Lagarde, President...</td>\n",
       "      <td>SPEECH  Change and continuity in law   Keyn...</td>\n",
       "    </tr>\n",
       "    <tr>\n",
       "      <th>3</th>\n",
       "      <td>2021-11-25</td>\n",
       "      <td>Frank Elderson</td>\n",
       "      <td>When you need change to preserve continuity: c...</td>\n",
       "      <td>Speech by Frank Elderson, Member of the Execut...</td>\n",
       "      <td>SPEECH  When you need change to preserve co...</td>\n",
       "    </tr>\n",
       "    <tr>\n",
       "      <th>4</th>\n",
       "      <td>2021-11-25</td>\n",
       "      <td>Isabel Schnabel</td>\n",
       "      <td>Inflation im Euroraum: Ursachen und Ausblick</td>\n",
       "      <td>Presentation by Isabel Schnabel, Member of the...</td>\n",
       "      <td>NaN</td>\n",
       "    </tr>\n",
       "    <tr>\n",
       "      <th>...</th>\n",
       "      <td>...</td>\n",
       "      <td>...</td>\n",
       "      <td>...</td>\n",
       "      <td>...</td>\n",
       "      <td>...</td>\n",
       "    </tr>\n",
       "    <tr>\n",
       "      <th>2544</th>\n",
       "      <td>1997-05-13</td>\n",
       "      <td>Alexandre Lamfalussy</td>\n",
       "      <td>The European Central Bank: independent and acc...</td>\n",
       "      <td>Keynote speech delivered by Alexandre Lamfalus...</td>\n",
       "      <td>The European Central Bank: independent and a...</td>\n",
       "    </tr>\n",
       "    <tr>\n",
       "      <th>2545</th>\n",
       "      <td>1997-04-30</td>\n",
       "      <td>Alexandre Lamfalussy</td>\n",
       "      <td>The operation of monetary policy in stage thre...</td>\n",
       "      <td>Address by Alexandre Lamfalussy, President of ...</td>\n",
       "      <td>The operation of monetary policy in stage th...</td>\n",
       "    </tr>\n",
       "    <tr>\n",
       "      <th>2546</th>\n",
       "      <td>1997-04-22</td>\n",
       "      <td>Alexandre Lamfalussy</td>\n",
       "      <td>Convergence and the role of the European Centr...</td>\n",
       "      <td>Remarks by Alexandre Lamfalussy, President of ...</td>\n",
       "      <td>Convergence and the role of the European Cen...</td>\n",
       "    </tr>\n",
       "    <tr>\n",
       "      <th>2547</th>\n",
       "      <td>1997-03-10</td>\n",
       "      <td>Alexandre Lamfalussy</td>\n",
       "      <td>Securing the benefits of EMU</td>\n",
       "      <td>Address by Alexandre Lamfalussy, President of ...</td>\n",
       "      <td>Securing the benefits of EMU   Address by Al...</td>\n",
       "    </tr>\n",
       "    <tr>\n",
       "      <th>2548</th>\n",
       "      <td>1997-02-07</td>\n",
       "      <td>Alexandre Lamfalussy</td>\n",
       "      <td>Conference organised by the Hungarian Banking ...</td>\n",
       "      <td>Address by Alexandre Lamfalussy, President of ...</td>\n",
       "      <td>Conference organised by the Hungarian Bankin...</td>\n",
       "    </tr>\n",
       "  </tbody>\n",
       "</table>\n",
       "<p>2549 rows × 5 columns</p>\n",
       "</div>"
      ],
      "text/plain": [
       "            date              speakers  \\\n",
       "0     2021-11-29     Christine Lagarde   \n",
       "1     2021-11-29       Isabel Schnabel   \n",
       "2     2021-11-26     Christine Lagarde   \n",
       "3     2021-11-25        Frank Elderson   \n",
       "4     2021-11-25       Isabel Schnabel   \n",
       "...          ...                   ...   \n",
       "2544  1997-05-13  Alexandre Lamfalussy   \n",
       "2545  1997-04-30  Alexandre Lamfalussy   \n",
       "2546  1997-04-22  Alexandre Lamfalussy   \n",
       "2547  1997-03-10  Alexandre Lamfalussy   \n",
       "2548  1997-02-07  Alexandre Lamfalussy   \n",
       "\n",
       "                                                  title  \\\n",
       "0                          Dialogue in a changing world   \n",
       "1          Inflation im Euroraum: Ursachen und Ausblick   \n",
       "2                          Change and continuity in law   \n",
       "3     When you need change to preserve continuity: c...   \n",
       "4          Inflation im Euroraum: Ursachen und Ausblick   \n",
       "...                                                 ...   \n",
       "2544  The European Central Bank: independent and acc...   \n",
       "2545  The operation of monetary policy in stage thre...   \n",
       "2546  Convergence and the role of the European Centr...   \n",
       "2547                       Securing the benefits of EMU   \n",
       "2548  Conference organised by the Hungarian Banking ...   \n",
       "\n",
       "                                               subtitle  \\\n",
       "0     Lectio Magistralis by Christine Lagarde, Presi...   \n",
       "1     Presentation by Isabel Schnabel, Member of the...   \n",
       "2     Keynote speech by Christine Lagarde, President...   \n",
       "3     Speech by Frank Elderson, Member of the Execut...   \n",
       "4     Presentation by Isabel Schnabel, Member of the...   \n",
       "...                                                 ...   \n",
       "2544  Keynote speech delivered by Alexandre Lamfalus...   \n",
       "2545  Address by Alexandre Lamfalussy, President of ...   \n",
       "2546  Remarks by Alexandre Lamfalussy, President of ...   \n",
       "2547  Address by Alexandre Lamfalussy, President of ...   \n",
       "2548  Address by Alexandre Lamfalussy, President of ...   \n",
       "\n",
       "                                               contents  \n",
       "0        SPEECH  Dialogue in a changing world   Lect...  \n",
       "1                                                   NaN  \n",
       "2        SPEECH  Change and continuity in law   Keyn...  \n",
       "3        SPEECH  When you need change to preserve co...  \n",
       "4                                                   NaN  \n",
       "...                                                 ...  \n",
       "2544    The European Central Bank: independent and a...  \n",
       "2545    The operation of monetary policy in stage th...  \n",
       "2546    Convergence and the role of the European Cen...  \n",
       "2547    Securing the benefits of EMU   Address by Al...  \n",
       "2548    Conference organised by the Hungarian Bankin...  \n",
       "\n",
       "[2549 rows x 5 columns]"
      ]
     },
     "execution_count": 52,
     "metadata": {},
     "output_type": "execute_result"
    }
   ],
   "source": [
    "df"
   ]
  },
  {
   "cell_type": "code",
   "execution_count": 4,
   "metadata": {},
   "outputs": [
    {
     "name": "stdout",
     "output_type": "stream",
     "text": [
      "date         0\n",
      "speakers     1\n",
      "title        0\n",
      "subtitle     1\n",
      "contents    39\n",
      "dtype: int64\n"
     ]
    },
    {
     "data": {
      "text/html": [
       "<div>\n",
       "<style scoped>\n",
       "    .dataframe tbody tr th:only-of-type {\n",
       "        vertical-align: middle;\n",
       "    }\n",
       "\n",
       "    .dataframe tbody tr th {\n",
       "        vertical-align: top;\n",
       "    }\n",
       "\n",
       "    .dataframe thead th {\n",
       "        text-align: right;\n",
       "    }\n",
       "</style>\n",
       "<table border=\"1\" class=\"dataframe\">\n",
       "  <thead>\n",
       "    <tr style=\"text-align: right;\">\n",
       "      <th></th>\n",
       "      <th>date</th>\n",
       "      <th>speakers</th>\n",
       "      <th>title</th>\n",
       "      <th>subtitle</th>\n",
       "      <th>contents</th>\n",
       "    </tr>\n",
       "  </thead>\n",
       "  <tbody>\n",
       "    <tr>\n",
       "      <th>1</th>\n",
       "      <td>2021-11-29</td>\n",
       "      <td>Isabel Schnabel</td>\n",
       "      <td>Inflation im Euroraum: Ursachen und Ausblick</td>\n",
       "      <td>Presentation by Isabel Schnabel, Member of the...</td>\n",
       "      <td>NaN</td>\n",
       "    </tr>\n",
       "    <tr>\n",
       "      <th>4</th>\n",
       "      <td>2021-11-25</td>\n",
       "      <td>Isabel Schnabel</td>\n",
       "      <td>Inflation im Euroraum: Ursachen und Ausblick</td>\n",
       "      <td>Presentation by Isabel Schnabel, Member of the...</td>\n",
       "      <td>NaN</td>\n",
       "    </tr>\n",
       "    <tr>\n",
       "      <th>5</th>\n",
       "      <td>2021-11-24</td>\n",
       "      <td>Isabel Schnabel</td>\n",
       "      <td>A new strategy for a changing world</td>\n",
       "      <td>Presentation by Isabel Schnabel, Member of the...</td>\n",
       "      <td>NaN</td>\n",
       "    </tr>\n",
       "    <tr>\n",
       "      <th>14</th>\n",
       "      <td>2021-11-11</td>\n",
       "      <td>Philip R. Lane</td>\n",
       "      <td>Expectations surveys: a tool for research and ...</td>\n",
       "      <td>Introductory remarks by Philip R. Lane, Member...</td>\n",
       "      <td>NaN</td>\n",
       "    </tr>\n",
       "    <tr>\n",
       "      <th>17</th>\n",
       "      <td>2021-11-09</td>\n",
       "      <td>Fabio Panetta</td>\n",
       "      <td>Digital currencies around the world – what are...</td>\n",
       "      <td>Presentation by Fabio Panetta, Member of the E...</td>\n",
       "      <td>NaN</td>\n",
       "    </tr>\n",
       "    <tr>\n",
       "      <th>31</th>\n",
       "      <td>2021-10-07</td>\n",
       "      <td>Philip R. Lane</td>\n",
       "      <td>Data analysis and monetary policy during the p...</td>\n",
       "      <td>Presentation by Philip R. Lane, Member of the ...</td>\n",
       "      <td>NaN</td>\n",
       "    </tr>\n",
       "    <tr>\n",
       "      <th>41</th>\n",
       "      <td>2021-09-15</td>\n",
       "      <td>Philip R. Lane</td>\n",
       "      <td>The ECB's monetary policy strategy review - IM...</td>\n",
       "      <td>Presentation by Philip R. Lane, Member of the ...</td>\n",
       "      <td>NaN</td>\n",
       "    </tr>\n",
       "    <tr>\n",
       "      <th>44</th>\n",
       "      <td>2021-08-26</td>\n",
       "      <td>Isabel Schnabel</td>\n",
       "      <td>Die neue geldpolitische Strategie der Europäis...</td>\n",
       "      <td>Vortrag von Isabel Schnabel, Mitglied des Dire...</td>\n",
       "      <td>NaN</td>\n",
       "    </tr>\n",
       "    <tr>\n",
       "      <th>52</th>\n",
       "      <td>2021-06-24</td>\n",
       "      <td>Isabel Schnabel</td>\n",
       "      <td>The ECB’s policy response to the COVID-19 pand...</td>\n",
       "      <td>Guest lecture by Isabel Schnabel, Member of th...</td>\n",
       "      <td>NaN</td>\n",
       "    </tr>\n",
       "    <tr>\n",
       "      <th>53</th>\n",
       "      <td>2021-06-22</td>\n",
       "      <td>Isabel Schnabel</td>\n",
       "      <td>Die Geldpolitik der EZB in der Corona-Krise</td>\n",
       "      <td>Vortrag von Isabel Schnabel, Mitglied des Dire...</td>\n",
       "      <td>NaN</td>\n",
       "    </tr>\n",
       "    <tr>\n",
       "      <th>54</th>\n",
       "      <td>2021-06-22</td>\n",
       "      <td>Philip R. Lane</td>\n",
       "      <td>The resilience of the euro</td>\n",
       "      <td>Lecture by Philip R. Lane, Member of the Execu...</td>\n",
       "      <td>NaN</td>\n",
       "    </tr>\n",
       "    <tr>\n",
       "      <th>63</th>\n",
       "      <td>2021-05-25</td>\n",
       "      <td>Philip R. Lane</td>\n",
       "      <td>The ECB strategy review</td>\n",
       "      <td>Presentation by Philip R. Lane, Member of the ...</td>\n",
       "      <td>NaN</td>\n",
       "    </tr>\n",
       "    <tr>\n",
       "      <th>66</th>\n",
       "      <td>2021-05-05</td>\n",
       "      <td>Philip R. Lane</td>\n",
       "      <td>Taking stock: The ECB strategy review and curr...</td>\n",
       "      <td>Speech by Philip R. Lane, Member of the Execut...</td>\n",
       "      <td>NaN</td>\n",
       "    </tr>\n",
       "    <tr>\n",
       "      <th>70</th>\n",
       "      <td>2021-04-14</td>\n",
       "      <td>Isabel Schnabel</td>\n",
       "      <td>Die Geldpolitik der EZB in der Corona-Krise</td>\n",
       "      <td>Vortrag von Isabel Schnabel, Mitglied des Dire...</td>\n",
       "      <td>NaN</td>\n",
       "    </tr>\n",
       "    <tr>\n",
       "      <th>76</th>\n",
       "      <td>2021-03-18</td>\n",
       "      <td>NaN</td>\n",
       "      <td>Die Geldpolitik der EZB in der Corona-Krise</td>\n",
       "      <td>Vortrag von Isabel Schnabel, Mitglied des Dire...</td>\n",
       "      <td>NaN</td>\n",
       "    </tr>\n",
       "    <tr>\n",
       "      <th>85</th>\n",
       "      <td>2021-02-25</td>\n",
       "      <td>Luis de Guindos</td>\n",
       "      <td>Sources of risk and vulnerabilities for financ...</td>\n",
       "      <td>Presentation by Luis de Guindos, Vice-Presiden...</td>\n",
       "      <td>NaN</td>\n",
       "    </tr>\n",
       "    <tr>\n",
       "      <th>88</th>\n",
       "      <td>2021-02-18</td>\n",
       "      <td>Isabel Schnabel</td>\n",
       "      <td>The ECB's policy response to the COVID-19 pand...</td>\n",
       "      <td>Guest lecture by Isabel Schnabel, Member of th...</td>\n",
       "      <td>NaN</td>\n",
       "    </tr>\n",
       "    <tr>\n",
       "      <th>96</th>\n",
       "      <td>2020-12-17</td>\n",
       "      <td>Isabel Schnabel</td>\n",
       "      <td>Climate change and monetary policy</td>\n",
       "      <td>Presentation by Isabel Schnabel, Member of the...</td>\n",
       "      <td>NaN</td>\n",
       "    </tr>\n",
       "    <tr>\n",
       "      <th>99</th>\n",
       "      <td>2020-12-15</td>\n",
       "      <td>Philip R. Lane</td>\n",
       "      <td>The resilience of the euro</td>\n",
       "      <td>Presentation by Philip R. Lane, Member of the ...</td>\n",
       "      <td>NaN</td>\n",
       "    </tr>\n",
       "    <tr>\n",
       "      <th>104</th>\n",
       "      <td>2020-11-24</td>\n",
       "      <td>Philip R. Lane</td>\n",
       "      <td>IMF Policy dialogue: New policy frameworks for...</td>\n",
       "      <td>NaN</td>\n",
       "      <td>NaN</td>\n",
       "    </tr>\n",
       "    <tr>\n",
       "      <th>113</th>\n",
       "      <td>2020-11-05</td>\n",
       "      <td>Isabel Schnabel</td>\n",
       "      <td>Unequal scars – distributional consequences of...</td>\n",
       "      <td>Presentation by Isabel Schnabel, Member of the...</td>\n",
       "      <td>NaN</td>\n",
       "    </tr>\n",
       "    <tr>\n",
       "      <th>120</th>\n",
       "      <td>2020-10-21</td>\n",
       "      <td>Philip R. Lane</td>\n",
       "      <td>International flows and the pandemic: evidence...</td>\n",
       "      <td>Presentation by Philip R. Lane, Member of the ...</td>\n",
       "      <td>NaN</td>\n",
       "    </tr>\n",
       "    <tr>\n",
       "      <th>124</th>\n",
       "      <td>2020-10-14</td>\n",
       "      <td>Philip R. Lane</td>\n",
       "      <td>The pandemic and ECB monetary policy</td>\n",
       "      <td>Presentation by Philip R. Lane, Member of the ...</td>\n",
       "      <td>NaN</td>\n",
       "    </tr>\n",
       "    <tr>\n",
       "      <th>129</th>\n",
       "      <td>2020-10-01</td>\n",
       "      <td>Philip R. Lane</td>\n",
       "      <td>The euro area: a laboratory for international ...</td>\n",
       "      <td>Presentation by Philip R. Lane, Member of the ...</td>\n",
       "      <td>NaN</td>\n",
       "    </tr>\n",
       "    <tr>\n",
       "      <th>148</th>\n",
       "      <td>2020-07-02</td>\n",
       "      <td>Isabel Schnabel</td>\n",
       "      <td>The ECB’s monetary policy during the coronavir...</td>\n",
       "      <td>Presentation by Isabel Schnabel, Member of the...</td>\n",
       "      <td>NaN</td>\n",
       "    </tr>\n",
       "    <tr>\n",
       "      <th>153</th>\n",
       "      <td>2020-06-25</td>\n",
       "      <td>Isabel Schnabel</td>\n",
       "      <td>The ECB's policy response to the COVID-19 crisis</td>\n",
       "      <td>Informal welcome remarks by Isabel Schnabel, M...</td>\n",
       "      <td>NaN</td>\n",
       "    </tr>\n",
       "    <tr>\n",
       "      <th>155</th>\n",
       "      <td>2020-06-22</td>\n",
       "      <td>Philip R. Lane</td>\n",
       "      <td>Understanding the pandemic emergency purchase ...</td>\n",
       "      <td>Presentation by Philip R. Lane, Member of the ...</td>\n",
       "      <td>NaN</td>\n",
       "    </tr>\n",
       "    <tr>\n",
       "      <th>184</th>\n",
       "      <td>2020-02-05</td>\n",
       "      <td>Philip R. Lane</td>\n",
       "      <td>The future of the euro</td>\n",
       "      <td>Presentation by Philip R. Lane, Member of the ...</td>\n",
       "      <td>NaN</td>\n",
       "    </tr>\n",
       "    <tr>\n",
       "      <th>188</th>\n",
       "      <td>2020-01-09</td>\n",
       "      <td>Isabel Schnabel</td>\n",
       "      <td>Mehr Europa für eine stabile gemeinsame Währung</td>\n",
       "      <td>Vortrag von Isabel Schnabel, Mitglied des Dire...</td>\n",
       "      <td>NaN</td>\n",
       "    </tr>\n",
       "    <tr>\n",
       "      <th>189</th>\n",
       "      <td>2020-01-09</td>\n",
       "      <td>Philip R. Lane</td>\n",
       "      <td>Policy Frameworks and Strategies for an Open E...</td>\n",
       "      <td>Presentation by Philip R. Lane, Member of the ...</td>\n",
       "      <td>NaN</td>\n",
       "    </tr>\n",
       "    <tr>\n",
       "      <th>208</th>\n",
       "      <td>2019-11-15</td>\n",
       "      <td>Philip R. Lane</td>\n",
       "      <td>Europe’s role in a changing global economy</td>\n",
       "      <td>Presentation by Philip R. Lane, Member of the ...</td>\n",
       "      <td>NaN</td>\n",
       "    </tr>\n",
       "    <tr>\n",
       "      <th>220</th>\n",
       "      <td>2019-10-16</td>\n",
       "      <td>Philip R. Lane</td>\n",
       "      <td>The economic outlook for the euro area</td>\n",
       "      <td>Presentation by Philip R. Lane, Member of the ...</td>\n",
       "      <td>NaN</td>\n",
       "    </tr>\n",
       "    <tr>\n",
       "      <th>237</th>\n",
       "      <td>2019-09-04</td>\n",
       "      <td>Philip R. Lane</td>\n",
       "      <td>The Phillips Curve at the ECB</td>\n",
       "      <td>Keynote lecture by Philip R. Lane, Member of t...</td>\n",
       "      <td>NaN</td>\n",
       "    </tr>\n",
       "    <tr>\n",
       "      <th>249</th>\n",
       "      <td>2019-06-24</td>\n",
       "      <td>Sabine Lautenschläger</td>\n",
       "      <td>Die EZB, das Geld und die Wirtschaft: Von A wi...</td>\n",
       "      <td>Presentation by Sabine Lautenschläger, Member ...</td>\n",
       "      <td>NaN</td>\n",
       "    </tr>\n",
       "    <tr>\n",
       "      <th>288</th>\n",
       "      <td>2019-02-20</td>\n",
       "      <td>Peter Praet</td>\n",
       "      <td>Economic situation and outlook</td>\n",
       "      <td>Presentation by Peter Praet, Member of the Exe...</td>\n",
       "      <td>NaN</td>\n",
       "    </tr>\n",
       "    <tr>\n",
       "      <th>346</th>\n",
       "      <td>2018-09-17</td>\n",
       "      <td>Peter Praet</td>\n",
       "      <td>Economic developments in the euro area</td>\n",
       "      <td>Presentation by Peter Praet, Member of the Exe...</td>\n",
       "      <td>NaN</td>\n",
       "    </tr>\n",
       "    <tr>\n",
       "      <th>353</th>\n",
       "      <td>2018-08-28</td>\n",
       "      <td>Peter Praet</td>\n",
       "      <td>Monetary and Macroprudential Policy Interactions</td>\n",
       "      <td>Presentation by Peter Praet, Member of the Exe...</td>\n",
       "      <td>NaN</td>\n",
       "    </tr>\n",
       "    <tr>\n",
       "      <th>364</th>\n",
       "      <td>2018-06-15</td>\n",
       "      <td>Benoît Cœuré</td>\n",
       "      <td>The euro area economic outlook and completion ...</td>\n",
       "      <td>Speech by Benoît Cœuré, Member of the Executiv...</td>\n",
       "      <td>NaN</td>\n",
       "    </tr>\n",
       "    <tr>\n",
       "      <th>1723</th>\n",
       "      <td>2007-08-29</td>\n",
       "      <td>Gertrude Tumpel-Gugerell</td>\n",
       "      <td>Better Regulation“ im Finanzsektor - die Sicht...</td>\n",
       "      <td>„Better Regulation“ im Finanzsektor – die Si...</td>\n",
       "      <td>NaN</td>\n",
       "    </tr>\n",
       "  </tbody>\n",
       "</table>\n",
       "</div>"
      ],
      "text/plain": [
       "            date                  speakers  \\\n",
       "1     2021-11-29           Isabel Schnabel   \n",
       "4     2021-11-25           Isabel Schnabel   \n",
       "5     2021-11-24           Isabel Schnabel   \n",
       "14    2021-11-11            Philip R. Lane   \n",
       "17    2021-11-09             Fabio Panetta   \n",
       "31    2021-10-07            Philip R. Lane   \n",
       "41    2021-09-15            Philip R. Lane   \n",
       "44    2021-08-26           Isabel Schnabel   \n",
       "52    2021-06-24           Isabel Schnabel   \n",
       "53    2021-06-22           Isabel Schnabel   \n",
       "54    2021-06-22            Philip R. Lane   \n",
       "63    2021-05-25            Philip R. Lane   \n",
       "66    2021-05-05            Philip R. Lane   \n",
       "70    2021-04-14           Isabel Schnabel   \n",
       "76    2021-03-18                       NaN   \n",
       "85    2021-02-25           Luis de Guindos   \n",
       "88    2021-02-18           Isabel Schnabel   \n",
       "96    2020-12-17           Isabel Schnabel   \n",
       "99    2020-12-15            Philip R. Lane   \n",
       "104   2020-11-24            Philip R. Lane   \n",
       "113   2020-11-05           Isabel Schnabel   \n",
       "120   2020-10-21            Philip R. Lane   \n",
       "124   2020-10-14            Philip R. Lane   \n",
       "129   2020-10-01            Philip R. Lane   \n",
       "148   2020-07-02           Isabel Schnabel   \n",
       "153   2020-06-25           Isabel Schnabel   \n",
       "155   2020-06-22            Philip R. Lane   \n",
       "184   2020-02-05            Philip R. Lane   \n",
       "188   2020-01-09           Isabel Schnabel   \n",
       "189   2020-01-09            Philip R. Lane   \n",
       "208   2019-11-15            Philip R. Lane   \n",
       "220   2019-10-16            Philip R. Lane   \n",
       "237   2019-09-04            Philip R. Lane   \n",
       "249   2019-06-24     Sabine Lautenschläger   \n",
       "288   2019-02-20               Peter Praet   \n",
       "346   2018-09-17               Peter Praet   \n",
       "353   2018-08-28               Peter Praet   \n",
       "364   2018-06-15              Benoît Cœuré   \n",
       "1723  2007-08-29  Gertrude Tumpel-Gugerell   \n",
       "\n",
       "                                                  title  \\\n",
       "1          Inflation im Euroraum: Ursachen und Ausblick   \n",
       "4          Inflation im Euroraum: Ursachen und Ausblick   \n",
       "5                   A new strategy for a changing world   \n",
       "14    Expectations surveys: a tool for research and ...   \n",
       "17    Digital currencies around the world – what are...   \n",
       "31    Data analysis and monetary policy during the p...   \n",
       "41    The ECB's monetary policy strategy review - IM...   \n",
       "44    Die neue geldpolitische Strategie der Europäis...   \n",
       "52    The ECB’s policy response to the COVID-19 pand...   \n",
       "53          Die Geldpolitik der EZB in der Corona-Krise   \n",
       "54                           The resilience of the euro   \n",
       "63                              The ECB strategy review   \n",
       "66    Taking stock: The ECB strategy review and curr...   \n",
       "70          Die Geldpolitik der EZB in der Corona-Krise   \n",
       "76          Die Geldpolitik der EZB in der Corona-Krise   \n",
       "85    Sources of risk and vulnerabilities for financ...   \n",
       "88    The ECB's policy response to the COVID-19 pand...   \n",
       "96                   Climate change and monetary policy   \n",
       "99                           The resilience of the euro   \n",
       "104   IMF Policy dialogue: New policy frameworks for...   \n",
       "113   Unequal scars – distributional consequences of...   \n",
       "120   International flows and the pandemic: evidence...   \n",
       "124                The pandemic and ECB monetary policy   \n",
       "129   The euro area: a laboratory for international ...   \n",
       "148   The ECB’s monetary policy during the coronavir...   \n",
       "153    The ECB's policy response to the COVID-19 crisis   \n",
       "155   Understanding the pandemic emergency purchase ...   \n",
       "184                              The future of the euro   \n",
       "188     Mehr Europa für eine stabile gemeinsame Währung   \n",
       "189   Policy Frameworks and Strategies for an Open E...   \n",
       "208          Europe’s role in a changing global economy   \n",
       "220              The economic outlook for the euro area   \n",
       "237                       The Phillips Curve at the ECB   \n",
       "249   Die EZB, das Geld und die Wirtschaft: Von A wi...   \n",
       "288                      Economic situation and outlook   \n",
       "346              Economic developments in the euro area   \n",
       "353    Monetary and Macroprudential Policy Interactions   \n",
       "364   The euro area economic outlook and completion ...   \n",
       "1723  Better Regulation“ im Finanzsektor - die Sicht...   \n",
       "\n",
       "                                               subtitle contents  \n",
       "1     Presentation by Isabel Schnabel, Member of the...      NaN  \n",
       "4     Presentation by Isabel Schnabel, Member of the...      NaN  \n",
       "5     Presentation by Isabel Schnabel, Member of the...      NaN  \n",
       "14    Introductory remarks by Philip R. Lane, Member...      NaN  \n",
       "17    Presentation by Fabio Panetta, Member of the E...      NaN  \n",
       "31    Presentation by Philip R. Lane, Member of the ...      NaN  \n",
       "41    Presentation by Philip R. Lane, Member of the ...      NaN  \n",
       "44    Vortrag von Isabel Schnabel, Mitglied des Dire...      NaN  \n",
       "52    Guest lecture by Isabel Schnabel, Member of th...      NaN  \n",
       "53    Vortrag von Isabel Schnabel, Mitglied des Dire...      NaN  \n",
       "54    Lecture by Philip R. Lane, Member of the Execu...      NaN  \n",
       "63    Presentation by Philip R. Lane, Member of the ...      NaN  \n",
       "66    Speech by Philip R. Lane, Member of the Execut...      NaN  \n",
       "70    Vortrag von Isabel Schnabel, Mitglied des Dire...      NaN  \n",
       "76    Vortrag von Isabel Schnabel, Mitglied des Dire...      NaN  \n",
       "85    Presentation by Luis de Guindos, Vice-Presiden...      NaN  \n",
       "88    Guest lecture by Isabel Schnabel, Member of th...      NaN  \n",
       "96    Presentation by Isabel Schnabel, Member of the...      NaN  \n",
       "99    Presentation by Philip R. Lane, Member of the ...      NaN  \n",
       "104                                                 NaN      NaN  \n",
       "113   Presentation by Isabel Schnabel, Member of the...      NaN  \n",
       "120   Presentation by Philip R. Lane, Member of the ...      NaN  \n",
       "124   Presentation by Philip R. Lane, Member of the ...      NaN  \n",
       "129   Presentation by Philip R. Lane, Member of the ...      NaN  \n",
       "148   Presentation by Isabel Schnabel, Member of the...      NaN  \n",
       "153   Informal welcome remarks by Isabel Schnabel, M...      NaN  \n",
       "155   Presentation by Philip R. Lane, Member of the ...      NaN  \n",
       "184   Presentation by Philip R. Lane, Member of the ...      NaN  \n",
       "188   Vortrag von Isabel Schnabel, Mitglied des Dire...      NaN  \n",
       "189   Presentation by Philip R. Lane, Member of the ...      NaN  \n",
       "208   Presentation by Philip R. Lane, Member of the ...      NaN  \n",
       "220   Presentation by Philip R. Lane, Member of the ...      NaN  \n",
       "237   Keynote lecture by Philip R. Lane, Member of t...      NaN  \n",
       "249   Presentation by Sabine Lautenschläger, Member ...      NaN  \n",
       "288   Presentation by Peter Praet, Member of the Exe...      NaN  \n",
       "346   Presentation by Peter Praet, Member of the Exe...      NaN  \n",
       "353   Presentation by Peter Praet, Member of the Exe...      NaN  \n",
       "364   Speech by Benoît Cœuré, Member of the Executiv...      NaN  \n",
       "1723    „Better Regulation“ im Finanzsektor – die Si...      NaN  "
      ]
     },
     "execution_count": 4,
     "metadata": {},
     "output_type": "execute_result"
    }
   ],
   "source": [
    "print(df.isna().sum())\n",
    "# on affiche un dataframe avec toutes les lignes contenant au moins un NaN\n",
    "df[df.isna().any(axis=1)] "
   ]
  },
  {
   "cell_type": "markdown",
   "metadata": {},
   "source": [
    "On remarque que pour tous les discours, on a seulement le titre et le speaker mais le contenu est NaN. Il faut donc mettre de côté tous ces discours sans contenu. Ce cas se présente seulement pour 39 discours (soit 1,5% de la base de données)."
   ]
  },
  {
   "cell_type": "code",
   "execution_count": 5,
   "metadata": {},
   "outputs": [],
   "source": [
    "df=df.dropna(axis='index',how='any')\n",
    "df=df.reset_index(drop=True)"
   ]
  },
  {
   "cell_type": "code",
   "execution_count": 6,
   "metadata": {},
   "outputs": [
    {
     "data": {
      "text/html": [
       "<div>\n",
       "<style scoped>\n",
       "    .dataframe tbody tr th:only-of-type {\n",
       "        vertical-align: middle;\n",
       "    }\n",
       "\n",
       "    .dataframe tbody tr th {\n",
       "        vertical-align: top;\n",
       "    }\n",
       "\n",
       "    .dataframe thead th {\n",
       "        text-align: right;\n",
       "    }\n",
       "</style>\n",
       "<table border=\"1\" class=\"dataframe\">\n",
       "  <thead>\n",
       "    <tr style=\"text-align: right;\">\n",
       "      <th></th>\n",
       "      <th>date</th>\n",
       "      <th>speakers</th>\n",
       "      <th>title</th>\n",
       "      <th>subtitle</th>\n",
       "      <th>contents</th>\n",
       "    </tr>\n",
       "  </thead>\n",
       "  <tbody>\n",
       "    <tr>\n",
       "      <th>0</th>\n",
       "      <td>2021-11-29</td>\n",
       "      <td>Christine Lagarde</td>\n",
       "      <td>Dialogue in a changing world</td>\n",
       "      <td>Lectio Magistralis by Christine Lagarde, Presi...</td>\n",
       "      <td>SPEECH  Dialogue in a changing world   Lect...</td>\n",
       "    </tr>\n",
       "    <tr>\n",
       "      <th>1</th>\n",
       "      <td>2021-11-26</td>\n",
       "      <td>Christine Lagarde</td>\n",
       "      <td>Change and continuity in law</td>\n",
       "      <td>Keynote speech by Christine Lagarde, President...</td>\n",
       "      <td>SPEECH  Change and continuity in law   Keyn...</td>\n",
       "    </tr>\n",
       "    <tr>\n",
       "      <th>2</th>\n",
       "      <td>2021-11-25</td>\n",
       "      <td>Frank Elderson</td>\n",
       "      <td>When you need change to preserve continuity: c...</td>\n",
       "      <td>Speech by Frank Elderson, Member of the Execut...</td>\n",
       "      <td>SPEECH  When you need change to preserve co...</td>\n",
       "    </tr>\n",
       "    <tr>\n",
       "      <th>3</th>\n",
       "      <td>2021-11-24</td>\n",
       "      <td>Fabio Panetta</td>\n",
       "      <td>Patient monetary policy amid a rocky recovery</td>\n",
       "      <td>Speech by Fabio Panetta, Member of the Executi...</td>\n",
       "      <td>SPEECH  Patient monetary policy amid a rock...</td>\n",
       "    </tr>\n",
       "    <tr>\n",
       "      <th>4</th>\n",
       "      <td>2021-11-22</td>\n",
       "      <td>Luis de Guindos</td>\n",
       "      <td>Ralph Koijen’s contribution to research on the...</td>\n",
       "      <td>Remarks by Luis de Guindos, Vice-President of ...</td>\n",
       "      <td>SPEECH  Ralph Koijen’s contribution to rese...</td>\n",
       "    </tr>\n",
       "    <tr>\n",
       "      <th>...</th>\n",
       "      <td>...</td>\n",
       "      <td>...</td>\n",
       "      <td>...</td>\n",
       "      <td>...</td>\n",
       "      <td>...</td>\n",
       "    </tr>\n",
       "    <tr>\n",
       "      <th>2505</th>\n",
       "      <td>1997-05-13</td>\n",
       "      <td>Alexandre Lamfalussy</td>\n",
       "      <td>The European Central Bank: independent and acc...</td>\n",
       "      <td>Keynote speech delivered by Alexandre Lamfalus...</td>\n",
       "      <td>The European Central Bank: independent and a...</td>\n",
       "    </tr>\n",
       "    <tr>\n",
       "      <th>2506</th>\n",
       "      <td>1997-04-30</td>\n",
       "      <td>Alexandre Lamfalussy</td>\n",
       "      <td>The operation of monetary policy in stage thre...</td>\n",
       "      <td>Address by Alexandre Lamfalussy, President of ...</td>\n",
       "      <td>The operation of monetary policy in stage th...</td>\n",
       "    </tr>\n",
       "    <tr>\n",
       "      <th>2507</th>\n",
       "      <td>1997-04-22</td>\n",
       "      <td>Alexandre Lamfalussy</td>\n",
       "      <td>Convergence and the role of the European Centr...</td>\n",
       "      <td>Remarks by Alexandre Lamfalussy, President of ...</td>\n",
       "      <td>Convergence and the role of the European Cen...</td>\n",
       "    </tr>\n",
       "    <tr>\n",
       "      <th>2508</th>\n",
       "      <td>1997-03-10</td>\n",
       "      <td>Alexandre Lamfalussy</td>\n",
       "      <td>Securing the benefits of EMU</td>\n",
       "      <td>Address by Alexandre Lamfalussy, President of ...</td>\n",
       "      <td>Securing the benefits of EMU   Address by Al...</td>\n",
       "    </tr>\n",
       "    <tr>\n",
       "      <th>2509</th>\n",
       "      <td>1997-02-07</td>\n",
       "      <td>Alexandre Lamfalussy</td>\n",
       "      <td>Conference organised by the Hungarian Banking ...</td>\n",
       "      <td>Address by Alexandre Lamfalussy, President of ...</td>\n",
       "      <td>Conference organised by the Hungarian Bankin...</td>\n",
       "    </tr>\n",
       "  </tbody>\n",
       "</table>\n",
       "<p>2510 rows × 5 columns</p>\n",
       "</div>"
      ],
      "text/plain": [
       "            date              speakers  \\\n",
       "0     2021-11-29     Christine Lagarde   \n",
       "1     2021-11-26     Christine Lagarde   \n",
       "2     2021-11-25        Frank Elderson   \n",
       "3     2021-11-24         Fabio Panetta   \n",
       "4     2021-11-22       Luis de Guindos   \n",
       "...          ...                   ...   \n",
       "2505  1997-05-13  Alexandre Lamfalussy   \n",
       "2506  1997-04-30  Alexandre Lamfalussy   \n",
       "2507  1997-04-22  Alexandre Lamfalussy   \n",
       "2508  1997-03-10  Alexandre Lamfalussy   \n",
       "2509  1997-02-07  Alexandre Lamfalussy   \n",
       "\n",
       "                                                  title  \\\n",
       "0                          Dialogue in a changing world   \n",
       "1                          Change and continuity in law   \n",
       "2     When you need change to preserve continuity: c...   \n",
       "3         Patient monetary policy amid a rocky recovery   \n",
       "4     Ralph Koijen’s contribution to research on the...   \n",
       "...                                                 ...   \n",
       "2505  The European Central Bank: independent and acc...   \n",
       "2506  The operation of monetary policy in stage thre...   \n",
       "2507  Convergence and the role of the European Centr...   \n",
       "2508                       Securing the benefits of EMU   \n",
       "2509  Conference organised by the Hungarian Banking ...   \n",
       "\n",
       "                                               subtitle  \\\n",
       "0     Lectio Magistralis by Christine Lagarde, Presi...   \n",
       "1     Keynote speech by Christine Lagarde, President...   \n",
       "2     Speech by Frank Elderson, Member of the Execut...   \n",
       "3     Speech by Fabio Panetta, Member of the Executi...   \n",
       "4     Remarks by Luis de Guindos, Vice-President of ...   \n",
       "...                                                 ...   \n",
       "2505  Keynote speech delivered by Alexandre Lamfalus...   \n",
       "2506  Address by Alexandre Lamfalussy, President of ...   \n",
       "2507  Remarks by Alexandre Lamfalussy, President of ...   \n",
       "2508  Address by Alexandre Lamfalussy, President of ...   \n",
       "2509  Address by Alexandre Lamfalussy, President of ...   \n",
       "\n",
       "                                               contents  \n",
       "0        SPEECH  Dialogue in a changing world   Lect...  \n",
       "1        SPEECH  Change and continuity in law   Keyn...  \n",
       "2        SPEECH  When you need change to preserve co...  \n",
       "3        SPEECH  Patient monetary policy amid a rock...  \n",
       "4        SPEECH  Ralph Koijen’s contribution to rese...  \n",
       "...                                                 ...  \n",
       "2505    The European Central Bank: independent and a...  \n",
       "2506    The operation of monetary policy in stage th...  \n",
       "2507    Convergence and the role of the European Cen...  \n",
       "2508    Securing the benefits of EMU   Address by Al...  \n",
       "2509    Conference organised by the Hungarian Bankin...  \n",
       "\n",
       "[2510 rows x 5 columns]"
      ]
     },
     "execution_count": 6,
     "metadata": {},
     "output_type": "execute_result"
    }
   ],
   "source": [
    "df"
   ]
  },
  {
   "cell_type": "markdown",
   "metadata": {},
   "source": [
    "### En explorant le dataset, on se rend compte que certains contenus de discours sont vides (empty string mais pas NaN).\n",
    "### Il faut donc retirer ces lignes du dataframe."
   ]
  },
  {
   "cell_type": "code",
   "execution_count": 7,
   "metadata": {},
   "outputs": [
    {
     "data": {
      "text/plain": [
       "[2009]"
      ]
     },
     "execution_count": 7,
     "metadata": {},
     "output_type": "execute_result"
    }
   ],
   "source": [
    "L=[]\n",
    "for i in range(len(df)):\n",
    "    if not bool(df[\"contents\"][i].strip()): #si le contenu du discours est vide\n",
    "        L.append(i)\n",
    "L # ne concerne qu'une ligne"
   ]
  },
  {
   "cell_type": "code",
   "execution_count": 8,
   "metadata": {},
   "outputs": [
    {
     "data": {
      "text/html": [
       "<div>\n",
       "<style scoped>\n",
       "    .dataframe tbody tr th:only-of-type {\n",
       "        vertical-align: middle;\n",
       "    }\n",
       "\n",
       "    .dataframe tbody tr th {\n",
       "        vertical-align: top;\n",
       "    }\n",
       "\n",
       "    .dataframe thead th {\n",
       "        text-align: right;\n",
       "    }\n",
       "</style>\n",
       "<table border=\"1\" class=\"dataframe\">\n",
       "  <thead>\n",
       "    <tr style=\"text-align: right;\">\n",
       "      <th></th>\n",
       "      <th>date</th>\n",
       "      <th>speakers</th>\n",
       "      <th>title</th>\n",
       "      <th>subtitle</th>\n",
       "      <th>contents</th>\n",
       "    </tr>\n",
       "  </thead>\n",
       "  <tbody>\n",
       "    <tr>\n",
       "      <th>0</th>\n",
       "      <td>2021-11-29</td>\n",
       "      <td>Christine Lagarde</td>\n",
       "      <td>Dialogue in a changing world</td>\n",
       "      <td>Lectio Magistralis by Christine Lagarde, Presi...</td>\n",
       "      <td>SPEECH  Dialogue in a changing world   Lect...</td>\n",
       "    </tr>\n",
       "    <tr>\n",
       "      <th>1</th>\n",
       "      <td>2021-11-26</td>\n",
       "      <td>Christine Lagarde</td>\n",
       "      <td>Change and continuity in law</td>\n",
       "      <td>Keynote speech by Christine Lagarde, President...</td>\n",
       "      <td>SPEECH  Change and continuity in law   Keyn...</td>\n",
       "    </tr>\n",
       "    <tr>\n",
       "      <th>2</th>\n",
       "      <td>2021-11-25</td>\n",
       "      <td>Frank Elderson</td>\n",
       "      <td>When you need change to preserve continuity: c...</td>\n",
       "      <td>Speech by Frank Elderson, Member of the Execut...</td>\n",
       "      <td>SPEECH  When you need change to preserve co...</td>\n",
       "    </tr>\n",
       "    <tr>\n",
       "      <th>3</th>\n",
       "      <td>2021-11-24</td>\n",
       "      <td>Fabio Panetta</td>\n",
       "      <td>Patient monetary policy amid a rocky recovery</td>\n",
       "      <td>Speech by Fabio Panetta, Member of the Executi...</td>\n",
       "      <td>SPEECH  Patient monetary policy amid a rock...</td>\n",
       "    </tr>\n",
       "    <tr>\n",
       "      <th>4</th>\n",
       "      <td>2021-11-22</td>\n",
       "      <td>Luis de Guindos</td>\n",
       "      <td>Ralph Koijen’s contribution to research on the...</td>\n",
       "      <td>Remarks by Luis de Guindos, Vice-President of ...</td>\n",
       "      <td>SPEECH  Ralph Koijen’s contribution to rese...</td>\n",
       "    </tr>\n",
       "    <tr>\n",
       "      <th>...</th>\n",
       "      <td>...</td>\n",
       "      <td>...</td>\n",
       "      <td>...</td>\n",
       "      <td>...</td>\n",
       "      <td>...</td>\n",
       "    </tr>\n",
       "    <tr>\n",
       "      <th>2504</th>\n",
       "      <td>1997-05-13</td>\n",
       "      <td>Alexandre Lamfalussy</td>\n",
       "      <td>The European Central Bank: independent and acc...</td>\n",
       "      <td>Keynote speech delivered by Alexandre Lamfalus...</td>\n",
       "      <td>The European Central Bank: independent and a...</td>\n",
       "    </tr>\n",
       "    <tr>\n",
       "      <th>2505</th>\n",
       "      <td>1997-04-30</td>\n",
       "      <td>Alexandre Lamfalussy</td>\n",
       "      <td>The operation of monetary policy in stage thre...</td>\n",
       "      <td>Address by Alexandre Lamfalussy, President of ...</td>\n",
       "      <td>The operation of monetary policy in stage th...</td>\n",
       "    </tr>\n",
       "    <tr>\n",
       "      <th>2506</th>\n",
       "      <td>1997-04-22</td>\n",
       "      <td>Alexandre Lamfalussy</td>\n",
       "      <td>Convergence and the role of the European Centr...</td>\n",
       "      <td>Remarks by Alexandre Lamfalussy, President of ...</td>\n",
       "      <td>Convergence and the role of the European Cen...</td>\n",
       "    </tr>\n",
       "    <tr>\n",
       "      <th>2507</th>\n",
       "      <td>1997-03-10</td>\n",
       "      <td>Alexandre Lamfalussy</td>\n",
       "      <td>Securing the benefits of EMU</td>\n",
       "      <td>Address by Alexandre Lamfalussy, President of ...</td>\n",
       "      <td>Securing the benefits of EMU   Address by Al...</td>\n",
       "    </tr>\n",
       "    <tr>\n",
       "      <th>2508</th>\n",
       "      <td>1997-02-07</td>\n",
       "      <td>Alexandre Lamfalussy</td>\n",
       "      <td>Conference organised by the Hungarian Banking ...</td>\n",
       "      <td>Address by Alexandre Lamfalussy, President of ...</td>\n",
       "      <td>Conference organised by the Hungarian Bankin...</td>\n",
       "    </tr>\n",
       "  </tbody>\n",
       "</table>\n",
       "<p>2509 rows × 5 columns</p>\n",
       "</div>"
      ],
      "text/plain": [
       "            date              speakers  \\\n",
       "0     2021-11-29     Christine Lagarde   \n",
       "1     2021-11-26     Christine Lagarde   \n",
       "2     2021-11-25        Frank Elderson   \n",
       "3     2021-11-24         Fabio Panetta   \n",
       "4     2021-11-22       Luis de Guindos   \n",
       "...          ...                   ...   \n",
       "2504  1997-05-13  Alexandre Lamfalussy   \n",
       "2505  1997-04-30  Alexandre Lamfalussy   \n",
       "2506  1997-04-22  Alexandre Lamfalussy   \n",
       "2507  1997-03-10  Alexandre Lamfalussy   \n",
       "2508  1997-02-07  Alexandre Lamfalussy   \n",
       "\n",
       "                                                  title  \\\n",
       "0                          Dialogue in a changing world   \n",
       "1                          Change and continuity in law   \n",
       "2     When you need change to preserve continuity: c...   \n",
       "3         Patient monetary policy amid a rocky recovery   \n",
       "4     Ralph Koijen’s contribution to research on the...   \n",
       "...                                                 ...   \n",
       "2504  The European Central Bank: independent and acc...   \n",
       "2505  The operation of monetary policy in stage thre...   \n",
       "2506  Convergence and the role of the European Centr...   \n",
       "2507                       Securing the benefits of EMU   \n",
       "2508  Conference organised by the Hungarian Banking ...   \n",
       "\n",
       "                                               subtitle  \\\n",
       "0     Lectio Magistralis by Christine Lagarde, Presi...   \n",
       "1     Keynote speech by Christine Lagarde, President...   \n",
       "2     Speech by Frank Elderson, Member of the Execut...   \n",
       "3     Speech by Fabio Panetta, Member of the Executi...   \n",
       "4     Remarks by Luis de Guindos, Vice-President of ...   \n",
       "...                                                 ...   \n",
       "2504  Keynote speech delivered by Alexandre Lamfalus...   \n",
       "2505  Address by Alexandre Lamfalussy, President of ...   \n",
       "2506  Remarks by Alexandre Lamfalussy, President of ...   \n",
       "2507  Address by Alexandre Lamfalussy, President of ...   \n",
       "2508  Address by Alexandre Lamfalussy, President of ...   \n",
       "\n",
       "                                               contents  \n",
       "0        SPEECH  Dialogue in a changing world   Lect...  \n",
       "1        SPEECH  Change and continuity in law   Keyn...  \n",
       "2        SPEECH  When you need change to preserve co...  \n",
       "3        SPEECH  Patient monetary policy amid a rock...  \n",
       "4        SPEECH  Ralph Koijen’s contribution to rese...  \n",
       "...                                                 ...  \n",
       "2504    The European Central Bank: independent and a...  \n",
       "2505    The operation of monetary policy in stage th...  \n",
       "2506    Convergence and the role of the European Cen...  \n",
       "2507    Securing the benefits of EMU   Address by Al...  \n",
       "2508    Conference organised by the Hungarian Bankin...  \n",
       "\n",
       "[2509 rows x 5 columns]"
      ]
     },
     "execution_count": 8,
     "metadata": {},
     "output_type": "execute_result"
    }
   ],
   "source": [
    "df=df.drop(L).reset_index(drop=True)\n",
    "df"
   ]
  },
  {
   "cell_type": "markdown",
   "metadata": {},
   "source": [
    "#### On se rend compte que certains discours ne sont pas en anglais.\n",
    "#### Il faut donc les retirer."
   ]
  },
  {
   "cell_type": "code",
   "execution_count": 9,
   "metadata": {},
   "outputs": [
    {
     "name": "stdout",
     "output_type": "stream",
     "text": [
      "Nombre moyen de caractères dans les discours :  19632.969310482265\n",
      "Minimum de caractères dans les discours :  249\n",
      "Maximum de caractères dans les discours :  113165\n"
     ]
    },
    {
     "data": {
      "text/plain": [
       "<AxesSubplot:title={'center':'Nombre de caractères dans les discours'}>"
      ]
     },
     "execution_count": 9,
     "metadata": {},
     "output_type": "execute_result"
    },
    {
     "data": {
      "image/png": "[encoded data removed]",
      "text/plain": [
       "<Figure size 432x288 with 1 Axes>"
      ]
     },
     "metadata": {
      "needs_background": "light"
     },
     "output_type": "display_data"
    }
   ],
   "source": [
    "# Test sur la longueur du contenu des discours\n",
    "print(\"Nombre moyen de caractères dans les discours : \",df.contents.str.len().mean())\n",
    "print(\"Minimum de caractères dans les discours : \", df.contents.str.len().min())\n",
    "print(\"Maximum de caractères dans les discours : \", df.contents.str.len().max())\n",
    "df.contents.str.len().plot(title=\"Nombre de caractères dans les discours\")"
   ]
  },
  {
   "cell_type": "code",
   "execution_count": 10,
   "metadata": {},
   "outputs": [
    {
     "name": "stdout",
     "output_type": "stream",
     "text": [
      "Nombre moyen de caractères dans les titres :  60.748903945795135\n",
      "Minimum de caractères dans les titres :  5\n",
      "Maximum de caractères dans les titres :  231\n"
     ]
    },
    {
     "data": {
      "text/plain": [
       "<AxesSubplot:title={'center':'Nombre de caractères dans les titres'}>"
      ]
     },
     "execution_count": 10,
     "metadata": {},
     "output_type": "execute_result"
    },
    {
     "data": {
      "image/png": "[encoded data removed]",
      "text/plain": [
       "<Figure size 432x288 with 1 Axes>"
      ]
     },
     "metadata": {
      "needs_background": "light"
     },
     "output_type": "display_data"
    }
   ],
   "source": [
    "#Test sur la longueur des titres\n",
    "print(\"Nombre moyen de caractères dans les titres : \",df.title.str.len().mean())\n",
    "print(\"Minimum de caractères dans les titres : \", df.title.str.len().min())\n",
    "print(\"Maximum de caractères dans les titres : \", df.title.str.len().max())\n",
    "df.title.str.len().plot(title=\"Nombre de caractères dans les titres\")"
   ]
  },
  {
   "cell_type": "markdown",
   "metadata": {},
   "source": [
    "## Modèle de détection (spacy)"
   ]
  },
  {
   "cell_type": "code",
   "execution_count": 11,
   "metadata": {},
   "outputs": [
    {
     "name": "stdout",
     "output_type": "stream",
     "text": [
      "{'language': 'en', 'score': 0.9999962398274698}\n"
     ]
    }
   ],
   "source": [
    "\n",
    "def get_lang_detector(nlp, name):\n",
    "    return LanguageDetector()\n",
    "\n",
    "nlp = spacy.load('en_core_web_lg')\n",
    "#Language.factory(\"language_detector\", func=get_lang_detector)\n",
    "nlp.add_pipe('language_detector', last=True)\n",
    "text = 'This is an english text.'\n",
    "doc = nlp(text)\n",
    "print(doc._.language)\n"
   ]
  },
  {
   "cell_type": "code",
   "execution_count": 12,
   "metadata": {},
   "outputs": [
    {
     "data": {
      "text/plain": [
       "'en'"
      ]
     },
     "execution_count": 12,
     "metadata": {},
     "output_type": "execute_result"
    }
   ],
   "source": [
    "doc._.language[\"language\"]"
   ]
  },
  {
   "cell_type": "code",
   "execution_count": null,
   "metadata": {},
   "outputs": [],
   "source": []
  },
  {
   "cell_type": "markdown",
   "metadata": {},
   "source": [
    "## Avec les titres "
   ]
  },
  {
   "cell_type": "code",
   "execution_count": 13,
   "metadata": {},
   "outputs": [
    {
     "name": "stdout",
     "output_type": "stream",
     "text": [
      "Proportion de discours en anglais :  0.8983658828218414\n",
      "Temps pris par cette méthode : 31.029661178588867\n"
     ]
    },
    {
     "data": {
      "text/plain": [
       "'\\nProportion de discours en anglais :  0.8999601434834595\\nTemps pris par cette méthode : 25.839558839797974\\n'"
      ]
     },
     "execution_count": 13,
     "metadata": {},
     "output_type": "execute_result"
    }
   ],
   "source": [
    "start = time.time()\n",
    "EN=0\n",
    "OTHERS=0\n",
    "L=[]\n",
    "I0=[]\n",
    "s=''\n",
    "n=len(df)\n",
    "#random.sample(range(n),500)\n",
    "for i in range(n):\n",
    "    #print(i)\n",
    "    s=df[\"title\"][i]\n",
    "    doc = nlp(s)\n",
    "    if doc._.language[\"language\"]=='en':\n",
    "        EN+=1\n",
    "    else:\n",
    "        OTHERS+=1\n",
    "        L.append(s)\n",
    "        I0.append(i)\n",
    "print(\"Proportion de discours en anglais : \", EN/n)\n",
    "end = time.time()\n",
    "print(\"Temps pris par cette méthode :\", end - start)\n",
    "\n",
    "\"\"\"\n",
    "Proportion de discours en anglais :  0.8999601434834595\n",
    "Temps pris par cette méthode : 25.839558839797974\n",
    "\"\"\""
   ]
  },
  {
   "cell_type": "markdown",
   "metadata": {},
   "source": [
    "## Avec les 1000 premiers caractères du discours"
   ]
  },
  {
   "cell_type": "code",
   "execution_count": 14,
   "metadata": {},
   "outputs": [
    {
     "name": "stdout",
     "output_type": "stream",
     "text": [
      "Proportion de discours en anglais :  0.9174970107612594\n",
      "Temps pris par cette méthode : 88.06156325340271\n"
     ]
    },
    {
     "data": {
      "text/plain": [
       "'Proportion de discours en anglais :  0.9182941410920685\\nTemps pris par cette méthode : 80.60761404037476'"
      ]
     },
     "execution_count": 14,
     "metadata": {},
     "output_type": "execute_result"
    }
   ],
   "source": [
    "start = time.time()\n",
    "EN=0\n",
    "OTHERS=0\n",
    "L=[]\n",
    "I1=[]\n",
    "s=''\n",
    "n=len(df)\n",
    "#random.sample(range(n),500)\n",
    "for i in range(n):\n",
    "    #print(i)\n",
    "    s=df[\"contents\"][i][:1000]\n",
    "    doc = nlp(s)\n",
    "    if doc._.language[\"language\"]=='en':\n",
    "        EN+=1\n",
    "    else:\n",
    "        OTHERS+=1\n",
    "        L.append(s)\n",
    "        I1.append(i)\n",
    "print(\"Proportion de discours en anglais : \", EN/n)\n",
    "end = time.time()\n",
    "print(\"Temps pris par cette méthode :\", end - start)\n",
    "\n",
    "\"\"\"Proportion de discours en anglais :  0.9182941410920685\n",
    "Temps pris par cette méthode : 80.60761404037476\"\"\""
   ]
  },
  {
   "cell_type": "markdown",
   "metadata": {},
   "source": [
    "## Avec le début du discours privé de la répétition du titre"
   ]
  },
  {
   "cell_type": "code",
   "execution_count": 15,
   "metadata": {},
   "outputs": [
    {
     "name": "stdout",
     "output_type": "stream",
     "text": [
      "Proportion de discours en anglais :  0.9294539657233958\n",
      "Temps pris par cette méthode : 127.71850490570068\n"
     ]
    },
    {
     "data": {
      "text/plain": [
       "'Proportion de discours en anglais :  0.9286568353925867\\nTemps pris par cette méthode : 129.33490419387817'"
      ]
     },
     "execution_count": 15,
     "metadata": {},
     "output_type": "execute_result"
    }
   ],
   "source": [
    "start = time.time()\n",
    "EN=0\n",
    "OTHERS=0\n",
    "L=[]\n",
    "I2=[]\n",
    "s=''\n",
    "n=len(df)\n",
    "#random.sample(range(n),500)\n",
    "for i in range(n):\n",
    "    #print(i)\n",
    "    s=df[\"contents\"][i][200:2000]\n",
    "    doc = nlp(s)\n",
    "    if doc._.language[\"language\"]=='en':\n",
    "        EN+=1\n",
    "    else:\n",
    "        OTHERS+=1\n",
    "        L.append(s)\n",
    "        I2.append(i)\n",
    "print(\"Proportion de discours en anglais : \", EN/n)\n",
    "end = time.time()\n",
    "print(\"Temps pris par cette méthode :\", end - start)\n",
    "\n",
    "\"\"\"Proportion de discours en anglais :  0.9286568353925867\n",
    "Temps pris par cette méthode : 129.33490419387817\"\"\""
   ]
  },
  {
   "cell_type": "markdown",
   "metadata": {},
   "source": [
    "## Avec les 2000 premiers caractères"
   ]
  },
  {
   "cell_type": "code",
   "execution_count": 16,
   "metadata": {},
   "outputs": [
    {
     "name": "stdout",
     "output_type": "stream",
     "text": [
      "Proportion de discours en anglais :  0.9294539657233958\n",
      "Temps pris par cette méthode : 133.69751930236816\n"
     ]
    },
    {
     "data": {
      "text/plain": [
       "'Proportion de discours en anglais :  0.9290554005579912\\nTemps pris par cette méthode : 143.3227822780609'"
      ]
     },
     "execution_count": 16,
     "metadata": {},
     "output_type": "execute_result"
    }
   ],
   "source": [
    "start = time.time()\n",
    "EN=0\n",
    "OTHERS=0\n",
    "L=[]\n",
    "I3=[]\n",
    "s=''\n",
    "n=len(df)\n",
    "#random.sample(range(n),500)\n",
    "for i in range(n):\n",
    "    #print(i)\n",
    "    s=df[\"contents\"][i][:2000]\n",
    "    doc = nlp(s)\n",
    "    if doc._.language[\"language\"]=='en':\n",
    "        EN+=1\n",
    "    else:\n",
    "        OTHERS+=1\n",
    "        L.append(s)\n",
    "        I3.append(i)\n",
    "print(\"Proportion de discours en anglais : \", EN/n)\n",
    "end = time.time()\n",
    "print(\"Temps pris par cette méthode :\", end - start)\n",
    "\n",
    "\"\"\"Proportion de discours en anglais :  0.9290554005579912\n",
    "Temps pris par cette méthode : 143.3227822780609\"\"\""
   ]
  },
  {
   "cell_type": "markdown",
   "metadata": {},
   "source": [
    "# Modèle de détection langdetect"
   ]
  },
  {
   "cell_type": "code",
   "execution_count": 17,
   "metadata": {},
   "outputs": [],
   "source": [
    "#!pip install langdetect\n",
    "from langdetect import detect"
   ]
  },
  {
   "cell_type": "code",
   "execution_count": 1,
   "metadata": {},
   "outputs": [],
   "source": [
    "# Extrait de la documentation https://pypi.org/project/langdetect/#description\n",
    "# langdetect Language detection algorithm is non-deterministic,\n",
    "# which means that if you try to run it on a text which is either too short or too ambiguous,\n",
    "# you might get different results everytime you run it.\n",
    "# To enforce consistent results, call following code before the first language detection:\n",
    "\n",
    "from langdetect import DetectorFactory\n",
    "DetectorFactory.seed = 0"
   ]
  },
  {
   "cell_type": "code",
   "execution_count": 18,
   "metadata": {},
   "outputs": [
    {
     "name": "stdout",
     "output_type": "stream",
     "text": [
      "Proportion de discours en anglais :  0.9015544041450777\n",
      "12.358983755111694\n"
     ]
    },
    {
     "data": {
      "text/plain": [
       "'Proportion de discours en anglais :  0.9035472299721005\\nTemps pris par cette méthode : 12.753894805908203'"
      ]
     },
     "execution_count": 18,
     "metadata": {},
     "output_type": "execute_result"
    }
   ],
   "source": [
    "start = time.time()\n",
    "EN=0\n",
    "OTHERS=0\n",
    "L=[]\n",
    "J0=[]\n",
    "s=''\n",
    "n=len(df)\n",
    "#random.sample(range(n),500)\n",
    "for i in range(n):\n",
    "    #print(i)\n",
    "    s=detect(df[\"title\"][i])\n",
    "    if s=='en':\n",
    "        EN+=1\n",
    "    else:\n",
    "        OTHERS+=1\n",
    "        L.append(s)\n",
    "        J0.append(i)\n",
    "print(\"Proportion de discours en anglais : \", EN/n)\n",
    "end = time.time()\n",
    "print(end - start) \n",
    "\n",
    "# Quelques centaines de discours dans d'autres langues (français, allemand, espagnol, italien, néerlandais,...)\n",
    "# Cependant on constate qu'il reste des discours en français et en allemand non mis de coté\n",
    "# Certains discours en anglais sont mis de côté de manière injustifiée\n",
    "\n",
    "\"\"\"Proportion de discours en anglais :  0.9035472299721005\n",
    "Temps pris par cette méthode : 12.753894805908203\"\"\""
   ]
  },
  {
   "cell_type": "code",
   "execution_count": 19,
   "metadata": {},
   "outputs": [
    {
     "name": "stdout",
     "output_type": "stream",
     "text": [
      "Proportion de discours en anglais :  0.917895575926664\n",
      "Temps pris par cette méthode : 13.802093982696533\n"
     ]
    },
    {
     "data": {
      "text/plain": [
       "'\\nProportion de discours en anglais :  0.917098445595855\\nTemps pris par cette méthode : 13.944712400436401\\n'"
      ]
     },
     "execution_count": 19,
     "metadata": {},
     "output_type": "execute_result"
    }
   ],
   "source": [
    "start = time.time()\n",
    "EN_1=0\n",
    "OTHERS_1=0\n",
    "M=[]\n",
    "J1=[]\n",
    "s=''\n",
    "n=len(df)\n",
    "#random.sample(range(n),500)\n",
    "for i in range(n):\n",
    "    #print(i)\n",
    "    s=detect(df[\"contents\"][i][:1000])\n",
    "    if s=='en':\n",
    "        EN_1+=1\n",
    "    else:\n",
    "        OTHERS_1+=1\n",
    "        M.append(s)\n",
    "        J1.append(i)\n",
    "print(\"Proportion de discours en anglais : \", EN_1/n)\n",
    "end = time.time()\n",
    "print(\"Temps pris par cette méthode :\", end - start) \n",
    "\n",
    "\"\"\"\n",
    "Proportion de discours en anglais :  0.917098445595855\n",
    "Temps pris par cette méthode : 13.944712400436401\n",
    "\"\"\""
   ]
  },
  {
   "cell_type": "code",
   "execution_count": 20,
   "metadata": {},
   "outputs": [
    {
     "name": "stdout",
     "output_type": "stream",
     "text": [
      "Proportion de discours en anglais :  0.9298525308888003\n",
      "Temps pris par cette méthode : 18.86558437347412\n"
     ]
    },
    {
     "data": {
      "text/plain": [
       "'\\nProportion de discours en anglais :  0.9278597050617776\\nTemps pris par cette méthode : 20.057332754135132\\n'"
      ]
     },
     "execution_count": 20,
     "metadata": {},
     "output_type": "execute_result"
    }
   ],
   "source": [
    "start = time.time()\n",
    "EN_1=0\n",
    "OTHERS_1=0\n",
    "M=[]\n",
    "J2=[]\n",
    "s=''\n",
    "n=len(df)\n",
    "#random.sample(range(n),500)\n",
    "for i in range(n):\n",
    "    #print(i)\n",
    "    s=detect(df[\"contents\"][i][200:2000])\n",
    "    if s=='en':\n",
    "        EN_1+=1\n",
    "    else:\n",
    "        OTHERS_1+=1\n",
    "        M.append(s)\n",
    "        J2.append(i)\n",
    "print(\"Proportion de discours en anglais : \", EN_1/n)\n",
    "end = time.time()\n",
    "print(\"Temps pris par cette méthode :\", end - start) \n",
    "\n",
    "\"\"\"\n",
    "Proportion de discours en anglais :  0.9278597050617776\n",
    "Temps pris par cette méthode : 20.057332754135132\n",
    "\"\"\""
   ]
  },
  {
   "cell_type": "code",
   "execution_count": 35,
   "metadata": {},
   "outputs": [
    {
     "name": "stdout",
     "output_type": "stream",
     "text": [
      "Proportion de discours en anglais :  0.9294539657233958\n",
      "Temps pris par cette méthode : 19.53878378868103\n"
     ]
    },
    {
     "data": {
      "text/plain": [
       "'\\nProportion de discours en anglais :  0.936229573535273\\nTemps pris par cette méthode : 43.480761766433716\\n'"
      ]
     },
     "execution_count": 35,
     "metadata": {},
     "output_type": "execute_result"
    }
   ],
   "source": [
    "start = time.time()\n",
    "EN_1=0\n",
    "OTHERS_1=0\n",
    "M=[]\n",
    "J3=[]\n",
    "s=''\n",
    "n=len(df)\n",
    "#random.sample(range(n),500)\n",
    "for i in range(n):\n",
    "    #print(i)\n",
    "    s=detect(df[\"contents\"][i][:2000])\n",
    "    if s=='en':\n",
    "        EN_1+=1\n",
    "    else:\n",
    "        OTHERS_1+=1\n",
    "        M.append(s)\n",
    "        J3.append(i)\n",
    "print(\"Proportion de discours en anglais : \", EN_1/n)\n",
    "end = time.time()\n",
    "print(\"Temps pris par cette méthode :\", end - start) \n",
    "\n",
    "\"\"\"\n",
    "Proportion de discours en anglais :  0.9294539657233958\n",
    "Temps pris par cette méthode : 19.53878378868103\n",
    "\"\"\""
   ]
  },
  {
   "cell_type": "code",
   "execution_count": 36,
   "metadata": {},
   "outputs": [
    {
     "name": "stdout",
     "output_type": "stream",
     "text": [
      "Proportion de discours en anglais :  0.936229573535273\n",
      "Temps pris par cette méthode : 37.724875688552856\n"
     ]
    },
    {
     "data": {
      "text/plain": [
       "'\\nProportion de discours en anglais :  0.936229573535273\\nTemps pris par cette méthode : 43.480761766433716\\n'"
      ]
     },
     "execution_count": 36,
     "metadata": {},
     "output_type": "execute_result"
    }
   ],
   "source": [
    "start = time.time()\n",
    "EN_1=0\n",
    "OTHERS_1=0\n",
    "M=[]\n",
    "J4=[]\n",
    "s=''\n",
    "n=len(df)\n",
    "#random.sample(range(n),500)\n",
    "for i in range(n):\n",
    "    #print(i)\n",
    "    s=detect(df[\"contents\"][i][:5000])\n",
    "    if s=='en':\n",
    "        EN_1+=1\n",
    "    else:\n",
    "        OTHERS_1+=1\n",
    "        M.append(s)\n",
    "        J4.append(i)\n",
    "print(\"Proportion de discours en anglais : \", EN_1/n)\n",
    "end = time.time()\n",
    "print(\"Temps pris par cette méthode :\", end - start) \n",
    "\n",
    "\"\"\"\n",
    "Proportion de discours en anglais :  0.936229573535273\n",
    "Temps pris par cette méthode : 37.724875688552856\n",
    "\"\"\""
   ]
  },
  {
   "cell_type": "markdown",
   "metadata": {},
   "source": [
    "## Comparaison des méthodes"
   ]
  },
  {
   "cell_type": "code",
   "execution_count": 37,
   "metadata": {},
   "outputs": [
    {
     "name": "stdout",
     "output_type": "stream",
     "text": [
      "255\n",
      "207\n",
      "177\n",
      "177\n",
      "247\n",
      "206\n",
      "176\n",
      "177\n",
      "160\n"
     ]
    }
   ],
   "source": [
    "liste=[I0,I1,I2,I3,J0,J1,J2,J3,J4]\n",
    "for L in liste:\n",
    "    print(len(L))"
   ]
  },
  {
   "cell_type": "code",
   "execution_count": 41,
   "metadata": {},
   "outputs": [
    {
     "name": "stdout",
     "output_type": "stream",
     "text": [
      "[192, 500, 811, 901, 1109, 1223, 1388]\n",
      "[62, 139, 361, 607, 697, 1333, 1343, 1374, 1465, 1491, 1822, 1832, 1861, 1881, 1979]\n"
     ]
    }
   ],
   "source": [
    "#Comparaison des deux méthodes analysant uniquement les titres \n",
    "print([value for value in J0 if value not in I0]) #vérification à la main : titre \"trompeur\" mais contenu en anglais (sauf 1)\n",
    "print([value for value in I0 if value not in J0]) #vérification à la main : contenu en anglais\n",
    "# Les deux méthodes de détection via les titres semblent semblables mais assez peu efficaces "
   ]
  },
  {
   "cell_type": "markdown",
   "metadata": {},
   "source": [
    "On peut observer un problème avec les discours de Jean-Claude Trichet, president de l'ECB de 2003 à 2011, qui commence (et parfois termine ) toutes ses interventions en français, parfois en allemand.\n",
    "Alors que tous les discours sont en anglais."
   ]
  },
  {
   "cell_type": "code",
   "execution_count": 42,
   "metadata": {},
   "outputs": [
    {
     "name": "stdout",
     "output_type": "stream",
     "text": [
      "[]\n",
      "[1977]\n"
     ]
    }
   ],
   "source": [
    "# Comparaison des résultats des méthodes analysant les 2000 premiers caractères privés des titres\n",
    "print([value for value in J2 if value not in I2])\n",
    "print([value for value in I2 if value not in J2]) \n",
    "# Tous ce discours contiennent des phrases en allemand et/ou en français."
   ]
  },
  {
   "cell_type": "code",
   "execution_count": 43,
   "metadata": {},
   "outputs": [
    {
     "name": "stdout",
     "output_type": "stream",
     "text": [
      "[1137, 1473]\n",
      "[1758, 1902]\n"
     ]
    }
   ],
   "source": [
    "#En prenant en compte ou non les débuts de discours\n",
    "print([value for value in I2 if value not in I3]) # toujours le problème avec les discours de Jean Claude Trichet \n",
    "print([value for value in I3 if value not in I2]) #discours très court en allemand 1758\n"
   ]
  },
  {
   "cell_type": "code",
   "execution_count": 58,
   "metadata": {},
   "outputs": [
    {
     "name": "stdout",
     "output_type": "stream",
     "text": [
      "[1473]\n",
      "[1179, 1758]\n"
     ]
    }
   ],
   "source": [
    "print([value for value in J2 if value not in J3]) \n",
    "print([value for value in J3 if value not in J2]) "
   ]
  },
  {
   "cell_type": "code",
   "execution_count": 44,
   "metadata": {},
   "outputs": [
    {
     "name": "stdout",
     "output_type": "stream",
     "text": [
      "[1902, 1977]\n",
      "[1137, 1179]\n"
     ]
    }
   ],
   "source": [
    "print([value for value in I3 if value not in J3]) \n",
    "print([value for value in J3 if value not in I3]) "
   ]
  },
  {
   "cell_type": "code",
   "execution_count": 46,
   "metadata": {},
   "outputs": [
    {
     "name": "stdout",
     "output_type": "stream",
     "text": [
      "Lorenzo Bini Smaghi  -  Economic forecasting and monetary policy\n",
      "Gertrude Tumpel-Gugerell  -  Monetary and Financial Policies in the New Integrated Union\n"
     ]
    }
   ],
   "source": [
    "for i in [value for value in I3 if value not in J3]:\n",
    "    print(df[\"speakers\"][i],\" - \",df[\"title\"][i])"
   ]
  },
  {
   "cell_type": "code",
   "execution_count": 59,
   "metadata": {},
   "outputs": [
    {
     "name": "stdout",
     "output_type": "stream",
     "text": [
      "José Manuel González-Páramo  -  De la crisis sub-prime a la crisis soberana: el papel del BCE\n",
      "Mario Draghi  -  Continuity, consistency and credibility\n",
      "Vítor Constâncio  -  Laudatio for Professor Kenneth Rogoff, recipient of the 2011 Deutsche Bank Prize in Financial Economics\n",
      "Lorenzo Bini Smaghi  -  Private sector involvement: From (good) theory to (bad) practice\n",
      "Jean-Claude Trichet  -  Taking stock on financial reform\n",
      "Lorenzo Bini Smaghi  -  Reserve accumulation: the other side of the coin\n",
      "Gertrude Tumpel-Gugerell  -  Globalisierung der Post-Trade Infrastrukturen\n",
      "Jürgen Stark  -  Issues paper for the conference \"The financial crisis and its consequences for the world economy\"\n",
      "Jürgen Stark  -  Growth and productivity of the financial sector: challenges for monetary policy\n",
      "Lorenzo Bini Smaghi  -  Economic policies on the two sides of the Atlantic: (why) are they different?\n",
      "Jürgen Stark  -  The Agenda for the Competitiveness of Europe's Economy and Financial System\n",
      "Jean-Claude Trichet  -  The creation of economic and corporate wealth in a dynamic economy - Contribution to the panel discussion\n",
      "Jean-Claude Trichet  -  How can the European economy succeed in an increasingly globalised world ?\n",
      "Lorenzo Bini Smaghi  -  Global capital and national monetary policies\n",
      "Jean-Claude Trichet  -  Testimony before the Committee on Economic and Monetary Affairs of the European Parliament\n",
      "Jean-Claude Trichet  -  Monetary Policy and Economic Prospects in the Euro Area\n",
      "Otmar Issing  -  Europe: common money - political union?\n"
     ]
    }
   ],
   "source": [
    "for i in [value for value in J3 if value not in J4]:\n",
    "    print(df[\"speakers\"][i],\" - \",df[\"title\"][i])"
   ]
  },
  {
   "cell_type": "code",
   "execution_count": 47,
   "metadata": {},
   "outputs": [
    {
     "name": "stdout",
     "output_type": "stream",
     "text": [
      "[1758, 1902, 1977]\n",
      "[1137, 1473]\n"
     ]
    }
   ],
   "source": [
    "#Comparaison qui semble la plus intéressante entre les deux méthodes\n",
    "print([value for value in I3 if value not in J2]) \n",
    "print([value for value in J2 if value not in I3]) "
   ]
  },
  {
   "cell_type": "code",
   "execution_count": 57,
   "metadata": {},
   "outputs": [],
   "source": [
    "#df[\"contents\"][1758] #discours très court et en allemand"
   ]
  },
  {
   "cell_type": "code",
   "execution_count": 49,
   "metadata": {
    "scrolled": true,
    "tags": []
   },
   "outputs": [
    {
     "data": {
      "text/plain": [
       "'  Economic forecasting and monetary policy   Speech by Lorenzo Bini SmaghiMember of the Executive Board of the European Central BankKeynote speechDIW 1925 – 2005 conferenceBerlin, 8 December 2005 Ladies and Gentlemen, I am delighted to speak at this conference today. The DIW is the largest and oldest economics institute in Germany and conducts research in many fields of economic analysis.  Speaking in a research institute, I feel stimulated to address a few analytical issues, raising questions rather than providing answers, and without necessarily limiting the reasoning to predefined frameworks.  The conduct of monetary policy faces challenges which are quite similar to those of economic forecasting, with some additional complications.  As Niels Bohr, a Nobel laureate in Physics, used to say: “making predictions is very difficult,  especially  about the future.” I would add: “not only about the future”.  Forecasting the direction in which the economy is going is essential for monetary policy, but not sufficient as knowledge about the starting position, and possibly even the past trajectory is required. This is less simple than one would think, because some key variables are not observable.  In my remarks today, I will try to explain why forecasts are so important for central banks. I will also make a digression on some (unanswered) questions in monetary policy making. I will then examine how forecast errors may affect the monetary policy decision making and how the assessment of risks is at least as important as the central scenario of the forecast.       A few basic concepts in monetary policy analysis…    I would like to start by recalling a few basic concepts that I will use in my reasoning. Although these concepts have been well known in the literature, I have the impression that they might have been forgotten in more recent discussions about monetary policy. The first concept, quite well known for over 40 years now[1], is that monetary policy affects inflation and output with long and variable lags.  This is well known to central banks. A few years ago, the ECB and the national central banks set up a group of experts to study extensively these lags for the euro area. A conclusion which is shared by a large number of studies, not only on European but also on US data, is that monetary policy typically affects output (as measured by GDP) with a peak lag of about one year, and inflation with a lag of two years and more.[2] These are average lags, measured over a sample period. The actual lags may be longer or shorter, depending on the particular combination of shocks affecting the economy at any point in time. In any case, what the analysis suggests is that a change in the monetary stance today has an impact on output roughly one year from now and on inflation one to two years from now.  The implication for monetary policy is quite straightforward: policy should be based not only on current output and inflation developments, but (mainly) on expected future developments, one to two years ahead. [3]  If one shares this generally recognised principle, one should also agree that a fair assessment about a given monetary policy stance cannot be made referring to the current state of the economy but rather on the basis of the expected state of the economy one or two years ahead. The rationale of a given stance or of a given monetary policy decision can be understood or criticized only on the basis of an economic forecast.  It is interesting to note that most often the monetary policy stance is discussed in public on the basis of the current underlying conditions, in particular whether a given decision will “hurt” or “not hurt” the current recovery, ignoring the fact that monetary policy has very little if no impact at all on the economy for several months ahead. It is also interesting to note that some of the doubts expressed on recent monetary policy decisions were made against the background of much more optimistic forecasts of the euro area economy over the next 12 to 24 months. Indeed, the most recent growth forecasts of the IMF, the OECD and the European Commission, over the 2006-2007 horizon all come out as somewhat more optimistic than the ECB staff forecasts. The second concept is that any forecast of output and inflation is closely related to the assessment of the current economic conditions, in particular the cyclical position of the economy, which is called in the literature the “output gap”. An incorrect assessment of the underlying position of the economy in the cycle is likely to lead to a forecast error over the relevant forecasting horizon. The converse is also true: forecasts shape our view of current economic conditions.  The reason is simple. Most, if not all models we use to conceptualise macroeconomic behaviour make reference to long-term equilibrium conditions. These models require, de facto, an assessment of long-term equilibrium conditions in order to make consistent forecasts. These assumptions thus “constrain” the dynamics of major variables and, for reasons of consistency, the starting position. Any error in the assessment of the long term equilibrium will be mirrored by a forecast error on growth and inflation. The good news is that the forecast error might be smaller, the shorter the horizon. The bad news is that what is relevant for monetary policy is not so much the short term but the 1 to 2 years ahead forecast horizon.  Just to give you a very concrete example of how the assessment of the level and the rate of change are related, let me mention the forecast that major institutions made in 2000 about the continuation of economic growth in the euro area, at a pace close to 3 per cent. On the basis of these forecasts, the cyclical position in 2000 was estimated to be close to potential output. As projections were drastically revised downwards in 2001 and in the following years, the estimate of the cyclical position in 2000 was also revised, and turned out to be quite above potential. What in 2000 looked like a situation of output close to potential, and consistent with a fast rate of growth of the economy, turned out to be a very large positive output gap ex post. There is a nice box in the ECB’s Monthly Bulletin of February 2005 illustrating this issue. The difficulties in empirically estimating concepts such as the long term equilibrium level or the output gap suggest that one should not rely only on empirical models but also use a panoply of indicators to obtain plausible estimates. However, one should be aware that any adjustment, judgmental or of another nature, to any of these concepts has an impact also on the other variables of the model, if consistency is to be preserved. Furthermore, the difficulty in estimating these unobservable variables has called for not using them in the framework of monetary policy. However, for any monetary policy decision to be based on a consistent framework, it must at least implicitly make reference to some estimates of these unobservable variables. The third concept is that the level of a variable is as important as its change or its rate of change, not only for forecasting but also for monetary policy. What matters for monetary policy is not only the change in interest rates but also their level. Keeping interest rates unchanged is a policy decision in the same way as changing them.  In fact, according to theoretical models,[4] the amount of monetary accommodation or restriction does not depend on the level of the interest rate itself but on the distance with respect to some measure of equilibrium rate, what is generally called the natural interest rate.[5] If the natural interest rate falls because of a negative shock to productivity (due for instance to an oil price shock), but the prevailing interest rate remains constant, all other things being equal, monetary policy has become tighter.  This makes things more complicated, because the natural rate of interest is not observable and very difficult to estimate in real time.[6]  A related concept that one should derive from these models is that the stance of monetary policy should not be assessed on the basis of the level of the interest rate, but should take into account the underlying economic conditions. An unchanged interest rate can imply an unchanged policy as well as a tightening or a relaxation. It all depends on what happens to the variables affecting the economy at a given moment in time. For instance, an unchanged nominal interest rate, while inflationary pressures build up and/or economic growth picks up, implies a monetary expansion. An unchanged interest rate in the face of lower inflationary pressures and fading growth implies instead a monetary tightening.  If this concept is applied in practice, it could easily be verified, for instance, that while the ECB reference rate remained at 2 per cent throughout the second half of 2005, the monetary stance had become more and more expansionary as projected HICP inflation and real GDP growth edged up.  The academic and market literature has developed a whole series of indicators of monetary conditions that have become quite popular. These indicators have to be taken with a lot of caution, because they rely on estimates for variables, such as the natural interest rate and the output gap, which are unobservable, as well as on estimates of parameters. Nonetheless, their attempt at assessing something which is conceptually correct, i.e. that the stance of monetary policy does not depend only on the level of the nominal short-term interest rate, should be praised.  The most popular of these indicators is the Taylor rule, which measures the stance of monetary policy in relation to a (typically fixed but in some cases time-varying) natural interest rate, the (possibly future expected) deviation of inflation from the target, and the (possibly future expected) output gap. Despite its limitations which are well known, this measure makes it very clear that, for given level of the nominal interest rate, a change in the output and inflation outlook also changes the monetary policy stance. Again, it is interesting to note that in recent months these indicators all pointed in the same direction in the euro area.      ..and few possible gaps    I have referred so far to standard macro models that forecasters and policy-makers use, explicitly or implicitly. Let me now turn to some questions that available economic models might not fully answer.  The simplest version of the macro model for policy analysis (at least, in economics textbooks) is based on a linear-quadratic approach. According to these models, the central bank typically minimises a quadratic loss function based on a linear description of economic behaviour. The optimal policy of the central bank is derived as a linear relationship between the policy instrument (say a real interest rate, as a deviation from the natural rate) and a policy target (normally a linear combination of inflation and the output gap).[7] In a context of uncertainty, the optimal targeting criterion is replaced by its best forecast.[8]  These models have two important characteristics. First, any given level of the policy instrument corresponds to a specific level of income and inflation; the relationship between policy and outcomes is monotonic. Second, the optimal behaviour of the central bank under uncertainty is essentially the same as under perfect foresight. This is often called the “certainty equivalence” principle.[9]  This analytical framework suggests that by controlling the interest rate, the central bank can set any level of the policy target, with a given time lag, barring unforeseen shocks. Accordingly, if output falls, following an unexpected shock, there is a defined level of the interest rate which brings output back to its original level. The central bank just has to know the appropriate level at which the interest rate should be set to get back the economy on track.  The problem with these linear models is that they do not allow for a full understanding of the risks of alternative interest rate policies. For instance, standard macro-models suggest that, for a given exogenous shock that produces a negative output gap, the more liquidity is provided in the economy, the faster the recovery will be. An implication of this result would be that there are a priori no obvious reasons to set any lower bound to the reduction of the interest rate to face an economic slowdown, except for the zero bound.  In recent years, however, we experienced, and to some extent still experience, both in Europe and in the US, long periods characterised by very low real interest rates that have not lead to stronger growth. How can this be reconciled with the predictions of the model? One view, which is consistent with the simple type of macro model I just sketched, would be that in the last few years the euro area economy experienced a sequence of negative shocks that have progressively widened the negative output gap, and counteracted the stimulating effect of the very low level of interest rates.  Another possible interpretation, however, would be that when real interest rates are very low or negative for a very long time, the monetary policy transmission mechanism might change. Since there aren’t many historical episodes of a very accommodative policy stance on a lasting basis, we do not know enough of this type of situation. In my view, this is an issue which deserves much greater attention than it has received so far.  Let me just point to some research which might suggest that further work in this area might be of interest. A recent book co-authored by Joe Stiglitz points to the fact that much of the mainstream monetary theory “assumes away” too much in terms of how financial markets work in reality.[10] In particular, when asymmetric information is pervasive in credit and financial markets, price mechanisms alone may not always clear markets.  While recent research in the economics of information has examined possible “pathological” effects of very high real interest rates, we do not seem to know enough about the impact of very low real interest rates for prolonged periods of time. Recently, Ragu Rajan (IMF) developed some interesting considerations about the possible impact of prolonged very low real interest rates on economic efficiency, in particular investment, which could result from a general tendency to under-price risk in a context of asymmetric information between lenders and borrowers.[11] For instance, low rates of return might encourage reckless or speculative investment behaviour by pension fund and insurance managers (from the standpoint of investors).  Rajan\\'s main argument, in short, is that investment may be more sensitive to current, rather than future expected, financing conditions due to the structure of incentives in financial markets. Therefore, agents do not discount the possible correction of liquidity conditions in their investment decisions, which may then turn out (ex post) to have been too risky and ultimately wasteful once the policy accommodation is removed. Since there is significant irreversibility in investment, this phenomenon might have long-lasting consequences on the economy. Another issue that is little examined in the literature is the impact of a given level of interest rate on the sectoral allocation of resources[12] and the resulting distortionary effects that can arise from a prolonged deviation from the natural rate, as a result of a very accommodative policy.  These are just examples of an infant literature, which needs to be fed.  To sum up, available models may not be sophisticated enough to consider the effects of prolonged periods of very high liquidity as the one we have experienced in recent years. There are some reasons to believe that this is a relevant issue and that more research is warranted on this matter.      Optimizing monetary policy and minimizing policy errors    According to standard macro models, inflation is a function of the deviation of aggregate demand from the economy’s output potential, i.e. the output gap, and other exogenous shocks. In the absence of other shocks (notably cost push shocks), a central bank aiming at achieving price stability should calibrate the level of interest rate, as a deviation from its natural level, in relation to the forecasted output gap.  The representation of such an optimal policy is often found to be consistent with the rule originally suggested by John Taylor. An enormous literature has burgeoned on monetary policy reaction functions.  One policy recommendation from this literature is that the interest rate should be lower than its natural rate if the economy is below potential. If the interest rate is not lower than the natural rate, monetary policy becomes tighter, which might aggravate the slack in the economy and generate deflationary pressures. By how much interest rates should decrease depends on the expected gravity of the slowdown and on the particular nature of the shocks that affect the economy.  Another policy recommendation is to take into account the lags in the transmission of monetary policy. Since monetary policy may influence inflation with a lag of over 24 months, the interest rate response to shocks should be pre-emptive. Policy interest rates should ideally increase as soon as signs of inflationary pressures become apparent, and before inflation actually picks up. If the economy is below potential, but growing at a rate higher than potential, so that the output gap is expected to fall over the next 12 to 24 months, the interest rate should be lower than the natural rate but increasing.  To sum up, in a stylised framework the interest rate cycle should anticipate the economic cycle, by about 12 to 24 months. This means that interest rates should peak well ahead of the peak of the cycle and start rising well ahead of the trough.  This is what the theory suggests. It assumes that we are able to perfectly forecast the peak and the trough of the cycle and that we can estimate at each point in time the natural rate so as to set the optimal interest rate.  Real life is of course different, because many variables needed to implement optimal policy are unknown and difficult to measure or forecast. On the other hand, there is no alternative to making the best possible effort to estimate these key parameters and variables.  Policy makers are fully aware of these complexities. This is why they use a multiplicity of techniques to minimise forecast errors. First, more than one forecast model is generally used and the results are cross-checked. This is the reason why our monetary policy strategy is based on two pillars, the economic analysis and the monetary analysis. The monetary analysis can be associated to a reduced form longer-term forecast model of inflation,[13] and the economic analysis to a structural form short to medium term forecast model of inflation. It is well known that forecast combination is generally superior to individual forecasts, especially with the aim of minimising the risk of large errors.[14]  Judgement is also used in making the forecast, exploiting available indicators. This is particularly important for the assessment of the prevailing cyclical position of the economy. Since economic relationships (and our knowledge of them) change over time, the policy maker will always try to use a combination of models and expert judgement in making the forecast.[15]  Furthermore, any baseline forecast has to be accompanied by an analysis of risks surrounding the central scenario. This is important because risks (and the losses associated to them) are typically not symmetrically distributed, so they do not necessarily cancel out on average. Moreover, a thorough discussion of the risks helps to better understand and to test the robustness of the assumptions underlying the central scenario of the forecasts.      Type I and Type II errors in monetary policy    Let me try to explain how the difficulties in making forecasts are taken into account by policy makers. I will focus on the most challenging task for monetary policy: turning points. As I already mentioned, theory suggests that monetary easing should end well ahead of the trough, and the turning point should occur much before the economy starts growing at potential. The pace of the tightening should depend on the strength of the expected recovery.  In practice, things might be more complicated because there is a lot of uncertainty about when the economy reaches its trough and on the pace at which it is expected to recover.  There is one additional problem: the uncertainty about the end point of the tightening phase, i.e. the so-called natural long-term level of the interest rate. This problem is generally considered as not very relevant until the tightening phase is well advanced.  This is not without some risk. Indeed, if we agree with the standard model, according to which the degree of accommodation provided at any moment in time is not defined by the level of the interest rate itself but by the difference between that rate and its natural level, some assessment of the natural rate must be made, implicitly or explicitly, at any moment in time, including when deciding the timing of a turning point and the policy thereafter. A wrong assessment of the natural rate may induce a wrong assessment of the degree of monetary accommodation prevailing at any moment in time. For instance, if the natural interest rate level is lower than previously estimated, the distance between the prevailing rate and its natural level might be lower than thought and thus monetary policy may turn out to be less expansionary than initially thought.  Things are made more complex, from an analytical standpoint, also by the fact that the assessment of the natural rate and of the output gap are obviously interlinked, since the same underlying shocks drive both the natural rate and potential output growth.  Concerning the optimal timing of a turning point, the policy maker is faced with the possibility of making two sorts of mistakes. I will use an analogy with statistical hypothesis testing. Type I error is made in case the recovery takes place and inflationary pressures are building up, but this is not adequately forecasted in time. This is what policy makers would call “being behind the curve”. Type II error consists instead in forecasting a recovery that does not materialize as expected. This would imply tightening too soon and being “ahead of the curve”.  A policy maker must seriously weigh the relative costs of type I rather than type II error. This is consistent with the view that the policy-maker acts as a “risk manager”, as suggested some time ago by the Chairman of the Fed.[16] Hence, the policy-maker needs to have a view on the distribution of risks around the most likely outcome (the point forecast).  Type I error, being behind the curve, entails the risk of becoming more and more accommodative as the economy recovers, adding liquidity instead of withdrawing it and fuelling inflationary pressures. Type I error can eventually be corrected by increasing the speed of tightening down the road.  If there are uncertainties about the expected turning point in the cycle and the projected strength of the recovery, a policy maker might afford to wait for some time before starting to tighten and even risk being late, if there is room to catch up with a faster speed of tightening. This is what a standard model would suggest. However, this view – and this is an important point which I would like to underline and which is often not sufficiently considered – does not take into account the fact that as the tightening is delayed, the economy might accumulate large imbalances which render a sharp tightening more risky, in terms of economic and financial stability.  A well known example is the 1994 tightening in the US. This experience has shown in particular that an economy which is flooded with liquidity, following a persistent period with very low or even negative real rates of return, grows so accustomed to it that it discards any possibility of a return to normality. Hence, a removal of an extraordinary and prolonged degree of accommodation might have to take place at a very gradual pace and has to be well communicated to economic agents, so that they can reduce in a smooth way their overall excess liquidity position.  The main message is that the cost of type I error increases the larger are the liquidity imbalances accumulated during the easing phase. Type I error can be reduced if the economy is in a situation in which there is as little excess liquidity as possible. In this case, the cost of taking time and waiting for data to confirm that the economy is indeed strengthening would not come on top of already existing distortions.  Finally, type I error is less costly (at least in an upturn) if the central bank is very credible. If agents know that the central bank is committed to maintain price stability over the medium term, they can tolerate type I error for some time as the increase in inflation expectation remains contained. However, a central bank cannot rely too much on its acquired credibility and must monitor very closely long-term inflation expectations imbedded in market instruments to avoid remaining for too long behind the curve. If markets start doubting about the anti inflationary stance of the central bank, inflation expectations might increase. Reining them back may require a much larger increase in interest rates. The cost of a type I error would thus increase dramatically. Let me turn now to type II error, i.e. tightening too early. The cost of such an error is to put an excessive break on the economy, which might not be as strong as initially expected, thus slowing down, and possibly even stopping the recovery. This could even lead to a policy reversal, as interest rates would have to be reduced again. Reversing gear might create a reputation risk. The central bank might also be accused of having delayed the recovery, which could undermine its independence. The cost of a type II error can be reduced if at the start of the tightening the economy benefits of very ample liquidity, following the persistence of very low interest rates.  To sum up, the existence of very ample liquidity in the economy raises the cost of type I errors and reduces the cost of type II errors. The cost of the type II errors can be further minimised if the interest rate rise is seen as a return to a level more consistent with adequate liquidity conditions rather than the start of a tightening cycle. The relative costs of type I and type II errors are always considered by central banks.  Let me give a few examples. Between 2002 and 2004, the forecast of all major institutions (including the central scenarios of our own projections) pointed to accelerating economic growth in the euro area over the following two years. A mechanistic policy response would have induced an upward adjustment in interest rates and the start of a tightening cycle. This did not occur because the downward risks to the recovery were heavily taken into account in the decision making process. The risk of making a type II error was seriously considered while the cost of taking time to wait for more solid signs before tightening were considered as being relatively small. Ex post, this turned out to be the right decision. At the end of 2005 the balance of risks changed. After over two years of very low, and partly negative real rates, the cost of type I error increased substantially, because of the large liquidity accumulated in the economy. There were signs of substantial distortions in the allocation of resources in the economy. The very high growth rate of mortgage credit and of property prices in euro area countries can be seen as a reflection of such distortions. At a global level, a high degree of risk appetite has developed in financial markets, as reflected for example in high money and credit growth, low bond yields, rising equity and property prices, and low corporate bond spreads.  Under these circumstances, waiting further, taking time to have stronger data on economic activity would have entailed a further rise in the degree of accommodation and possibly of the distortions in the economy. The cost of type I errors would have increased excessively. The cost of a possible type II error was considered to be lower due to the ample liquidity available in the economy. Market participants fully perceived that the adjustment in interest rates aimed primarily at withdrawing part of the excess liquidity in the system rather than a starting a typical tightening cycle.  It is clear that the costs of alternative errors may change over time, depending on the projected economic developments and on the imbalances accumulated in the system. These costs are continuously assessed by the policy makers, with a view to minimise them.       A good diet is the best prevention    Since monetary policy is forward looking, it is sometimes depicted as part of a prevention strategy, which is better than a cure at a later stage.  The analogy is quite suggestive but may not take fully into account the complexity of monetary policy decisions. Indeed, vaccination prevents fever, but vaccination has to take place at the right time. It should happen neither too late nor too early, especially if the body is still weak and maybe under antibiotics.  If vaccination is given while one still is under antibiotics, the body may weaken further, especially if antibiotics have been taken for a long time, maybe too long. The right sequence thus foresees that first the antibiotics cure is stopped and only after a while can the vaccination be given.  One way of characterizing the 1 December decision might be that it is part of a phase in which the euro area stops taking antibiotics, which it has absorbed for too long. We haven’t come yet to the full treatment of vaccines to prevent influenza (ie inflation). The body might need to get stronger before getting the shot. In any case, I must admit that I have some doubts that the analogy with medicine is the most appropriate one for monetary policy. Doctors are generally considered by their patients as saviours, capable of healing any illness and being able to provide special medicines that can push the human body even beyond realistic performance, especially for athletes.  That’s not the way monetary policy works nor should work. Monetary policy is nether a medicine, nor a drug, that can ensure that the economy is always at full potential. I see central banks more as dieticians, who aim at calibrating the amount of calories as a function of the athlete’s activity and performance. When the athlete is in good shape and trains for a competition, the amount of calories burned by his body increases. If the dietician underestimates the amount of calories that the athlete needs and prescribes an insufficient amount, the muscles do not develop sufficiently and he will not perform well. This is type II error. If instead the dietician overestimates the amounts of calories, the athlete will eat too much and will accumulate too much fat in his body. This will also lead him to underperform the day of the competition. This is type I error.  If the athlete is not in good shape, for instance because of an injury, giving him more calories will not make him better off. He is most likely to get fatter. The fatter he gets the more he will have to train, at the end of his injury period, in order to get back on track. As a dietician can only aim over time at minimizing the percentage of fat in a body, monetary policy can only aim at calibrating the amount of liquidity necessary to the economy to develop without inflation. Too much or too little liquidity are both bad for the economy as well as too many or too little calories are bad for a body. But liquidity, like calories, cannot by itself systematically increase the performance of the economy over time. It can be improved only through structural reforms that raise growth potential, as much as an athlete can only improve his performance through training.  The comparison with dieticians may not sound very glorious for central bankers.  However, it matches well the school of thought according to which monetary policy has overall little impact on economic developments, except when major mistakes are made.  This is why central banks should aim primarily at avoiding major policy errors rather than trying to fine tune the economy towards an optimal path.  I tend to belong to this school of thought.  Thank you very much for your attention.      [1] See M. Friedman (1961): “The lag in effect of monetary policy”, Journal of Political Economy, 69, pp. 447-466.    [2] See I. Angeloni, A. K. Kashyap and B. Mojon (2003), Monetary policy transmission in the euro area, Cambridge University Press.    [3] This might depend on the extent to which private agents are forward-looking. If the private sector is very forward-looking, it can be optimal for policy to display some degree of inertia; see M. Woodford (2003): Interest and prices: foundations of a theory of monetary policy, Princeton University Press. However, the point that policy needs to react to forecasts remains generally valid also in these models.    [4] See Woodford (cit.) for a textbook treatment.    [5] This is typically defined as the level of the real interest rate which would prevail in an economy without nominal rigidities.    [6] See the article in the ECB Monthly Bulletin of May 2004, entitled \"The natural real interest rate in the euro area\".    [7]  More generally, however, the optimal reaction function will be a complicated function of the underlying shocks hitting the economy.    [8] See Svensson, L. E. O. and M. Woodford (2003): \"Indicator variables for optimal policy,\" Journal of Monetary Economics, Elsevier, vol. 50(3), pages 691-720.    [9] Note that certainty equivalence only holds in the presence of additive uncertainty. It is well known that in the presence of multiplicative uncertainty (i.e. uncertainty on the transmission mechanism) the central bank optimally behaves in a more cautious way than in the case of perfect foresight.    [10] See B. Greenwald and J. Stiglitz (2003), Towards a new paradigm in monetary economics, Raffaele Mattioli Lectures, Cambridge University Press.    [11] See R. Rajan (2005): “Has financial development made the world riskier?”, working paper.    [12] On the sectoral impact of monetary policy in the euro area see for example G. Peersman and F. Smets (2005): “The industry effects of monetary policy in the euro area”, Economic Journal, 115, 503.     [13] On the role of monetary models in forecasting inflation, see the article in the ECB Monthly Bulletin of October 2004, entitled “Monetary analysis in real time”.     [14] See M. Clements and D. Hendry (2005): A Companion to Economic Forecasting, Blackwell Companions to Contemporary Economics.    [15] On the use of judgement in monetary policy making, see L. Svensson (2005): “Monetary policy with judgement: forecast targeting”, International Journal of Central Banking, March.    [16] See for instance the remarks by Chairman Alan Greenspan at the Meetings of the American Economic Association, San Diego, California, 3 January 2004, “Risk and Uncertainty in Monetary Policy”.    '"
      ]
     },
     "execution_count": 49,
     "metadata": {},
     "output_type": "execute_result"
    }
   ],
   "source": [
    "n=random.sample([value for value in I3 if value not in J3],1)[0]\n",
    "df[\"contents\"][n]"
   ]
  },
  {
   "cell_type": "markdown",
   "metadata": {},
   "source": [
    "## Autre modèle de détection de langage ?"
   ]
  },
  {
   "cell_type": "code",
   "execution_count": 31,
   "metadata": {},
   "outputs": [],
   "source": [
    "#Autre idée : supprimer \"à la main\" les discours passant à travers les mailles du filet\n",
    "# utiliser les articles/prépositions les plus courants : le/la/de ou die/fur"
   ]
  },
  {
   "cell_type": "markdown",
   "metadata": {},
   "source": [
    " ## Conclusion vis-à-vis des différentes méthodes"
   ]
  },
  {
   "cell_type": "markdown",
   "metadata": {},
   "source": [
    "Même si les méthodes de détection de langages ave les titres uniquement sont plus rapides, elles entrainent beaucoup d'erreurs (trop de faux positifs). La difficulté de la détection vient en grande partie des discours de Jean Claude Trichet qui comportent plusieurs langues dont l'anglais."
   ]
  },
  {
   "cell_type": "markdown",
   "metadata": {},
   "source": [
    "On peut considérer que les discours en plusieurs langues (comme ceux de Jean-Claude Trichet) ne sont pas gênants car ils sont majoritairement en anglais. Il faut juste penser à adapter les stopwords en conséquence."
   ]
  },
  {
   "cell_type": "markdown",
   "metadata": {},
   "source": [
    "Par ailleurs, on peut remarquer que les méthodes de langdetect sont beaucoup plus rapides que celles de spacy pour des résultats équivalents (voire identiques). La méthode qui paraît la plus efficace pour cette détection est celle qui utilise langdetect en analysant les 2000 premiers caractères de chaque discours."
   ]
  },
  {
   "cell_type": "markdown",
   "metadata": {},
   "source": [
    "## Modification du dataframe"
   ]
  },
  {
   "cell_type": "code",
   "execution_count": 32,
   "metadata": {},
   "outputs": [],
   "source": [
    "#df[\"Language\"]=pd.Series(dtype=str)\n",
    "#On pourrait ajouter une colonne \"language\" pour une analyse ultérieure"
   ]
  },
  {
   "cell_type": "code",
   "execution_count": 33,
   "metadata": {},
   "outputs": [
    {
     "ename": "NameError",
     "evalue": "name 'I' is not defined",
     "output_type": "error",
     "traceback": [
      "\u001b[1;31m---------------------------------------------------------------------------\u001b[0m",
      "\u001b[1;31mNameError\u001b[0m                                 Traceback (most recent call last)",
      "\u001b[1;32m~\\AppData\\Local\\Temp/ipykernel_6720/3588300971.py\u001b[0m in \u001b[0;36m<module>\u001b[1;34m\u001b[0m\n\u001b[0;32m      1\u001b[0m \u001b[1;31m# On va donc retirer ces discours des données à analyser\u001b[0m\u001b[1;33m\u001b[0m\u001b[1;33m\u001b[0m\u001b[1;33m\u001b[0m\u001b[0m\n\u001b[1;32m----> 2\u001b[1;33m \u001b[0mdf\u001b[0m\u001b[1;33m=\u001b[0m\u001b[0mdf\u001b[0m\u001b[1;33m.\u001b[0m\u001b[0mdrop\u001b[0m\u001b[1;33m(\u001b[0m\u001b[0mI\u001b[0m\u001b[1;33m)\u001b[0m\u001b[1;33m.\u001b[0m\u001b[0mreset_index\u001b[0m\u001b[1;33m(\u001b[0m\u001b[0mdrop\u001b[0m\u001b[1;33m=\u001b[0m\u001b[1;32mTrue\u001b[0m\u001b[1;33m)\u001b[0m\u001b[1;33m\u001b[0m\u001b[1;33m\u001b[0m\u001b[0m\n\u001b[0m\u001b[0;32m      3\u001b[0m \u001b[0mdf\u001b[0m\u001b[1;33m\u001b[0m\u001b[1;33m\u001b[0m\u001b[0m\n",
      "\u001b[1;31mNameError\u001b[0m: name 'I' is not defined"
     ]
    }
   ],
   "source": [
    "# On va donc retirer ces discours des données à analyser\n",
    "I=J3\n",
    "df=df.drop(I).reset_index(drop=True)\n",
    "df"
   ]
  },
  {
   "cell_type": "code",
   "execution_count": null,
   "metadata": {},
   "outputs": [],
   "source": [
    "df.sample(5)"
   ]
  },
  {
   "cell_type": "markdown",
   "metadata": {},
   "source": [
    "On crée trois colonnes pour le jour, le mois et l'année qu'on établit à partir de la date."
   ]
  },
  {
   "cell_type": "code",
   "execution_count": null,
   "metadata": {},
   "outputs": [],
   "source": [
    "\n",
    "df[\"Year\"]=df.date.str[:4].astype(int)\n",
    "df[\"Month\"]=df.date.str[5:7].astype(int)\n",
    "df[\"Day\"]=df.date.str[8:].astype(int)\n"
   ]
  },
  {
   "cell_type": "code",
   "execution_count": null,
   "metadata": {},
   "outputs": [],
   "source": [
    "week=[\"Monday\",\"Tuesday\",\"Wednesday\",\"Thursday\",\"Friday\",\"Saturday\",\"Sunday\"]\n",
    "months=['January', 'February', 'March', 'April', 'May', 'June', 'July', 'August', 'September', 'October', 'November', 'December']\n",
    "df[\"DayofWeek\"]=pd.Series(dtype=int)\n",
    "df[\"DayofWeek_str\"]=pd.Series(dtype=str)\n",
    "df[\"Month_str\"]=pd.Series(dtype=str)\n",
    "for i in range(len(df)):\n",
    "    df[\"DayofWeek\"][i]=int(datetime.date(df[\"Year\"][i],df[\"Month\"][i],df[\"Day\"][i]).isoweekday())\n",
    "    df[\"DayofWeek_str\"][i]=week[int(datetime.date(df[\"Year\"][i],df[\"Month\"][i],df[\"Day\"][i]).weekday())]\n",
    "    df[\"Month_str\"][i]=months[df[\"Month\"][i]-1]\n",
    "\n",
    "#.weekday() : from 0 to 6\n",
    "#.isoweekday() : from 1 to 7\n",
    "\n",
    "df[\"DayofWeek\"]=df[\"DayofWeek\"].astype(int)"
   ]
  },
  {
   "cell_type": "code",
   "execution_count": null,
   "metadata": {},
   "outputs": [],
   "source": [
    "df"
   ]
  },
  {
   "cell_type": "code",
   "execution_count": null,
   "metadata": {},
   "outputs": [],
   "source": [
    "df_year=df.groupby(\"Year\").count()\n",
    "df_year[\"date\"].plot()"
   ]
  },
  {
   "cell_type": "code",
   "execution_count": null,
   "metadata": {},
   "outputs": [],
   "source": [
    "df_month=df.groupby(\"Month\").count()\n",
    "df_month[\"date\"].plot()"
   ]
  },
  {
   "cell_type": "code",
   "execution_count": null,
   "metadata": {},
   "outputs": [],
   "source": [
    "df_day=df.groupby(\"Day\").count()\n",
    "df_day[\"date\"].plot()"
   ]
  },
  {
   "cell_type": "code",
   "execution_count": null,
   "metadata": {},
   "outputs": [],
   "source": [
    "df_day=df.groupby(\"DayofWeek\").count()\n",
    "df_day[\"date\"].plot()"
   ]
  },
  {
   "cell_type": "markdown",
   "metadata": {},
   "source": [
    "## Analyse préliminaire des données "
   ]
  },
  {
   "cell_type": "code",
   "execution_count": null,
   "metadata": {},
   "outputs": [],
   "source": [
    "df[[\"Year\",\"Month\",\"Day\",\"DayofWeek\"]].value_counts().plot()\n",
    "# Graphique très laid mais qui permet de voir qu'il y a un nombre de jours non négligeable pour lesquels il y a eu plusieurs discours\n"
   ]
  },
  {
   "cell_type": "code",
   "execution_count": null,
   "metadata": {},
   "outputs": [],
   "source": [
    "#df[\"DayofWeek\"].value_counts().barplot()\n",
    "\n",
    "plt.figure()\n",
    "\n",
    "df[\"DayofWeek\"].value_counts().plot(kind=\"bar\")\n",
    "plt.title(\"On what days of the week are ECB speeches delivered?\")"
   ]
  },
  {
   "cell_type": "code",
   "execution_count": null,
   "metadata": {},
   "outputs": [],
   "source": [
    "array=df[\"DayofWeek\"].value_counts().to_numpy()\n",
    "array"
   ]
  },
  {
   "cell_type": "code",
   "execution_count": null,
   "metadata": {},
   "outputs": [],
   "source": [
    "plt.clf()\n",
    "plt.figure()\n",
    "\n",
    "df[\"Day\"].value_counts().plot(kind=\"bar\")\n",
    "plt.title(\"Which day are ECB speeches delivered?\")"
   ]
  },
  {
   "cell_type": "code",
   "execution_count": null,
   "metadata": {},
   "outputs": [],
   "source": [
    "plt.clf()\n",
    "plt.figure()\n",
    "\n",
    "df[\"Month_str\"].value_counts().plot(kind=\"bar\")\n",
    "plt.title(\"On which month are ECB speeches delivered?\")"
   ]
  },
  {
   "cell_type": "code",
   "execution_count": null,
   "metadata": {},
   "outputs": [],
   "source": [
    "plt.clf()\n",
    "plt.figure()\n",
    "\n",
    "df[\"Year\"].value_counts().plot(kind=\"bar\")\n",
    "plt.title(\"ECB Speeches over the years\")"
   ]
  },
  {
   "cell_type": "code",
   "execution_count": null,
   "metadata": {},
   "outputs": [],
   "source": [
    "plt.clf()\n",
    "plt.figure()\n",
    "\n",
    "df[\"speakers\"].value_counts()[:15].plot(kind=\"bar\")\n",
    "\n",
    "plt.title(\"Top 15 ECB Speakers\")"
   ]
  },
  {
   "cell_type": "code",
   "execution_count": null,
   "metadata": {},
   "outputs": [],
   "source": [
    "df[\"contents\"][21]"
   ]
  },
  {
   "cell_type": "markdown",
   "metadata": {},
   "source": [
    "## Début de l'analyse pour le NLP"
   ]
  },
  {
   "cell_type": "code",
   "execution_count": null,
   "metadata": {},
   "outputs": [],
   "source": [
    "rawtext=''\n",
    "L=random.sample(range(len(df)),15)\n",
    "for i in L:\n",
    "    rawtext+=df[\"title\"][i]+df[\"contents\"][i]\n",
    "# On commence par analyser 15 discours choisis au hasard "
   ]
  },
  {
   "cell_type": "code",
   "execution_count": null,
   "metadata": {
    "scrolled": true,
    "tags": []
   },
   "outputs": [],
   "source": [
    "rawtext"
   ]
  },
  {
   "cell_type": "code",
   "execution_count": null,
   "metadata": {
    "scrolled": true
   },
   "outputs": [],
   "source": [
    "# Reconnaissance des entités nommées\n",
    "from spacy import displacy\n",
    "\n",
    "nlp = spacy.load(\"en_core_web_lg\")\n",
    "doc = nlp(rawtext)\n",
    "displacy.render(doc, style=\"ent\", jupyter=True)"
   ]
  },
  {
   "cell_type": "code",
   "execution_count": null,
   "metadata": {},
   "outputs": [],
   "source": [
    "#Il faut définir un liste de stopwords (c'est-à-dire de mots non significatifs) \n",
    "#En anglais \n",
    "#from nltk.corpus import stopwords\n",
    "stop_words = set(stopwords.words('english'))"
   ]
  },
  {
   "cell_type": "code",
   "execution_count": null,
   "metadata": {},
   "outputs": [],
   "source": [
    "\n",
    "alphabet=set('abcdefghijklmnopqrstuvwxyzABCDEFGHIJKLMNOPQRSTUVWXYZ') #type(alphabet)=set \"ensemble\"\n",
    "stop_words= stop_words | alphabet # On fait une union d'ensembles pour retirer des nuages de mots les lettres isolées\n",
    "#L'étape précédeente peut êtr évitée en spécifiant min_word_length=2 dans la fonction WordCloud\n",
    "wordlist=['The','It','And','this','This','The','the','these','These','those','Those','In','&','one','He','She','he','she','it','\\\\displaystyle','\\\\mathbb','\\\\neg','per','th','also','would','de','la']\n",
    "stop_words.update(wordlist) #on ajoute des mots aux 'stopwords'"
   ]
  },
  {
   "cell_type": "code",
   "execution_count": null,
   "metadata": {},
   "outputs": [],
   "source": [
    "#Fonction qui permet d'obtenir une liste de mots en minuscules sans les stopwords\n",
    "\n",
    "def str_to_wordlist(text):\n",
    "    text2 = c.copy(text)\n",
    "    text2 = text2.lower() # minuscules\n",
    "    text2 = re.sub(r'\\d+','',text2) # enlever les nombres\n",
    "    text2 = re.findall(r'\\w+', text2) # enlever la ponctuation\n",
    "    text2 = [word for word in text2 if not word in stop_words and len(word)>2] # enlever les stopwords\n",
    "    return(text2)\n",
    "\n",
    "#text = str_to_wordlist(text)"
   ]
  },
  {
   "cell_type": "code",
   "execution_count": null,
   "metadata": {},
   "outputs": [],
   "source": []
  },
  {
   "cell_type": "code",
   "execution_count": null,
   "metadata": {},
   "outputs": [],
   "source": [
    "def freq_dict(text):\n",
    "    res = {}\n",
    "    for word in text:\n",
    "        try:\n",
    "            res[word] += 1\n",
    "        except KeyError:\n",
    "            res[word] = 1\n",
    "    return(res)\n",
    "\n",
    "\n",
    "#dictionary = freq_dict(rawtext)"
   ]
  },
  {
   "cell_type": "code",
   "execution_count": null,
   "metadata": {},
   "outputs": [],
   "source": []
  },
  {
   "cell_type": "code",
   "execution_count": null,
   "metadata": {},
   "outputs": [],
   "source": [
    "\"Fonction pour récupérer les fréquences des mots d'un texte\"\n",
    "\n",
    "def freq_mots(text,stopwords):\n",
    "    text = re.sub(r'==.*?==+', ' ', text)\n",
    "    text = text.replace('\\n', ' ')\n",
    "    text=text.replace('\\'',' ')\n",
    "    text=re.sub(r'[^\\w\\s]',' ',text) #retire la ponctuation\n",
    "    text = re.sub(r'\\d+','',text) #retire les nombres\n",
    "    text=text.replace('%',' ')\n",
    "    text=text.replace('+',' ')\n",
    "    text=text.replace('=',' ')\n",
    "    text=text.replace('*',' ')\n",
    "    text=text.replace('_',' ')\n",
    "    text=text.replace('-',' ')\n",
    "    T=[mot for mot in text.split() if mot not in list(stopwords)]\n",
    "    return collections.Counter(T)\n"
   ]
  },
  {
   "cell_type": "code",
   "execution_count": null,
   "metadata": {
    "scrolled": true,
    "tags": []
   },
   "outputs": [],
   "source": [
    "freq_mots(rawtext,stop_words)"
   ]
  },
  {
   "cell_type": "code",
   "execution_count": null,
   "metadata": {},
   "outputs": [],
   "source": [
    "\"Fonction pour récupérer la liste des mots d'un texte brut\"\n",
    "def liste_mots(text,stopwords):\n",
    "    text = re.sub(r'==.*?==+', ' ', text)\n",
    "    text = text.replace('\\n', ' ')\n",
    "    text=text.replace('\\'',' ')\n",
    "    text=re.sub(r'[^\\w\\s]',' ',text) #retire la ponctuation\n",
    "    text = re.sub(r'\\d+',' ',text) #retire les nombres\n",
    "    text=text.replace('%',' ')\n",
    "    text=text.replace('+',' ')\n",
    "    text=text.replace('=',' ')\n",
    "    text=text.replace('*',' ')\n",
    "    text=text.replace('_',' ')\n",
    "    text=text.replace('-',' ')\n",
    "    return [mot for mot in text.split() if mot not in list(stopwords)]"
   ]
  },
  {
   "cell_type": "code",
   "execution_count": null,
   "metadata": {
    "scrolled": true,
    "tags": []
   },
   "outputs": [],
   "source": [
    "liste_mots(rawtext,stop_words)"
   ]
  },
  {
   "cell_type": "code",
   "execution_count": null,
   "metadata": {},
   "outputs": [],
   "source": [
    "\"Fonction pour récupérer les n mots les plus fréquents (hors stopwords) dans un texte brut\"\n",
    "def plus_frequents(text,n,stopwords):\n",
    "    L=[]\n",
    "    text = re.sub(r'==.*?==+', ' ', text)\n",
    "    text = text.replace('\\n', ' ')\n",
    "    text=text.replace('\\'',' ')\n",
    "    text=re.sub(r'[^\\w\\s]',' ',text) #retire la ponctuation\n",
    "    text = re.sub(r'\\d+',' ',text) #retire les nombres\n",
    "    text=text.replace('%',' ')\n",
    "    text=text.replace('+',' ')\n",
    "    text=text.replace('=',' ')\n",
    "    text=text.replace('*',' ')\n",
    "    text=text.replace('_',' ')\n",
    "    text=text.replace('-',' ')\n",
    "    T=[mot for mot in text.split() if mot not in list(stopwords)]\n",
    "    for tuple in collections.Counter(T).most_common(n):\n",
    "        L.append([tuple[0],tuple[1]])\n",
    "    return L"
   ]
  },
  {
   "cell_type": "code",
   "execution_count": null,
   "metadata": {
    "scrolled": true,
    "tags": []
   },
   "outputs": [],
   "source": [
    "n=20\n",
    "plus_frequents(rawtext,n,stop_words)"
   ]
  },
  {
   "cell_type": "code",
   "execution_count": null,
   "metadata": {},
   "outputs": [],
   "source": []
  },
  {
   "cell_type": "code",
   "execution_count": null,
   "metadata": {},
   "outputs": [],
   "source": [
    "rawtext=''\n",
    "L=random.sample(range(len(df)),50)\n",
    "for i in L:\n",
    "    rawtext+=df[\"title\"][i]+df[\"contents\"][i]\n",
    "# On commence par analyser 15 discours choisis au hasard "
   ]
  },
  {
   "cell_type": "code",
   "execution_count": null,
   "metadata": {},
   "outputs": [],
   "source": [
    "from nltk.corpus import stopwords\n",
    "from nltk.tokenize import RegexpTokenizer\n",
    "tokenizer = RegexpTokenizer(r'\\w+')\n",
    "\n",
    "#tokenizer.tokenize('Eighty-seven miles to go, yet.  Onward!')\n",
    "\n",
    "#example_sent = \"This is a sample sentence,showing off the stop words filtration.\"\n",
    "\n",
    "def tokens_filter(text,stop_words):\n",
    "    word_tokens = tokenizer.tokenize(text)\n",
    "    filtered_sentence = [w for w in word_tokens if not w.lower() in stop_words] #retire les stopwords\n",
    "    return filtered_sentence\n",
    "\n",
    "text=tokens_filter(rawtext,stop_words)"
   ]
  },
  {
   "cell_type": "code",
   "execution_count": null,
   "metadata": {},
   "outputs": [],
   "source": [
    "collections.Counter(text).most_common(20)"
   ]
  },
  {
   "cell_type": "markdown",
   "metadata": {},
   "source": [
    "## les n-grams"
   ]
  },
  {
   "cell_type": "code",
   "execution_count": null,
   "metadata": {},
   "outputs": [],
   "source": [
    "nltk.download('genesis')\n",
    "nltk.corpus.genesis.words('english-web.txt')"
   ]
  },
  {
   "cell_type": "code",
   "execution_count": null,
   "metadata": {},
   "outputs": [],
   "source": [
    "\n",
    "\n"
   ]
  },
  {
   "cell_type": "code",
   "execution_count": null,
   "metadata": {
    "scrolled": true,
    "tags": []
   },
   "outputs": [],
   "source": [
    "from nltk.collocations import *\n",
    "bigram_measures = nltk.collocations.BigramAssocMeasures()\n",
    "\n",
    "## Bigrams\n",
    "finder = BigramCollocationFinder.from_words(\n",
    "   text)\n",
    "# only bigrams that appear 3+ times\n",
    "finder.apply_freq_filter(3)\n",
    "\n",
    "\n",
    "# return the 10 n-grams with the highest PMI\n",
    "# print (finder.nbest(bigram_measures.likelihood_ratio, 10))\n",
    "\n",
    "for i in finder.score_ngrams(bigram_measures.likelihood_ratio):\n",
    "    print (i)"
   ]
  },
  {
   "cell_type": "code",
   "execution_count": null,
   "metadata": {
    "scrolled": true,
    "tags": []
   },
   "outputs": [],
   "source": [
    "## Trigrams\n",
    "trigram_measures = nltk.collocations.TrigramAssocMeasures()\n",
    "\n",
    "\n",
    "finder = TrigramCollocationFinder.from_words(\n",
    "   text)\n",
    "# only trigrams that appear 3+ times\n",
    "finder.apply_freq_filter(3)\n",
    "\n",
    "\n",
    "# return the 10 n-grams with the highest PMI\n",
    "# print (finder.nbest(trigram_measures.likelihood_ratio, 10))\n",
    "for i in finder.score_ngrams(trigram_measures.likelihood_ratio):\n",
    "    print (i)"
   ]
  },
  {
   "cell_type": "code",
   "execution_count": null,
   "metadata": {},
   "outputs": [],
   "source": []
  },
  {
   "cell_type": "code",
   "execution_count": null,
   "metadata": {},
   "outputs": [],
   "source": []
  },
  {
   "cell_type": "code",
   "execution_count": null,
   "metadata": {},
   "outputs": [],
   "source": [
    "#Lemmatizer\n",
    "nltk.download('wordnet')\n",
    "from nltk.stem import WordNetLemmatizer\n",
    " \n",
    "lemmatizer = WordNetLemmatizer()\n",
    " \n",
    "print(\"rocks :\", lemmatizer.lemmatize(\"rocks\"))\n",
    "print(\"corpora :\", lemmatizer.lemmatize(\"corpora\"))\n",
    " \n",
    "# a denotes adjective in \"pos\"\n",
    "print(\"better :\", lemmatizer.lemmatize(\"better\", pos =\"a\"))\n"
   ]
  },
  {
   "cell_type": "code",
   "execution_count": null,
   "metadata": {},
   "outputs": [],
   "source": [
    "lemmatizer.lemmatize(\"thieves\")"
   ]
  },
  {
   "cell_type": "code",
   "execution_count": null,
   "metadata": {},
   "outputs": [],
   "source": [
    "#Most frequent words by year\n",
    "years=df[\"Year\"].unique()\n",
    "\n",
    "def year_speeches(df,year):\n",
    "    #df : pandas dataframe\n",
    "    #year : int\n",
    "    text=''\n",
    "    df_year=df[df[\"Year\"] == year].reset_index(drop=True)\n",
    "    for i in range(len(df_year)):\n",
    "        text+=df_year[\"title\"][i]+df_year[\"contents\"][i]\n",
    "    return text\n",
    "\n"
   ]
  },
  {
   "cell_type": "code",
   "execution_count": null,
   "metadata": {
    "scrolled": true,
    "tags": []
   },
   "outputs": [],
   "source": [
    "year=2010\n",
    "year_speeches(df,year)"
   ]
  },
  {
   "cell_type": "code",
   "execution_count": null,
   "metadata": {},
   "outputs": [],
   "source": [
    "def freq_words_year(df,year,n=10):\n",
    "    #df : pandas dataframe\n",
    "    #year : int\n",
    "    #n : int\n",
    "    text=year_speeches(df,year)\n",
    "    return collections.Counter(tokens_filter(text,stop_words)).most_common(n)"
   ]
  },
  {
   "cell_type": "code",
   "execution_count": null,
   "metadata": {},
   "outputs": [],
   "source": [
    "year=2008\n",
    "df_year=df[df[\"Year\"] == year].reset_index(drop=True)\n",
    "df_year"
   ]
  },
  {
   "cell_type": "code",
   "execution_count": null,
   "metadata": {
    "scrolled": true,
    "tags": []
   },
   "outputs": [],
   "source": [
    "df_year[\"contents\"][0]"
   ]
  },
  {
   "cell_type": "code",
   "execution_count": null,
   "metadata": {},
   "outputs": [],
   "source": [
    "year=2005\n",
    "L=freq_words_year(df,year,20)\n",
    "x=[]\n",
    "y=[]\n",
    "z=[]\n",
    "for i in range(len(L)):\n",
    "    x.append(L[i][0])\n",
    "    y.append(L[i][1])\n",
    "    z.append(round(100*L[i][1]/L[0][1],1))\n"
   ]
  },
  {
   "cell_type": "code",
   "execution_count": null,
   "metadata": {},
   "outputs": [],
   "source": [
    "plt.clf()\n",
    "fig, ax = plt.subplots(figsize=(8, 8))\n",
    "plt.bar(x,y)"
   ]
  },
  {
   "cell_type": "code",
   "execution_count": null,
   "metadata": {},
   "outputs": [],
   "source": [
    "freq_words_year(df,2005,20)"
   ]
  },
  {
   "cell_type": "code",
   "execution_count": null,
   "metadata": {},
   "outputs": [],
   "source": []
  },
  {
   "cell_type": "code",
   "execution_count": null,
   "metadata": {},
   "outputs": [],
   "source": []
  },
  {
   "cell_type": "code",
   "execution_count": null,
   "metadata": {},
   "outputs": [],
   "source": [
    "# https://spacytextblob.netlify.app/docs/"
   ]
  },
  {
   "cell_type": "code",
   "execution_count": null,
   "metadata": {},
   "outputs": [],
   "source": []
  },
  {
   "cell_type": "code",
   "execution_count": null,
   "metadata": {},
   "outputs": [],
   "source": []
  },
  {
   "cell_type": "code",
   "execution_count": null,
   "metadata": {},
   "outputs": [],
   "source": []
  },
  {
   "cell_type": "code",
   "execution_count": null,
   "metadata": {},
   "outputs": [],
   "source": []
  },
  {
   "cell_type": "code",
   "execution_count": null,
   "metadata": {},
   "outputs": [],
   "source": []
  }
 ],
 "metadata": {
  "kernelspec": {
   "display_name": "Python 3 (ipykernel)",
   "language": "python",
   "name": "python3"
  },
  "language_info": {
   "codemirror_mode": {
    "name": "ipython",
    "version": 3
   },
   "file_extension": ".py",
   "mimetype": "text/x-python",
   "name": "python",
   "nbconvert_exporter": "python",
   "pygments_lexer": "ipython3",
   "version": "3.8.5"
  }
 },
 "nbformat": 4,
 "nbformat_minor": 4
}
