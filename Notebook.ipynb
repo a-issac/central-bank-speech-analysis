{
 "cells": [
  {
   "cell_type": "code",
   "execution_count": 1,
   "metadata": {},
   "outputs": [],
   "source": [
    "# !pip install -r requirements.txt"
   ]
  },
  {
   "cell_type": "code",
   "execution_count": 2,
   "metadata": {},
   "outputs": [],
   "source": [
    "import pandas as pd\n",
    "import langdetect\n",
    "import datetime\n",
    "import time\n",
    "\n",
    "import webscrap\n",
    "import cleanup "
   ]
  },
  {
   "cell_type": "code",
   "execution_count": 3,
   "metadata": {},
   "outputs": [],
   "source": [
    "url_ecb_download = \"https://www.ecb.europa.eu/press/key/html/downloads.en.html\"\n",
    "url = \"https://www.ecb.europa.eu\" + webscrap.get_dataset_url(url_ecb_download)\n",
    "\n",
    "df = pd.read_csv(url, sep = \"|\", encoding = 'utf-8')"
   ]
  },
  {
   "cell_type": "code",
   "execution_count": 4,
   "metadata": {},
   "outputs": [
    {
     "name": "stdout",
     "output_type": "stream",
     "text": [
      "date         0\n",
      "speakers     2\n",
      "title        0\n",
      "subtitle     1\n",
      "contents    39\n",
      "dtype: int64\n",
      "            date                  speakers  \\\n",
      "2052  2004-06-21  Gertrude Tumpel-Gugerell   \n",
      "1415  2009-12-11  Gertrude Tumpel-Gugerell   \n",
      "2149  2003-05-08    Eugenio Domingo Solans   \n",
      "425   2017-12-06               Yves Mersch   \n",
      "223   2019-10-17           Luis de Guindos   \n",
      "\n",
      "                                                  title  \\\n",
      "2052  Presentation, delivered at the symposium \"Zahl...   \n",
      "1415  The Way Forward with  Monetary, Fiscal and Mac...   \n",
      "2149                    Catalunya dins l'Europa moderna   \n",
      "425    Challenges for euro area monetary policy in e...   \n",
      "223             Speaking notes on climate-related risks   \n",
      "\n",
      "                                               subtitle  \\\n",
      "2052  Rede von Gertrude Tumpel-Gugerell, Mitglied de...   \n",
      "1415  Speech by Gertrude Tumpel-Gugerell, Member of ...   \n",
      "2149  Eugenio Domingo Solans, Membre del Consell de ...   \n",
      "425   Speech by Yves Mersch, Member of the Executive...   \n",
      "223   Speaking notes by Luis de Guindos, Vice-Presid...   \n",
      "\n",
      "                                               contents  \n",
      "2052                                                     \n",
      "1415                    The Way Forward with Monetar...  \n",
      "2149     Catalunya dins l'Europa moderna  Eugenio Do...  \n",
      "425      Challenges for euro area monetary policy in...  \n",
      "223      SPEAKING NOTES Washington, D.C., 17 October...  \n",
      "Proportion de discours en anglais :  0.9287703939514524\n",
      "Temps pris par cette méthode :  34.767924547195435\n"
     ]
    },
    {
     "name": "stderr",
     "output_type": "stream",
     "text": [
      "C:\\Users\\alexj\\Git\\central-bank-speech-analysis\\cleanup.py:53: SettingWithCopyWarning: \n",
      "A value is trying to be set on a copy of a slice from a DataFrame\n",
      "\n",
      "See the caveats in the documentation: https://pandas.pydata.org/pandas-docs/stable/user_guide/indexing.html#returning-a-view-versus-a-copy\n",
      "  df[\"DayofWeek\"][i] = int(datetime.date(df[\"Year\"][i], df[\"Month\"][i], df[\"Day\"][i]).isoweekday())\n",
      "C:\\Users\\alexj\\Git\\central-bank-speech-analysis\\cleanup.py:54: SettingWithCopyWarning: \n",
      "A value is trying to be set on a copy of a slice from a DataFrame\n",
      "\n",
      "See the caveats in the documentation: https://pandas.pydata.org/pandas-docs/stable/user_guide/indexing.html#returning-a-view-versus-a-copy\n",
      "  df[\"DayofWeek_str\"][i] = week[int(datetime.date(df[\"Year\"][i], df[\"Month\"][i], df[\"Day\"][i]).weekday())]\n",
      "C:\\Users\\alexj\\Git\\central-bank-speech-analysis\\cleanup.py:55: SettingWithCopyWarning: \n",
      "A value is trying to be set on a copy of a slice from a DataFrame\n",
      "\n",
      "See the caveats in the documentation: https://pandas.pydata.org/pandas-docs/stable/user_guide/indexing.html#returning-a-view-versus-a-copy\n",
      "  df[\"Month_str\"][i] = months[df[\"Month\"][i] - 1]\n"
     ]
    }
   ],
   "source": [
    "df = cleanup.clean_missing_data(df)\n",
    "df = cleanup.keep_english(df)\n",
    "df = cleanup.add_date(df)"
   ]
  },
  {
   "cell_type": "code",
   "execution_count": 9,
   "metadata": {},
   "outputs": [],
   "source": [
    "cleanup.todisk(df)\n",
    "df = cleanup.fromdisk()"
   ]
  },
  {
   "cell_type": "code",
   "execution_count": null,
   "metadata": {},
   "outputs": [],
   "source": []
  },
  {
   "cell_type": "code",
   "execution_count": null,
   "metadata": {},
   "outputs": [],
   "source": []
  },
  {
   "cell_type": "code",
   "execution_count": null,
   "metadata": {},
   "outputs": [],
   "source": []
  },
  {
   "cell_type": "code",
   "execution_count": null,
   "metadata": {},
   "outputs": [],
   "source": []
  }
 ],
 "metadata": {
  "kernelspec": {
   "display_name": "Python 3",
   "language": "python",
   "name": "python3"
  },
  "language_info": {
   "codemirror_mode": {
    "name": "ipython",
    "version": 3
   },
   "file_extension": ".py",
   "mimetype": "text/x-python",
   "name": "python",
   "nbconvert_exporter": "python",
   "pygments_lexer": "ipython3",
   "version": "3.8.3"
  }
 },
 "nbformat": 4,
 "nbformat_minor": 4
}
